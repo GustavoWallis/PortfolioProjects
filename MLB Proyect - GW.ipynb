{
 "cells": [
  {
   "cell_type": "markdown",
   "metadata": {
    "application/vnd.databricks.v1+cell": {
     "inputWidgets": {},
     "nuid": "96816ed7-b08a-4ca3-abb9-f99880c3535d",
     "showTitle": false,
     "title": ""
    }
   },
   "source": [
    "## MLB Project - Gustavo Wallis"
   ]
  },
  {
   "cell_type": "markdown",
   "metadata": {
    "application/vnd.databricks.v1+cell": {
     "inputWidgets": {},
     "nuid": "d8185b16-8c71-4819-8633-dd8c78efd221",
     "showTitle": false,
     "title": ""
    }
   },
   "source": [
    "Baseball is a sport in which games are either won or lost (there are no ties). To win the game one must score more runs than the opposing team. In this project, and with the use of a regression model, we focus on the offensive side of baseball, and seek to determine which statistics can be used to predict how many runs a team will score in a season."
   ]
  },
  {
   "cell_type": "markdown",
   "metadata": {
    "application/vnd.databricks.v1+cell": {
     "inputWidgets": {},
     "nuid": "e3ee3d2d-4bcb-449c-9f70-daef6fbef5e2",
     "showTitle": false,
     "title": ""
    }
   },
   "source": [
    "### 1) Prepare Problem"
   ]
  },
  {
   "cell_type": "markdown",
   "metadata": {
    "application/vnd.databricks.v1+cell": {
     "inputWidgets": {},
     "nuid": "e924869b-40bd-4a29-a0f7-3d53b34a592d",
     "showTitle": false,
     "title": ""
    }
   },
   "source": [
    "#### 1.a) Load Libraries"
   ]
  },
  {
   "cell_type": "code",
   "execution_count": 1,
   "metadata": {
    "application/vnd.databricks.v1+cell": {
     "inputWidgets": {},
     "nuid": "6482be4c-f067-47c9-b0ac-35c938b94601",
     "showTitle": false,
     "title": ""
    }
   },
   "outputs": [],
   "source": [
    "import pandas as pd\n",
    "import numpy as np\n",
    "import scipy as sp\n",
    "import time\n",
    "\n",
    "# Plotting libraries\n",
    "import matplotlib.pyplot as plt\n",
    "%matplotlib inline\n",
    "import seaborn as sns\n",
    "\n",
    "#For Linear Regression and testing\n",
    "import statsmodels.api as sm\n",
    "from statsmodels.api import add_constant\n",
    "from sklearn.model_selection import train_test_split\n",
    "import itertools\n",
    "from statsmodels.stats.diagnostic import normal_ad\n",
    "from statsmodels.stats.diagnostic import het_white\n",
    "from statsmodels.stats.outliers_influence import variance_inflation_factor"
   ]
  },
  {
   "cell_type": "markdown",
   "metadata": {
    "application/vnd.databricks.v1+cell": {
     "inputWidgets": {},
     "nuid": "dbee9ccd-954a-41f5-a6c6-61663fa887ed",
     "showTitle": false,
     "title": ""
    }
   },
   "source": [
    "#### 1.b) Load Datasets"
   ]
  },
  {
   "cell_type": "code",
   "execution_count": 2,
   "metadata": {},
   "outputs": [],
   "source": [
    "#To see the entire table\n",
    "pd.set_option('display.max_rows',None)\n",
    "pd.set_option('display.max_columns', None)"
   ]
  },
  {
   "cell_type": "code",
   "execution_count": 3,
   "metadata": {
    "application/vnd.databricks.v1+cell": {
     "inputWidgets": {},
     "nuid": "a38d20d2-f27f-4c46-9a2a-2aa706d2b7e6",
     "showTitle": false,
     "title": ""
    }
   },
   "outputs": [
    {
     "data": {
      "text/html": [
       "<div>\n",
       "<style scoped>\n",
       "    .dataframe tbody tr th:only-of-type {\n",
       "        vertical-align: middle;\n",
       "    }\n",
       "\n",
       "    .dataframe tbody tr th {\n",
       "        vertical-align: top;\n",
       "    }\n",
       "\n",
       "    .dataframe thead th {\n",
       "        text-align: right;\n",
       "    }\n",
       "</style>\n",
       "<table border=\"1\" class=\"dataframe\">\n",
       "  <thead>\n",
       "    <tr style=\"text-align: right;\">\n",
       "      <th></th>\n",
       "      <th>TeamName</th>\n",
       "      <th>RA/G</th>\n",
       "      <th>DefEff</th>\n",
       "      <th>E</th>\n",
       "      <th>DP</th>\n",
       "      <th>W</th>\n",
       "      <th>L</th>\n",
       "      <th>W-L%</th>\n",
       "      <th>ERA</th>\n",
       "      <th>tSho</th>\n",
       "      <th>H</th>\n",
       "      <th>ER</th>\n",
       "      <th>HR</th>\n",
       "      <th>BB</th>\n",
       "      <th>SO</th>\n",
       "      <th>R/G</th>\n",
       "      <th>R</th>\n",
       "      <th>H 1</th>\n",
       "      <th>RBI</th>\n",
       "      <th>SB</th>\n",
       "      <th>SO 1</th>\n",
       "      <th>BA</th>\n",
       "      <th>OBP</th>\n",
       "      <th>SLG</th>\n",
       "      <th>GDP</th>\n",
       "      <th>LOB</th>\n",
       "      <th>salary</th>\n",
       "      <th>WAR</th>\n",
       "    </tr>\n",
       "  </thead>\n",
       "  <tbody>\n",
       "    <tr>\n",
       "      <th>0</th>\n",
       "      <td>2018 ARI</td>\n",
       "      <td>3.98</td>\n",
       "      <td>0.698</td>\n",
       "      <td>75</td>\n",
       "      <td>152</td>\n",
       "      <td>82</td>\n",
       "      <td>80</td>\n",
       "      <td>0.506</td>\n",
       "      <td>3.72</td>\n",
       "      <td>9</td>\n",
       "      <td>1313</td>\n",
       "      <td>605</td>\n",
       "      <td>174</td>\n",
       "      <td>522</td>\n",
       "      <td>1448</td>\n",
       "      <td>4.28</td>\n",
       "      <td>693</td>\n",
       "      <td>1283</td>\n",
       "      <td>658</td>\n",
       "      <td>79</td>\n",
       "      <td>1460</td>\n",
       "      <td>0.235</td>\n",
       "      <td>0.310</td>\n",
       "      <td>0.397</td>\n",
       "      <td>110</td>\n",
       "      <td>1086</td>\n",
       "      <td>143324597</td>\n",
       "      <td>34.1</td>\n",
       "    </tr>\n",
       "    <tr>\n",
       "      <th>1</th>\n",
       "      <td>2018 ATL</td>\n",
       "      <td>4.06</td>\n",
       "      <td>0.709</td>\n",
       "      <td>80</td>\n",
       "      <td>134</td>\n",
       "      <td>90</td>\n",
       "      <td>72</td>\n",
       "      <td>0.556</td>\n",
       "      <td>3.75</td>\n",
       "      <td>11</td>\n",
       "      <td>1236</td>\n",
       "      <td>607</td>\n",
       "      <td>153</td>\n",
       "      <td>635</td>\n",
       "      <td>1423</td>\n",
       "      <td>4.69</td>\n",
       "      <td>759</td>\n",
       "      <td>1433</td>\n",
       "      <td>717</td>\n",
       "      <td>90</td>\n",
       "      <td>1290</td>\n",
       "      <td>0.257</td>\n",
       "      <td>0.324</td>\n",
       "      <td>0.417</td>\n",
       "      <td>99</td>\n",
       "      <td>1143</td>\n",
       "      <td>130649395</td>\n",
       "      <td>40.8</td>\n",
       "    </tr>\n",
       "    <tr>\n",
       "      <th>2</th>\n",
       "      <td>2018 BAL</td>\n",
       "      <td>5.51</td>\n",
       "      <td>0.674</td>\n",
       "      <td>104</td>\n",
       "      <td>159</td>\n",
       "      <td>47</td>\n",
       "      <td>115</td>\n",
       "      <td>0.290</td>\n",
       "      <td>5.18</td>\n",
       "      <td>7</td>\n",
       "      <td>1552</td>\n",
       "      <td>824</td>\n",
       "      <td>234</td>\n",
       "      <td>589</td>\n",
       "      <td>1203</td>\n",
       "      <td>3.84</td>\n",
       "      <td>622</td>\n",
       "      <td>1317</td>\n",
       "      <td>593</td>\n",
       "      <td>81</td>\n",
       "      <td>1412</td>\n",
       "      <td>0.239</td>\n",
       "      <td>0.298</td>\n",
       "      <td>0.391</td>\n",
       "      <td>132</td>\n",
       "      <td>1027</td>\n",
       "      <td>127633703</td>\n",
       "      <td>11.4</td>\n",
       "    </tr>\n",
       "    <tr>\n",
       "      <th>3</th>\n",
       "      <td>2018 BOS</td>\n",
       "      <td>3.99</td>\n",
       "      <td>0.693</td>\n",
       "      <td>77</td>\n",
       "      <td>106</td>\n",
       "      <td>108</td>\n",
       "      <td>54</td>\n",
       "      <td>0.667</td>\n",
       "      <td>3.75</td>\n",
       "      <td>14</td>\n",
       "      <td>1305</td>\n",
       "      <td>608</td>\n",
       "      <td>176</td>\n",
       "      <td>512</td>\n",
       "      <td>1558</td>\n",
       "      <td>5.41</td>\n",
       "      <td>876</td>\n",
       "      <td>1509</td>\n",
       "      <td>829</td>\n",
       "      <td>125</td>\n",
       "      <td>1253</td>\n",
       "      <td>0.268</td>\n",
       "      <td>0.339</td>\n",
       "      <td>0.453</td>\n",
       "      <td>130</td>\n",
       "      <td>1124</td>\n",
       "      <td>227398860</td>\n",
       "      <td>56.5</td>\n",
       "    </tr>\n",
       "    <tr>\n",
       "      <th>4</th>\n",
       "      <td>2018 CHC</td>\n",
       "      <td>3.96</td>\n",
       "      <td>0.700</td>\n",
       "      <td>104</td>\n",
       "      <td>155</td>\n",
       "      <td>95</td>\n",
       "      <td>68</td>\n",
       "      <td>0.583</td>\n",
       "      <td>3.65</td>\n",
       "      <td>18</td>\n",
       "      <td>1319</td>\n",
       "      <td>598</td>\n",
       "      <td>157</td>\n",
       "      <td>622</td>\n",
       "      <td>1333</td>\n",
       "      <td>4.67</td>\n",
       "      <td>761</td>\n",
       "      <td>1453</td>\n",
       "      <td>722</td>\n",
       "      <td>66</td>\n",
       "      <td>1388</td>\n",
       "      <td>0.258</td>\n",
       "      <td>0.333</td>\n",
       "      <td>0.410</td>\n",
       "      <td>107</td>\n",
       "      <td>1224</td>\n",
       "      <td>194259933</td>\n",
       "      <td>45.0</td>\n",
       "    </tr>\n",
       "  </tbody>\n",
       "</table>\n",
       "</div>"
      ],
      "text/plain": [
       "   TeamName  RA/G  DefEff    E   DP    W    L   W-L%   ERA  tSho     H   ER  \\\n",
       "0  2018 ARI  3.98   0.698   75  152   82   80  0.506  3.72     9  1313  605   \n",
       "1  2018 ATL  4.06   0.709   80  134   90   72  0.556  3.75    11  1236  607   \n",
       "2  2018 BAL  5.51   0.674  104  159   47  115  0.290  5.18     7  1552  824   \n",
       "3  2018 BOS  3.99   0.693   77  106  108   54  0.667  3.75    14  1305  608   \n",
       "4  2018 CHC  3.96   0.700  104  155   95   68  0.583  3.65    18  1319  598   \n",
       "\n",
       "    HR   BB    SO   R/G    R   H 1  RBI   SB  SO 1     BA    OBP    SLG  GDP  \\\n",
       "0  174  522  1448  4.28  693  1283  658   79  1460  0.235  0.310  0.397  110   \n",
       "1  153  635  1423  4.69  759  1433  717   90  1290  0.257  0.324  0.417   99   \n",
       "2  234  589  1203  3.84  622  1317  593   81  1412  0.239  0.298  0.391  132   \n",
       "3  176  512  1558  5.41  876  1509  829  125  1253  0.268  0.339  0.453  130   \n",
       "4  157  622  1333  4.67  761  1453  722   66  1388  0.258  0.333  0.410  107   \n",
       "\n",
       "    LOB     salary   WAR  \n",
       "0  1086  143324597  34.1  \n",
       "1  1143  130649395  40.8  \n",
       "2  1027  127633703  11.4  \n",
       "3  1124  227398860  56.5  \n",
       "4  1224  194259933  45.0  "
      ]
     },
     "execution_count": 3,
     "metadata": {},
     "output_type": "execute_result"
    }
   ],
   "source": [
    "df = pd.read_csv(r'C:\\Users\\gusta\\Downloads\\mlb_teams.csv')\n",
    "df.head()"
   ]
  },
  {
   "cell_type": "code",
   "execution_count": 4,
   "metadata": {
    "application/vnd.databricks.v1+cell": {
     "inputWidgets": {},
     "nuid": "db9631f6-bb4a-42ca-8a3c-0d48af932331",
     "showTitle": false,
     "title": ""
    }
   },
   "outputs": [
    {
     "name": "stdout",
     "output_type": "stream",
     "text": [
      "<class 'pandas.core.frame.DataFrame'>\n",
      "RangeIndex: 210 entries, 0 to 209\n",
      "Data columns (total 28 columns):\n",
      " #   Column    Non-Null Count  Dtype  \n",
      "---  ------    --------------  -----  \n",
      " 0   TeamName  210 non-null    object \n",
      " 1   RA/G      210 non-null    float64\n",
      " 2   DefEff    210 non-null    float64\n",
      " 3   E         210 non-null    int64  \n",
      " 4   DP        210 non-null    int64  \n",
      " 5   W         210 non-null    int64  \n",
      " 6   L         210 non-null    int64  \n",
      " 7   W-L%      210 non-null    float64\n",
      " 8   ERA       210 non-null    float64\n",
      " 9   tSho      210 non-null    int64  \n",
      " 10  H         210 non-null    int64  \n",
      " 11  ER        210 non-null    int64  \n",
      " 12  HR        210 non-null    int64  \n",
      " 13  BB        210 non-null    int64  \n",
      " 14  SO        210 non-null    int64  \n",
      " 15  R/G       210 non-null    float64\n",
      " 16  R         210 non-null    int64  \n",
      " 17  H 1       210 non-null    int64  \n",
      " 18  RBI       210 non-null    int64  \n",
      " 19  SB        210 non-null    int64  \n",
      " 20  SO 1      210 non-null    int64  \n",
      " 21  BA        210 non-null    float64\n",
      " 22  OBP       210 non-null    float64\n",
      " 23  SLG       210 non-null    float64\n",
      " 24  GDP       210 non-null    int64  \n",
      " 25  LOB       210 non-null    int64  \n",
      " 26  salary    210 non-null    int64  \n",
      " 27  WAR       210 non-null    float64\n",
      "dtypes: float64(9), int64(18), object(1)\n",
      "memory usage: 46.1+ KB\n"
     ]
    }
   ],
   "source": [
    "df.info()"
   ]
  },
  {
   "cell_type": "code",
   "execution_count": 5,
   "metadata": {
    "application/vnd.databricks.v1+cell": {
     "inputWidgets": {},
     "nuid": "f92511f7-1c40-4c10-8d15-b3d5a8b58723",
     "showTitle": false,
     "title": ""
    }
   },
   "outputs": [
    {
     "data": {
      "text/html": [
       "<div>\n",
       "<style scoped>\n",
       "    .dataframe tbody tr th:only-of-type {\n",
       "        vertical-align: middle;\n",
       "    }\n",
       "\n",
       "    .dataframe tbody tr th {\n",
       "        vertical-align: top;\n",
       "    }\n",
       "\n",
       "    .dataframe thead th {\n",
       "        text-align: right;\n",
       "    }\n",
       "</style>\n",
       "<table border=\"1\" class=\"dataframe\">\n",
       "  <thead>\n",
       "    <tr style=\"text-align: right;\">\n",
       "      <th></th>\n",
       "      <th>TeamName</th>\n",
       "      <th>RA/G</th>\n",
       "      <th>DefEff</th>\n",
       "      <th>E</th>\n",
       "      <th>DPA</th>\n",
       "      <th>W</th>\n",
       "      <th>L</th>\n",
       "      <th>W-L%</th>\n",
       "      <th>ERA</th>\n",
       "      <th>tSho</th>\n",
       "      <th>HA</th>\n",
       "      <th>ER</th>\n",
       "      <th>HRA</th>\n",
       "      <th>BBA</th>\n",
       "      <th>SOA</th>\n",
       "      <th>R/G</th>\n",
       "      <th>R</th>\n",
       "      <th>H</th>\n",
       "      <th>RBI</th>\n",
       "      <th>SB</th>\n",
       "      <th>SO</th>\n",
       "      <th>BA</th>\n",
       "      <th>OBP</th>\n",
       "      <th>SLG</th>\n",
       "      <th>GDP</th>\n",
       "      <th>LOB</th>\n",
       "      <th>salary</th>\n",
       "      <th>WAR</th>\n",
       "    </tr>\n",
       "  </thead>\n",
       "  <tbody>\n",
       "    <tr>\n",
       "      <th>0</th>\n",
       "      <td>2018 ARI</td>\n",
       "      <td>3.98</td>\n",
       "      <td>0.698</td>\n",
       "      <td>75</td>\n",
       "      <td>152</td>\n",
       "      <td>82</td>\n",
       "      <td>80</td>\n",
       "      <td>0.506</td>\n",
       "      <td>3.72</td>\n",
       "      <td>9</td>\n",
       "      <td>1313</td>\n",
       "      <td>605</td>\n",
       "      <td>174</td>\n",
       "      <td>522</td>\n",
       "      <td>1448</td>\n",
       "      <td>4.28</td>\n",
       "      <td>693</td>\n",
       "      <td>1283</td>\n",
       "      <td>658</td>\n",
       "      <td>79</td>\n",
       "      <td>1460</td>\n",
       "      <td>0.235</td>\n",
       "      <td>0.310</td>\n",
       "      <td>0.397</td>\n",
       "      <td>110</td>\n",
       "      <td>1086</td>\n",
       "      <td>143324597</td>\n",
       "      <td>34.1</td>\n",
       "    </tr>\n",
       "    <tr>\n",
       "      <th>1</th>\n",
       "      <td>2018 ATL</td>\n",
       "      <td>4.06</td>\n",
       "      <td>0.709</td>\n",
       "      <td>80</td>\n",
       "      <td>134</td>\n",
       "      <td>90</td>\n",
       "      <td>72</td>\n",
       "      <td>0.556</td>\n",
       "      <td>3.75</td>\n",
       "      <td>11</td>\n",
       "      <td>1236</td>\n",
       "      <td>607</td>\n",
       "      <td>153</td>\n",
       "      <td>635</td>\n",
       "      <td>1423</td>\n",
       "      <td>4.69</td>\n",
       "      <td>759</td>\n",
       "      <td>1433</td>\n",
       "      <td>717</td>\n",
       "      <td>90</td>\n",
       "      <td>1290</td>\n",
       "      <td>0.257</td>\n",
       "      <td>0.324</td>\n",
       "      <td>0.417</td>\n",
       "      <td>99</td>\n",
       "      <td>1143</td>\n",
       "      <td>130649395</td>\n",
       "      <td>40.8</td>\n",
       "    </tr>\n",
       "    <tr>\n",
       "      <th>2</th>\n",
       "      <td>2018 BAL</td>\n",
       "      <td>5.51</td>\n",
       "      <td>0.674</td>\n",
       "      <td>104</td>\n",
       "      <td>159</td>\n",
       "      <td>47</td>\n",
       "      <td>115</td>\n",
       "      <td>0.290</td>\n",
       "      <td>5.18</td>\n",
       "      <td>7</td>\n",
       "      <td>1552</td>\n",
       "      <td>824</td>\n",
       "      <td>234</td>\n",
       "      <td>589</td>\n",
       "      <td>1203</td>\n",
       "      <td>3.84</td>\n",
       "      <td>622</td>\n",
       "      <td>1317</td>\n",
       "      <td>593</td>\n",
       "      <td>81</td>\n",
       "      <td>1412</td>\n",
       "      <td>0.239</td>\n",
       "      <td>0.298</td>\n",
       "      <td>0.391</td>\n",
       "      <td>132</td>\n",
       "      <td>1027</td>\n",
       "      <td>127633703</td>\n",
       "      <td>11.4</td>\n",
       "    </tr>\n",
       "    <tr>\n",
       "      <th>3</th>\n",
       "      <td>2018 BOS</td>\n",
       "      <td>3.99</td>\n",
       "      <td>0.693</td>\n",
       "      <td>77</td>\n",
       "      <td>106</td>\n",
       "      <td>108</td>\n",
       "      <td>54</td>\n",
       "      <td>0.667</td>\n",
       "      <td>3.75</td>\n",
       "      <td>14</td>\n",
       "      <td>1305</td>\n",
       "      <td>608</td>\n",
       "      <td>176</td>\n",
       "      <td>512</td>\n",
       "      <td>1558</td>\n",
       "      <td>5.41</td>\n",
       "      <td>876</td>\n",
       "      <td>1509</td>\n",
       "      <td>829</td>\n",
       "      <td>125</td>\n",
       "      <td>1253</td>\n",
       "      <td>0.268</td>\n",
       "      <td>0.339</td>\n",
       "      <td>0.453</td>\n",
       "      <td>130</td>\n",
       "      <td>1124</td>\n",
       "      <td>227398860</td>\n",
       "      <td>56.5</td>\n",
       "    </tr>\n",
       "    <tr>\n",
       "      <th>4</th>\n",
       "      <td>2018 CHC</td>\n",
       "      <td>3.96</td>\n",
       "      <td>0.700</td>\n",
       "      <td>104</td>\n",
       "      <td>155</td>\n",
       "      <td>95</td>\n",
       "      <td>68</td>\n",
       "      <td>0.583</td>\n",
       "      <td>3.65</td>\n",
       "      <td>18</td>\n",
       "      <td>1319</td>\n",
       "      <td>598</td>\n",
       "      <td>157</td>\n",
       "      <td>622</td>\n",
       "      <td>1333</td>\n",
       "      <td>4.67</td>\n",
       "      <td>761</td>\n",
       "      <td>1453</td>\n",
       "      <td>722</td>\n",
       "      <td>66</td>\n",
       "      <td>1388</td>\n",
       "      <td>0.258</td>\n",
       "      <td>0.333</td>\n",
       "      <td>0.410</td>\n",
       "      <td>107</td>\n",
       "      <td>1224</td>\n",
       "      <td>194259933</td>\n",
       "      <td>45.0</td>\n",
       "    </tr>\n",
       "  </tbody>\n",
       "</table>\n",
       "</div>"
      ],
      "text/plain": [
       "   TeamName  RA/G  DefEff    E  DPA    W    L   W-L%   ERA  tSho    HA   ER  \\\n",
       "0  2018 ARI  3.98   0.698   75  152   82   80  0.506  3.72     9  1313  605   \n",
       "1  2018 ATL  4.06   0.709   80  134   90   72  0.556  3.75    11  1236  607   \n",
       "2  2018 BAL  5.51   0.674  104  159   47  115  0.290  5.18     7  1552  824   \n",
       "3  2018 BOS  3.99   0.693   77  106  108   54  0.667  3.75    14  1305  608   \n",
       "4  2018 CHC  3.96   0.700  104  155   95   68  0.583  3.65    18  1319  598   \n",
       "\n",
       "   HRA  BBA   SOA   R/G    R     H  RBI   SB    SO     BA    OBP    SLG  GDP  \\\n",
       "0  174  522  1448  4.28  693  1283  658   79  1460  0.235  0.310  0.397  110   \n",
       "1  153  635  1423  4.69  759  1433  717   90  1290  0.257  0.324  0.417   99   \n",
       "2  234  589  1203  3.84  622  1317  593   81  1412  0.239  0.298  0.391  132   \n",
       "3  176  512  1558  5.41  876  1509  829  125  1253  0.268  0.339  0.453  130   \n",
       "4  157  622  1333  4.67  761  1453  722   66  1388  0.258  0.333  0.410  107   \n",
       "\n",
       "    LOB     salary   WAR  \n",
       "0  1086  143324597  34.1  \n",
       "1  1143  130649395  40.8  \n",
       "2  1027  127633703  11.4  \n",
       "3  1124  227398860  56.5  \n",
       "4  1224  194259933  45.0  "
      ]
     },
     "execution_count": 5,
     "metadata": {},
     "output_type": "execute_result"
    }
   ],
   "source": [
    "#To avoid confusion, we rename variables to differentiate offensive from defensive stats. \n",
    "df.rename(columns={'DP':'DPA','H':'HA','HR':'HRA','BB':'BBA','SO':'SOA','H 1':'H','SO 1':'SO'}, inplace=True)\n",
    "df.head()"
   ]
  },
  {
   "cell_type": "code",
   "execution_count": 6,
   "metadata": {
    "application/vnd.databricks.v1+cell": {
     "inputWidgets": {},
     "nuid": "dc5ed6cb-f886-467e-8fdf-01c36bfa8bd3",
     "showTitle": false,
     "title": ""
    }
   },
   "outputs": [
    {
     "data": {
      "text/html": [
       "<div>\n",
       "<style scoped>\n",
       "    .dataframe tbody tr th:only-of-type {\n",
       "        vertical-align: middle;\n",
       "    }\n",
       "\n",
       "    .dataframe tbody tr th {\n",
       "        vertical-align: top;\n",
       "    }\n",
       "\n",
       "    .dataframe thead th {\n",
       "        text-align: right;\n",
       "    }\n",
       "</style>\n",
       "<table border=\"1\" class=\"dataframe\">\n",
       "  <thead>\n",
       "    <tr style=\"text-align: right;\">\n",
       "      <th></th>\n",
       "      <th>RA/G</th>\n",
       "      <th>DefEff</th>\n",
       "      <th>E</th>\n",
       "      <th>DPA</th>\n",
       "      <th>W</th>\n",
       "      <th>L</th>\n",
       "      <th>W-L%</th>\n",
       "      <th>ERA</th>\n",
       "      <th>tSho</th>\n",
       "      <th>HA</th>\n",
       "      <th>ER</th>\n",
       "      <th>HRA</th>\n",
       "      <th>BBA</th>\n",
       "      <th>SOA</th>\n",
       "      <th>R/G</th>\n",
       "      <th>R</th>\n",
       "      <th>H</th>\n",
       "      <th>RBI</th>\n",
       "      <th>SB</th>\n",
       "      <th>SO</th>\n",
       "      <th>BA</th>\n",
       "      <th>OBP</th>\n",
       "      <th>SLG</th>\n",
       "      <th>GDP</th>\n",
       "      <th>LOB</th>\n",
       "      <th>salary</th>\n",
       "      <th>WAR</th>\n",
       "      <th>Year</th>\n",
       "      <th>Team</th>\n",
       "    </tr>\n",
       "  </thead>\n",
       "  <tbody>\n",
       "    <tr>\n",
       "      <th>0</th>\n",
       "      <td>3.98</td>\n",
       "      <td>0.698</td>\n",
       "      <td>75</td>\n",
       "      <td>152</td>\n",
       "      <td>82</td>\n",
       "      <td>80</td>\n",
       "      <td>0.506</td>\n",
       "      <td>3.72</td>\n",
       "      <td>9</td>\n",
       "      <td>1313</td>\n",
       "      <td>605</td>\n",
       "      <td>174</td>\n",
       "      <td>522</td>\n",
       "      <td>1448</td>\n",
       "      <td>4.28</td>\n",
       "      <td>693</td>\n",
       "      <td>1283</td>\n",
       "      <td>658</td>\n",
       "      <td>79</td>\n",
       "      <td>1460</td>\n",
       "      <td>0.235</td>\n",
       "      <td>0.31</td>\n",
       "      <td>0.397</td>\n",
       "      <td>110</td>\n",
       "      <td>1086</td>\n",
       "      <td>143324597</td>\n",
       "      <td>34.1</td>\n",
       "      <td>2018</td>\n",
       "      <td>ARI</td>\n",
       "    </tr>\n",
       "  </tbody>\n",
       "</table>\n",
       "</div>"
      ],
      "text/plain": [
       "   RA/G  DefEff   E  DPA   W   L   W-L%   ERA  tSho    HA   ER  HRA  BBA  \\\n",
       "0  3.98   0.698  75  152  82  80  0.506  3.72     9  1313  605  174  522   \n",
       "\n",
       "    SOA   R/G    R     H  RBI  SB    SO     BA   OBP    SLG  GDP   LOB  \\\n",
       "0  1448  4.28  693  1283  658  79  1460  0.235  0.31  0.397  110  1086   \n",
       "\n",
       "      salary   WAR  Year Team  \n",
       "0  143324597  34.1  2018  ARI  "
      ]
     },
     "execution_count": 6,
     "metadata": {},
     "output_type": "execute_result"
    }
   ],
   "source": [
    "# Dropping null value columns to avoid errors\n",
    "df.dropna(inplace = True)\n",
    "\n",
    "# We split column 'TeamName', since it contains both the year and team name abbreviation.\n",
    "team = df[\"TeamName\"].str.split(\" \", n = 1, expand = True)\n",
    "\n",
    "# Making separate first name column from new dataframe\n",
    "df[\"Year\"]= team[0]\n",
    "  \n",
    "# Making separate last name column from new dataframe\n",
    "df[\"Team\"]= team[1]\n",
    "  \n",
    "# Dropping \"TeamName\" column\n",
    "df.drop(columns =[\"TeamName\"], inplace = True)\n",
    "  \n",
    "# df display\n",
    "df.head(1)"
   ]
  },
  {
   "cell_type": "code",
   "execution_count": 7,
   "metadata": {
    "application/vnd.databricks.v1+cell": {
     "inputWidgets": {},
     "nuid": "56bd1f57-7857-48e8-9c92-256958ae43d8",
     "showTitle": false,
     "title": ""
    }
   },
   "outputs": [],
   "source": [
    "#Since 'Year' is stored as an object, we convert it to an integer. \n",
    "df = df.astype({\"Year\": 'int64'})"
   ]
  },
  {
   "cell_type": "markdown",
   "metadata": {
    "application/vnd.databricks.v1+cell": {
     "inputWidgets": {},
     "nuid": "16d9d7f5-4ea4-43b2-a338-6ce9f5b680ec",
     "showTitle": false,
     "title": ""
    }
   },
   "source": [
    "Since the first Dataframe (mlb_teams) uploaded does not contain certain offensive statistics that are important, we proceed to import another file that has more information."
   ]
  },
  {
   "cell_type": "code",
   "execution_count": 8,
   "metadata": {
    "application/vnd.databricks.v1+cell": {
     "inputWidgets": {},
     "nuid": "bd066823-3da6-4879-a979-7793de05f9ae",
     "showTitle": false,
     "title": ""
    }
   },
   "outputs": [],
   "source": [
    "df1 = pd.read_csv(r'C:\\Users\\gusta\\OneDrive\\Documents\\Teams.csv')"
   ]
  },
  {
   "cell_type": "code",
   "execution_count": 9,
   "metadata": {
    "application/vnd.databricks.v1+cell": {
     "inputWidgets": {},
     "nuid": "cb37455c-4935-441f-8eb6-140ed87b92a9",
     "showTitle": false,
     "title": ""
    }
   },
   "outputs": [
    {
     "name": "stdout",
     "output_type": "stream",
     "text": [
      "<class 'pandas.core.frame.DataFrame'>\n",
      "RangeIndex: 2955 entries, 0 to 2954\n",
      "Data columns (total 48 columns):\n",
      " #   Column          Non-Null Count  Dtype  \n",
      "---  ------          --------------  -----  \n",
      " 0   yearID          2955 non-null   int64  \n",
      " 1   lgID            2905 non-null   object \n",
      " 2   teamID          2955 non-null   object \n",
      " 3   franchID        2955 non-null   object \n",
      " 4   divID           1438 non-null   object \n",
      " 5   Rank            2955 non-null   int64  \n",
      " 6   G               2955 non-null   int64  \n",
      " 7   Ghome           2556 non-null   float64\n",
      " 8   W               2955 non-null   int64  \n",
      " 9   L               2955 non-null   int64  \n",
      " 10  DivWin          1410 non-null   object \n",
      " 11  WCWin           774 non-null    object \n",
      " 12  LgWin           2927 non-null   object \n",
      " 13  WSWin           2598 non-null   object \n",
      " 14  R               2955 non-null   int64  \n",
      " 15  AB              2955 non-null   int64  \n",
      " 16  H               2955 non-null   int64  \n",
      " 17  2B              2955 non-null   int64  \n",
      " 18  3B              2955 non-null   int64  \n",
      " 19  HR              2955 non-null   int64  \n",
      " 20  BB              2954 non-null   float64\n",
      " 21  SO              2939 non-null   float64\n",
      " 22  SB              2829 non-null   float64\n",
      " 23  CS              2123 non-null   float64\n",
      " 24  HBP             1797 non-null   float64\n",
      " 25  SF              1414 non-null   float64\n",
      " 26  RA              2955 non-null   int64  \n",
      " 27  ER              2955 non-null   int64  \n",
      " 28  ERA             2955 non-null   float64\n",
      " 29  CG              2955 non-null   int64  \n",
      " 30  SHO             2955 non-null   int64  \n",
      " 31  SV              2955 non-null   int64  \n",
      " 32  IPouts          2955 non-null   int64  \n",
      " 33  HA              2955 non-null   int64  \n",
      " 34  HRA             2955 non-null   int64  \n",
      " 35  BBA             2955 non-null   int64  \n",
      " 36  SOA             2955 non-null   int64  \n",
      " 37  E               2955 non-null   int64  \n",
      " 38  DP              2955 non-null   int64  \n",
      " 39  FP              2955 non-null   float64\n",
      " 40  name            2955 non-null   object \n",
      " 41  park            2921 non-null   object \n",
      " 42  attendance      2676 non-null   float64\n",
      " 43  BPF             2955 non-null   int64  \n",
      " 44  PPF             2955 non-null   int64  \n",
      " 45  teamIDBR        2955 non-null   object \n",
      " 46  teamIDlahman45  2955 non-null   object \n",
      " 47  teamIDretro     2955 non-null   object \n",
      "dtypes: float64(10), int64(25), object(13)\n",
      "memory usage: 1.1+ MB\n"
     ]
    }
   ],
   "source": [
    "df1.info()"
   ]
  },
  {
   "cell_type": "code",
   "execution_count": 10,
   "metadata": {
    "application/vnd.databricks.v1+cell": {
     "inputWidgets": {},
     "nuid": "d8fc99e6-8a20-4bd8-85d3-bfbfd8229d32",
     "showTitle": false,
     "title": ""
    }
   },
   "outputs": [
    {
     "data": {
      "text/html": [
       "<div>\n",
       "<style scoped>\n",
       "    .dataframe tbody tr th:only-of-type {\n",
       "        vertical-align: middle;\n",
       "    }\n",
       "\n",
       "    .dataframe tbody tr th {\n",
       "        vertical-align: top;\n",
       "    }\n",
       "\n",
       "    .dataframe thead th {\n",
       "        text-align: right;\n",
       "    }\n",
       "</style>\n",
       "<table border=\"1\" class=\"dataframe\">\n",
       "  <thead>\n",
       "    <tr style=\"text-align: right;\">\n",
       "      <th></th>\n",
       "      <th>yearID</th>\n",
       "      <th>lgID</th>\n",
       "      <th>teamID</th>\n",
       "      <th>franchID</th>\n",
       "      <th>divID</th>\n",
       "      <th>Rank</th>\n",
       "      <th>G</th>\n",
       "      <th>Ghome</th>\n",
       "      <th>W</th>\n",
       "      <th>L</th>\n",
       "      <th>DivWin</th>\n",
       "      <th>WCWin</th>\n",
       "      <th>LgWin</th>\n",
       "      <th>WSWin</th>\n",
       "      <th>R</th>\n",
       "      <th>AB</th>\n",
       "      <th>H</th>\n",
       "      <th>2B</th>\n",
       "      <th>3B</th>\n",
       "      <th>HR</th>\n",
       "      <th>BB</th>\n",
       "      <th>SO</th>\n",
       "      <th>SB</th>\n",
       "      <th>CS</th>\n",
       "      <th>HBP</th>\n",
       "      <th>SF</th>\n",
       "      <th>RA</th>\n",
       "      <th>ER</th>\n",
       "      <th>ERA</th>\n",
       "      <th>CG</th>\n",
       "      <th>SHO</th>\n",
       "      <th>SV</th>\n",
       "      <th>IPouts</th>\n",
       "      <th>HA</th>\n",
       "      <th>HRA</th>\n",
       "      <th>BBA</th>\n",
       "      <th>SOA</th>\n",
       "      <th>E</th>\n",
       "      <th>DP</th>\n",
       "      <th>FP</th>\n",
       "      <th>name</th>\n",
       "      <th>park</th>\n",
       "      <th>attendance</th>\n",
       "      <th>BPF</th>\n",
       "      <th>PPF</th>\n",
       "      <th>teamIDBR</th>\n",
       "      <th>teamIDlahman45</th>\n",
       "      <th>teamIDretro</th>\n",
       "    </tr>\n",
       "  </thead>\n",
       "  <tbody>\n",
       "    <tr>\n",
       "      <th>2865</th>\n",
       "      <td>2018</td>\n",
       "      <td>NL</td>\n",
       "      <td>ARI</td>\n",
       "      <td>ARI</td>\n",
       "      <td>W</td>\n",
       "      <td>3</td>\n",
       "      <td>162</td>\n",
       "      <td>81.0</td>\n",
       "      <td>82</td>\n",
       "      <td>80</td>\n",
       "      <td>N</td>\n",
       "      <td>N</td>\n",
       "      <td>N</td>\n",
       "      <td>N</td>\n",
       "      <td>693</td>\n",
       "      <td>5460</td>\n",
       "      <td>1283</td>\n",
       "      <td>259</td>\n",
       "      <td>50</td>\n",
       "      <td>176</td>\n",
       "      <td>560.0</td>\n",
       "      <td>1460.0</td>\n",
       "      <td>79.0</td>\n",
       "      <td>25.0</td>\n",
       "      <td>52.0</td>\n",
       "      <td>45.0</td>\n",
       "      <td>644</td>\n",
       "      <td>605</td>\n",
       "      <td>3.72</td>\n",
       "      <td>2</td>\n",
       "      <td>9</td>\n",
       "      <td>39</td>\n",
       "      <td>4389</td>\n",
       "      <td>1313</td>\n",
       "      <td>174</td>\n",
       "      <td>522</td>\n",
       "      <td>1448</td>\n",
       "      <td>75</td>\n",
       "      <td>152</td>\n",
       "      <td>0.988</td>\n",
       "      <td>Arizona Diamondbacks</td>\n",
       "      <td>Chase Field</td>\n",
       "      <td>2242695.0</td>\n",
       "      <td>108</td>\n",
       "      <td>107</td>\n",
       "      <td>ARI</td>\n",
       "      <td>ARI</td>\n",
       "      <td>ARI</td>\n",
       "    </tr>\n",
       "  </tbody>\n",
       "</table>\n",
       "</div>"
      ],
      "text/plain": [
       "      yearID lgID teamID franchID divID  Rank    G  Ghome   W   L DivWin  \\\n",
       "2865    2018   NL    ARI      ARI     W     3  162   81.0  82  80      N   \n",
       "\n",
       "     WCWin LgWin WSWin    R    AB     H   2B  3B   HR     BB      SO    SB  \\\n",
       "2865     N     N     N  693  5460  1283  259  50  176  560.0  1460.0  79.0   \n",
       "\n",
       "        CS   HBP    SF   RA   ER   ERA  CG  SHO  SV  IPouts    HA  HRA  BBA  \\\n",
       "2865  25.0  52.0  45.0  644  605  3.72   2    9  39    4389  1313  174  522   \n",
       "\n",
       "       SOA   E   DP     FP                  name         park  attendance  \\\n",
       "2865  1448  75  152  0.988  Arizona Diamondbacks  Chase Field   2242695.0   \n",
       "\n",
       "      BPF  PPF teamIDBR teamIDlahman45 teamIDretro  \n",
       "2865  108  107      ARI            ARI         ARI  "
      ]
     },
     "execution_count": 10,
     "metadata": {},
     "output_type": "execute_result"
    }
   ],
   "source": [
    "#Check that the data matches with the first df\n",
    "df1.loc[(df1['yearID'] == 2018) & (df1['teamIDBR'] == 'ARI')]"
   ]
  },
  {
   "cell_type": "code",
   "execution_count": 11,
   "metadata": {
    "application/vnd.databricks.v1+cell": {
     "inputWidgets": {},
     "nuid": "481ca99b-b151-4570-992d-322f1f89fd89",
     "showTitle": false,
     "title": ""
    }
   },
   "outputs": [
    {
     "data": {
      "text/html": [
       "<div>\n",
       "<style scoped>\n",
       "    .dataframe tbody tr th:only-of-type {\n",
       "        vertical-align: middle;\n",
       "    }\n",
       "\n",
       "    .dataframe tbody tr th {\n",
       "        vertical-align: top;\n",
       "    }\n",
       "\n",
       "    .dataframe thead th {\n",
       "        text-align: right;\n",
       "    }\n",
       "</style>\n",
       "<table border=\"1\" class=\"dataframe\">\n",
       "  <thead>\n",
       "    <tr style=\"text-align: right;\">\n",
       "      <th></th>\n",
       "      <th>yearID</th>\n",
       "      <th>teamIDBR</th>\n",
       "      <th>2B</th>\n",
       "      <th>3B</th>\n",
       "      <th>HR</th>\n",
       "      <th>BB</th>\n",
       "      <th>FP</th>\n",
       "      <th>BPF</th>\n",
       "      <th>SF</th>\n",
       "      <th>CS</th>\n",
       "      <th>RA</th>\n",
       "    </tr>\n",
       "  </thead>\n",
       "  <tbody>\n",
       "    <tr>\n",
       "      <th>0</th>\n",
       "      <td>1871</td>\n",
       "      <td>BOS</td>\n",
       "      <td>70</td>\n",
       "      <td>37</td>\n",
       "      <td>3</td>\n",
       "      <td>60.0</td>\n",
       "      <td>0.834</td>\n",
       "      <td>103</td>\n",
       "      <td>NaN</td>\n",
       "      <td>16.0</td>\n",
       "      <td>303</td>\n",
       "    </tr>\n",
       "    <tr>\n",
       "      <th>1</th>\n",
       "      <td>1871</td>\n",
       "      <td>CHI</td>\n",
       "      <td>52</td>\n",
       "      <td>21</td>\n",
       "      <td>10</td>\n",
       "      <td>60.0</td>\n",
       "      <td>0.829</td>\n",
       "      <td>104</td>\n",
       "      <td>NaN</td>\n",
       "      <td>21.0</td>\n",
       "      <td>241</td>\n",
       "    </tr>\n",
       "    <tr>\n",
       "      <th>2</th>\n",
       "      <td>1871</td>\n",
       "      <td>CLE</td>\n",
       "      <td>35</td>\n",
       "      <td>40</td>\n",
       "      <td>7</td>\n",
       "      <td>26.0</td>\n",
       "      <td>0.818</td>\n",
       "      <td>96</td>\n",
       "      <td>NaN</td>\n",
       "      <td>8.0</td>\n",
       "      <td>341</td>\n",
       "    </tr>\n",
       "    <tr>\n",
       "      <th>3</th>\n",
       "      <td>1871</td>\n",
       "      <td>KEK</td>\n",
       "      <td>19</td>\n",
       "      <td>8</td>\n",
       "      <td>2</td>\n",
       "      <td>33.0</td>\n",
       "      <td>0.803</td>\n",
       "      <td>101</td>\n",
       "      <td>NaN</td>\n",
       "      <td>4.0</td>\n",
       "      <td>243</td>\n",
       "    </tr>\n",
       "    <tr>\n",
       "      <th>4</th>\n",
       "      <td>1871</td>\n",
       "      <td>NYU</td>\n",
       "      <td>43</td>\n",
       "      <td>21</td>\n",
       "      <td>1</td>\n",
       "      <td>33.0</td>\n",
       "      <td>0.840</td>\n",
       "      <td>90</td>\n",
       "      <td>NaN</td>\n",
       "      <td>15.0</td>\n",
       "      <td>313</td>\n",
       "    </tr>\n",
       "  </tbody>\n",
       "</table>\n",
       "</div>"
      ],
      "text/plain": [
       "   yearID teamIDBR  2B  3B  HR    BB     FP  BPF  SF    CS   RA\n",
       "0    1871      BOS  70  37   3  60.0  0.834  103 NaN  16.0  303\n",
       "1    1871      CHI  52  21  10  60.0  0.829  104 NaN  21.0  241\n",
       "2    1871      CLE  35  40   7  26.0  0.818   96 NaN   8.0  341\n",
       "3    1871      KEK  19   8   2  33.0  0.803  101 NaN   4.0  243\n",
       "4    1871      NYU  43  21   1  33.0  0.840   90 NaN  15.0  313"
      ]
     },
     "execution_count": 11,
     "metadata": {},
     "output_type": "execute_result"
    }
   ],
   "source": [
    "#From df1, we select the stats that we are interested in analyzing\n",
    "df2=df1[['yearID','teamIDBR','2B','3B','HR','BB','FP','BPF','SF','CS', 'RA']]\n",
    "df2.head()"
   ]
  },
  {
   "cell_type": "code",
   "execution_count": 12,
   "metadata": {
    "application/vnd.databricks.v1+cell": {
     "inputWidgets": {},
     "nuid": "009e18de-0252-40cc-a1ba-fb6f79c27d35",
     "showTitle": false,
     "title": ""
    }
   },
   "outputs": [
    {
     "data": {
      "text/html": [
       "<div>\n",
       "<style scoped>\n",
       "    .dataframe tbody tr th:only-of-type {\n",
       "        vertical-align: middle;\n",
       "    }\n",
       "\n",
       "    .dataframe tbody tr th {\n",
       "        vertical-align: top;\n",
       "    }\n",
       "\n",
       "    .dataframe thead th {\n",
       "        text-align: right;\n",
       "    }\n",
       "</style>\n",
       "<table border=\"1\" class=\"dataframe\">\n",
       "  <thead>\n",
       "    <tr style=\"text-align: right;\">\n",
       "      <th></th>\n",
       "      <th>RA/G</th>\n",
       "      <th>DefEff</th>\n",
       "      <th>E</th>\n",
       "      <th>DPA</th>\n",
       "      <th>W</th>\n",
       "      <th>L</th>\n",
       "      <th>W-L%</th>\n",
       "      <th>ERA</th>\n",
       "      <th>tSho</th>\n",
       "      <th>HA</th>\n",
       "      <th>ER</th>\n",
       "      <th>HRA</th>\n",
       "      <th>BBA</th>\n",
       "      <th>SOA</th>\n",
       "      <th>R/G</th>\n",
       "      <th>R</th>\n",
       "      <th>H</th>\n",
       "      <th>RBI</th>\n",
       "      <th>SB</th>\n",
       "      <th>SO</th>\n",
       "      <th>BA</th>\n",
       "      <th>OBP</th>\n",
       "      <th>SLG</th>\n",
       "      <th>GDP</th>\n",
       "      <th>LOB</th>\n",
       "      <th>salary</th>\n",
       "      <th>WAR</th>\n",
       "      <th>Year</th>\n",
       "      <th>Team</th>\n",
       "      <th>yearID</th>\n",
       "      <th>teamIDBR</th>\n",
       "      <th>2B</th>\n",
       "      <th>3B</th>\n",
       "      <th>HR</th>\n",
       "      <th>BB</th>\n",
       "      <th>FP</th>\n",
       "      <th>BPF</th>\n",
       "      <th>SF</th>\n",
       "      <th>CS</th>\n",
       "      <th>RA</th>\n",
       "    </tr>\n",
       "  </thead>\n",
       "  <tbody>\n",
       "    <tr>\n",
       "      <th>0</th>\n",
       "      <td>3.98</td>\n",
       "      <td>0.698</td>\n",
       "      <td>75</td>\n",
       "      <td>152</td>\n",
       "      <td>82</td>\n",
       "      <td>80</td>\n",
       "      <td>0.506</td>\n",
       "      <td>3.72</td>\n",
       "      <td>9</td>\n",
       "      <td>1313</td>\n",
       "      <td>605</td>\n",
       "      <td>174</td>\n",
       "      <td>522</td>\n",
       "      <td>1448</td>\n",
       "      <td>4.28</td>\n",
       "      <td>693</td>\n",
       "      <td>1283</td>\n",
       "      <td>658</td>\n",
       "      <td>79</td>\n",
       "      <td>1460</td>\n",
       "      <td>0.235</td>\n",
       "      <td>0.310</td>\n",
       "      <td>0.397</td>\n",
       "      <td>110</td>\n",
       "      <td>1086</td>\n",
       "      <td>143324597</td>\n",
       "      <td>34.1</td>\n",
       "      <td>2018</td>\n",
       "      <td>ARI</td>\n",
       "      <td>2018</td>\n",
       "      <td>ARI</td>\n",
       "      <td>259</td>\n",
       "      <td>50</td>\n",
       "      <td>176</td>\n",
       "      <td>560.0</td>\n",
       "      <td>0.988</td>\n",
       "      <td>108</td>\n",
       "      <td>45.0</td>\n",
       "      <td>25.0</td>\n",
       "      <td>644</td>\n",
       "    </tr>\n",
       "    <tr>\n",
       "      <th>1</th>\n",
       "      <td>4.06</td>\n",
       "      <td>0.709</td>\n",
       "      <td>80</td>\n",
       "      <td>134</td>\n",
       "      <td>90</td>\n",
       "      <td>72</td>\n",
       "      <td>0.556</td>\n",
       "      <td>3.75</td>\n",
       "      <td>11</td>\n",
       "      <td>1236</td>\n",
       "      <td>607</td>\n",
       "      <td>153</td>\n",
       "      <td>635</td>\n",
       "      <td>1423</td>\n",
       "      <td>4.69</td>\n",
       "      <td>759</td>\n",
       "      <td>1433</td>\n",
       "      <td>717</td>\n",
       "      <td>90</td>\n",
       "      <td>1290</td>\n",
       "      <td>0.257</td>\n",
       "      <td>0.324</td>\n",
       "      <td>0.417</td>\n",
       "      <td>99</td>\n",
       "      <td>1143</td>\n",
       "      <td>130649395</td>\n",
       "      <td>40.8</td>\n",
       "      <td>2018</td>\n",
       "      <td>ATL</td>\n",
       "      <td>2018</td>\n",
       "      <td>ATL</td>\n",
       "      <td>314</td>\n",
       "      <td>29</td>\n",
       "      <td>175</td>\n",
       "      <td>511.0</td>\n",
       "      <td>0.986</td>\n",
       "      <td>100</td>\n",
       "      <td>43.0</td>\n",
       "      <td>36.0</td>\n",
       "      <td>657</td>\n",
       "    </tr>\n",
       "    <tr>\n",
       "      <th>2</th>\n",
       "      <td>5.51</td>\n",
       "      <td>0.674</td>\n",
       "      <td>104</td>\n",
       "      <td>159</td>\n",
       "      <td>47</td>\n",
       "      <td>115</td>\n",
       "      <td>0.290</td>\n",
       "      <td>5.18</td>\n",
       "      <td>7</td>\n",
       "      <td>1552</td>\n",
       "      <td>824</td>\n",
       "      <td>234</td>\n",
       "      <td>589</td>\n",
       "      <td>1203</td>\n",
       "      <td>3.84</td>\n",
       "      <td>622</td>\n",
       "      <td>1317</td>\n",
       "      <td>593</td>\n",
       "      <td>81</td>\n",
       "      <td>1412</td>\n",
       "      <td>0.239</td>\n",
       "      <td>0.298</td>\n",
       "      <td>0.391</td>\n",
       "      <td>132</td>\n",
       "      <td>1027</td>\n",
       "      <td>127633703</td>\n",
       "      <td>11.4</td>\n",
       "      <td>2018</td>\n",
       "      <td>BAL</td>\n",
       "      <td>2018</td>\n",
       "      <td>BAL</td>\n",
       "      <td>242</td>\n",
       "      <td>15</td>\n",
       "      <td>188</td>\n",
       "      <td>422.0</td>\n",
       "      <td>0.982</td>\n",
       "      <td>96</td>\n",
       "      <td>35.0</td>\n",
       "      <td>22.0</td>\n",
       "      <td>892</td>\n",
       "    </tr>\n",
       "    <tr>\n",
       "      <th>3</th>\n",
       "      <td>3.99</td>\n",
       "      <td>0.693</td>\n",
       "      <td>77</td>\n",
       "      <td>106</td>\n",
       "      <td>108</td>\n",
       "      <td>54</td>\n",
       "      <td>0.667</td>\n",
       "      <td>3.75</td>\n",
       "      <td>14</td>\n",
       "      <td>1305</td>\n",
       "      <td>608</td>\n",
       "      <td>176</td>\n",
       "      <td>512</td>\n",
       "      <td>1558</td>\n",
       "      <td>5.41</td>\n",
       "      <td>876</td>\n",
       "      <td>1509</td>\n",
       "      <td>829</td>\n",
       "      <td>125</td>\n",
       "      <td>1253</td>\n",
       "      <td>0.268</td>\n",
       "      <td>0.339</td>\n",
       "      <td>0.453</td>\n",
       "      <td>130</td>\n",
       "      <td>1124</td>\n",
       "      <td>227398860</td>\n",
       "      <td>56.5</td>\n",
       "      <td>2018</td>\n",
       "      <td>BOS</td>\n",
       "      <td>2018</td>\n",
       "      <td>BOS</td>\n",
       "      <td>355</td>\n",
       "      <td>31</td>\n",
       "      <td>208</td>\n",
       "      <td>569.0</td>\n",
       "      <td>0.987</td>\n",
       "      <td>104</td>\n",
       "      <td>48.0</td>\n",
       "      <td>31.0</td>\n",
       "      <td>647</td>\n",
       "    </tr>\n",
       "    <tr>\n",
       "      <th>4</th>\n",
       "      <td>3.96</td>\n",
       "      <td>0.700</td>\n",
       "      <td>104</td>\n",
       "      <td>155</td>\n",
       "      <td>95</td>\n",
       "      <td>68</td>\n",
       "      <td>0.583</td>\n",
       "      <td>3.65</td>\n",
       "      <td>18</td>\n",
       "      <td>1319</td>\n",
       "      <td>598</td>\n",
       "      <td>157</td>\n",
       "      <td>622</td>\n",
       "      <td>1333</td>\n",
       "      <td>4.67</td>\n",
       "      <td>761</td>\n",
       "      <td>1453</td>\n",
       "      <td>722</td>\n",
       "      <td>66</td>\n",
       "      <td>1388</td>\n",
       "      <td>0.258</td>\n",
       "      <td>0.333</td>\n",
       "      <td>0.410</td>\n",
       "      <td>107</td>\n",
       "      <td>1224</td>\n",
       "      <td>194259933</td>\n",
       "      <td>45.0</td>\n",
       "      <td>2018</td>\n",
       "      <td>CHC</td>\n",
       "      <td>2018</td>\n",
       "      <td>CHC</td>\n",
       "      <td>286</td>\n",
       "      <td>34</td>\n",
       "      <td>167</td>\n",
       "      <td>576.0</td>\n",
       "      <td>0.983</td>\n",
       "      <td>107</td>\n",
       "      <td>46.0</td>\n",
       "      <td>38.0</td>\n",
       "      <td>645</td>\n",
       "    </tr>\n",
       "  </tbody>\n",
       "</table>\n",
       "</div>"
      ],
      "text/plain": [
       "   RA/G  DefEff    E  DPA    W    L   W-L%   ERA  tSho    HA   ER  HRA  BBA  \\\n",
       "0  3.98   0.698   75  152   82   80  0.506  3.72     9  1313  605  174  522   \n",
       "1  4.06   0.709   80  134   90   72  0.556  3.75    11  1236  607  153  635   \n",
       "2  5.51   0.674  104  159   47  115  0.290  5.18     7  1552  824  234  589   \n",
       "3  3.99   0.693   77  106  108   54  0.667  3.75    14  1305  608  176  512   \n",
       "4  3.96   0.700  104  155   95   68  0.583  3.65    18  1319  598  157  622   \n",
       "\n",
       "    SOA   R/G    R     H  RBI   SB    SO     BA    OBP    SLG  GDP   LOB  \\\n",
       "0  1448  4.28  693  1283  658   79  1460  0.235  0.310  0.397  110  1086   \n",
       "1  1423  4.69  759  1433  717   90  1290  0.257  0.324  0.417   99  1143   \n",
       "2  1203  3.84  622  1317  593   81  1412  0.239  0.298  0.391  132  1027   \n",
       "3  1558  5.41  876  1509  829  125  1253  0.268  0.339  0.453  130  1124   \n",
       "4  1333  4.67  761  1453  722   66  1388  0.258  0.333  0.410  107  1224   \n",
       "\n",
       "      salary   WAR  Year Team  yearID teamIDBR   2B  3B   HR     BB     FP  \\\n",
       "0  143324597  34.1  2018  ARI    2018      ARI  259  50  176  560.0  0.988   \n",
       "1  130649395  40.8  2018  ATL    2018      ATL  314  29  175  511.0  0.986   \n",
       "2  127633703  11.4  2018  BAL    2018      BAL  242  15  188  422.0  0.982   \n",
       "3  227398860  56.5  2018  BOS    2018      BOS  355  31  208  569.0  0.987   \n",
       "4  194259933  45.0  2018  CHC    2018      CHC  286  34  167  576.0  0.983   \n",
       "\n",
       "   BPF    SF    CS   RA  \n",
       "0  108  45.0  25.0  644  \n",
       "1  100  43.0  36.0  657  \n",
       "2   96  35.0  22.0  892  \n",
       "3  104  48.0  31.0  647  \n",
       "4  107  46.0  38.0  645  "
      ]
     },
     "execution_count": 12,
     "metadata": {},
     "output_type": "execute_result"
    }
   ],
   "source": [
    "#Merged dataframes using a left join\n",
    "df_final = pd.merge(df, df2,  how='left', left_on=['Team','Year'], right_on=['teamIDBR','yearID'])\n",
    "df_final.head()"
   ]
  },
  {
   "cell_type": "code",
   "execution_count": 13,
   "metadata": {
    "application/vnd.databricks.v1+cell": {
     "inputWidgets": {},
     "nuid": "a39db136-c4e8-4248-b6ce-dd73e10ff43d",
     "showTitle": false,
     "title": ""
    }
   },
   "outputs": [
    {
     "data": {
      "text/html": [
       "<div>\n",
       "<style scoped>\n",
       "    .dataframe tbody tr th:only-of-type {\n",
       "        vertical-align: middle;\n",
       "    }\n",
       "\n",
       "    .dataframe tbody tr th {\n",
       "        vertical-align: top;\n",
       "    }\n",
       "\n",
       "    .dataframe thead th {\n",
       "        text-align: right;\n",
       "    }\n",
       "</style>\n",
       "<table border=\"1\" class=\"dataframe\">\n",
       "  <thead>\n",
       "    <tr style=\"text-align: right;\">\n",
       "      <th></th>\n",
       "      <th>RA/G</th>\n",
       "      <th>DefEff</th>\n",
       "      <th>E</th>\n",
       "      <th>DPA</th>\n",
       "      <th>W</th>\n",
       "      <th>L</th>\n",
       "      <th>W-L%</th>\n",
       "      <th>ERA</th>\n",
       "      <th>tSho</th>\n",
       "      <th>HA</th>\n",
       "      <th>ER</th>\n",
       "      <th>HRA</th>\n",
       "      <th>BBA</th>\n",
       "      <th>SOA</th>\n",
       "      <th>R/G</th>\n",
       "      <th>R</th>\n",
       "      <th>H</th>\n",
       "      <th>RBI</th>\n",
       "      <th>SB</th>\n",
       "      <th>SO</th>\n",
       "      <th>BA</th>\n",
       "      <th>OBP</th>\n",
       "      <th>SLG</th>\n",
       "      <th>GDP</th>\n",
       "      <th>LOB</th>\n",
       "      <th>salary</th>\n",
       "      <th>WAR</th>\n",
       "      <th>Year</th>\n",
       "      <th>Team</th>\n",
       "      <th>2B</th>\n",
       "      <th>3B</th>\n",
       "      <th>HR</th>\n",
       "      <th>BB</th>\n",
       "      <th>FP</th>\n",
       "      <th>BPF</th>\n",
       "      <th>SF</th>\n",
       "      <th>CS</th>\n",
       "      <th>RA</th>\n",
       "    </tr>\n",
       "  </thead>\n",
       "  <tbody>\n",
       "    <tr>\n",
       "      <th>0</th>\n",
       "      <td>3.98</td>\n",
       "      <td>0.698</td>\n",
       "      <td>75</td>\n",
       "      <td>152</td>\n",
       "      <td>82</td>\n",
       "      <td>80</td>\n",
       "      <td>0.506</td>\n",
       "      <td>3.72</td>\n",
       "      <td>9</td>\n",
       "      <td>1313</td>\n",
       "      <td>605</td>\n",
       "      <td>174</td>\n",
       "      <td>522</td>\n",
       "      <td>1448</td>\n",
       "      <td>4.28</td>\n",
       "      <td>693</td>\n",
       "      <td>1283</td>\n",
       "      <td>658</td>\n",
       "      <td>79</td>\n",
       "      <td>1460</td>\n",
       "      <td>0.235</td>\n",
       "      <td>0.310</td>\n",
       "      <td>0.397</td>\n",
       "      <td>110</td>\n",
       "      <td>1086</td>\n",
       "      <td>143324597</td>\n",
       "      <td>34.1</td>\n",
       "      <td>2018</td>\n",
       "      <td>ARI</td>\n",
       "      <td>259</td>\n",
       "      <td>50</td>\n",
       "      <td>176</td>\n",
       "      <td>560.0</td>\n",
       "      <td>0.988</td>\n",
       "      <td>108</td>\n",
       "      <td>45.0</td>\n",
       "      <td>25.0</td>\n",
       "      <td>644</td>\n",
       "    </tr>\n",
       "    <tr>\n",
       "      <th>1</th>\n",
       "      <td>4.06</td>\n",
       "      <td>0.709</td>\n",
       "      <td>80</td>\n",
       "      <td>134</td>\n",
       "      <td>90</td>\n",
       "      <td>72</td>\n",
       "      <td>0.556</td>\n",
       "      <td>3.75</td>\n",
       "      <td>11</td>\n",
       "      <td>1236</td>\n",
       "      <td>607</td>\n",
       "      <td>153</td>\n",
       "      <td>635</td>\n",
       "      <td>1423</td>\n",
       "      <td>4.69</td>\n",
       "      <td>759</td>\n",
       "      <td>1433</td>\n",
       "      <td>717</td>\n",
       "      <td>90</td>\n",
       "      <td>1290</td>\n",
       "      <td>0.257</td>\n",
       "      <td>0.324</td>\n",
       "      <td>0.417</td>\n",
       "      <td>99</td>\n",
       "      <td>1143</td>\n",
       "      <td>130649395</td>\n",
       "      <td>40.8</td>\n",
       "      <td>2018</td>\n",
       "      <td>ATL</td>\n",
       "      <td>314</td>\n",
       "      <td>29</td>\n",
       "      <td>175</td>\n",
       "      <td>511.0</td>\n",
       "      <td>0.986</td>\n",
       "      <td>100</td>\n",
       "      <td>43.0</td>\n",
       "      <td>36.0</td>\n",
       "      <td>657</td>\n",
       "    </tr>\n",
       "    <tr>\n",
       "      <th>2</th>\n",
       "      <td>5.51</td>\n",
       "      <td>0.674</td>\n",
       "      <td>104</td>\n",
       "      <td>159</td>\n",
       "      <td>47</td>\n",
       "      <td>115</td>\n",
       "      <td>0.290</td>\n",
       "      <td>5.18</td>\n",
       "      <td>7</td>\n",
       "      <td>1552</td>\n",
       "      <td>824</td>\n",
       "      <td>234</td>\n",
       "      <td>589</td>\n",
       "      <td>1203</td>\n",
       "      <td>3.84</td>\n",
       "      <td>622</td>\n",
       "      <td>1317</td>\n",
       "      <td>593</td>\n",
       "      <td>81</td>\n",
       "      <td>1412</td>\n",
       "      <td>0.239</td>\n",
       "      <td>0.298</td>\n",
       "      <td>0.391</td>\n",
       "      <td>132</td>\n",
       "      <td>1027</td>\n",
       "      <td>127633703</td>\n",
       "      <td>11.4</td>\n",
       "      <td>2018</td>\n",
       "      <td>BAL</td>\n",
       "      <td>242</td>\n",
       "      <td>15</td>\n",
       "      <td>188</td>\n",
       "      <td>422.0</td>\n",
       "      <td>0.982</td>\n",
       "      <td>96</td>\n",
       "      <td>35.0</td>\n",
       "      <td>22.0</td>\n",
       "      <td>892</td>\n",
       "    </tr>\n",
       "    <tr>\n",
       "      <th>3</th>\n",
       "      <td>3.99</td>\n",
       "      <td>0.693</td>\n",
       "      <td>77</td>\n",
       "      <td>106</td>\n",
       "      <td>108</td>\n",
       "      <td>54</td>\n",
       "      <td>0.667</td>\n",
       "      <td>3.75</td>\n",
       "      <td>14</td>\n",
       "      <td>1305</td>\n",
       "      <td>608</td>\n",
       "      <td>176</td>\n",
       "      <td>512</td>\n",
       "      <td>1558</td>\n",
       "      <td>5.41</td>\n",
       "      <td>876</td>\n",
       "      <td>1509</td>\n",
       "      <td>829</td>\n",
       "      <td>125</td>\n",
       "      <td>1253</td>\n",
       "      <td>0.268</td>\n",
       "      <td>0.339</td>\n",
       "      <td>0.453</td>\n",
       "      <td>130</td>\n",
       "      <td>1124</td>\n",
       "      <td>227398860</td>\n",
       "      <td>56.5</td>\n",
       "      <td>2018</td>\n",
       "      <td>BOS</td>\n",
       "      <td>355</td>\n",
       "      <td>31</td>\n",
       "      <td>208</td>\n",
       "      <td>569.0</td>\n",
       "      <td>0.987</td>\n",
       "      <td>104</td>\n",
       "      <td>48.0</td>\n",
       "      <td>31.0</td>\n",
       "      <td>647</td>\n",
       "    </tr>\n",
       "    <tr>\n",
       "      <th>4</th>\n",
       "      <td>3.96</td>\n",
       "      <td>0.700</td>\n",
       "      <td>104</td>\n",
       "      <td>155</td>\n",
       "      <td>95</td>\n",
       "      <td>68</td>\n",
       "      <td>0.583</td>\n",
       "      <td>3.65</td>\n",
       "      <td>18</td>\n",
       "      <td>1319</td>\n",
       "      <td>598</td>\n",
       "      <td>157</td>\n",
       "      <td>622</td>\n",
       "      <td>1333</td>\n",
       "      <td>4.67</td>\n",
       "      <td>761</td>\n",
       "      <td>1453</td>\n",
       "      <td>722</td>\n",
       "      <td>66</td>\n",
       "      <td>1388</td>\n",
       "      <td>0.258</td>\n",
       "      <td>0.333</td>\n",
       "      <td>0.410</td>\n",
       "      <td>107</td>\n",
       "      <td>1224</td>\n",
       "      <td>194259933</td>\n",
       "      <td>45.0</td>\n",
       "      <td>2018</td>\n",
       "      <td>CHC</td>\n",
       "      <td>286</td>\n",
       "      <td>34</td>\n",
       "      <td>167</td>\n",
       "      <td>576.0</td>\n",
       "      <td>0.983</td>\n",
       "      <td>107</td>\n",
       "      <td>46.0</td>\n",
       "      <td>38.0</td>\n",
       "      <td>645</td>\n",
       "    </tr>\n",
       "  </tbody>\n",
       "</table>\n",
       "</div>"
      ],
      "text/plain": [
       "   RA/G  DefEff    E  DPA    W    L   W-L%   ERA  tSho    HA   ER  HRA  BBA  \\\n",
       "0  3.98   0.698   75  152   82   80  0.506  3.72     9  1313  605  174  522   \n",
       "1  4.06   0.709   80  134   90   72  0.556  3.75    11  1236  607  153  635   \n",
       "2  5.51   0.674  104  159   47  115  0.290  5.18     7  1552  824  234  589   \n",
       "3  3.99   0.693   77  106  108   54  0.667  3.75    14  1305  608  176  512   \n",
       "4  3.96   0.700  104  155   95   68  0.583  3.65    18  1319  598  157  622   \n",
       "\n",
       "    SOA   R/G    R     H  RBI   SB    SO     BA    OBP    SLG  GDP   LOB  \\\n",
       "0  1448  4.28  693  1283  658   79  1460  0.235  0.310  0.397  110  1086   \n",
       "1  1423  4.69  759  1433  717   90  1290  0.257  0.324  0.417   99  1143   \n",
       "2  1203  3.84  622  1317  593   81  1412  0.239  0.298  0.391  132  1027   \n",
       "3  1558  5.41  876  1509  829  125  1253  0.268  0.339  0.453  130  1124   \n",
       "4  1333  4.67  761  1453  722   66  1388  0.258  0.333  0.410  107  1224   \n",
       "\n",
       "      salary   WAR  Year Team   2B  3B   HR     BB     FP  BPF    SF    CS  \\\n",
       "0  143324597  34.1  2018  ARI  259  50  176  560.0  0.988  108  45.0  25.0   \n",
       "1  130649395  40.8  2018  ATL  314  29  175  511.0  0.986  100  43.0  36.0   \n",
       "2  127633703  11.4  2018  BAL  242  15  188  422.0  0.982   96  35.0  22.0   \n",
       "3  227398860  56.5  2018  BOS  355  31  208  569.0  0.987  104  48.0  31.0   \n",
       "4  194259933  45.0  2018  CHC  286  34  167  576.0  0.983  107  46.0  38.0   \n",
       "\n",
       "    RA  \n",
       "0  644  \n",
       "1  657  \n",
       "2  892  \n",
       "3  647  \n",
       "4  645  "
      ]
     },
     "execution_count": 13,
     "metadata": {},
     "output_type": "execute_result"
    }
   ],
   "source": [
    "df_final.drop(columns =[\"yearID\",\"teamIDBR\"], inplace = True)\n",
    "df_final.head()"
   ]
  },
  {
   "cell_type": "code",
   "execution_count": 14,
   "metadata": {
    "application/vnd.databricks.v1+cell": {
     "inputWidgets": {},
     "nuid": "8da43df4-93a9-49f6-9c16-84a07c93b24d",
     "showTitle": false,
     "title": ""
    }
   },
   "outputs": [
    {
     "data": {
      "text/html": [
       "<div>\n",
       "<style scoped>\n",
       "    .dataframe tbody tr th:only-of-type {\n",
       "        vertical-align: middle;\n",
       "    }\n",
       "\n",
       "    .dataframe tbody tr th {\n",
       "        vertical-align: top;\n",
       "    }\n",
       "\n",
       "    .dataframe thead th {\n",
       "        text-align: right;\n",
       "    }\n",
       "</style>\n",
       "<table border=\"1\" class=\"dataframe\">\n",
       "  <thead>\n",
       "    <tr style=\"text-align: right;\">\n",
       "      <th></th>\n",
       "      <th>RA/G</th>\n",
       "      <th>DefEff</th>\n",
       "      <th>E</th>\n",
       "      <th>DPA</th>\n",
       "      <th>W</th>\n",
       "      <th>L</th>\n",
       "      <th>W-L%</th>\n",
       "      <th>ERA</th>\n",
       "      <th>tSho</th>\n",
       "      <th>HA</th>\n",
       "      <th>ER</th>\n",
       "      <th>HRA</th>\n",
       "      <th>BBA</th>\n",
       "      <th>SOA</th>\n",
       "      <th>R/G</th>\n",
       "      <th>R</th>\n",
       "      <th>H</th>\n",
       "      <th>RBI</th>\n",
       "      <th>SB</th>\n",
       "      <th>SO</th>\n",
       "      <th>BA</th>\n",
       "      <th>OBP</th>\n",
       "      <th>SLG</th>\n",
       "      <th>GDP</th>\n",
       "      <th>LOB</th>\n",
       "      <th>salary</th>\n",
       "      <th>WAR</th>\n",
       "      <th>Year</th>\n",
       "      <th>2B</th>\n",
       "      <th>3B</th>\n",
       "      <th>HR</th>\n",
       "      <th>BB</th>\n",
       "      <th>FP</th>\n",
       "      <th>BPF</th>\n",
       "      <th>SF</th>\n",
       "      <th>CS</th>\n",
       "      <th>RA</th>\n",
       "      <th>salary_log</th>\n",
       "    </tr>\n",
       "  </thead>\n",
       "  <tbody>\n",
       "    <tr>\n",
       "      <th>count</th>\n",
       "      <td>210.000000</td>\n",
       "      <td>210.000000</td>\n",
       "      <td>210.000000</td>\n",
       "      <td>210.000000</td>\n",
       "      <td>210.000000</td>\n",
       "      <td>210.000000</td>\n",
       "      <td>210.000000</td>\n",
       "      <td>210.000000</td>\n",
       "      <td>210.000000</td>\n",
       "      <td>210.000000</td>\n",
       "      <td>210.000000</td>\n",
       "      <td>210.000000</td>\n",
       "      <td>210.000000</td>\n",
       "      <td>210.000000</td>\n",
       "      <td>210.000000</td>\n",
       "      <td>210.000000</td>\n",
       "      <td>210.000000</td>\n",
       "      <td>210.000000</td>\n",
       "      <td>210.000000</td>\n",
       "      <td>210.000000</td>\n",
       "      <td>210.000000</td>\n",
       "      <td>210.000000</td>\n",
       "      <td>210.000000</td>\n",
       "      <td>210.000000</td>\n",
       "      <td>210.000000</td>\n",
       "      <td>2.100000e+02</td>\n",
       "      <td>210.000000</td>\n",
       "      <td>210.000000</td>\n",
       "      <td>210.000000</td>\n",
       "      <td>210.000000</td>\n",
       "      <td>210.000000</td>\n",
       "      <td>210.000000</td>\n",
       "      <td>210.000000</td>\n",
       "      <td>210.000000</td>\n",
       "      <td>210.000000</td>\n",
       "      <td>210.000000</td>\n",
       "      <td>210.000000</td>\n",
       "      <td>210.000000</td>\n",
       "    </tr>\n",
       "    <tr>\n",
       "      <th>mean</th>\n",
       "      <td>4.339810</td>\n",
       "      <td>0.690071</td>\n",
       "      <td>94.971429</td>\n",
       "      <td>143.185714</td>\n",
       "      <td>80.990476</td>\n",
       "      <td>80.990476</td>\n",
       "      <td>0.500005</td>\n",
       "      <td>4.036000</td>\n",
       "      <td>10.390476</td>\n",
       "      <td>1396.980952</td>\n",
       "      <td>648.909524</td>\n",
       "      <td>171.380952</td>\n",
       "      <td>495.452381</td>\n",
       "      <td>1277.695238</td>\n",
       "      <td>4.339952</td>\n",
       "      <td>703.028571</td>\n",
       "      <td>1396.980952</td>\n",
       "      <td>669.395238</td>\n",
       "      <td>89.185714</td>\n",
       "      <td>1277.695238</td>\n",
       "      <td>0.253043</td>\n",
       "      <td>0.318643</td>\n",
       "      <td>0.406390</td>\n",
       "      <td>122.257143</td>\n",
       "      <td>1103.509524</td>\n",
       "      <td>1.260503e+08</td>\n",
       "      <td>33.294762</td>\n",
       "      <td>2015.000000</td>\n",
       "      <td>275.128571</td>\n",
       "      <td>28.580952</td>\n",
       "      <td>171.380952</td>\n",
       "      <td>495.452381</td>\n",
       "      <td>0.984214</td>\n",
       "      <td>100.076190</td>\n",
       "      <td>40.800000</td>\n",
       "      <td>33.976190</td>\n",
       "      <td>703.028571</td>\n",
       "      <td>18.583543</td>\n",
       "    </tr>\n",
       "    <tr>\n",
       "      <th>std</th>\n",
       "      <td>0.505359</td>\n",
       "      <td>0.011041</td>\n",
       "      <td>14.544739</td>\n",
       "      <td>17.678110</td>\n",
       "      <td>11.525711</td>\n",
       "      <td>11.498696</td>\n",
       "      <td>0.071063</td>\n",
       "      <td>0.502027</td>\n",
       "      <td>4.011933</td>\n",
       "      <td>84.950983</td>\n",
       "      <td>77.097629</td>\n",
       "      <td>29.610673</td>\n",
       "      <td>55.580539</td>\n",
       "      <td>123.023756</td>\n",
       "      <td>0.430569</td>\n",
       "      <td>69.833220</td>\n",
       "      <td>70.976373</td>\n",
       "      <td>68.351827</td>\n",
       "      <td>28.471068</td>\n",
       "      <td>122.062548</td>\n",
       "      <td>0.010573</td>\n",
       "      <td>0.011500</td>\n",
       "      <td>0.024486</td>\n",
       "      <td>15.437188</td>\n",
       "      <td>50.192952</td>\n",
       "      <td>4.717408e+07</td>\n",
       "      <td>10.833566</td>\n",
       "      <td>2.004779</td>\n",
       "      <td>25.300068</td>\n",
       "      <td>9.263584</td>\n",
       "      <td>35.759532</td>\n",
       "      <td>61.494623</td>\n",
       "      <td>0.002353</td>\n",
       "      <td>5.690074</td>\n",
       "      <td>7.975321</td>\n",
       "      <td>8.566341</td>\n",
       "      <td>81.778960</td>\n",
       "      <td>0.375451</td>\n",
       "    </tr>\n",
       "    <tr>\n",
       "      <th>min</th>\n",
       "      <td>3.240000</td>\n",
       "      <td>0.657000</td>\n",
       "      <td>54.000000</td>\n",
       "      <td>95.000000</td>\n",
       "      <td>47.000000</td>\n",
       "      <td>54.000000</td>\n",
       "      <td>0.290000</td>\n",
       "      <td>2.940000</td>\n",
       "      <td>2.000000</td>\n",
       "      <td>1125.000000</td>\n",
       "      <td>478.000000</td>\n",
       "      <td>101.000000</td>\n",
       "      <td>352.000000</td>\n",
       "      <td>943.000000</td>\n",
       "      <td>3.170000</td>\n",
       "      <td>513.000000</td>\n",
       "      <td>1199.000000</td>\n",
       "      <td>485.000000</td>\n",
       "      <td>19.000000</td>\n",
       "      <td>973.000000</td>\n",
       "      <td>0.226000</td>\n",
       "      <td>0.292000</td>\n",
       "      <td>0.335000</td>\n",
       "      <td>88.000000</td>\n",
       "      <td>965.000000</td>\n",
       "      <td>3.556791e+07</td>\n",
       "      <td>7.600000</td>\n",
       "      <td>2012.000000</td>\n",
       "      <td>219.000000</td>\n",
       "      <td>5.000000</td>\n",
       "      <td>95.000000</td>\n",
       "      <td>375.000000</td>\n",
       "      <td>0.978000</td>\n",
       "      <td>88.000000</td>\n",
       "      <td>24.000000</td>\n",
       "      <td>13.000000</td>\n",
       "      <td>525.000000</td>\n",
       "      <td>17.386954</td>\n",
       "    </tr>\n",
       "    <tr>\n",
       "      <th>25%</th>\n",
       "      <td>3.980000</td>\n",
       "      <td>0.683000</td>\n",
       "      <td>85.000000</td>\n",
       "      <td>133.000000</td>\n",
       "      <td>73.000000</td>\n",
       "      <td>72.000000</td>\n",
       "      <td>0.451000</td>\n",
       "      <td>3.700000</td>\n",
       "      <td>7.000000</td>\n",
       "      <td>1341.250000</td>\n",
       "      <td>597.250000</td>\n",
       "      <td>152.000000</td>\n",
       "      <td>462.000000</td>\n",
       "      <td>1199.000000</td>\n",
       "      <td>4.010000</td>\n",
       "      <td>650.000000</td>\n",
       "      <td>1346.250000</td>\n",
       "      <td>618.250000</td>\n",
       "      <td>69.000000</td>\n",
       "      <td>1193.250000</td>\n",
       "      <td>0.245000</td>\n",
       "      <td>0.311000</td>\n",
       "      <td>0.389250</td>\n",
       "      <td>112.000000</td>\n",
       "      <td>1069.500000</td>\n",
       "      <td>9.018259e+07</td>\n",
       "      <td>25.125000</td>\n",
       "      <td>2013.000000</td>\n",
       "      <td>257.000000</td>\n",
       "      <td>22.000000</td>\n",
       "      <td>146.000000</td>\n",
       "      <td>449.000000</td>\n",
       "      <td>0.983000</td>\n",
       "      <td>96.000000</td>\n",
       "      <td>35.000000</td>\n",
       "      <td>28.000000</td>\n",
       "      <td>645.250000</td>\n",
       "      <td>18.317332</td>\n",
       "    </tr>\n",
       "    <tr>\n",
       "      <th>50%</th>\n",
       "      <td>4.315000</td>\n",
       "      <td>0.690500</td>\n",
       "      <td>95.000000</td>\n",
       "      <td>142.500000</td>\n",
       "      <td>81.000000</td>\n",
       "      <td>81.000000</td>\n",
       "      <td>0.500000</td>\n",
       "      <td>4.000000</td>\n",
       "      <td>10.000000</td>\n",
       "      <td>1394.000000</td>\n",
       "      <td>643.000000</td>\n",
       "      <td>173.000000</td>\n",
       "      <td>491.000000</td>\n",
       "      <td>1258.000000</td>\n",
       "      <td>4.315000</td>\n",
       "      <td>700.000000</td>\n",
       "      <td>1394.500000</td>\n",
       "      <td>665.000000</td>\n",
       "      <td>88.000000</td>\n",
       "      <td>1277.500000</td>\n",
       "      <td>0.252500</td>\n",
       "      <td>0.318500</td>\n",
       "      <td>0.406000</td>\n",
       "      <td>121.000000</td>\n",
       "      <td>1104.000000</td>\n",
       "      <td>1.156042e+08</td>\n",
       "      <td>33.300000</td>\n",
       "      <td>2015.000000</td>\n",
       "      <td>274.000000</td>\n",
       "      <td>29.000000</td>\n",
       "      <td>168.500000</td>\n",
       "      <td>492.500000</td>\n",
       "      <td>0.984000</td>\n",
       "      <td>100.000000</td>\n",
       "      <td>40.000000</td>\n",
       "      <td>34.000000</td>\n",
       "      <td>699.500000</td>\n",
       "      <td>18.565683</td>\n",
       "    </tr>\n",
       "    <tr>\n",
       "      <th>75%</th>\n",
       "      <td>4.677500</td>\n",
       "      <td>0.698000</td>\n",
       "      <td>105.000000</td>\n",
       "      <td>155.000000</td>\n",
       "      <td>90.000000</td>\n",
       "      <td>89.000000</td>\n",
       "      <td>0.556000</td>\n",
       "      <td>4.360000</td>\n",
       "      <td>13.000000</td>\n",
       "      <td>1451.750000</td>\n",
       "      <td>700.000000</td>\n",
       "      <td>190.000000</td>\n",
       "      <td>528.500000</td>\n",
       "      <td>1351.750000</td>\n",
       "      <td>4.630000</td>\n",
       "      <td>750.000000</td>\n",
       "      <td>1446.000000</td>\n",
       "      <td>713.750000</td>\n",
       "      <td>107.500000</td>\n",
       "      <td>1360.000000</td>\n",
       "      <td>0.259750</td>\n",
       "      <td>0.326000</td>\n",
       "      <td>0.424000</td>\n",
       "      <td>133.000000</td>\n",
       "      <td>1136.500000</td>\n",
       "      <td>1.524056e+08</td>\n",
       "      <td>41.050000</td>\n",
       "      <td>2017.000000</td>\n",
       "      <td>290.000000</td>\n",
       "      <td>34.000000</td>\n",
       "      <td>198.000000</td>\n",
       "      <td>539.750000</td>\n",
       "      <td>0.986000</td>\n",
       "      <td>103.000000</td>\n",
       "      <td>45.000000</td>\n",
       "      <td>39.000000</td>\n",
       "      <td>757.750000</td>\n",
       "      <td>18.842056</td>\n",
       "    </tr>\n",
       "    <tr>\n",
       "      <th>max</th>\n",
       "      <td>5.520000</td>\n",
       "      <td>0.728000</td>\n",
       "      <td>136.000000</td>\n",
       "      <td>190.000000</td>\n",
       "      <td>108.000000</td>\n",
       "      <td>115.000000</td>\n",
       "      <td>0.667000</td>\n",
       "      <td>5.360000</td>\n",
       "      <td>23.000000</td>\n",
       "      <td>1637.000000</td>\n",
       "      <td>846.000000</td>\n",
       "      <td>258.000000</td>\n",
       "      <td>653.000000</td>\n",
       "      <td>1687.000000</td>\n",
       "      <td>5.530000</td>\n",
       "      <td>896.000000</td>\n",
       "      <td>1625.000000</td>\n",
       "      <td>854.000000</td>\n",
       "      <td>181.000000</td>\n",
       "      <td>1594.000000</td>\n",
       "      <td>0.283000</td>\n",
       "      <td>0.349000</td>\n",
       "      <td>0.478000</td>\n",
       "      <td>160.000000</td>\n",
       "      <td>1250.000000</td>\n",
       "      <td>3.017351e+08</td>\n",
       "      <td>61.200000</td>\n",
       "      <td>2018.000000</td>\n",
       "      <td>363.000000</td>\n",
       "      <td>57.000000</td>\n",
       "      <td>267.000000</td>\n",
       "      <td>656.000000</td>\n",
       "      <td>0.991000</td>\n",
       "      <td>120.000000</td>\n",
       "      <td>64.000000</td>\n",
       "      <td>61.000000</td>\n",
       "      <td>894.000000</td>\n",
       "      <td>19.525060</td>\n",
       "    </tr>\n",
       "  </tbody>\n",
       "</table>\n",
       "</div>"
      ],
      "text/plain": [
       "             RA/G      DefEff           E         DPA           W           L  \\\n",
       "count  210.000000  210.000000  210.000000  210.000000  210.000000  210.000000   \n",
       "mean     4.339810    0.690071   94.971429  143.185714   80.990476   80.990476   \n",
       "std      0.505359    0.011041   14.544739   17.678110   11.525711   11.498696   \n",
       "min      3.240000    0.657000   54.000000   95.000000   47.000000   54.000000   \n",
       "25%      3.980000    0.683000   85.000000  133.000000   73.000000   72.000000   \n",
       "50%      4.315000    0.690500   95.000000  142.500000   81.000000   81.000000   \n",
       "75%      4.677500    0.698000  105.000000  155.000000   90.000000   89.000000   \n",
       "max      5.520000    0.728000  136.000000  190.000000  108.000000  115.000000   \n",
       "\n",
       "             W-L%         ERA        tSho           HA          ER  \\\n",
       "count  210.000000  210.000000  210.000000   210.000000  210.000000   \n",
       "mean     0.500005    4.036000   10.390476  1396.980952  648.909524   \n",
       "std      0.071063    0.502027    4.011933    84.950983   77.097629   \n",
       "min      0.290000    2.940000    2.000000  1125.000000  478.000000   \n",
       "25%      0.451000    3.700000    7.000000  1341.250000  597.250000   \n",
       "50%      0.500000    4.000000   10.000000  1394.000000  643.000000   \n",
       "75%      0.556000    4.360000   13.000000  1451.750000  700.000000   \n",
       "max      0.667000    5.360000   23.000000  1637.000000  846.000000   \n",
       "\n",
       "              HRA         BBA          SOA         R/G           R  \\\n",
       "count  210.000000  210.000000   210.000000  210.000000  210.000000   \n",
       "mean   171.380952  495.452381  1277.695238    4.339952  703.028571   \n",
       "std     29.610673   55.580539   123.023756    0.430569   69.833220   \n",
       "min    101.000000  352.000000   943.000000    3.170000  513.000000   \n",
       "25%    152.000000  462.000000  1199.000000    4.010000  650.000000   \n",
       "50%    173.000000  491.000000  1258.000000    4.315000  700.000000   \n",
       "75%    190.000000  528.500000  1351.750000    4.630000  750.000000   \n",
       "max    258.000000  653.000000  1687.000000    5.530000  896.000000   \n",
       "\n",
       "                 H         RBI          SB           SO          BA  \\\n",
       "count   210.000000  210.000000  210.000000   210.000000  210.000000   \n",
       "mean   1396.980952  669.395238   89.185714  1277.695238    0.253043   \n",
       "std      70.976373   68.351827   28.471068   122.062548    0.010573   \n",
       "min    1199.000000  485.000000   19.000000   973.000000    0.226000   \n",
       "25%    1346.250000  618.250000   69.000000  1193.250000    0.245000   \n",
       "50%    1394.500000  665.000000   88.000000  1277.500000    0.252500   \n",
       "75%    1446.000000  713.750000  107.500000  1360.000000    0.259750   \n",
       "max    1625.000000  854.000000  181.000000  1594.000000    0.283000   \n",
       "\n",
       "              OBP         SLG         GDP          LOB        salary  \\\n",
       "count  210.000000  210.000000  210.000000   210.000000  2.100000e+02   \n",
       "mean     0.318643    0.406390  122.257143  1103.509524  1.260503e+08   \n",
       "std      0.011500    0.024486   15.437188    50.192952  4.717408e+07   \n",
       "min      0.292000    0.335000   88.000000   965.000000  3.556791e+07   \n",
       "25%      0.311000    0.389250  112.000000  1069.500000  9.018259e+07   \n",
       "50%      0.318500    0.406000  121.000000  1104.000000  1.156042e+08   \n",
       "75%      0.326000    0.424000  133.000000  1136.500000  1.524056e+08   \n",
       "max      0.349000    0.478000  160.000000  1250.000000  3.017351e+08   \n",
       "\n",
       "              WAR         Year          2B          3B          HR  \\\n",
       "count  210.000000   210.000000  210.000000  210.000000  210.000000   \n",
       "mean    33.294762  2015.000000  275.128571   28.580952  171.380952   \n",
       "std     10.833566     2.004779   25.300068    9.263584   35.759532   \n",
       "min      7.600000  2012.000000  219.000000    5.000000   95.000000   \n",
       "25%     25.125000  2013.000000  257.000000   22.000000  146.000000   \n",
       "50%     33.300000  2015.000000  274.000000   29.000000  168.500000   \n",
       "75%     41.050000  2017.000000  290.000000   34.000000  198.000000   \n",
       "max     61.200000  2018.000000  363.000000   57.000000  267.000000   \n",
       "\n",
       "               BB          FP         BPF          SF          CS          RA  \\\n",
       "count  210.000000  210.000000  210.000000  210.000000  210.000000  210.000000   \n",
       "mean   495.452381    0.984214  100.076190   40.800000   33.976190  703.028571   \n",
       "std     61.494623    0.002353    5.690074    7.975321    8.566341   81.778960   \n",
       "min    375.000000    0.978000   88.000000   24.000000   13.000000  525.000000   \n",
       "25%    449.000000    0.983000   96.000000   35.000000   28.000000  645.250000   \n",
       "50%    492.500000    0.984000  100.000000   40.000000   34.000000  699.500000   \n",
       "75%    539.750000    0.986000  103.000000   45.000000   39.000000  757.750000   \n",
       "max    656.000000    0.991000  120.000000   64.000000   61.000000  894.000000   \n",
       "\n",
       "       salary_log  \n",
       "count  210.000000  \n",
       "mean    18.583543  \n",
       "std      0.375451  \n",
       "min     17.386954  \n",
       "25%     18.317332  \n",
       "50%     18.565683  \n",
       "75%     18.842056  \n",
       "max     19.525060  "
      ]
     },
     "execution_count": 14,
     "metadata": {},
     "output_type": "execute_result"
    }
   ],
   "source": [
    "#For the regression, we create a new column with the log of the salary.\n",
    "df_final['salary_log'] = np.log(df_final['salary'])\n",
    "df_final.describe()"
   ]
  },
  {
   "cell_type": "markdown",
   "metadata": {
    "application/vnd.databricks.v1+cell": {
     "inputWidgets": {},
     "nuid": "1a865692-086f-44ca-9ed7-29c1f789fbcf",
     "showTitle": false,
     "title": ""
    }
   },
   "source": [
    "### 2) Summarize Data"
   ]
  },
  {
   "cell_type": "markdown",
   "metadata": {
    "application/vnd.databricks.v1+cell": {
     "inputWidgets": {},
     "nuid": "ca1b241e-6cc5-4f6b-915e-0a2a03d64ca5",
     "showTitle": false,
     "title": ""
    }
   },
   "source": [
    "#### 2.a) Descriptive Statistics"
   ]
  },
  {
   "cell_type": "code",
   "execution_count": 15,
   "metadata": {
    "application/vnd.databricks.v1+cell": {
     "inputWidgets": {},
     "nuid": "5a0a96f4-a4ac-49d9-8953-6bb2f1730783",
     "showTitle": false,
     "title": ""
    }
   },
   "outputs": [
    {
     "data": {
      "text/plain": [
       "(210, 39)"
      ]
     },
     "execution_count": 15,
     "metadata": {},
     "output_type": "execute_result"
    }
   ],
   "source": [
    "df_final.shape"
   ]
  },
  {
   "cell_type": "markdown",
   "metadata": {
    "application/vnd.databricks.v1+cell": {
     "inputWidgets": {},
     "nuid": "87289ec0-6f24-420b-a99b-662b75318de2",
     "showTitle": false,
     "title": ""
    }
   },
   "source": [
    "Our final dataset has 210 rows and 39 columns. It contains data from 2012 to 2018, for each of the 30 teams playing in the MLB."
   ]
  },
  {
   "cell_type": "code",
   "execution_count": 16,
   "metadata": {
    "application/vnd.databricks.v1+cell": {
     "inputWidgets": {},
     "nuid": "945e63fc-5304-47a0-ae47-dde37d31a601",
     "showTitle": false,
     "title": ""
    }
   },
   "outputs": [
    {
     "name": "stdout",
     "output_type": "stream",
     "text": [
      "<class 'pandas.core.frame.DataFrame'>\n",
      "Int64Index: 210 entries, 0 to 209\n",
      "Data columns (total 39 columns):\n",
      " #   Column      Non-Null Count  Dtype  \n",
      "---  ------      --------------  -----  \n",
      " 0   RA/G        210 non-null    float64\n",
      " 1   DefEff      210 non-null    float64\n",
      " 2   E           210 non-null    int64  \n",
      " 3   DPA         210 non-null    int64  \n",
      " 4   W           210 non-null    int64  \n",
      " 5   L           210 non-null    int64  \n",
      " 6   W-L%        210 non-null    float64\n",
      " 7   ERA         210 non-null    float64\n",
      " 8   tSho        210 non-null    int64  \n",
      " 9   HA          210 non-null    int64  \n",
      " 10  ER          210 non-null    int64  \n",
      " 11  HRA         210 non-null    int64  \n",
      " 12  BBA         210 non-null    int64  \n",
      " 13  SOA         210 non-null    int64  \n",
      " 14  R/G         210 non-null    float64\n",
      " 15  R           210 non-null    int64  \n",
      " 16  H           210 non-null    int64  \n",
      " 17  RBI         210 non-null    int64  \n",
      " 18  SB          210 non-null    int64  \n",
      " 19  SO          210 non-null    int64  \n",
      " 20  BA          210 non-null    float64\n",
      " 21  OBP         210 non-null    float64\n",
      " 22  SLG         210 non-null    float64\n",
      " 23  GDP         210 non-null    int64  \n",
      " 24  LOB         210 non-null    int64  \n",
      " 25  salary      210 non-null    int64  \n",
      " 26  WAR         210 non-null    float64\n",
      " 27  Year        210 non-null    int64  \n",
      " 28  Team        210 non-null    object \n",
      " 29  2B          210 non-null    int64  \n",
      " 30  3B          210 non-null    int64  \n",
      " 31  HR          210 non-null    int64  \n",
      " 32  BB          210 non-null    float64\n",
      " 33  FP          210 non-null    float64\n",
      " 34  BPF         210 non-null    int64  \n",
      " 35  SF          210 non-null    float64\n",
      " 36  CS          210 non-null    float64\n",
      " 37  RA          210 non-null    int64  \n",
      " 38  salary_log  210 non-null    float64\n",
      "dtypes: float64(14), int64(24), object(1)\n",
      "memory usage: 65.6+ KB\n"
     ]
    }
   ],
   "source": [
    "df_final.info()"
   ]
  },
  {
   "cell_type": "markdown",
   "metadata": {
    "application/vnd.databricks.v1+cell": {
     "inputWidgets": {},
     "nuid": "6f6b7534-a3e0-4b41-a628-ede66510b0f3",
     "showTitle": false,
     "title": ""
    }
   },
   "source": [
    "Below are some statistics that we can gather from the dataset:"
   ]
  },
  {
   "cell_type": "code",
   "execution_count": 17,
   "metadata": {
    "application/vnd.databricks.v1+cell": {
     "inputWidgets": {},
     "nuid": "b29ae8e5-c165-460e-b3e6-90dc82a5b768",
     "showTitle": false,
     "title": ""
    }
   },
   "outputs": [
    {
     "data": {
      "text/html": [
       "<div>\n",
       "<style scoped>\n",
       "    .dataframe tbody tr th:only-of-type {\n",
       "        vertical-align: middle;\n",
       "    }\n",
       "\n",
       "    .dataframe tbody tr th {\n",
       "        vertical-align: top;\n",
       "    }\n",
       "\n",
       "    .dataframe thead th {\n",
       "        text-align: right;\n",
       "    }\n",
       "</style>\n",
       "<table border=\"1\" class=\"dataframe\">\n",
       "  <thead>\n",
       "    <tr style=\"text-align: right;\">\n",
       "      <th></th>\n",
       "      <th>RA/G</th>\n",
       "      <th>DefEff</th>\n",
       "      <th>E</th>\n",
       "      <th>DPA</th>\n",
       "      <th>W</th>\n",
       "      <th>L</th>\n",
       "      <th>W-L%</th>\n",
       "      <th>ERA</th>\n",
       "      <th>tSho</th>\n",
       "      <th>HA</th>\n",
       "      <th>ER</th>\n",
       "      <th>HRA</th>\n",
       "      <th>BBA</th>\n",
       "      <th>SOA</th>\n",
       "      <th>R/G</th>\n",
       "      <th>R</th>\n",
       "      <th>H</th>\n",
       "      <th>RBI</th>\n",
       "      <th>SB</th>\n",
       "      <th>SO</th>\n",
       "      <th>BA</th>\n",
       "      <th>OBP</th>\n",
       "      <th>SLG</th>\n",
       "      <th>GDP</th>\n",
       "      <th>LOB</th>\n",
       "      <th>salary</th>\n",
       "      <th>WAR</th>\n",
       "      <th>Year</th>\n",
       "      <th>2B</th>\n",
       "      <th>3B</th>\n",
       "      <th>HR</th>\n",
       "      <th>BB</th>\n",
       "      <th>FP</th>\n",
       "      <th>BPF</th>\n",
       "      <th>SF</th>\n",
       "      <th>CS</th>\n",
       "      <th>RA</th>\n",
       "      <th>salary_log</th>\n",
       "    </tr>\n",
       "  </thead>\n",
       "  <tbody>\n",
       "    <tr>\n",
       "      <th>count</th>\n",
       "      <td>210.000000</td>\n",
       "      <td>210.000000</td>\n",
       "      <td>210.000000</td>\n",
       "      <td>210.000000</td>\n",
       "      <td>210.000000</td>\n",
       "      <td>210.000000</td>\n",
       "      <td>210.000000</td>\n",
       "      <td>210.000000</td>\n",
       "      <td>210.000000</td>\n",
       "      <td>210.000000</td>\n",
       "      <td>210.000000</td>\n",
       "      <td>210.000000</td>\n",
       "      <td>210.000000</td>\n",
       "      <td>210.000000</td>\n",
       "      <td>210.000000</td>\n",
       "      <td>210.000000</td>\n",
       "      <td>210.000000</td>\n",
       "      <td>210.000000</td>\n",
       "      <td>210.000000</td>\n",
       "      <td>210.000000</td>\n",
       "      <td>210.000000</td>\n",
       "      <td>210.000000</td>\n",
       "      <td>210.000000</td>\n",
       "      <td>210.000000</td>\n",
       "      <td>210.000000</td>\n",
       "      <td>2.100000e+02</td>\n",
       "      <td>210.000000</td>\n",
       "      <td>210.000000</td>\n",
       "      <td>210.000000</td>\n",
       "      <td>210.000000</td>\n",
       "      <td>210.000000</td>\n",
       "      <td>210.000000</td>\n",
       "      <td>210.000000</td>\n",
       "      <td>210.000000</td>\n",
       "      <td>210.000000</td>\n",
       "      <td>210.000000</td>\n",
       "      <td>210.000000</td>\n",
       "      <td>210.000000</td>\n",
       "    </tr>\n",
       "    <tr>\n",
       "      <th>mean</th>\n",
       "      <td>4.339810</td>\n",
       "      <td>0.690071</td>\n",
       "      <td>94.971429</td>\n",
       "      <td>143.185714</td>\n",
       "      <td>80.990476</td>\n",
       "      <td>80.990476</td>\n",
       "      <td>0.500005</td>\n",
       "      <td>4.036000</td>\n",
       "      <td>10.390476</td>\n",
       "      <td>1396.980952</td>\n",
       "      <td>648.909524</td>\n",
       "      <td>171.380952</td>\n",
       "      <td>495.452381</td>\n",
       "      <td>1277.695238</td>\n",
       "      <td>4.339952</td>\n",
       "      <td>703.028571</td>\n",
       "      <td>1396.980952</td>\n",
       "      <td>669.395238</td>\n",
       "      <td>89.185714</td>\n",
       "      <td>1277.695238</td>\n",
       "      <td>0.253043</td>\n",
       "      <td>0.318643</td>\n",
       "      <td>0.406390</td>\n",
       "      <td>122.257143</td>\n",
       "      <td>1103.509524</td>\n",
       "      <td>1.260503e+08</td>\n",
       "      <td>33.294762</td>\n",
       "      <td>2015.000000</td>\n",
       "      <td>275.128571</td>\n",
       "      <td>28.580952</td>\n",
       "      <td>171.380952</td>\n",
       "      <td>495.452381</td>\n",
       "      <td>0.984214</td>\n",
       "      <td>100.076190</td>\n",
       "      <td>40.800000</td>\n",
       "      <td>33.976190</td>\n",
       "      <td>703.028571</td>\n",
       "      <td>18.583543</td>\n",
       "    </tr>\n",
       "    <tr>\n",
       "      <th>std</th>\n",
       "      <td>0.505359</td>\n",
       "      <td>0.011041</td>\n",
       "      <td>14.544739</td>\n",
       "      <td>17.678110</td>\n",
       "      <td>11.525711</td>\n",
       "      <td>11.498696</td>\n",
       "      <td>0.071063</td>\n",
       "      <td>0.502027</td>\n",
       "      <td>4.011933</td>\n",
       "      <td>84.950983</td>\n",
       "      <td>77.097629</td>\n",
       "      <td>29.610673</td>\n",
       "      <td>55.580539</td>\n",
       "      <td>123.023756</td>\n",
       "      <td>0.430569</td>\n",
       "      <td>69.833220</td>\n",
       "      <td>70.976373</td>\n",
       "      <td>68.351827</td>\n",
       "      <td>28.471068</td>\n",
       "      <td>122.062548</td>\n",
       "      <td>0.010573</td>\n",
       "      <td>0.011500</td>\n",
       "      <td>0.024486</td>\n",
       "      <td>15.437188</td>\n",
       "      <td>50.192952</td>\n",
       "      <td>4.717408e+07</td>\n",
       "      <td>10.833566</td>\n",
       "      <td>2.004779</td>\n",
       "      <td>25.300068</td>\n",
       "      <td>9.263584</td>\n",
       "      <td>35.759532</td>\n",
       "      <td>61.494623</td>\n",
       "      <td>0.002353</td>\n",
       "      <td>5.690074</td>\n",
       "      <td>7.975321</td>\n",
       "      <td>8.566341</td>\n",
       "      <td>81.778960</td>\n",
       "      <td>0.375451</td>\n",
       "    </tr>\n",
       "    <tr>\n",
       "      <th>min</th>\n",
       "      <td>3.240000</td>\n",
       "      <td>0.657000</td>\n",
       "      <td>54.000000</td>\n",
       "      <td>95.000000</td>\n",
       "      <td>47.000000</td>\n",
       "      <td>54.000000</td>\n",
       "      <td>0.290000</td>\n",
       "      <td>2.940000</td>\n",
       "      <td>2.000000</td>\n",
       "      <td>1125.000000</td>\n",
       "      <td>478.000000</td>\n",
       "      <td>101.000000</td>\n",
       "      <td>352.000000</td>\n",
       "      <td>943.000000</td>\n",
       "      <td>3.170000</td>\n",
       "      <td>513.000000</td>\n",
       "      <td>1199.000000</td>\n",
       "      <td>485.000000</td>\n",
       "      <td>19.000000</td>\n",
       "      <td>973.000000</td>\n",
       "      <td>0.226000</td>\n",
       "      <td>0.292000</td>\n",
       "      <td>0.335000</td>\n",
       "      <td>88.000000</td>\n",
       "      <td>965.000000</td>\n",
       "      <td>3.556791e+07</td>\n",
       "      <td>7.600000</td>\n",
       "      <td>2012.000000</td>\n",
       "      <td>219.000000</td>\n",
       "      <td>5.000000</td>\n",
       "      <td>95.000000</td>\n",
       "      <td>375.000000</td>\n",
       "      <td>0.978000</td>\n",
       "      <td>88.000000</td>\n",
       "      <td>24.000000</td>\n",
       "      <td>13.000000</td>\n",
       "      <td>525.000000</td>\n",
       "      <td>17.386954</td>\n",
       "    </tr>\n",
       "    <tr>\n",
       "      <th>25%</th>\n",
       "      <td>3.980000</td>\n",
       "      <td>0.683000</td>\n",
       "      <td>85.000000</td>\n",
       "      <td>133.000000</td>\n",
       "      <td>73.000000</td>\n",
       "      <td>72.000000</td>\n",
       "      <td>0.451000</td>\n",
       "      <td>3.700000</td>\n",
       "      <td>7.000000</td>\n",
       "      <td>1341.250000</td>\n",
       "      <td>597.250000</td>\n",
       "      <td>152.000000</td>\n",
       "      <td>462.000000</td>\n",
       "      <td>1199.000000</td>\n",
       "      <td>4.010000</td>\n",
       "      <td>650.000000</td>\n",
       "      <td>1346.250000</td>\n",
       "      <td>618.250000</td>\n",
       "      <td>69.000000</td>\n",
       "      <td>1193.250000</td>\n",
       "      <td>0.245000</td>\n",
       "      <td>0.311000</td>\n",
       "      <td>0.389250</td>\n",
       "      <td>112.000000</td>\n",
       "      <td>1069.500000</td>\n",
       "      <td>9.018259e+07</td>\n",
       "      <td>25.125000</td>\n",
       "      <td>2013.000000</td>\n",
       "      <td>257.000000</td>\n",
       "      <td>22.000000</td>\n",
       "      <td>146.000000</td>\n",
       "      <td>449.000000</td>\n",
       "      <td>0.983000</td>\n",
       "      <td>96.000000</td>\n",
       "      <td>35.000000</td>\n",
       "      <td>28.000000</td>\n",
       "      <td>645.250000</td>\n",
       "      <td>18.317332</td>\n",
       "    </tr>\n",
       "    <tr>\n",
       "      <th>50%</th>\n",
       "      <td>4.315000</td>\n",
       "      <td>0.690500</td>\n",
       "      <td>95.000000</td>\n",
       "      <td>142.500000</td>\n",
       "      <td>81.000000</td>\n",
       "      <td>81.000000</td>\n",
       "      <td>0.500000</td>\n",
       "      <td>4.000000</td>\n",
       "      <td>10.000000</td>\n",
       "      <td>1394.000000</td>\n",
       "      <td>643.000000</td>\n",
       "      <td>173.000000</td>\n",
       "      <td>491.000000</td>\n",
       "      <td>1258.000000</td>\n",
       "      <td>4.315000</td>\n",
       "      <td>700.000000</td>\n",
       "      <td>1394.500000</td>\n",
       "      <td>665.000000</td>\n",
       "      <td>88.000000</td>\n",
       "      <td>1277.500000</td>\n",
       "      <td>0.252500</td>\n",
       "      <td>0.318500</td>\n",
       "      <td>0.406000</td>\n",
       "      <td>121.000000</td>\n",
       "      <td>1104.000000</td>\n",
       "      <td>1.156042e+08</td>\n",
       "      <td>33.300000</td>\n",
       "      <td>2015.000000</td>\n",
       "      <td>274.000000</td>\n",
       "      <td>29.000000</td>\n",
       "      <td>168.500000</td>\n",
       "      <td>492.500000</td>\n",
       "      <td>0.984000</td>\n",
       "      <td>100.000000</td>\n",
       "      <td>40.000000</td>\n",
       "      <td>34.000000</td>\n",
       "      <td>699.500000</td>\n",
       "      <td>18.565683</td>\n",
       "    </tr>\n",
       "    <tr>\n",
       "      <th>75%</th>\n",
       "      <td>4.677500</td>\n",
       "      <td>0.698000</td>\n",
       "      <td>105.000000</td>\n",
       "      <td>155.000000</td>\n",
       "      <td>90.000000</td>\n",
       "      <td>89.000000</td>\n",
       "      <td>0.556000</td>\n",
       "      <td>4.360000</td>\n",
       "      <td>13.000000</td>\n",
       "      <td>1451.750000</td>\n",
       "      <td>700.000000</td>\n",
       "      <td>190.000000</td>\n",
       "      <td>528.500000</td>\n",
       "      <td>1351.750000</td>\n",
       "      <td>4.630000</td>\n",
       "      <td>750.000000</td>\n",
       "      <td>1446.000000</td>\n",
       "      <td>713.750000</td>\n",
       "      <td>107.500000</td>\n",
       "      <td>1360.000000</td>\n",
       "      <td>0.259750</td>\n",
       "      <td>0.326000</td>\n",
       "      <td>0.424000</td>\n",
       "      <td>133.000000</td>\n",
       "      <td>1136.500000</td>\n",
       "      <td>1.524056e+08</td>\n",
       "      <td>41.050000</td>\n",
       "      <td>2017.000000</td>\n",
       "      <td>290.000000</td>\n",
       "      <td>34.000000</td>\n",
       "      <td>198.000000</td>\n",
       "      <td>539.750000</td>\n",
       "      <td>0.986000</td>\n",
       "      <td>103.000000</td>\n",
       "      <td>45.000000</td>\n",
       "      <td>39.000000</td>\n",
       "      <td>757.750000</td>\n",
       "      <td>18.842056</td>\n",
       "    </tr>\n",
       "    <tr>\n",
       "      <th>max</th>\n",
       "      <td>5.520000</td>\n",
       "      <td>0.728000</td>\n",
       "      <td>136.000000</td>\n",
       "      <td>190.000000</td>\n",
       "      <td>108.000000</td>\n",
       "      <td>115.000000</td>\n",
       "      <td>0.667000</td>\n",
       "      <td>5.360000</td>\n",
       "      <td>23.000000</td>\n",
       "      <td>1637.000000</td>\n",
       "      <td>846.000000</td>\n",
       "      <td>258.000000</td>\n",
       "      <td>653.000000</td>\n",
       "      <td>1687.000000</td>\n",
       "      <td>5.530000</td>\n",
       "      <td>896.000000</td>\n",
       "      <td>1625.000000</td>\n",
       "      <td>854.000000</td>\n",
       "      <td>181.000000</td>\n",
       "      <td>1594.000000</td>\n",
       "      <td>0.283000</td>\n",
       "      <td>0.349000</td>\n",
       "      <td>0.478000</td>\n",
       "      <td>160.000000</td>\n",
       "      <td>1250.000000</td>\n",
       "      <td>3.017351e+08</td>\n",
       "      <td>61.200000</td>\n",
       "      <td>2018.000000</td>\n",
       "      <td>363.000000</td>\n",
       "      <td>57.000000</td>\n",
       "      <td>267.000000</td>\n",
       "      <td>656.000000</td>\n",
       "      <td>0.991000</td>\n",
       "      <td>120.000000</td>\n",
       "      <td>64.000000</td>\n",
       "      <td>61.000000</td>\n",
       "      <td>894.000000</td>\n",
       "      <td>19.525060</td>\n",
       "    </tr>\n",
       "  </tbody>\n",
       "</table>\n",
       "</div>"
      ],
      "text/plain": [
       "             RA/G      DefEff           E         DPA           W           L  \\\n",
       "count  210.000000  210.000000  210.000000  210.000000  210.000000  210.000000   \n",
       "mean     4.339810    0.690071   94.971429  143.185714   80.990476   80.990476   \n",
       "std      0.505359    0.011041   14.544739   17.678110   11.525711   11.498696   \n",
       "min      3.240000    0.657000   54.000000   95.000000   47.000000   54.000000   \n",
       "25%      3.980000    0.683000   85.000000  133.000000   73.000000   72.000000   \n",
       "50%      4.315000    0.690500   95.000000  142.500000   81.000000   81.000000   \n",
       "75%      4.677500    0.698000  105.000000  155.000000   90.000000   89.000000   \n",
       "max      5.520000    0.728000  136.000000  190.000000  108.000000  115.000000   \n",
       "\n",
       "             W-L%         ERA        tSho           HA          ER  \\\n",
       "count  210.000000  210.000000  210.000000   210.000000  210.000000   \n",
       "mean     0.500005    4.036000   10.390476  1396.980952  648.909524   \n",
       "std      0.071063    0.502027    4.011933    84.950983   77.097629   \n",
       "min      0.290000    2.940000    2.000000  1125.000000  478.000000   \n",
       "25%      0.451000    3.700000    7.000000  1341.250000  597.250000   \n",
       "50%      0.500000    4.000000   10.000000  1394.000000  643.000000   \n",
       "75%      0.556000    4.360000   13.000000  1451.750000  700.000000   \n",
       "max      0.667000    5.360000   23.000000  1637.000000  846.000000   \n",
       "\n",
       "              HRA         BBA          SOA         R/G           R  \\\n",
       "count  210.000000  210.000000   210.000000  210.000000  210.000000   \n",
       "mean   171.380952  495.452381  1277.695238    4.339952  703.028571   \n",
       "std     29.610673   55.580539   123.023756    0.430569   69.833220   \n",
       "min    101.000000  352.000000   943.000000    3.170000  513.000000   \n",
       "25%    152.000000  462.000000  1199.000000    4.010000  650.000000   \n",
       "50%    173.000000  491.000000  1258.000000    4.315000  700.000000   \n",
       "75%    190.000000  528.500000  1351.750000    4.630000  750.000000   \n",
       "max    258.000000  653.000000  1687.000000    5.530000  896.000000   \n",
       "\n",
       "                 H         RBI          SB           SO          BA  \\\n",
       "count   210.000000  210.000000  210.000000   210.000000  210.000000   \n",
       "mean   1396.980952  669.395238   89.185714  1277.695238    0.253043   \n",
       "std      70.976373   68.351827   28.471068   122.062548    0.010573   \n",
       "min    1199.000000  485.000000   19.000000   973.000000    0.226000   \n",
       "25%    1346.250000  618.250000   69.000000  1193.250000    0.245000   \n",
       "50%    1394.500000  665.000000   88.000000  1277.500000    0.252500   \n",
       "75%    1446.000000  713.750000  107.500000  1360.000000    0.259750   \n",
       "max    1625.000000  854.000000  181.000000  1594.000000    0.283000   \n",
       "\n",
       "              OBP         SLG         GDP          LOB        salary  \\\n",
       "count  210.000000  210.000000  210.000000   210.000000  2.100000e+02   \n",
       "mean     0.318643    0.406390  122.257143  1103.509524  1.260503e+08   \n",
       "std      0.011500    0.024486   15.437188    50.192952  4.717408e+07   \n",
       "min      0.292000    0.335000   88.000000   965.000000  3.556791e+07   \n",
       "25%      0.311000    0.389250  112.000000  1069.500000  9.018259e+07   \n",
       "50%      0.318500    0.406000  121.000000  1104.000000  1.156042e+08   \n",
       "75%      0.326000    0.424000  133.000000  1136.500000  1.524056e+08   \n",
       "max      0.349000    0.478000  160.000000  1250.000000  3.017351e+08   \n",
       "\n",
       "              WAR         Year          2B          3B          HR  \\\n",
       "count  210.000000   210.000000  210.000000  210.000000  210.000000   \n",
       "mean    33.294762  2015.000000  275.128571   28.580952  171.380952   \n",
       "std     10.833566     2.004779   25.300068    9.263584   35.759532   \n",
       "min      7.600000  2012.000000  219.000000    5.000000   95.000000   \n",
       "25%     25.125000  2013.000000  257.000000   22.000000  146.000000   \n",
       "50%     33.300000  2015.000000  274.000000   29.000000  168.500000   \n",
       "75%     41.050000  2017.000000  290.000000   34.000000  198.000000   \n",
       "max     61.200000  2018.000000  363.000000   57.000000  267.000000   \n",
       "\n",
       "               BB          FP         BPF          SF          CS          RA  \\\n",
       "count  210.000000  210.000000  210.000000  210.000000  210.000000  210.000000   \n",
       "mean   495.452381    0.984214  100.076190   40.800000   33.976190  703.028571   \n",
       "std     61.494623    0.002353    5.690074    7.975321    8.566341   81.778960   \n",
       "min    375.000000    0.978000   88.000000   24.000000   13.000000  525.000000   \n",
       "25%    449.000000    0.983000   96.000000   35.000000   28.000000  645.250000   \n",
       "50%    492.500000    0.984000  100.000000   40.000000   34.000000  699.500000   \n",
       "75%    539.750000    0.986000  103.000000   45.000000   39.000000  757.750000   \n",
       "max    656.000000    0.991000  120.000000   64.000000   61.000000  894.000000   \n",
       "\n",
       "       salary_log  \n",
       "count  210.000000  \n",
       "mean    18.583543  \n",
       "std      0.375451  \n",
       "min     17.386954  \n",
       "25%     18.317332  \n",
       "50%     18.565683  \n",
       "75%     18.842056  \n",
       "max     19.525060  "
      ]
     },
     "execution_count": 17,
     "metadata": {},
     "output_type": "execute_result"
    }
   ],
   "source": [
    "df_final.describe()"
   ]
  },
  {
   "cell_type": "code",
   "execution_count": 18,
   "metadata": {
    "application/vnd.databricks.v1+cell": {
     "inputWidgets": {},
     "nuid": "98a9da55-abce-4e86-918c-852cbe72e07d",
     "showTitle": false,
     "title": ""
    }
   },
   "outputs": [
    {
     "data": {
      "text/html": [
       "<style  type=\"text/css\" >\n",
       "#T_9a125b38_8de2_11ec_9170_e1378d02868frow0_col0,#T_9a125b38_8de2_11ec_9170_e1378d02868frow0_col2,#T_9a125b38_8de2_11ec_9170_e1378d02868frow0_col7,#T_9a125b38_8de2_11ec_9170_e1378d02868frow0_col10,#T_9a125b38_8de2_11ec_9170_e1378d02868frow0_col12,#T_9a125b38_8de2_11ec_9170_e1378d02868frow0_col16,#T_9a125b38_8de2_11ec_9170_e1378d02868frow0_col20,#T_9a125b38_8de2_11ec_9170_e1378d02868frow0_col22,#T_9a125b38_8de2_11ec_9170_e1378d02868frow0_col27,#T_9a125b38_8de2_11ec_9170_e1378d02868frow0_col37,#T_9a125b38_8de2_11ec_9170_e1378d02868frow1_col0,#T_9a125b38_8de2_11ec_9170_e1378d02868frow1_col7,#T_9a125b38_8de2_11ec_9170_e1378d02868frow1_col9,#T_9a125b38_8de2_11ec_9170_e1378d02868frow1_col10,#T_9a125b38_8de2_11ec_9170_e1378d02868frow1_col11,#T_9a125b38_8de2_11ec_9170_e1378d02868frow1_col23,#T_9a125b38_8de2_11ec_9170_e1378d02868frow1_col25,#T_9a125b38_8de2_11ec_9170_e1378d02868frow1_col27,#T_9a125b38_8de2_11ec_9170_e1378d02868frow1_col37,#T_9a125b38_8de2_11ec_9170_e1378d02868frow1_col38,#T_9a125b38_8de2_11ec_9170_e1378d02868frow2_col1,#T_9a125b38_8de2_11ec_9170_e1378d02868frow2_col4,#T_9a125b38_8de2_11ec_9170_e1378d02868frow2_col6,#T_9a125b38_8de2_11ec_9170_e1378d02868frow2_col8,#T_9a125b38_8de2_11ec_9170_e1378d02868frow2_col13,#T_9a125b38_8de2_11ec_9170_e1378d02868frow2_col14,#T_9a125b38_8de2_11ec_9170_e1378d02868frow2_col15,#T_9a125b38_8de2_11ec_9170_e1378d02868frow2_col17,#T_9a125b38_8de2_11ec_9170_e1378d02868frow2_col20,#T_9a125b38_8de2_11ec_9170_e1378d02868frow2_col21,#T_9a125b38_8de2_11ec_9170_e1378d02868frow2_col22,#T_9a125b38_8de2_11ec_9170_e1378d02868frow2_col24,#T_9a125b38_8de2_11ec_9170_e1378d02868frow2_col25,#T_9a125b38_8de2_11ec_9170_e1378d02868frow2_col26,#T_9a125b38_8de2_11ec_9170_e1378d02868frow2_col27,#T_9a125b38_8de2_11ec_9170_e1378d02868frow2_col29,#T_9a125b38_8de2_11ec_9170_e1378d02868frow2_col30,#T_9a125b38_8de2_11ec_9170_e1378d02868frow2_col32,#T_9a125b38_8de2_11ec_9170_e1378d02868frow2_col33,#T_9a125b38_8de2_11ec_9170_e1378d02868frow2_col34,#T_9a125b38_8de2_11ec_9170_e1378d02868frow2_col35,#T_9a125b38_8de2_11ec_9170_e1378d02868frow2_col36,#T_9a125b38_8de2_11ec_9170_e1378d02868frow2_col38,#T_9a125b38_8de2_11ec_9170_e1378d02868frow3_col0,#T_9a125b38_8de2_11ec_9170_e1378d02868frow3_col2,#T_9a125b38_8de2_11ec_9170_e1378d02868frow3_col3,#T_9a125b38_8de2_11ec_9170_e1378d02868frow3_col5,#T_9a125b38_8de2_11ec_9170_e1378d02868frow3_col7,#T_9a125b38_8de2_11ec_9170_e1378d02868frow3_col10,#T_9a125b38_8de2_11ec_9170_e1378d02868frow3_col12,#T_9a125b38_8de2_11ec_9170_e1378d02868frow3_col19,#T_9a125b38_8de2_11ec_9170_e1378d02868frow3_col27,#T_9a125b38_8de2_11ec_9170_e1378d02868frow3_col37,#T_9a125b38_8de2_11ec_9170_e1378d02868frow4_col0,#T_9a125b38_8de2_11ec_9170_e1378d02868frow4_col7,#T_9a125b38_8de2_11ec_9170_e1378d02868frow4_col10,#T_9a125b38_8de2_11ec_9170_e1378d02868frow4_col11,#T_9a125b38_8de2_11ec_9170_e1378d02868frow4_col18,#T_9a125b38_8de2_11ec_9170_e1378d02868frow4_col27,#T_9a125b38_8de2_11ec_9170_e1378d02868frow4_col31,#T_9a125b38_8de2_11ec_9170_e1378d02868frow4_col37{\n",
       "            background-color:  #666666;\n",
       "            color:  #f1f1f1;\n",
       "        }#T_9a125b38_8de2_11ec_9170_e1378d02868frow0_col1,#T_9a125b38_8de2_11ec_9170_e1378d02868frow0_col13,#T_9a125b38_8de2_11ec_9170_e1378d02868frow1_col4,#T_9a125b38_8de2_11ec_9170_e1378d02868frow1_col6,#T_9a125b38_8de2_11ec_9170_e1378d02868frow1_col16,#T_9a125b38_8de2_11ec_9170_e1378d02868frow1_col20,#T_9a125b38_8de2_11ec_9170_e1378d02868frow1_col21,#T_9a125b38_8de2_11ec_9170_e1378d02868frow1_col26,#T_9a125b38_8de2_11ec_9170_e1378d02868frow1_col29,#T_9a125b38_8de2_11ec_9170_e1378d02868frow1_col33,#T_9a125b38_8de2_11ec_9170_e1378d02868frow2_col12,#T_9a125b38_8de2_11ec_9170_e1378d02868frow3_col8,#T_9a125b38_8de2_11ec_9170_e1378d02868frow3_col34,#T_9a125b38_8de2_11ec_9170_e1378d02868frow4_col1,#T_9a125b38_8de2_11ec_9170_e1378d02868frow4_col19,#T_9a125b38_8de2_11ec_9170_e1378d02868frow4_col20,#T_9a125b38_8de2_11ec_9170_e1378d02868frow4_col25,#T_9a125b38_8de2_11ec_9170_e1378d02868frow4_col26,#T_9a125b38_8de2_11ec_9170_e1378d02868frow4_col38{\n",
       "            background-color:  #7570b3;\n",
       "            color:  #000000;\n",
       "        }#T_9a125b38_8de2_11ec_9170_e1378d02868frow0_col3,#T_9a125b38_8de2_11ec_9170_e1378d02868frow0_col35,#T_9a125b38_8de2_11ec_9170_e1378d02868frow2_col19,#T_9a125b38_8de2_11ec_9170_e1378d02868frow3_col33,#T_9a125b38_8de2_11ec_9170_e1378d02868frow4_col4,#T_9a125b38_8de2_11ec_9170_e1378d02868frow4_col6,#T_9a125b38_8de2_11ec_9170_e1378d02868frow4_col16,#T_9a125b38_8de2_11ec_9170_e1378d02868frow4_col21,#T_9a125b38_8de2_11ec_9170_e1378d02868frow4_col35{\n",
       "            background-color:  #d95f02;\n",
       "            color:  #000000;\n",
       "        }#T_9a125b38_8de2_11ec_9170_e1378d02868frow0_col4,#T_9a125b38_8de2_11ec_9170_e1378d02868frow0_col6,#T_9a125b38_8de2_11ec_9170_e1378d02868frow0_col26,#T_9a125b38_8de2_11ec_9170_e1378d02868frow1_col3,#T_9a125b38_8de2_11ec_9170_e1378d02868frow1_col13,#T_9a125b38_8de2_11ec_9170_e1378d02868frow1_col14,#T_9a125b38_8de2_11ec_9170_e1378d02868frow1_col15,#T_9a125b38_8de2_11ec_9170_e1378d02868frow1_col17,#T_9a125b38_8de2_11ec_9170_e1378d02868frow1_col24,#T_9a125b38_8de2_11ec_9170_e1378d02868frow1_col32,#T_9a125b38_8de2_11ec_9170_e1378d02868frow1_col35,#T_9a125b38_8de2_11ec_9170_e1378d02868frow2_col31,#T_9a125b38_8de2_11ec_9170_e1378d02868frow3_col1,#T_9a125b38_8de2_11ec_9170_e1378d02868frow3_col36,#T_9a125b38_8de2_11ec_9170_e1378d02868frow4_col14,#T_9a125b38_8de2_11ec_9170_e1378d02868frow4_col15,#T_9a125b38_8de2_11ec_9170_e1378d02868frow4_col17,#T_9a125b38_8de2_11ec_9170_e1378d02868frow4_col30{\n",
       "            background-color:  #e7298a;\n",
       "            color:  #f1f1f1;\n",
       "        }#T_9a125b38_8de2_11ec_9170_e1378d02868frow0_col5,#T_9a125b38_8de2_11ec_9170_e1378d02868frow1_col18,#T_9a125b38_8de2_11ec_9170_e1378d02868frow1_col22,#T_9a125b38_8de2_11ec_9170_e1378d02868frow1_col30,#T_9a125b38_8de2_11ec_9170_e1378d02868frow3_col24,#T_9a125b38_8de2_11ec_9170_e1378d02868frow3_col30,#T_9a125b38_8de2_11ec_9170_e1378d02868frow4_col29{\n",
       "            background-color:  #66a61e;\n",
       "            color:  #000000;\n",
       "        }#T_9a125b38_8de2_11ec_9170_e1378d02868frow0_col8,#T_9a125b38_8de2_11ec_9170_e1378d02868frow0_col9,#T_9a125b38_8de2_11ec_9170_e1378d02868frow0_col18,#T_9a125b38_8de2_11ec_9170_e1378d02868frow0_col25,#T_9a125b38_8de2_11ec_9170_e1378d02868frow0_col29,#T_9a125b38_8de2_11ec_9170_e1378d02868frow0_col31,#T_9a125b38_8de2_11ec_9170_e1378d02868frow0_col36,#T_9a125b38_8de2_11ec_9170_e1378d02868frow0_col38,#T_9a125b38_8de2_11ec_9170_e1378d02868frow1_col2,#T_9a125b38_8de2_11ec_9170_e1378d02868frow1_col19,#T_9a125b38_8de2_11ec_9170_e1378d02868frow1_col31,#T_9a125b38_8de2_11ec_9170_e1378d02868frow2_col16,#T_9a125b38_8de2_11ec_9170_e1378d02868frow3_col9,#T_9a125b38_8de2_11ec_9170_e1378d02868frow4_col5,#T_9a125b38_8de2_11ec_9170_e1378d02868frow4_col23,#T_9a125b38_8de2_11ec_9170_e1378d02868frow4_col33{\n",
       "            background-color:  #a6761d;\n",
       "            color:  #000000;\n",
       "        }#T_9a125b38_8de2_11ec_9170_e1378d02868frow0_col11,#T_9a125b38_8de2_11ec_9170_e1378d02868frow0_col14,#T_9a125b38_8de2_11ec_9170_e1378d02868frow0_col15,#T_9a125b38_8de2_11ec_9170_e1378d02868frow0_col17,#T_9a125b38_8de2_11ec_9170_e1378d02868frow0_col21,#T_9a125b38_8de2_11ec_9170_e1378d02868frow0_col23,#T_9a125b38_8de2_11ec_9170_e1378d02868frow0_col24,#T_9a125b38_8de2_11ec_9170_e1378d02868frow1_col5,#T_9a125b38_8de2_11ec_9170_e1378d02868frow1_col8,#T_9a125b38_8de2_11ec_9170_e1378d02868frow1_col34,#T_9a125b38_8de2_11ec_9170_e1378d02868frow2_col18,#T_9a125b38_8de2_11ec_9170_e1378d02868frow3_col11,#T_9a125b38_8de2_11ec_9170_e1378d02868frow4_col9,#T_9a125b38_8de2_11ec_9170_e1378d02868frow4_col13,#T_9a125b38_8de2_11ec_9170_e1378d02868frow4_col22{\n",
       "            background-color:  #e6ab02;\n",
       "            color:  #000000;\n",
       "        }#T_9a125b38_8de2_11ec_9170_e1378d02868frow0_col19,#T_9a125b38_8de2_11ec_9170_e1378d02868frow0_col30,#T_9a125b38_8de2_11ec_9170_e1378d02868frow0_col32,#T_9a125b38_8de2_11ec_9170_e1378d02868frow0_col33,#T_9a125b38_8de2_11ec_9170_e1378d02868frow0_col34,#T_9a125b38_8de2_11ec_9170_e1378d02868frow1_col1,#T_9a125b38_8de2_11ec_9170_e1378d02868frow1_col12,#T_9a125b38_8de2_11ec_9170_e1378d02868frow1_col36,#T_9a125b38_8de2_11ec_9170_e1378d02868frow2_col0,#T_9a125b38_8de2_11ec_9170_e1378d02868frow2_col2,#T_9a125b38_8de2_11ec_9170_e1378d02868frow2_col3,#T_9a125b38_8de2_11ec_9170_e1378d02868frow2_col5,#T_9a125b38_8de2_11ec_9170_e1378d02868frow2_col7,#T_9a125b38_8de2_11ec_9170_e1378d02868frow2_col9,#T_9a125b38_8de2_11ec_9170_e1378d02868frow2_col10,#T_9a125b38_8de2_11ec_9170_e1378d02868frow2_col11,#T_9a125b38_8de2_11ec_9170_e1378d02868frow2_col23,#T_9a125b38_8de2_11ec_9170_e1378d02868frow2_col37,#T_9a125b38_8de2_11ec_9170_e1378d02868frow3_col4,#T_9a125b38_8de2_11ec_9170_e1378d02868frow3_col6,#T_9a125b38_8de2_11ec_9170_e1378d02868frow3_col13,#T_9a125b38_8de2_11ec_9170_e1378d02868frow3_col14,#T_9a125b38_8de2_11ec_9170_e1378d02868frow3_col15,#T_9a125b38_8de2_11ec_9170_e1378d02868frow3_col16,#T_9a125b38_8de2_11ec_9170_e1378d02868frow3_col17,#T_9a125b38_8de2_11ec_9170_e1378d02868frow3_col18,#T_9a125b38_8de2_11ec_9170_e1378d02868frow3_col20,#T_9a125b38_8de2_11ec_9170_e1378d02868frow3_col21,#T_9a125b38_8de2_11ec_9170_e1378d02868frow3_col22,#T_9a125b38_8de2_11ec_9170_e1378d02868frow3_col23,#T_9a125b38_8de2_11ec_9170_e1378d02868frow3_col25,#T_9a125b38_8de2_11ec_9170_e1378d02868frow3_col26,#T_9a125b38_8de2_11ec_9170_e1378d02868frow3_col29,#T_9a125b38_8de2_11ec_9170_e1378d02868frow3_col31,#T_9a125b38_8de2_11ec_9170_e1378d02868frow3_col32,#T_9a125b38_8de2_11ec_9170_e1378d02868frow3_col35,#T_9a125b38_8de2_11ec_9170_e1378d02868frow3_col38,#T_9a125b38_8de2_11ec_9170_e1378d02868frow4_col2,#T_9a125b38_8de2_11ec_9170_e1378d02868frow4_col3,#T_9a125b38_8de2_11ec_9170_e1378d02868frow4_col8,#T_9a125b38_8de2_11ec_9170_e1378d02868frow4_col12,#T_9a125b38_8de2_11ec_9170_e1378d02868frow4_col24,#T_9a125b38_8de2_11ec_9170_e1378d02868frow4_col32,#T_9a125b38_8de2_11ec_9170_e1378d02868frow4_col34,#T_9a125b38_8de2_11ec_9170_e1378d02868frow4_col36{\n",
       "            background-color:  #1b9e77;\n",
       "            color:  #000000;\n",
       "        }</style><table id=\"T_9a125b38_8de2_11ec_9170_e1378d02868f\" ><thead>    <tr>        <th class=\"blank level0\" ></th>        <th class=\"col_heading level0 col0\" >RA/G</th>        <th class=\"col_heading level0 col1\" >DefEff</th>        <th class=\"col_heading level0 col2\" >E</th>        <th class=\"col_heading level0 col3\" >DPA</th>        <th class=\"col_heading level0 col4\" >W</th>        <th class=\"col_heading level0 col5\" >L</th>        <th class=\"col_heading level0 col6\" >W-L%</th>        <th class=\"col_heading level0 col7\" >ERA</th>        <th class=\"col_heading level0 col8\" >tSho</th>        <th class=\"col_heading level0 col9\" >HA</th>        <th class=\"col_heading level0 col10\" >ER</th>        <th class=\"col_heading level0 col11\" >HRA</th>        <th class=\"col_heading level0 col12\" >BBA</th>        <th class=\"col_heading level0 col13\" >SOA</th>        <th class=\"col_heading level0 col14\" >R/G</th>        <th class=\"col_heading level0 col15\" >R</th>        <th class=\"col_heading level0 col16\" >H</th>        <th class=\"col_heading level0 col17\" >RBI</th>        <th class=\"col_heading level0 col18\" >SB</th>        <th class=\"col_heading level0 col19\" >SO</th>        <th class=\"col_heading level0 col20\" >BA</th>        <th class=\"col_heading level0 col21\" >OBP</th>        <th class=\"col_heading level0 col22\" >SLG</th>        <th class=\"col_heading level0 col23\" >GDP</th>        <th class=\"col_heading level0 col24\" >LOB</th>        <th class=\"col_heading level0 col25\" >salary</th>        <th class=\"col_heading level0 col26\" >WAR</th>        <th class=\"col_heading level0 col27\" >Year</th>        <th class=\"col_heading level0 col28\" >Team</th>        <th class=\"col_heading level0 col29\" >2B</th>        <th class=\"col_heading level0 col30\" >3B</th>        <th class=\"col_heading level0 col31\" >HR</th>        <th class=\"col_heading level0 col32\" >BB</th>        <th class=\"col_heading level0 col33\" >FP</th>        <th class=\"col_heading level0 col34\" >BPF</th>        <th class=\"col_heading level0 col35\" >SF</th>        <th class=\"col_heading level0 col36\" >CS</th>        <th class=\"col_heading level0 col37\" >RA</th>        <th class=\"col_heading level0 col38\" >salary_log</th>    </tr></thead><tbody>\n",
       "                <tr>\n",
       "                        <th id=\"T_9a125b38_8de2_11ec_9170_e1378d02868flevel0_row0\" class=\"row_heading level0 row0\" >0</th>\n",
       "                        <td id=\"T_9a125b38_8de2_11ec_9170_e1378d02868frow0_col0\" class=\"data row0 col0\" >3.980000</td>\n",
       "                        <td id=\"T_9a125b38_8de2_11ec_9170_e1378d02868frow0_col1\" class=\"data row0 col1\" >0.698000</td>\n",
       "                        <td id=\"T_9a125b38_8de2_11ec_9170_e1378d02868frow0_col2\" class=\"data row0 col2\" >75</td>\n",
       "                        <td id=\"T_9a125b38_8de2_11ec_9170_e1378d02868frow0_col3\" class=\"data row0 col3\" >152</td>\n",
       "                        <td id=\"T_9a125b38_8de2_11ec_9170_e1378d02868frow0_col4\" class=\"data row0 col4\" >82</td>\n",
       "                        <td id=\"T_9a125b38_8de2_11ec_9170_e1378d02868frow0_col5\" class=\"data row0 col5\" >80</td>\n",
       "                        <td id=\"T_9a125b38_8de2_11ec_9170_e1378d02868frow0_col6\" class=\"data row0 col6\" >0.506000</td>\n",
       "                        <td id=\"T_9a125b38_8de2_11ec_9170_e1378d02868frow0_col7\" class=\"data row0 col7\" >3.720000</td>\n",
       "                        <td id=\"T_9a125b38_8de2_11ec_9170_e1378d02868frow0_col8\" class=\"data row0 col8\" >9</td>\n",
       "                        <td id=\"T_9a125b38_8de2_11ec_9170_e1378d02868frow0_col9\" class=\"data row0 col9\" >1313</td>\n",
       "                        <td id=\"T_9a125b38_8de2_11ec_9170_e1378d02868frow0_col10\" class=\"data row0 col10\" >605</td>\n",
       "                        <td id=\"T_9a125b38_8de2_11ec_9170_e1378d02868frow0_col11\" class=\"data row0 col11\" >174</td>\n",
       "                        <td id=\"T_9a125b38_8de2_11ec_9170_e1378d02868frow0_col12\" class=\"data row0 col12\" >522</td>\n",
       "                        <td id=\"T_9a125b38_8de2_11ec_9170_e1378d02868frow0_col13\" class=\"data row0 col13\" >1448</td>\n",
       "                        <td id=\"T_9a125b38_8de2_11ec_9170_e1378d02868frow0_col14\" class=\"data row0 col14\" >4.280000</td>\n",
       "                        <td id=\"T_9a125b38_8de2_11ec_9170_e1378d02868frow0_col15\" class=\"data row0 col15\" >693</td>\n",
       "                        <td id=\"T_9a125b38_8de2_11ec_9170_e1378d02868frow0_col16\" class=\"data row0 col16\" >1283</td>\n",
       "                        <td id=\"T_9a125b38_8de2_11ec_9170_e1378d02868frow0_col17\" class=\"data row0 col17\" >658</td>\n",
       "                        <td id=\"T_9a125b38_8de2_11ec_9170_e1378d02868frow0_col18\" class=\"data row0 col18\" >79</td>\n",
       "                        <td id=\"T_9a125b38_8de2_11ec_9170_e1378d02868frow0_col19\" class=\"data row0 col19\" >1460</td>\n",
       "                        <td id=\"T_9a125b38_8de2_11ec_9170_e1378d02868frow0_col20\" class=\"data row0 col20\" >0.235000</td>\n",
       "                        <td id=\"T_9a125b38_8de2_11ec_9170_e1378d02868frow0_col21\" class=\"data row0 col21\" >0.310000</td>\n",
       "                        <td id=\"T_9a125b38_8de2_11ec_9170_e1378d02868frow0_col22\" class=\"data row0 col22\" >0.397000</td>\n",
       "                        <td id=\"T_9a125b38_8de2_11ec_9170_e1378d02868frow0_col23\" class=\"data row0 col23\" >110</td>\n",
       "                        <td id=\"T_9a125b38_8de2_11ec_9170_e1378d02868frow0_col24\" class=\"data row0 col24\" >1086</td>\n",
       "                        <td id=\"T_9a125b38_8de2_11ec_9170_e1378d02868frow0_col25\" class=\"data row0 col25\" >143324597</td>\n",
       "                        <td id=\"T_9a125b38_8de2_11ec_9170_e1378d02868frow0_col26\" class=\"data row0 col26\" >34.100000</td>\n",
       "                        <td id=\"T_9a125b38_8de2_11ec_9170_e1378d02868frow0_col27\" class=\"data row0 col27\" >2018</td>\n",
       "                        <td id=\"T_9a125b38_8de2_11ec_9170_e1378d02868frow0_col28\" class=\"data row0 col28\" >ARI</td>\n",
       "                        <td id=\"T_9a125b38_8de2_11ec_9170_e1378d02868frow0_col29\" class=\"data row0 col29\" >259</td>\n",
       "                        <td id=\"T_9a125b38_8de2_11ec_9170_e1378d02868frow0_col30\" class=\"data row0 col30\" >50</td>\n",
       "                        <td id=\"T_9a125b38_8de2_11ec_9170_e1378d02868frow0_col31\" class=\"data row0 col31\" >176</td>\n",
       "                        <td id=\"T_9a125b38_8de2_11ec_9170_e1378d02868frow0_col32\" class=\"data row0 col32\" >560.000000</td>\n",
       "                        <td id=\"T_9a125b38_8de2_11ec_9170_e1378d02868frow0_col33\" class=\"data row0 col33\" >0.988000</td>\n",
       "                        <td id=\"T_9a125b38_8de2_11ec_9170_e1378d02868frow0_col34\" class=\"data row0 col34\" >108</td>\n",
       "                        <td id=\"T_9a125b38_8de2_11ec_9170_e1378d02868frow0_col35\" class=\"data row0 col35\" >45.000000</td>\n",
       "                        <td id=\"T_9a125b38_8de2_11ec_9170_e1378d02868frow0_col36\" class=\"data row0 col36\" >25.000000</td>\n",
       "                        <td id=\"T_9a125b38_8de2_11ec_9170_e1378d02868frow0_col37\" class=\"data row0 col37\" >644</td>\n",
       "                        <td id=\"T_9a125b38_8de2_11ec_9170_e1378d02868frow0_col38\" class=\"data row0 col38\" >18.780623</td>\n",
       "            </tr>\n",
       "            <tr>\n",
       "                        <th id=\"T_9a125b38_8de2_11ec_9170_e1378d02868flevel0_row1\" class=\"row_heading level0 row1\" >1</th>\n",
       "                        <td id=\"T_9a125b38_8de2_11ec_9170_e1378d02868frow1_col0\" class=\"data row1 col0\" >4.060000</td>\n",
       "                        <td id=\"T_9a125b38_8de2_11ec_9170_e1378d02868frow1_col1\" class=\"data row1 col1\" >0.709000</td>\n",
       "                        <td id=\"T_9a125b38_8de2_11ec_9170_e1378d02868frow1_col2\" class=\"data row1 col2\" >80</td>\n",
       "                        <td id=\"T_9a125b38_8de2_11ec_9170_e1378d02868frow1_col3\" class=\"data row1 col3\" >134</td>\n",
       "                        <td id=\"T_9a125b38_8de2_11ec_9170_e1378d02868frow1_col4\" class=\"data row1 col4\" >90</td>\n",
       "                        <td id=\"T_9a125b38_8de2_11ec_9170_e1378d02868frow1_col5\" class=\"data row1 col5\" >72</td>\n",
       "                        <td id=\"T_9a125b38_8de2_11ec_9170_e1378d02868frow1_col6\" class=\"data row1 col6\" >0.556000</td>\n",
       "                        <td id=\"T_9a125b38_8de2_11ec_9170_e1378d02868frow1_col7\" class=\"data row1 col7\" >3.750000</td>\n",
       "                        <td id=\"T_9a125b38_8de2_11ec_9170_e1378d02868frow1_col8\" class=\"data row1 col8\" >11</td>\n",
       "                        <td id=\"T_9a125b38_8de2_11ec_9170_e1378d02868frow1_col9\" class=\"data row1 col9\" >1236</td>\n",
       "                        <td id=\"T_9a125b38_8de2_11ec_9170_e1378d02868frow1_col10\" class=\"data row1 col10\" >607</td>\n",
       "                        <td id=\"T_9a125b38_8de2_11ec_9170_e1378d02868frow1_col11\" class=\"data row1 col11\" >153</td>\n",
       "                        <td id=\"T_9a125b38_8de2_11ec_9170_e1378d02868frow1_col12\" class=\"data row1 col12\" >635</td>\n",
       "                        <td id=\"T_9a125b38_8de2_11ec_9170_e1378d02868frow1_col13\" class=\"data row1 col13\" >1423</td>\n",
       "                        <td id=\"T_9a125b38_8de2_11ec_9170_e1378d02868frow1_col14\" class=\"data row1 col14\" >4.690000</td>\n",
       "                        <td id=\"T_9a125b38_8de2_11ec_9170_e1378d02868frow1_col15\" class=\"data row1 col15\" >759</td>\n",
       "                        <td id=\"T_9a125b38_8de2_11ec_9170_e1378d02868frow1_col16\" class=\"data row1 col16\" >1433</td>\n",
       "                        <td id=\"T_9a125b38_8de2_11ec_9170_e1378d02868frow1_col17\" class=\"data row1 col17\" >717</td>\n",
       "                        <td id=\"T_9a125b38_8de2_11ec_9170_e1378d02868frow1_col18\" class=\"data row1 col18\" >90</td>\n",
       "                        <td id=\"T_9a125b38_8de2_11ec_9170_e1378d02868frow1_col19\" class=\"data row1 col19\" >1290</td>\n",
       "                        <td id=\"T_9a125b38_8de2_11ec_9170_e1378d02868frow1_col20\" class=\"data row1 col20\" >0.257000</td>\n",
       "                        <td id=\"T_9a125b38_8de2_11ec_9170_e1378d02868frow1_col21\" class=\"data row1 col21\" >0.324000</td>\n",
       "                        <td id=\"T_9a125b38_8de2_11ec_9170_e1378d02868frow1_col22\" class=\"data row1 col22\" >0.417000</td>\n",
       "                        <td id=\"T_9a125b38_8de2_11ec_9170_e1378d02868frow1_col23\" class=\"data row1 col23\" >99</td>\n",
       "                        <td id=\"T_9a125b38_8de2_11ec_9170_e1378d02868frow1_col24\" class=\"data row1 col24\" >1143</td>\n",
       "                        <td id=\"T_9a125b38_8de2_11ec_9170_e1378d02868frow1_col25\" class=\"data row1 col25\" >130649395</td>\n",
       "                        <td id=\"T_9a125b38_8de2_11ec_9170_e1378d02868frow1_col26\" class=\"data row1 col26\" >40.800000</td>\n",
       "                        <td id=\"T_9a125b38_8de2_11ec_9170_e1378d02868frow1_col27\" class=\"data row1 col27\" >2018</td>\n",
       "                        <td id=\"T_9a125b38_8de2_11ec_9170_e1378d02868frow1_col28\" class=\"data row1 col28\" >ATL</td>\n",
       "                        <td id=\"T_9a125b38_8de2_11ec_9170_e1378d02868frow1_col29\" class=\"data row1 col29\" >314</td>\n",
       "                        <td id=\"T_9a125b38_8de2_11ec_9170_e1378d02868frow1_col30\" class=\"data row1 col30\" >29</td>\n",
       "                        <td id=\"T_9a125b38_8de2_11ec_9170_e1378d02868frow1_col31\" class=\"data row1 col31\" >175</td>\n",
       "                        <td id=\"T_9a125b38_8de2_11ec_9170_e1378d02868frow1_col32\" class=\"data row1 col32\" >511.000000</td>\n",
       "                        <td id=\"T_9a125b38_8de2_11ec_9170_e1378d02868frow1_col33\" class=\"data row1 col33\" >0.986000</td>\n",
       "                        <td id=\"T_9a125b38_8de2_11ec_9170_e1378d02868frow1_col34\" class=\"data row1 col34\" >100</td>\n",
       "                        <td id=\"T_9a125b38_8de2_11ec_9170_e1378d02868frow1_col35\" class=\"data row1 col35\" >43.000000</td>\n",
       "                        <td id=\"T_9a125b38_8de2_11ec_9170_e1378d02868frow1_col36\" class=\"data row1 col36\" >36.000000</td>\n",
       "                        <td id=\"T_9a125b38_8de2_11ec_9170_e1378d02868frow1_col37\" class=\"data row1 col37\" >657</td>\n",
       "                        <td id=\"T_9a125b38_8de2_11ec_9170_e1378d02868frow1_col38\" class=\"data row1 col38\" >18.688028</td>\n",
       "            </tr>\n",
       "            <tr>\n",
       "                        <th id=\"T_9a125b38_8de2_11ec_9170_e1378d02868flevel0_row2\" class=\"row_heading level0 row2\" >2</th>\n",
       "                        <td id=\"T_9a125b38_8de2_11ec_9170_e1378d02868frow2_col0\" class=\"data row2 col0\" >5.510000</td>\n",
       "                        <td id=\"T_9a125b38_8de2_11ec_9170_e1378d02868frow2_col1\" class=\"data row2 col1\" >0.674000</td>\n",
       "                        <td id=\"T_9a125b38_8de2_11ec_9170_e1378d02868frow2_col2\" class=\"data row2 col2\" >104</td>\n",
       "                        <td id=\"T_9a125b38_8de2_11ec_9170_e1378d02868frow2_col3\" class=\"data row2 col3\" >159</td>\n",
       "                        <td id=\"T_9a125b38_8de2_11ec_9170_e1378d02868frow2_col4\" class=\"data row2 col4\" >47</td>\n",
       "                        <td id=\"T_9a125b38_8de2_11ec_9170_e1378d02868frow2_col5\" class=\"data row2 col5\" >115</td>\n",
       "                        <td id=\"T_9a125b38_8de2_11ec_9170_e1378d02868frow2_col6\" class=\"data row2 col6\" >0.290000</td>\n",
       "                        <td id=\"T_9a125b38_8de2_11ec_9170_e1378d02868frow2_col7\" class=\"data row2 col7\" >5.180000</td>\n",
       "                        <td id=\"T_9a125b38_8de2_11ec_9170_e1378d02868frow2_col8\" class=\"data row2 col8\" >7</td>\n",
       "                        <td id=\"T_9a125b38_8de2_11ec_9170_e1378d02868frow2_col9\" class=\"data row2 col9\" >1552</td>\n",
       "                        <td id=\"T_9a125b38_8de2_11ec_9170_e1378d02868frow2_col10\" class=\"data row2 col10\" >824</td>\n",
       "                        <td id=\"T_9a125b38_8de2_11ec_9170_e1378d02868frow2_col11\" class=\"data row2 col11\" >234</td>\n",
       "                        <td id=\"T_9a125b38_8de2_11ec_9170_e1378d02868frow2_col12\" class=\"data row2 col12\" >589</td>\n",
       "                        <td id=\"T_9a125b38_8de2_11ec_9170_e1378d02868frow2_col13\" class=\"data row2 col13\" >1203</td>\n",
       "                        <td id=\"T_9a125b38_8de2_11ec_9170_e1378d02868frow2_col14\" class=\"data row2 col14\" >3.840000</td>\n",
       "                        <td id=\"T_9a125b38_8de2_11ec_9170_e1378d02868frow2_col15\" class=\"data row2 col15\" >622</td>\n",
       "                        <td id=\"T_9a125b38_8de2_11ec_9170_e1378d02868frow2_col16\" class=\"data row2 col16\" >1317</td>\n",
       "                        <td id=\"T_9a125b38_8de2_11ec_9170_e1378d02868frow2_col17\" class=\"data row2 col17\" >593</td>\n",
       "                        <td id=\"T_9a125b38_8de2_11ec_9170_e1378d02868frow2_col18\" class=\"data row2 col18\" >81</td>\n",
       "                        <td id=\"T_9a125b38_8de2_11ec_9170_e1378d02868frow2_col19\" class=\"data row2 col19\" >1412</td>\n",
       "                        <td id=\"T_9a125b38_8de2_11ec_9170_e1378d02868frow2_col20\" class=\"data row2 col20\" >0.239000</td>\n",
       "                        <td id=\"T_9a125b38_8de2_11ec_9170_e1378d02868frow2_col21\" class=\"data row2 col21\" >0.298000</td>\n",
       "                        <td id=\"T_9a125b38_8de2_11ec_9170_e1378d02868frow2_col22\" class=\"data row2 col22\" >0.391000</td>\n",
       "                        <td id=\"T_9a125b38_8de2_11ec_9170_e1378d02868frow2_col23\" class=\"data row2 col23\" >132</td>\n",
       "                        <td id=\"T_9a125b38_8de2_11ec_9170_e1378d02868frow2_col24\" class=\"data row2 col24\" >1027</td>\n",
       "                        <td id=\"T_9a125b38_8de2_11ec_9170_e1378d02868frow2_col25\" class=\"data row2 col25\" >127633703</td>\n",
       "                        <td id=\"T_9a125b38_8de2_11ec_9170_e1378d02868frow2_col26\" class=\"data row2 col26\" >11.400000</td>\n",
       "                        <td id=\"T_9a125b38_8de2_11ec_9170_e1378d02868frow2_col27\" class=\"data row2 col27\" >2018</td>\n",
       "                        <td id=\"T_9a125b38_8de2_11ec_9170_e1378d02868frow2_col28\" class=\"data row2 col28\" >BAL</td>\n",
       "                        <td id=\"T_9a125b38_8de2_11ec_9170_e1378d02868frow2_col29\" class=\"data row2 col29\" >242</td>\n",
       "                        <td id=\"T_9a125b38_8de2_11ec_9170_e1378d02868frow2_col30\" class=\"data row2 col30\" >15</td>\n",
       "                        <td id=\"T_9a125b38_8de2_11ec_9170_e1378d02868frow2_col31\" class=\"data row2 col31\" >188</td>\n",
       "                        <td id=\"T_9a125b38_8de2_11ec_9170_e1378d02868frow2_col32\" class=\"data row2 col32\" >422.000000</td>\n",
       "                        <td id=\"T_9a125b38_8de2_11ec_9170_e1378d02868frow2_col33\" class=\"data row2 col33\" >0.982000</td>\n",
       "                        <td id=\"T_9a125b38_8de2_11ec_9170_e1378d02868frow2_col34\" class=\"data row2 col34\" >96</td>\n",
       "                        <td id=\"T_9a125b38_8de2_11ec_9170_e1378d02868frow2_col35\" class=\"data row2 col35\" >35.000000</td>\n",
       "                        <td id=\"T_9a125b38_8de2_11ec_9170_e1378d02868frow2_col36\" class=\"data row2 col36\" >22.000000</td>\n",
       "                        <td id=\"T_9a125b38_8de2_11ec_9170_e1378d02868frow2_col37\" class=\"data row2 col37\" >892</td>\n",
       "                        <td id=\"T_9a125b38_8de2_11ec_9170_e1378d02868frow2_col38\" class=\"data row2 col38\" >18.664675</td>\n",
       "            </tr>\n",
       "            <tr>\n",
       "                        <th id=\"T_9a125b38_8de2_11ec_9170_e1378d02868flevel0_row3\" class=\"row_heading level0 row3\" >3</th>\n",
       "                        <td id=\"T_9a125b38_8de2_11ec_9170_e1378d02868frow3_col0\" class=\"data row3 col0\" >3.990000</td>\n",
       "                        <td id=\"T_9a125b38_8de2_11ec_9170_e1378d02868frow3_col1\" class=\"data row3 col1\" >0.693000</td>\n",
       "                        <td id=\"T_9a125b38_8de2_11ec_9170_e1378d02868frow3_col2\" class=\"data row3 col2\" >77</td>\n",
       "                        <td id=\"T_9a125b38_8de2_11ec_9170_e1378d02868frow3_col3\" class=\"data row3 col3\" >106</td>\n",
       "                        <td id=\"T_9a125b38_8de2_11ec_9170_e1378d02868frow3_col4\" class=\"data row3 col4\" >108</td>\n",
       "                        <td id=\"T_9a125b38_8de2_11ec_9170_e1378d02868frow3_col5\" class=\"data row3 col5\" >54</td>\n",
       "                        <td id=\"T_9a125b38_8de2_11ec_9170_e1378d02868frow3_col6\" class=\"data row3 col6\" >0.667000</td>\n",
       "                        <td id=\"T_9a125b38_8de2_11ec_9170_e1378d02868frow3_col7\" class=\"data row3 col7\" >3.750000</td>\n",
       "                        <td id=\"T_9a125b38_8de2_11ec_9170_e1378d02868frow3_col8\" class=\"data row3 col8\" >14</td>\n",
       "                        <td id=\"T_9a125b38_8de2_11ec_9170_e1378d02868frow3_col9\" class=\"data row3 col9\" >1305</td>\n",
       "                        <td id=\"T_9a125b38_8de2_11ec_9170_e1378d02868frow3_col10\" class=\"data row3 col10\" >608</td>\n",
       "                        <td id=\"T_9a125b38_8de2_11ec_9170_e1378d02868frow3_col11\" class=\"data row3 col11\" >176</td>\n",
       "                        <td id=\"T_9a125b38_8de2_11ec_9170_e1378d02868frow3_col12\" class=\"data row3 col12\" >512</td>\n",
       "                        <td id=\"T_9a125b38_8de2_11ec_9170_e1378d02868frow3_col13\" class=\"data row3 col13\" >1558</td>\n",
       "                        <td id=\"T_9a125b38_8de2_11ec_9170_e1378d02868frow3_col14\" class=\"data row3 col14\" >5.410000</td>\n",
       "                        <td id=\"T_9a125b38_8de2_11ec_9170_e1378d02868frow3_col15\" class=\"data row3 col15\" >876</td>\n",
       "                        <td id=\"T_9a125b38_8de2_11ec_9170_e1378d02868frow3_col16\" class=\"data row3 col16\" >1509</td>\n",
       "                        <td id=\"T_9a125b38_8de2_11ec_9170_e1378d02868frow3_col17\" class=\"data row3 col17\" >829</td>\n",
       "                        <td id=\"T_9a125b38_8de2_11ec_9170_e1378d02868frow3_col18\" class=\"data row3 col18\" >125</td>\n",
       "                        <td id=\"T_9a125b38_8de2_11ec_9170_e1378d02868frow3_col19\" class=\"data row3 col19\" >1253</td>\n",
       "                        <td id=\"T_9a125b38_8de2_11ec_9170_e1378d02868frow3_col20\" class=\"data row3 col20\" >0.268000</td>\n",
       "                        <td id=\"T_9a125b38_8de2_11ec_9170_e1378d02868frow3_col21\" class=\"data row3 col21\" >0.339000</td>\n",
       "                        <td id=\"T_9a125b38_8de2_11ec_9170_e1378d02868frow3_col22\" class=\"data row3 col22\" >0.453000</td>\n",
       "                        <td id=\"T_9a125b38_8de2_11ec_9170_e1378d02868frow3_col23\" class=\"data row3 col23\" >130</td>\n",
       "                        <td id=\"T_9a125b38_8de2_11ec_9170_e1378d02868frow3_col24\" class=\"data row3 col24\" >1124</td>\n",
       "                        <td id=\"T_9a125b38_8de2_11ec_9170_e1378d02868frow3_col25\" class=\"data row3 col25\" >227398860</td>\n",
       "                        <td id=\"T_9a125b38_8de2_11ec_9170_e1378d02868frow3_col26\" class=\"data row3 col26\" >56.500000</td>\n",
       "                        <td id=\"T_9a125b38_8de2_11ec_9170_e1378d02868frow3_col27\" class=\"data row3 col27\" >2018</td>\n",
       "                        <td id=\"T_9a125b38_8de2_11ec_9170_e1378d02868frow3_col28\" class=\"data row3 col28\" >BOS</td>\n",
       "                        <td id=\"T_9a125b38_8de2_11ec_9170_e1378d02868frow3_col29\" class=\"data row3 col29\" >355</td>\n",
       "                        <td id=\"T_9a125b38_8de2_11ec_9170_e1378d02868frow3_col30\" class=\"data row3 col30\" >31</td>\n",
       "                        <td id=\"T_9a125b38_8de2_11ec_9170_e1378d02868frow3_col31\" class=\"data row3 col31\" >208</td>\n",
       "                        <td id=\"T_9a125b38_8de2_11ec_9170_e1378d02868frow3_col32\" class=\"data row3 col32\" >569.000000</td>\n",
       "                        <td id=\"T_9a125b38_8de2_11ec_9170_e1378d02868frow3_col33\" class=\"data row3 col33\" >0.987000</td>\n",
       "                        <td id=\"T_9a125b38_8de2_11ec_9170_e1378d02868frow3_col34\" class=\"data row3 col34\" >104</td>\n",
       "                        <td id=\"T_9a125b38_8de2_11ec_9170_e1378d02868frow3_col35\" class=\"data row3 col35\" >48.000000</td>\n",
       "                        <td id=\"T_9a125b38_8de2_11ec_9170_e1378d02868frow3_col36\" class=\"data row3 col36\" >31.000000</td>\n",
       "                        <td id=\"T_9a125b38_8de2_11ec_9170_e1378d02868frow3_col37\" class=\"data row3 col37\" >647</td>\n",
       "                        <td id=\"T_9a125b38_8de2_11ec_9170_e1378d02868frow3_col38\" class=\"data row3 col38\" >19.242216</td>\n",
       "            </tr>\n",
       "            <tr>\n",
       "                        <th id=\"T_9a125b38_8de2_11ec_9170_e1378d02868flevel0_row4\" class=\"row_heading level0 row4\" >4</th>\n",
       "                        <td id=\"T_9a125b38_8de2_11ec_9170_e1378d02868frow4_col0\" class=\"data row4 col0\" >3.960000</td>\n",
       "                        <td id=\"T_9a125b38_8de2_11ec_9170_e1378d02868frow4_col1\" class=\"data row4 col1\" >0.700000</td>\n",
       "                        <td id=\"T_9a125b38_8de2_11ec_9170_e1378d02868frow4_col2\" class=\"data row4 col2\" >104</td>\n",
       "                        <td id=\"T_9a125b38_8de2_11ec_9170_e1378d02868frow4_col3\" class=\"data row4 col3\" >155</td>\n",
       "                        <td id=\"T_9a125b38_8de2_11ec_9170_e1378d02868frow4_col4\" class=\"data row4 col4\" >95</td>\n",
       "                        <td id=\"T_9a125b38_8de2_11ec_9170_e1378d02868frow4_col5\" class=\"data row4 col5\" >68</td>\n",
       "                        <td id=\"T_9a125b38_8de2_11ec_9170_e1378d02868frow4_col6\" class=\"data row4 col6\" >0.583000</td>\n",
       "                        <td id=\"T_9a125b38_8de2_11ec_9170_e1378d02868frow4_col7\" class=\"data row4 col7\" >3.650000</td>\n",
       "                        <td id=\"T_9a125b38_8de2_11ec_9170_e1378d02868frow4_col8\" class=\"data row4 col8\" >18</td>\n",
       "                        <td id=\"T_9a125b38_8de2_11ec_9170_e1378d02868frow4_col9\" class=\"data row4 col9\" >1319</td>\n",
       "                        <td id=\"T_9a125b38_8de2_11ec_9170_e1378d02868frow4_col10\" class=\"data row4 col10\" >598</td>\n",
       "                        <td id=\"T_9a125b38_8de2_11ec_9170_e1378d02868frow4_col11\" class=\"data row4 col11\" >157</td>\n",
       "                        <td id=\"T_9a125b38_8de2_11ec_9170_e1378d02868frow4_col12\" class=\"data row4 col12\" >622</td>\n",
       "                        <td id=\"T_9a125b38_8de2_11ec_9170_e1378d02868frow4_col13\" class=\"data row4 col13\" >1333</td>\n",
       "                        <td id=\"T_9a125b38_8de2_11ec_9170_e1378d02868frow4_col14\" class=\"data row4 col14\" >4.670000</td>\n",
       "                        <td id=\"T_9a125b38_8de2_11ec_9170_e1378d02868frow4_col15\" class=\"data row4 col15\" >761</td>\n",
       "                        <td id=\"T_9a125b38_8de2_11ec_9170_e1378d02868frow4_col16\" class=\"data row4 col16\" >1453</td>\n",
       "                        <td id=\"T_9a125b38_8de2_11ec_9170_e1378d02868frow4_col17\" class=\"data row4 col17\" >722</td>\n",
       "                        <td id=\"T_9a125b38_8de2_11ec_9170_e1378d02868frow4_col18\" class=\"data row4 col18\" >66</td>\n",
       "                        <td id=\"T_9a125b38_8de2_11ec_9170_e1378d02868frow4_col19\" class=\"data row4 col19\" >1388</td>\n",
       "                        <td id=\"T_9a125b38_8de2_11ec_9170_e1378d02868frow4_col20\" class=\"data row4 col20\" >0.258000</td>\n",
       "                        <td id=\"T_9a125b38_8de2_11ec_9170_e1378d02868frow4_col21\" class=\"data row4 col21\" >0.333000</td>\n",
       "                        <td id=\"T_9a125b38_8de2_11ec_9170_e1378d02868frow4_col22\" class=\"data row4 col22\" >0.410000</td>\n",
       "                        <td id=\"T_9a125b38_8de2_11ec_9170_e1378d02868frow4_col23\" class=\"data row4 col23\" >107</td>\n",
       "                        <td id=\"T_9a125b38_8de2_11ec_9170_e1378d02868frow4_col24\" class=\"data row4 col24\" >1224</td>\n",
       "                        <td id=\"T_9a125b38_8de2_11ec_9170_e1378d02868frow4_col25\" class=\"data row4 col25\" >194259933</td>\n",
       "                        <td id=\"T_9a125b38_8de2_11ec_9170_e1378d02868frow4_col26\" class=\"data row4 col26\" >45.000000</td>\n",
       "                        <td id=\"T_9a125b38_8de2_11ec_9170_e1378d02868frow4_col27\" class=\"data row4 col27\" >2018</td>\n",
       "                        <td id=\"T_9a125b38_8de2_11ec_9170_e1378d02868frow4_col28\" class=\"data row4 col28\" >CHC</td>\n",
       "                        <td id=\"T_9a125b38_8de2_11ec_9170_e1378d02868frow4_col29\" class=\"data row4 col29\" >286</td>\n",
       "                        <td id=\"T_9a125b38_8de2_11ec_9170_e1378d02868frow4_col30\" class=\"data row4 col30\" >34</td>\n",
       "                        <td id=\"T_9a125b38_8de2_11ec_9170_e1378d02868frow4_col31\" class=\"data row4 col31\" >167</td>\n",
       "                        <td id=\"T_9a125b38_8de2_11ec_9170_e1378d02868frow4_col32\" class=\"data row4 col32\" >576.000000</td>\n",
       "                        <td id=\"T_9a125b38_8de2_11ec_9170_e1378d02868frow4_col33\" class=\"data row4 col33\" >0.983000</td>\n",
       "                        <td id=\"T_9a125b38_8de2_11ec_9170_e1378d02868frow4_col34\" class=\"data row4 col34\" >107</td>\n",
       "                        <td id=\"T_9a125b38_8de2_11ec_9170_e1378d02868frow4_col35\" class=\"data row4 col35\" >46.000000</td>\n",
       "                        <td id=\"T_9a125b38_8de2_11ec_9170_e1378d02868frow4_col36\" class=\"data row4 col36\" >38.000000</td>\n",
       "                        <td id=\"T_9a125b38_8de2_11ec_9170_e1378d02868frow4_col37\" class=\"data row4 col37\" >645</td>\n",
       "                        <td id=\"T_9a125b38_8de2_11ec_9170_e1378d02868frow4_col38\" class=\"data row4 col38\" >19.084708</td>\n",
       "            </tr>\n",
       "    </tbody></table>"
      ],
      "text/plain": [
       "<pandas.io.formats.style.Styler at 0x195be267b80>"
      ]
     },
     "execution_count": 18,
     "metadata": {},
     "output_type": "execute_result"
    }
   ],
   "source": [
    "df_final.head().style.background_gradient(cmap='Dark2_r')\n",
    "                                      "
   ]
  },
  {
   "cell_type": "code",
   "execution_count": 19,
   "metadata": {
    "application/vnd.databricks.v1+cell": {
     "inputWidgets": {},
     "nuid": "ddde51dd-13c3-4286-9655-b35bfb7ad1c9",
     "showTitle": false,
     "title": ""
    }
   },
   "outputs": [
    {
     "data": {
      "text/html": [
       "<div>\n",
       "<style scoped>\n",
       "    .dataframe tbody tr th:only-of-type {\n",
       "        vertical-align: middle;\n",
       "    }\n",
       "\n",
       "    .dataframe tbody tr th {\n",
       "        vertical-align: top;\n",
       "    }\n",
       "\n",
       "    .dataframe thead th {\n",
       "        text-align: right;\n",
       "    }\n",
       "</style>\n",
       "<table border=\"1\" class=\"dataframe\">\n",
       "  <thead>\n",
       "    <tr style=\"text-align: right;\">\n",
       "      <th></th>\n",
       "      <th>RA/G</th>\n",
       "      <th>DefEff</th>\n",
       "      <th>E</th>\n",
       "      <th>DPA</th>\n",
       "      <th>W</th>\n",
       "      <th>L</th>\n",
       "      <th>W-L%</th>\n",
       "      <th>ERA</th>\n",
       "      <th>tSho</th>\n",
       "      <th>HA</th>\n",
       "      <th>ER</th>\n",
       "      <th>HRA</th>\n",
       "      <th>BBA</th>\n",
       "      <th>SOA</th>\n",
       "      <th>R/G</th>\n",
       "      <th>R</th>\n",
       "      <th>H</th>\n",
       "      <th>RBI</th>\n",
       "      <th>SB</th>\n",
       "      <th>SO</th>\n",
       "      <th>BA</th>\n",
       "      <th>OBP</th>\n",
       "      <th>SLG</th>\n",
       "      <th>GDP</th>\n",
       "      <th>LOB</th>\n",
       "      <th>salary</th>\n",
       "      <th>WAR</th>\n",
       "      <th>2B</th>\n",
       "      <th>3B</th>\n",
       "      <th>HR</th>\n",
       "      <th>BB</th>\n",
       "      <th>FP</th>\n",
       "      <th>BPF</th>\n",
       "      <th>SF</th>\n",
       "      <th>CS</th>\n",
       "      <th>RA</th>\n",
       "      <th>salary_log</th>\n",
       "    </tr>\n",
       "    <tr>\n",
       "      <th>Year</th>\n",
       "      <th></th>\n",
       "      <th></th>\n",
       "      <th></th>\n",
       "      <th></th>\n",
       "      <th></th>\n",
       "      <th></th>\n",
       "      <th></th>\n",
       "      <th></th>\n",
       "      <th></th>\n",
       "      <th></th>\n",
       "      <th></th>\n",
       "      <th></th>\n",
       "      <th></th>\n",
       "      <th></th>\n",
       "      <th></th>\n",
       "      <th></th>\n",
       "      <th></th>\n",
       "      <th></th>\n",
       "      <th></th>\n",
       "      <th></th>\n",
       "      <th></th>\n",
       "      <th></th>\n",
       "      <th></th>\n",
       "      <th></th>\n",
       "      <th></th>\n",
       "      <th></th>\n",
       "      <th></th>\n",
       "      <th></th>\n",
       "      <th></th>\n",
       "      <th></th>\n",
       "      <th></th>\n",
       "      <th></th>\n",
       "      <th></th>\n",
       "      <th></th>\n",
       "      <th></th>\n",
       "      <th></th>\n",
       "      <th></th>\n",
       "    </tr>\n",
       "  </thead>\n",
       "  <tbody>\n",
       "    <tr>\n",
       "      <th>2012</th>\n",
       "      <td>4.324667</td>\n",
       "      <td>0.691500</td>\n",
       "      <td>100.300000</td>\n",
       "      <td>142.466667</td>\n",
       "      <td>81.000000</td>\n",
       "      <td>81.000000</td>\n",
       "      <td>0.500000</td>\n",
       "      <td>4.009333</td>\n",
       "      <td>10.333333</td>\n",
       "      <td>1402.100000</td>\n",
       "      <td>643.366667</td>\n",
       "      <td>164.466667</td>\n",
       "      <td>490.300000</td>\n",
       "      <td>1214.200000</td>\n",
       "      <td>4.324000</td>\n",
       "      <td>700.566667</td>\n",
       "      <td>1402.100000</td>\n",
       "      <td>666.600000</td>\n",
       "      <td>107.633333</td>\n",
       "      <td>1214.200000</td>\n",
       "      <td>0.254400</td>\n",
       "      <td>0.319000</td>\n",
       "      <td>0.405200</td>\n",
       "      <td>120.466667</td>\n",
       "      <td>1103.133333</td>\n",
       "      <td>1.077166e+08</td>\n",
       "      <td>33.330000</td>\n",
       "      <td>275.366667</td>\n",
       "      <td>30.900000</td>\n",
       "      <td>164.466667</td>\n",
       "      <td>490.300000</td>\n",
       "      <td>0.983433</td>\n",
       "      <td>99.933333</td>\n",
       "      <td>40.766667</td>\n",
       "      <td>37.866667</td>\n",
       "      <td>700.566667</td>\n",
       "      <td>18.434744</td>\n",
       "    </tr>\n",
       "    <tr>\n",
       "      <th>2013</th>\n",
       "      <td>4.165333</td>\n",
       "      <td>0.692167</td>\n",
       "      <td>91.566667</td>\n",
       "      <td>145.200000</td>\n",
       "      <td>81.033333</td>\n",
       "      <td>81.033333</td>\n",
       "      <td>0.500033</td>\n",
       "      <td>3.863333</td>\n",
       "      <td>11.033333</td>\n",
       "      <td>1403.100000</td>\n",
       "      <td>624.266667</td>\n",
       "      <td>155.366667</td>\n",
       "      <td>488.000000</td>\n",
       "      <td>1223.666667</td>\n",
       "      <td>4.166000</td>\n",
       "      <td>675.166667</td>\n",
       "      <td>1403.100000</td>\n",
       "      <td>642.366667</td>\n",
       "      <td>89.766667</td>\n",
       "      <td>1223.666667</td>\n",
       "      <td>0.253367</td>\n",
       "      <td>0.317467</td>\n",
       "      <td>0.396333</td>\n",
       "      <td>124.400000</td>\n",
       "      <td>1121.933333</td>\n",
       "      <td>1.108563e+08</td>\n",
       "      <td>33.266667</td>\n",
       "      <td>274.066667</td>\n",
       "      <td>25.733333</td>\n",
       "      <td>155.366667</td>\n",
       "      <td>488.000000</td>\n",
       "      <td>0.984900</td>\n",
       "      <td>100.100000</td>\n",
       "      <td>40.633333</td>\n",
       "      <td>33.566667</td>\n",
       "      <td>675.166667</td>\n",
       "      <td>18.435577</td>\n",
       "    </tr>\n",
       "    <tr>\n",
       "      <th>2014</th>\n",
       "      <td>4.066000</td>\n",
       "      <td>0.690033</td>\n",
       "      <td>97.133333</td>\n",
       "      <td>141.000000</td>\n",
       "      <td>81.000000</td>\n",
       "      <td>81.000000</td>\n",
       "      <td>0.500033</td>\n",
       "      <td>3.738000</td>\n",
       "      <td>11.766667</td>\n",
       "      <td>1386.500000</td>\n",
       "      <td>603.566667</td>\n",
       "      <td>139.533333</td>\n",
       "      <td>467.333333</td>\n",
       "      <td>1248.033333</td>\n",
       "      <td>4.064667</td>\n",
       "      <td>658.700000</td>\n",
       "      <td>1386.500000</td>\n",
       "      <td>624.833333</td>\n",
       "      <td>92.133333</td>\n",
       "      <td>1248.033333</td>\n",
       "      <td>0.251100</td>\n",
       "      <td>0.313667</td>\n",
       "      <td>0.386200</td>\n",
       "      <td>120.300000</td>\n",
       "      <td>1110.900000</td>\n",
       "      <td>1.203389e+08</td>\n",
       "      <td>33.273333</td>\n",
       "      <td>271.233333</td>\n",
       "      <td>28.300000</td>\n",
       "      <td>139.533333</td>\n",
       "      <td>467.333333</td>\n",
       "      <td>0.984000</td>\n",
       "      <td>100.100000</td>\n",
       "      <td>42.566667</td>\n",
       "      <td>34.500000</td>\n",
       "      <td>658.700000</td>\n",
       "      <td>18.538378</td>\n",
       "    </tr>\n",
       "    <tr>\n",
       "      <th>2015</th>\n",
       "      <td>4.250000</td>\n",
       "      <td>0.689300</td>\n",
       "      <td>94.333333</td>\n",
       "      <td>145.933333</td>\n",
       "      <td>80.966667</td>\n",
       "      <td>80.966667</td>\n",
       "      <td>0.500033</td>\n",
       "      <td>3.956333</td>\n",
       "      <td>11.300000</td>\n",
       "      <td>1403.533333</td>\n",
       "      <td>635.833333</td>\n",
       "      <td>163.633333</td>\n",
       "      <td>469.100000</td>\n",
       "      <td>1248.200000</td>\n",
       "      <td>4.250333</td>\n",
       "      <td>688.233333</td>\n",
       "      <td>1403.533333</td>\n",
       "      <td>655.000000</td>\n",
       "      <td>83.500000</td>\n",
       "      <td>1248.200000</td>\n",
       "      <td>0.254400</td>\n",
       "      <td>0.316667</td>\n",
       "      <td>0.404567</td>\n",
       "      <td>124.633333</td>\n",
       "      <td>1091.933333</td>\n",
       "      <td>1.289490e+08</td>\n",
       "      <td>33.300000</td>\n",
       "      <td>274.733333</td>\n",
       "      <td>31.300000</td>\n",
       "      <td>163.633333</td>\n",
       "      <td>469.100000</td>\n",
       "      <td>0.984500</td>\n",
       "      <td>100.166667</td>\n",
       "      <td>41.066667</td>\n",
       "      <td>35.466667</td>\n",
       "      <td>688.233333</td>\n",
       "      <td>18.614422</td>\n",
       "    </tr>\n",
       "    <tr>\n",
       "      <th>2016</th>\n",
       "      <td>4.477667</td>\n",
       "      <td>0.687867</td>\n",
       "      <td>94.500000</td>\n",
       "      <td>144.466667</td>\n",
       "      <td>80.900000</td>\n",
       "      <td>80.900000</td>\n",
       "      <td>0.500033</td>\n",
       "      <td>4.184333</td>\n",
       "      <td>9.200000</td>\n",
       "      <td>1409.200000</td>\n",
       "      <td>670.800000</td>\n",
       "      <td>187.000000</td>\n",
       "      <td>502.933333</td>\n",
       "      <td>1299.400000</td>\n",
       "      <td>4.478333</td>\n",
       "      <td>724.800000</td>\n",
       "      <td>1409.200000</td>\n",
       "      <td>691.500000</td>\n",
       "      <td>84.566667</td>\n",
       "      <td>1299.400000</td>\n",
       "      <td>0.255300</td>\n",
       "      <td>0.321400</td>\n",
       "      <td>0.417300</td>\n",
       "      <td>123.966667</td>\n",
       "      <td>1097.200000</td>\n",
       "      <td>1.341671e+08</td>\n",
       "      <td>33.316667</td>\n",
       "      <td>275.133333</td>\n",
       "      <td>29.100000</td>\n",
       "      <td>187.000000</td>\n",
       "      <td>502.933333</td>\n",
       "      <td>0.984200</td>\n",
       "      <td>100.166667</td>\n",
       "      <td>40.466667</td>\n",
       "      <td>33.366667</td>\n",
       "      <td>724.800000</td>\n",
       "      <td>18.648309</td>\n",
       "    </tr>\n",
       "    <tr>\n",
       "      <th>2017</th>\n",
       "      <td>4.646333</td>\n",
       "      <td>0.687900</td>\n",
       "      <td>93.900000</td>\n",
       "      <td>146.833333</td>\n",
       "      <td>81.000000</td>\n",
       "      <td>81.000000</td>\n",
       "      <td>0.499967</td>\n",
       "      <td>4.352667</td>\n",
       "      <td>8.700000</td>\n",
       "      <td>1407.166667</td>\n",
       "      <td>697.033333</td>\n",
       "      <td>203.500000</td>\n",
       "      <td>527.633333</td>\n",
       "      <td>1336.800000</td>\n",
       "      <td>4.646667</td>\n",
       "      <td>752.733333</td>\n",
       "      <td>1407.166667</td>\n",
       "      <td>718.600000</td>\n",
       "      <td>84.233333</td>\n",
       "      <td>1336.800000</td>\n",
       "      <td>0.254900</td>\n",
       "      <td>0.324333</td>\n",
       "      <td>0.425900</td>\n",
       "      <td>126.800000</td>\n",
       "      <td>1098.066667</td>\n",
       "      <td>1.411488e+08</td>\n",
       "      <td>33.273333</td>\n",
       "      <td>279.900000</td>\n",
       "      <td>26.500000</td>\n",
       "      <td>203.500000</td>\n",
       "      <td>527.633333</td>\n",
       "      <td>0.984133</td>\n",
       "      <td>100.000000</td>\n",
       "      <td>38.933333</td>\n",
       "      <td>31.133333</td>\n",
       "      <td>752.733333</td>\n",
       "      <td>18.707310</td>\n",
       "    </tr>\n",
       "    <tr>\n",
       "      <th>2018</th>\n",
       "      <td>4.448667</td>\n",
       "      <td>0.691733</td>\n",
       "      <td>93.066667</td>\n",
       "      <td>136.400000</td>\n",
       "      <td>81.033333</td>\n",
       "      <td>81.033333</td>\n",
       "      <td>0.499933</td>\n",
       "      <td>4.148000</td>\n",
       "      <td>10.400000</td>\n",
       "      <td>1367.266667</td>\n",
       "      <td>667.500000</td>\n",
       "      <td>186.166667</td>\n",
       "      <td>522.866667</td>\n",
       "      <td>1373.566667</td>\n",
       "      <td>4.449667</td>\n",
       "      <td>721.000000</td>\n",
       "      <td>1367.266667</td>\n",
       "      <td>686.866667</td>\n",
       "      <td>82.466667</td>\n",
       "      <td>1373.566667</td>\n",
       "      <td>0.247833</td>\n",
       "      <td>0.317967</td>\n",
       "      <td>0.409233</td>\n",
       "      <td>115.233333</td>\n",
       "      <td>1101.400000</td>\n",
       "      <td>1.391755e+08</td>\n",
       "      <td>33.303333</td>\n",
       "      <td>275.466667</td>\n",
       "      <td>28.233333</td>\n",
       "      <td>186.166667</td>\n",
       "      <td>522.866667</td>\n",
       "      <td>0.984333</td>\n",
       "      <td>100.066667</td>\n",
       "      <td>41.166667</td>\n",
       "      <td>31.933333</td>\n",
       "      <td>721.000000</td>\n",
       "      <td>18.706057</td>\n",
       "    </tr>\n",
       "  </tbody>\n",
       "</table>\n",
       "</div>"
      ],
      "text/plain": [
       "          RA/G    DefEff           E         DPA          W          L  \\\n",
       "Year                                                                     \n",
       "2012  4.324667  0.691500  100.300000  142.466667  81.000000  81.000000   \n",
       "2013  4.165333  0.692167   91.566667  145.200000  81.033333  81.033333   \n",
       "2014  4.066000  0.690033   97.133333  141.000000  81.000000  81.000000   \n",
       "2015  4.250000  0.689300   94.333333  145.933333  80.966667  80.966667   \n",
       "2016  4.477667  0.687867   94.500000  144.466667  80.900000  80.900000   \n",
       "2017  4.646333  0.687900   93.900000  146.833333  81.000000  81.000000   \n",
       "2018  4.448667  0.691733   93.066667  136.400000  81.033333  81.033333   \n",
       "\n",
       "          W-L%       ERA       tSho           HA          ER         HRA  \\\n",
       "Year                                                                       \n",
       "2012  0.500000  4.009333  10.333333  1402.100000  643.366667  164.466667   \n",
       "2013  0.500033  3.863333  11.033333  1403.100000  624.266667  155.366667   \n",
       "2014  0.500033  3.738000  11.766667  1386.500000  603.566667  139.533333   \n",
       "2015  0.500033  3.956333  11.300000  1403.533333  635.833333  163.633333   \n",
       "2016  0.500033  4.184333   9.200000  1409.200000  670.800000  187.000000   \n",
       "2017  0.499967  4.352667   8.700000  1407.166667  697.033333  203.500000   \n",
       "2018  0.499933  4.148000  10.400000  1367.266667  667.500000  186.166667   \n",
       "\n",
       "             BBA          SOA       R/G           R            H         RBI  \\\n",
       "Year                                                                           \n",
       "2012  490.300000  1214.200000  4.324000  700.566667  1402.100000  666.600000   \n",
       "2013  488.000000  1223.666667  4.166000  675.166667  1403.100000  642.366667   \n",
       "2014  467.333333  1248.033333  4.064667  658.700000  1386.500000  624.833333   \n",
       "2015  469.100000  1248.200000  4.250333  688.233333  1403.533333  655.000000   \n",
       "2016  502.933333  1299.400000  4.478333  724.800000  1409.200000  691.500000   \n",
       "2017  527.633333  1336.800000  4.646667  752.733333  1407.166667  718.600000   \n",
       "2018  522.866667  1373.566667  4.449667  721.000000  1367.266667  686.866667   \n",
       "\n",
       "              SB           SO        BA       OBP       SLG         GDP  \\\n",
       "Year                                                                      \n",
       "2012  107.633333  1214.200000  0.254400  0.319000  0.405200  120.466667   \n",
       "2013   89.766667  1223.666667  0.253367  0.317467  0.396333  124.400000   \n",
       "2014   92.133333  1248.033333  0.251100  0.313667  0.386200  120.300000   \n",
       "2015   83.500000  1248.200000  0.254400  0.316667  0.404567  124.633333   \n",
       "2016   84.566667  1299.400000  0.255300  0.321400  0.417300  123.966667   \n",
       "2017   84.233333  1336.800000  0.254900  0.324333  0.425900  126.800000   \n",
       "2018   82.466667  1373.566667  0.247833  0.317967  0.409233  115.233333   \n",
       "\n",
       "              LOB        salary        WAR          2B         3B          HR  \\\n",
       "Year                                                                            \n",
       "2012  1103.133333  1.077166e+08  33.330000  275.366667  30.900000  164.466667   \n",
       "2013  1121.933333  1.108563e+08  33.266667  274.066667  25.733333  155.366667   \n",
       "2014  1110.900000  1.203389e+08  33.273333  271.233333  28.300000  139.533333   \n",
       "2015  1091.933333  1.289490e+08  33.300000  274.733333  31.300000  163.633333   \n",
       "2016  1097.200000  1.341671e+08  33.316667  275.133333  29.100000  187.000000   \n",
       "2017  1098.066667  1.411488e+08  33.273333  279.900000  26.500000  203.500000   \n",
       "2018  1101.400000  1.391755e+08  33.303333  275.466667  28.233333  186.166667   \n",
       "\n",
       "              BB        FP         BPF         SF         CS          RA  \\\n",
       "Year                                                                       \n",
       "2012  490.300000  0.983433   99.933333  40.766667  37.866667  700.566667   \n",
       "2013  488.000000  0.984900  100.100000  40.633333  33.566667  675.166667   \n",
       "2014  467.333333  0.984000  100.100000  42.566667  34.500000  658.700000   \n",
       "2015  469.100000  0.984500  100.166667  41.066667  35.466667  688.233333   \n",
       "2016  502.933333  0.984200  100.166667  40.466667  33.366667  724.800000   \n",
       "2017  527.633333  0.984133  100.000000  38.933333  31.133333  752.733333   \n",
       "2018  522.866667  0.984333  100.066667  41.166667  31.933333  721.000000   \n",
       "\n",
       "      salary_log  \n",
       "Year              \n",
       "2012   18.434744  \n",
       "2013   18.435577  \n",
       "2014   18.538378  \n",
       "2015   18.614422  \n",
       "2016   18.648309  \n",
       "2017   18.707310  \n",
       "2018   18.706057  "
      ]
     },
     "execution_count": 19,
     "metadata": {},
     "output_type": "execute_result"
    }
   ],
   "source": [
    "#Average stats per season\n",
    "result = df_final.groupby('Year').mean()\n",
    "result"
   ]
  },
  {
   "cell_type": "code",
   "execution_count": 20,
   "metadata": {
    "application/vnd.databricks.v1+cell": {
     "inputWidgets": {},
     "nuid": "6ed14f0c-691e-49b1-81be-ab9cf81a4f26",
     "showTitle": false,
     "title": ""
    }
   },
   "outputs": [
    {
     "name": "stdout",
     "output_type": "stream",
     "text": [
      "        W\n",
      "Team     \n",
      "LAD   651\n",
      "WSN   637\n",
      "STL   632\n",
      "NYY   626\n",
      "CLE   613\n",
      "        W\n",
      "Team     \n",
      "MIA   498\n",
      "CHW   504\n",
      "PHI   507\n",
      "MIN   507\n",
      "SDP   508\n"
     ]
    }
   ],
   "source": [
    "#Top 5 teams with most wins, and top 5 teams with fewest wins from 2012-2018\n",
    "winners = df_final.groupby(by=['Team']).sum().sort_values('W',ascending=False)\n",
    "print(winners[['W']].head())\n",
    "\n",
    "losers = df_final.groupby(by=['Team']).sum().sort_values('W',ascending=True)\n",
    "print(losers[['W']].head())"
   ]
  },
  {
   "cell_type": "code",
   "execution_count": 21,
   "metadata": {
    "application/vnd.databricks.v1+cell": {
     "inputWidgets": {},
     "nuid": "7bdf8752-9327-4951-9191-2dcd2a55e135",
     "showTitle": false,
     "title": ""
    }
   },
   "outputs": [
    {
     "data": {
      "image/png": "[encoded data removed]",
      "text/plain": [
       "<Figure size 648x288 with 1 Axes>"
      ]
     },
     "metadata": {
      "needs_background": "light"
     },
     "output_type": "display_data"
    }
   ],
   "source": [
    "#Plotting average runs scored by all teams in each season.\n",
    "season_df = df_final.groupby(\"Year\")\n",
    "lg_avg_r = season_df[\"R\"].mean().round(1).reset_index()\n",
    "#print(lg_avg_r)\n",
    "\n",
    "# bar plot\n",
    "runs = np.array(lg_avg_r[\"R\"])\n",
    "years = np.array(lg_avg_r[\"Year\"])\n",
    "\n",
    "fig, ax = plt.subplots(figsize = (9, 4))\n",
    "\n",
    "plt.bar(years, runs, edgecolor = \"darkgrey\", color = 'navy', linewidth = 0.6, alpha = 0.7)     \n",
    "\n",
    "#addlabels(runs,years)\n",
    "plt.xticks(lg_avg_r[\"Year\"], rotation = 45)\n",
    "plt.xlabel(\"Season\")\n",
    "plt.ylabel(\"League Average Runs Scored\")\n",
    "plt.title(\"Average Runs Scored per Team, per Season (2012-2018)\", fontsize = 14)\n",
    "\n",
    "#adding data labels to each column\n",
    "for i, v in enumerate(runs):\n",
    "    plt.text(years[i], v , str(v),ha='center',va='top',fontsize = 'x-large',color='w',fontweight='semibold')\n",
    "plt.show()"
   ]
  },
  {
   "cell_type": "code",
   "execution_count": 22,
   "metadata": {
    "application/vnd.databricks.v1+cell": {
     "inputWidgets": {},
     "nuid": "e2626c2b-d652-492b-a417-f3f7933578ba",
     "showTitle": false,
     "title": ""
    }
   },
   "outputs": [
    {
     "data": {
      "image/png": "[encoded data removed]",
      "text/plain": [
       "<Figure size 576x432 with 1 Axes>"
      ]
     },
     "metadata": {
      "needs_background": "light"
     },
     "output_type": "display_data"
    }
   ],
   "source": [
    "#Plotting runs scored distribution per season\n",
    "fig, ax = plt.subplots(figsize = (8, 6))\n",
    "\n",
    "sns.boxplot(x = \"Year\", y = \"R\", data = df_final, ax = ax)\n",
    "ax.set_xticklabels(ax.get_xticklabels(), rotation = 45)\n",
    "ax.set_title(\"Team Runs Scored Distribution in each Season\", fontsize = 20)\n",
    "plt.show()"
   ]
  },
  {
   "cell_type": "code",
   "execution_count": 23,
   "metadata": {
    "application/vnd.databricks.v1+cell": {
     "inputWidgets": {},
     "nuid": "50746099-2de0-46f8-bca5-f2d82961277d",
     "showTitle": false,
     "title": ""
    }
   },
   "outputs": [],
   "source": [
    "#Run Differential = Runs Scored - Runs Against\n",
    "df_final['RD'] = df_final['R']-df_final['RA']"
   ]
  },
  {
   "cell_type": "markdown",
   "metadata": {
    "application/vnd.databricks.v1+cell": {
     "inputWidgets": {},
     "nuid": "128c2517-f62d-44bb-a5ec-0289151a2fab",
     "showTitle": false,
     "title": ""
    }
   },
   "source": [
    "Visualizing the relationship between team wins and run differential."
   ]
  },
  {
   "cell_type": "code",
   "execution_count": 24,
   "metadata": {
    "application/vnd.databricks.v1+cell": {
     "inputWidgets": {},
     "nuid": "01c8f327-b3e5-48e2-8edb-79a8a35817f2",
     "showTitle": false,
     "title": ""
    }
   },
   "outputs": [
    {
     "data": {
      "image/png": "[encoded data removed]",
      "text/plain": [
       "<Figure size 720x576 with 1 Axes>"
      ]
     },
     "metadata": {
      "needs_background": "light"
     },
     "output_type": "display_data"
    }
   ],
   "source": [
    "x = np.array(df_final.RD)\n",
    "y = np.array(df_final.W)\n",
    "slope, intercept = np.polyfit(x, y, 1)\n",
    "abline_values = [slope * i + intercept for i in x]\n",
    "plt.figure(figsize=(10,8))\n",
    "plt.scatter(x, y)\n",
    "plt.plot(x, abline_values, 'crimson')\n",
    "plt.title(\"Slope = %s\" % round((slope),3), fontsize = 12)\n",
    "plt.xlabel(\"Run Difference\", fontsize =20)\n",
    "plt.ylabel(\"Wins\", fontsize = 20)\n",
    "plt.axhline(99, 0, 1, color = \"navy\", ls = '--')\n",
    "plt.show()"
   ]
  },
  {
   "cell_type": "markdown",
   "metadata": {
    "application/vnd.databricks.v1+cell": {
     "inputWidgets": {},
     "nuid": "bc36f2f0-dba1-48fa-9d3c-ca14438a8e3d",
     "showTitle": false,
     "title": ""
    }
   },
   "source": [
    "Relationship between team wins and runs scored."
   ]
  },
  {
   "cell_type": "code",
   "execution_count": 25,
   "metadata": {
    "application/vnd.databricks.v1+cell": {
     "inputWidgets": {},
     "nuid": "f9b183bc-2b96-4b28-a087-439c03973140",
     "showTitle": false,
     "title": ""
    }
   },
   "outputs": [
    {
     "data": {
      "text/plain": [
       "[<matplotlib.lines.Line2D at 0x195bf8f8670>]"
      ]
     },
     "execution_count": 25,
     "metadata": {},
     "output_type": "execute_result"
    },
    {
     "data": {
      "image/png": "[encoded data removed]",
      "text/plain": [
       "<Figure size 864x504 with 1 Axes>"
      ]
     },
     "metadata": {
      "needs_background": "light"
     },
     "output_type": "display_data"
    }
   ],
   "source": [
    "plt.figure(figsize=(12,7))\n",
    "ax = sns.scatterplot(x=\"R\", y=\"Team\", hue=\"W\",data=df_final,legend='brief')\n",
    "plt.plot(95,0)"
   ]
  },
  {
   "cell_type": "markdown",
   "metadata": {
    "application/vnd.databricks.v1+cell": {
     "inputWidgets": {},
     "nuid": "6190248a-145a-45a4-9bce-08af71776b6a",
     "showTitle": false,
     "title": ""
    }
   },
   "source": [
    "### 3) Prepare Data"
   ]
  },
  {
   "cell_type": "markdown",
   "metadata": {
    "application/vnd.databricks.v1+cell": {
     "inputWidgets": {},
     "nuid": "7f754e1e-3128-4950-a1b2-77babc78dda2",
     "showTitle": false,
     "title": ""
    }
   },
   "source": [
    "#### 3.a) Data Cleaning and Feature Selection"
   ]
  },
  {
   "cell_type": "code",
   "execution_count": 26,
   "metadata": {
    "application/vnd.databricks.v1+cell": {
     "inputWidgets": {},
     "nuid": "85c5a57d-27d1-4436-91a6-4fe859b643c9",
     "showTitle": false,
     "title": ""
    }
   },
   "outputs": [
    {
     "name": "stdout",
     "output_type": "stream",
     "text": [
      "Total dataframe size:\n",
      "(210, 40)\n"
     ]
    },
    {
     "data": {
      "text/plain": [
       "False    210\n",
       "dtype: int64"
      ]
     },
     "execution_count": 26,
     "metadata": {},
     "output_type": "execute_result"
    }
   ],
   "source": [
    "# check for duplicated values\n",
    "print('Total dataframe size:')\n",
    "print(df_final.shape)\n",
    "df_final.duplicated().value_counts()"
   ]
  },
  {
   "cell_type": "code",
   "execution_count": 27,
   "metadata": {
    "application/vnd.databricks.v1+cell": {
     "inputWidgets": {},
     "nuid": "eaa17539-b68b-4965-a3a7-629c28164c24",
     "showTitle": false,
     "title": ""
    }
   },
   "outputs": [
    {
     "data": {
      "text/plain": [
       "RA/G          0\n",
       "DefEff        0\n",
       "E             0\n",
       "DPA           0\n",
       "W             0\n",
       "L             0\n",
       "W-L%          0\n",
       "ERA           0\n",
       "tSho          0\n",
       "HA            0\n",
       "ER            0\n",
       "HRA           0\n",
       "BBA           0\n",
       "SOA           0\n",
       "R/G           0\n",
       "R             0\n",
       "H             0\n",
       "RBI           0\n",
       "SB            0\n",
       "SO            0\n",
       "BA            0\n",
       "OBP           0\n",
       "SLG           0\n",
       "GDP           0\n",
       "LOB           0\n",
       "salary        0\n",
       "WAR           0\n",
       "Year          0\n",
       "Team          0\n",
       "2B            0\n",
       "3B            0\n",
       "HR            0\n",
       "BB            0\n",
       "FP            0\n",
       "BPF           0\n",
       "SF            0\n",
       "CS            0\n",
       "RA            0\n",
       "salary_log    0\n",
       "RD            0\n",
       "dtype: int64"
      ]
     },
     "execution_count": 27,
     "metadata": {},
     "output_type": "execute_result"
    }
   ],
   "source": [
    "# check if null values\n",
    "df_final.isnull().sum()"
   ]
  },
  {
   "cell_type": "markdown",
   "metadata": {
    "application/vnd.databricks.v1+cell": {
     "inputWidgets": {},
     "nuid": "d3754bec-6d46-4ead-bfcb-14fbe414dc51",
     "showTitle": false,
     "title": ""
    }
   },
   "source": [
    "There are no duplicated rows, nor missing values"
   ]
  },
  {
   "cell_type": "code",
   "execution_count": 28,
   "metadata": {
    "application/vnd.databricks.v1+cell": {
     "inputWidgets": {},
     "nuid": "1265e2df-6eff-4199-a165-e1a33cfb0b9d",
     "showTitle": false,
     "title": ""
    }
   },
   "outputs": [
    {
     "name": "stdout",
     "output_type": "stream",
     "text": [
      "['ARI' 'ATL' 'BAL' 'BOS' 'CHC' 'CHW' 'CIN' 'CLE' 'COL' 'DET' 'HOU' 'KCR'\n",
      " 'LAA' 'LAD' 'MIA' 'MIL' 'MIN' 'NYM' 'NYY' 'OAK' 'PHI' 'PIT' 'SDP' 'SEA'\n",
      " 'SFG' 'STL' 'TBR' 'TEX' 'TOR' 'WSN']\n",
      "30\n"
     ]
    }
   ],
   "source": [
    "#Making sure all 30 teams are included\n",
    "print(df_final.Team.unique())\n",
    "print(len(df_final.Team.unique()))"
   ]
  },
  {
   "cell_type": "code",
   "execution_count": 29,
   "metadata": {
    "application/vnd.databricks.v1+cell": {
     "inputWidgets": {},
     "nuid": "378b4ebc-cb37-4b70-b7f3-7c58f24806f9",
     "showTitle": false,
     "title": ""
    }
   },
   "outputs": [
    {
     "data": {
      "text/plain": [
       "R             1.000000\n",
       "R/G           0.999839\n",
       "RBI           0.996096\n",
       "SLG           0.903265\n",
       "OBP           0.828407\n",
       "HR            0.694104\n",
       "RD            0.660466\n",
       "WAR           0.652707\n",
       "BA            0.646525\n",
       "H             0.644667\n",
       "2B            0.605661\n",
       "W             0.569679\n",
       "W-L%          0.569080\n",
       "BB            0.521056\n",
       "salary_log    0.391321\n",
       "SF            0.370351\n",
       "salary        0.361306\n",
       "SOA           0.357023\n",
       "BPF           0.343738\n",
       "Year          0.289678\n",
       "HRA           0.255844\n",
       "LOB           0.198526\n",
       "FP            0.140331\n",
       "DefEff        0.099864\n",
       "GDP           0.082662\n",
       "ER           -0.004827\n",
       "ERA          -0.009004\n",
       "SO           -0.016434\n",
       "SB           -0.019332\n",
       "BBA          -0.022260\n",
       "RA           -0.025407\n",
       "RA/G         -0.026937\n",
       "3B           -0.036319\n",
       "DPA          -0.046909\n",
       "tSho         -0.050659\n",
       "E            -0.164530\n",
       "HA           -0.172764\n",
       "CS           -0.217808\n",
       "L            -0.569027\n",
       "dtype: float64"
      ]
     },
     "execution_count": 29,
     "metadata": {},
     "output_type": "execute_result"
    }
   ],
   "source": [
    "#Running a correlation with runs scored (R), which is the variable we’re interested in predicting. \n",
    "df_final.corrwith(df[\"R\"]).sort_values(ascending=False)"
   ]
  },
  {
   "cell_type": "markdown",
   "metadata": {
    "application/vnd.databricks.v1+cell": {
     "inputWidgets": {},
     "nuid": "ccb5f8b4-edf4-4261-b811-61cb37461034",
     "showTitle": false,
     "title": ""
    }
   },
   "source": [
    "Since we want to build a model to predict the runs produced by a team in a season, we get rid of the defensive stats, which for obvious reasons have no impact on the offense. On the other hand, we also remove some variables such as R/G (runs per game) and RBI (runs batted in), which basically provide the same information as our dependent variable R (the correlation is close to 1), and therefore wouldn’t add anything to the model."
   ]
  },
  {
   "cell_type": "code",
   "execution_count": 30,
   "metadata": {
    "application/vnd.databricks.v1+cell": {
     "inputWidgets": {},
     "nuid": "61e1f8dd-956a-4348-a111-36502ad6eecf",
     "showTitle": false,
     "title": ""
    }
   },
   "outputs": [
    {
     "data": {
      "text/html": [
       "<div>\n",
       "<style scoped>\n",
       "    .dataframe tbody tr th:only-of-type {\n",
       "        vertical-align: middle;\n",
       "    }\n",
       "\n",
       "    .dataframe tbody tr th {\n",
       "        vertical-align: top;\n",
       "    }\n",
       "\n",
       "    .dataframe thead th {\n",
       "        text-align: right;\n",
       "    }\n",
       "</style>\n",
       "<table border=\"1\" class=\"dataframe\">\n",
       "  <thead>\n",
       "    <tr style=\"text-align: right;\">\n",
       "      <th></th>\n",
       "      <th>const</th>\n",
       "      <th>H</th>\n",
       "      <th>SB</th>\n",
       "      <th>SO</th>\n",
       "      <th>BA</th>\n",
       "      <th>OBP</th>\n",
       "      <th>SLG</th>\n",
       "      <th>GDP</th>\n",
       "      <th>LOB</th>\n",
       "      <th>salary</th>\n",
       "      <th>2B</th>\n",
       "      <th>3B</th>\n",
       "      <th>HR</th>\n",
       "      <th>BB</th>\n",
       "      <th>BPF</th>\n",
       "      <th>SF</th>\n",
       "      <th>CS</th>\n",
       "      <th>salary_log</th>\n",
       "    </tr>\n",
       "  </thead>\n",
       "  <tbody>\n",
       "    <tr>\n",
       "      <th>0</th>\n",
       "      <td>1.0</td>\n",
       "      <td>1283</td>\n",
       "      <td>79</td>\n",
       "      <td>1460</td>\n",
       "      <td>0.235</td>\n",
       "      <td>0.310</td>\n",
       "      <td>0.397</td>\n",
       "      <td>110</td>\n",
       "      <td>1086</td>\n",
       "      <td>143324597</td>\n",
       "      <td>259</td>\n",
       "      <td>50</td>\n",
       "      <td>176</td>\n",
       "      <td>560.0</td>\n",
       "      <td>108</td>\n",
       "      <td>45.0</td>\n",
       "      <td>25.0</td>\n",
       "      <td>18.780623</td>\n",
       "    </tr>\n",
       "    <tr>\n",
       "      <th>1</th>\n",
       "      <td>1.0</td>\n",
       "      <td>1433</td>\n",
       "      <td>90</td>\n",
       "      <td>1290</td>\n",
       "      <td>0.257</td>\n",
       "      <td>0.324</td>\n",
       "      <td>0.417</td>\n",
       "      <td>99</td>\n",
       "      <td>1143</td>\n",
       "      <td>130649395</td>\n",
       "      <td>314</td>\n",
       "      <td>29</td>\n",
       "      <td>175</td>\n",
       "      <td>511.0</td>\n",
       "      <td>100</td>\n",
       "      <td>43.0</td>\n",
       "      <td>36.0</td>\n",
       "      <td>18.688028</td>\n",
       "    </tr>\n",
       "    <tr>\n",
       "      <th>2</th>\n",
       "      <td>1.0</td>\n",
       "      <td>1317</td>\n",
       "      <td>81</td>\n",
       "      <td>1412</td>\n",
       "      <td>0.239</td>\n",
       "      <td>0.298</td>\n",
       "      <td>0.391</td>\n",
       "      <td>132</td>\n",
       "      <td>1027</td>\n",
       "      <td>127633703</td>\n",
       "      <td>242</td>\n",
       "      <td>15</td>\n",
       "      <td>188</td>\n",
       "      <td>422.0</td>\n",
       "      <td>96</td>\n",
       "      <td>35.0</td>\n",
       "      <td>22.0</td>\n",
       "      <td>18.664675</td>\n",
       "    </tr>\n",
       "    <tr>\n",
       "      <th>3</th>\n",
       "      <td>1.0</td>\n",
       "      <td>1509</td>\n",
       "      <td>125</td>\n",
       "      <td>1253</td>\n",
       "      <td>0.268</td>\n",
       "      <td>0.339</td>\n",
       "      <td>0.453</td>\n",
       "      <td>130</td>\n",
       "      <td>1124</td>\n",
       "      <td>227398860</td>\n",
       "      <td>355</td>\n",
       "      <td>31</td>\n",
       "      <td>208</td>\n",
       "      <td>569.0</td>\n",
       "      <td>104</td>\n",
       "      <td>48.0</td>\n",
       "      <td>31.0</td>\n",
       "      <td>19.242216</td>\n",
       "    </tr>\n",
       "    <tr>\n",
       "      <th>4</th>\n",
       "      <td>1.0</td>\n",
       "      <td>1453</td>\n",
       "      <td>66</td>\n",
       "      <td>1388</td>\n",
       "      <td>0.258</td>\n",
       "      <td>0.333</td>\n",
       "      <td>0.410</td>\n",
       "      <td>107</td>\n",
       "      <td>1224</td>\n",
       "      <td>194259933</td>\n",
       "      <td>286</td>\n",
       "      <td>34</td>\n",
       "      <td>167</td>\n",
       "      <td>576.0</td>\n",
       "      <td>107</td>\n",
       "      <td>46.0</td>\n",
       "      <td>38.0</td>\n",
       "      <td>19.084708</td>\n",
       "    </tr>\n",
       "  </tbody>\n",
       "</table>\n",
       "</div>"
      ],
      "text/plain": [
       "   const     H   SB    SO     BA    OBP    SLG  GDP   LOB     salary   2B  3B  \\\n",
       "0    1.0  1283   79  1460  0.235  0.310  0.397  110  1086  143324597  259  50   \n",
       "1    1.0  1433   90  1290  0.257  0.324  0.417   99  1143  130649395  314  29   \n",
       "2    1.0  1317   81  1412  0.239  0.298  0.391  132  1027  127633703  242  15   \n",
       "3    1.0  1509  125  1253  0.268  0.339  0.453  130  1124  227398860  355  31   \n",
       "4    1.0  1453   66  1388  0.258  0.333  0.410  107  1224  194259933  286  34   \n",
       "\n",
       "    HR     BB  BPF    SF    CS  salary_log  \n",
       "0  176  560.0  108  45.0  25.0   18.780623  \n",
       "1  175  511.0  100  43.0  36.0   18.688028  \n",
       "2  188  422.0   96  35.0  22.0   18.664675  \n",
       "3  208  569.0  104  48.0  31.0   19.242216  \n",
       "4  167  576.0  107  46.0  38.0   19.084708  "
      ]
     },
     "execution_count": 30,
     "metadata": {},
     "output_type": "execute_result"
    }
   ],
   "source": [
    "#Defining the dependent and independent variables, and adding a constant. \n",
    "y = df_final.R\n",
    "X = df_final.drop(['Team','Year','HRA', 'RA/G','DefEff','E','DPA','W','L', 'W-L%','RA/G',\n",
    "                   'WAR','ERA','tSho','HA','BBA','SOA','ER','FP','R','R/G','RBI','RD','RA'], axis = 1)\n",
    "X = sm.add_constant(X) \n",
    "X.head()"
   ]
  },
  {
   "cell_type": "code",
   "execution_count": 31,
   "metadata": {
    "application/vnd.databricks.v1+cell": {
     "inputWidgets": {},
     "nuid": "ec9cb912-7374-4da4-8ab0-ce539b3ff2c7",
     "showTitle": false,
     "title": ""
    }
   },
   "outputs": [
    {
     "data": {
      "image/png": "[encoded data removed]",
      "text/plain": [
       "<Figure size 1080x288 with 8 Axes>"
      ]
     },
     "metadata": {
      "needs_background": "light"
     },
     "output_type": "display_data"
    }
   ],
   "source": [
    "# Boxplots for every independent variable \n",
    "selection = ['H', 'SB', 'SO', 'BA', 'OBP', 'SLG', 'GDP', 'LOB']\n",
    "fig, ax = plt.subplots(1, len(selection), figsize=(15, 4))\n",
    "i = 0\n",
    "for col in selection:\n",
    "    axo = X[col].plot(kind='box', ax=ax[i], showfliers=True, grid=True)\n",
    "    axo.set_ylim(X[col].min(), X[col].max())\n",
    "    #axo.set_ylabel(col)\n",
    "    i += 1\n",
    "\n",
    "plt.tight_layout()\n",
    "plt.show()"
   ]
  },
  {
   "cell_type": "code",
   "execution_count": 32,
   "metadata": {
    "application/vnd.databricks.v1+cell": {
     "inputWidgets": {},
     "nuid": "1cf68bd5-1b78-41fe-b552-feecb42d7bb3",
     "showTitle": false,
     "title": ""
    }
   },
   "outputs": [
    {
     "data": {
      "image/png": "[encoded data removed]",
      "text/plain": [
       "<Figure size 1080x288 with 8 Axes>"
      ]
     },
     "metadata": {
      "needs_background": "light"
     },
     "output_type": "display_data"
    }
   ],
   "source": [
    "selection = ['salary','2B','3B','HR','BB','BPF','SF','CS']\n",
    "fig, ax = plt.subplots(1, len(selection), figsize=(15, 4))\n",
    "i = 0\n",
    "for col in selection:\n",
    "    axo = X[col].plot(kind='box', ax=ax[i], showfliers=True, grid=True)\n",
    "    axo.set_ylim(X[col].min(), X[col].max())\n",
    "    #axo.set_ylabel(col)\n",
    "    i += 1\n",
    "\n",
    "plt.tight_layout()\n",
    "plt.show()"
   ]
  },
  {
   "cell_type": "code",
   "execution_count": 33,
   "metadata": {
    "application/vnd.databricks.v1+cell": {
     "inputWidgets": {},
     "nuid": "6d82fab1-9a12-41fb-998e-df452c388c20",
     "showTitle": false,
     "title": ""
    }
   },
   "outputs": [],
   "source": [
    "#Function to determine outliers. In this case, we will be a little more flexible, and allow for values lying outside 2 times the IQR (above or bellow) \n",
    "def outliers(data, col_name):\n",
    "    Q1=np.percentile(np.array(data[col_name].tolist()), 25)\n",
    "    Q3=np.percentile(np.array(data[col_name].tolist()), 75)\n",
    "    IQR=Q3-Q1\n",
    "    LS= Q3 + (2*IQR)\n",
    "    LI= Q1 - (2*IQR)\n",
    "    number_outliers = 0\n",
    "                      \n",
    "    for value in data[col_name].tolist():\n",
    "        if (value < LI) | (value > LS):\n",
    "            number_outliers +=1\n",
    "\n",
    "    return LS, LI, number_outliers"
   ]
  },
  {
   "cell_type": "code",
   "execution_count": 0,
   "metadata": {
    "application/vnd.databricks.v1+cell": {
     "inputWidgets": {},
     "nuid": "83df90ba-bb0e-4d88-936f-220e2316b541",
     "showTitle": false,
     "title": ""
    }
   },
   "outputs": [
    {
     "data": {
      "text/plain": [
       "salary: 1 outliers. The acceptable range is [276851547.5 - -34263383.75]. \n",
       "2B: 1 outliers. The acceptable range is [356.0 - 191.0]. \n",
       "BPF: 2 outliers. The acceptable range is [117.0 - 82.0]. \n"
      ]
     },
     "metadata": {
      "application/vnd.databricks.v1+output": {
       "addedWidgets": {},
       "arguments": {},
       "data": "salary: 1 outliers. The acceptable range is [276851547.5 - -34263383.75]. \n2B: 1 outliers. The acceptable range is [356.0 - 191.0]. \nBPF: 2 outliers. The acceptable range is [117.0 - 82.0]. \n",
       "datasetInfos": [],
       "metadata": {},
       "removedWidgets": [],
       "type": "ansi"
      }
     },
     "output_type": "display_data"
    }
   ],
   "source": [
    "# s=superior i=inferior n=number of outliers\n",
    "for column in X[['H', 'SB', 'SO', 'BA', 'OBP', 'SLG', 'GDP','LOB','salary','2B','3B','HR','BB','BPF','SF','CS']]:\n",
    "    s,i,n = outliers(X, column)\n",
    "    if n > 0:\n",
    "        print(\"{}: {} outliers. The acceptable range is [{} - {}]. \".format(column, n, s, i))"
   ]
  },
  {
   "cell_type": "code",
   "execution_count": 0,
   "metadata": {
    "application/vnd.databricks.v1+cell": {
     "inputWidgets": {},
     "nuid": "8e24d463-675d-4943-921d-d5c2c2a3bd4c",
     "showTitle": false,
     "title": ""
    }
   },
   "outputs": [
    {
     "data": {
      "text/plain": [
       "    Team     salary  Year\n",
       "103  LAD  301735080  2015\n",
       "    Team   2B  Year\n",
       "153  BOS  363  2013\n",
       "    Team  BPF  Year\n",
       "188  COL  120  2012\n",
       "98   COL  119  2015\n"
      ]
     },
     "metadata": {
      "application/vnd.databricks.v1+output": {
       "addedWidgets": {},
       "arguments": {},
       "data": "    Team     salary  Year\n103  LAD  301735080  2015\n    Team   2B  Year\n153  BOS  363  2013\n    Team  BPF  Year\n188  COL  120  2012\n98   COL  119  2015\n",
       "datasetInfos": [],
       "metadata": {},
       "removedWidgets": [],
       "type": "ansi"
      }
     },
     "output_type": "display_data"
    }
   ],
   "source": [
    "#Identifying outliers specifically\n",
    "print(df_final[['Team','salary', 'Year']].sort_values('salary',ascending=False).head(1))\n",
    "print(df_final[['Team','2B', 'Year']].sort_values('2B',ascending=False).head(1))\n",
    "print(df_final[['Team','BPF','Year']].sort_values('BPF',ascending=False).head(2))"
   ]
  },
  {
   "cell_type": "markdown",
   "metadata": {
    "application/vnd.databricks.v1+cell": {
     "inputWidgets": {},
     "nuid": "ec7fe74d-ed83-4b44-b763-8f677ef39e4a",
     "showTitle": false,
     "title": ""
    }
   },
   "source": [
    "When evaluating the four outliers in detail, we decide not to eliminate them, since they are not mistakes. Specifically, the Dodgers (LAD) are historically one of the highest-spending teams per season, so the 2015 salary makes sense. In the case of Boston's number of doubles (2B) in 2013, this data point was confirmed in Baseball Reference. And lastly, it makes sense for Colorado's BPF (Batting Park Factor) to be so high, since Colorado's altitude plus the size of the field make it the most hitter friendly ballpark in MLB."
   ]
  },
  {
   "cell_type": "code",
   "execution_count": 0,
   "metadata": {
    "application/vnd.databricks.v1+cell": {
     "inputWidgets": {},
     "nuid": "41359a11-af08-4fc6-b70e-f5046fe647d4",
     "showTitle": false,
     "title": ""
    }
   },
   "outputs": [
    {
     "data": {
      "text/plain": [
       "Out[38]: SLG           0.903265\n",
       "OBP           0.828407\n",
       "HR            0.694104\n",
       "BA            0.646525\n",
       "H             0.644667\n",
       "2B            0.605661\n",
       "BB            0.521056\n",
       "salary_log    0.391321\n",
       "SF            0.370351\n",
       "salary        0.361306\n",
       "BPF           0.343738\n",
       "LOB           0.198526\n",
       "GDP           0.082662\n",
       "SO           -0.016434\n",
       "SB           -0.019332\n",
       "3B           -0.036319\n",
       "CS           -0.217808\n",
       "const              NaN\n",
       "dtype: float64"
      ]
     },
     "metadata": {
      "application/vnd.databricks.v1+output": {
       "addedWidgets": {},
       "arguments": {},
       "data": "Out[38]: SLG           0.903265\nOBP           0.828407\nHR            0.694104\nBA            0.646525\nH             0.644667\n2B            0.605661\nBB            0.521056\nsalary_log    0.391321\nSF            0.370351\nsalary        0.361306\nBPF           0.343738\nLOB           0.198526\nGDP           0.082662\nSO           -0.016434\nSB           -0.019332\n3B           -0.036319\nCS           -0.217808\nconst              NaN\ndtype: float64",
       "datasetInfos": [],
       "metadata": {},
       "removedWidgets": [],
       "type": "ansi"
      }
     },
     "output_type": "display_data"
    }
   ],
   "source": [
    "#We again fin the correlation with runs scored, but without the stats eliminated before.\n",
    "X.corrwith(df[\"R\"]).sort_values(ascending=False)"
   ]
  },
  {
   "cell_type": "code",
   "execution_count": 0,
   "metadata": {
    "application/vnd.databricks.v1+cell": {
     "inputWidgets": {},
     "nuid": "b3011061-be65-4da3-a436-f6b0b6e13001",
     "showTitle": false,
     "title": ""
    }
   },
   "outputs": [],
   "source": [
    "#Correlation between all variables, including the dependent variable\n",
    "df_correl = df_final.drop(['Team','Year','HRA', 'RA/G','DefEff','E','DPA','W','L', 'W-L%','RA/G',\n",
    "                   'WAR','ERA','tSho','HA','BBA','SOA','ER','FP','R/G','RBI','RD','RA'], axis = 1)\n",
    "corr = df_correl.corr()"
   ]
  },
  {
   "cell_type": "code",
   "execution_count": 0,
   "metadata": {
    "application/vnd.databricks.v1+cell": {
     "inputWidgets": {},
     "nuid": "3d86ff99-72cd-4b08-9c02-a8448c64cf05",
     "showTitle": false,
     "title": ""
    }
   },
   "outputs": [
    {
     "data": {
      "text/plain": [
       "Out[41]: <AxesSubplot:>"
      ]
     },
     "metadata": {
      "application/vnd.databricks.v1+output": {
       "addedWidgets": {},
       "arguments": {},
       "data": "Out[41]: <AxesSubplot:>",
       "datasetInfos": [],
       "metadata": {},
       "removedWidgets": [],
       "type": "ansi"
      }
     },
     "output_type": "display_data"
    },
    {
     "data": {
      "image/png": "[encoded data removed]"
     },
     "metadata": {
      "application/vnd.databricks.v1+output": {
       "addedWidgets": {},
       "arguments": {},
       "data": "data:image/png;base64,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\n",
       "datasetInfos": [],
       "metadata": {},
       "removedWidgets": [],
       "type": "image"
      }
     },
     "output_type": "display_data"
    }
   ],
   "source": [
    "# Correlation heatmap\n",
    "# Generate a mask for the upper triangle\n",
    "mask = np.triu(np.ones_like(corr, dtype=bool))\n",
    "\n",
    "# Set up the matplotlib figure\n",
    "f, ax = plt.subplots(figsize=(15, 15))\n",
    "\n",
    "# Generate a custom diverging colormap\n",
    "cmap = sns.diverging_palette(250, 10, as_cmap=True)\n",
    "\n",
    "# Draw the heatmap with the mask and correct aspect ratio\n",
    "sns.heatmap(corr, annot = True, mask=mask, cmap=cmap, vmax=.3, center=0,\n",
    "            square=True, linewidths=.5, cbar_kws={\"shrink\": .5})"
   ]
  },
  {
   "cell_type": "markdown",
   "metadata": {
    "application/vnd.databricks.v1+cell": {
     "inputWidgets": {},
     "nuid": "3847eb1a-38a0-494a-96b1-d97459aaaa68",
     "showTitle": false,
     "title": ""
    }
   },
   "source": [
    "### 4. Evaluate Algorithms"
   ]
  },
  {
   "cell_type": "markdown",
   "metadata": {
    "application/vnd.databricks.v1+cell": {
     "inputWidgets": {},
     "nuid": "d78b649c-194c-4aaf-bd26-2dca8ff53586",
     "showTitle": false,
     "title": ""
    }
   },
   "source": [
    "#### 4.a) Split-out validation dataset"
   ]
  },
  {
   "cell_type": "code",
   "execution_count": 0,
   "metadata": {
    "application/vnd.databricks.v1+cell": {
     "inputWidgets": {},
     "nuid": "e2f59e04-4ccf-4a4d-a9cd-b97657c1a37c",
     "showTitle": false,
     "title": ""
    }
   },
   "outputs": [
    {
     "data": {
      "text/html": [
       "<div>\n",
       "<style scoped>\n",
       "    .dataframe tbody tr th:only-of-type {\n",
       "        vertical-align: middle;\n",
       "    }\n",
       "\n",
       "    .dataframe tbody tr th {\n",
       "        vertical-align: top;\n",
       "    }\n",
       "\n",
       "    .dataframe thead th {\n",
       "        text-align: right;\n",
       "    }\n",
       "</style>\n",
       "<table border=\"1\" class=\"dataframe\">\n",
       "  <thead>\n",
       "    <tr style=\"text-align: right;\">\n",
       "      <th></th>\n",
       "      <th>const</th>\n",
       "      <th>H</th>\n",
       "      <th>SB</th>\n",
       "      <th>SO</th>\n",
       "      <th>BA</th>\n",
       "      <th>OBP</th>\n",
       "      <th>SLG</th>\n",
       "      <th>GDP</th>\n",
       "      <th>LOB</th>\n",
       "      <th>salary</th>\n",
       "      <th>2B</th>\n",
       "      <th>3B</th>\n",
       "      <th>HR</th>\n",
       "      <th>BB</th>\n",
       "      <th>BPF</th>\n",
       "      <th>SF</th>\n",
       "      <th>CS</th>\n",
       "      <th>salary_log</th>\n",
       "    </tr>\n",
       "  </thead>\n",
       "  <tbody>\n",
       "    <tr>\n",
       "      <th>106</th>\n",
       "      <td>1.0</td>\n",
       "      <td>1349</td>\n",
       "      <td>70</td>\n",
       "      <td>1264</td>\n",
       "      <td>0.247</td>\n",
       "      <td>0.305</td>\n",
       "      <td>0.399</td>\n",
       "      <td>133</td>\n",
       "      <td>993</td>\n",
       "      <td>107981818</td>\n",
       "      <td>277</td>\n",
       "      <td>44</td>\n",
       "      <td>156</td>\n",
       "      <td>439.0</td>\n",
       "      <td>103</td>\n",
       "      <td>41.0</td>\n",
       "      <td>38.0</td>\n",
       "      <td>18.497473</td>\n",
       "    </tr>\n",
       "    <tr>\n",
       "      <th>151</th>\n",
       "      <td>1.0</td>\n",
       "      <td>1354</td>\n",
       "      <td>64</td>\n",
       "      <td>1384</td>\n",
       "      <td>0.249</td>\n",
       "      <td>0.321</td>\n",
       "      <td>0.402</td>\n",
       "      <td>119</td>\n",
       "      <td>1132</td>\n",
       "      <td>94947950</td>\n",
       "      <td>247</td>\n",
       "      <td>21</td>\n",
       "      <td>181</td>\n",
       "      <td>542.0</td>\n",
       "      <td>104</td>\n",
       "      <td>35.0</td>\n",
       "      <td>31.0</td>\n",
       "      <td>18.368839</td>\n",
       "    </tr>\n",
       "    <tr>\n",
       "      <th>94</th>\n",
       "      <td>1.0</td>\n",
       "      <td>1341</td>\n",
       "      <td>95</td>\n",
       "      <td>1518</td>\n",
       "      <td>0.244</td>\n",
       "      <td>0.321</td>\n",
       "      <td>0.398</td>\n",
       "      <td>101</td>\n",
       "      <td>1165</td>\n",
       "      <td>132993810</td>\n",
       "      <td>272</td>\n",
       "      <td>30</td>\n",
       "      <td>171</td>\n",
       "      <td>567.0</td>\n",
       "      <td>100</td>\n",
       "      <td>35.0</td>\n",
       "      <td>37.0</td>\n",
       "      <td>18.705813</td>\n",
       "    </tr>\n",
       "    <tr>\n",
       "      <th>84</th>\n",
       "      <td>1.0</td>\n",
       "      <td>1437</td>\n",
       "      <td>79</td>\n",
       "      <td>1107</td>\n",
       "      <td>0.258</td>\n",
       "      <td>0.329</td>\n",
       "      <td>0.398</td>\n",
       "      <td>120</td>\n",
       "      <td>1188</td>\n",
       "      <td>146536553</td>\n",
       "      <td>280</td>\n",
       "      <td>54</td>\n",
       "      <td>130</td>\n",
       "      <td>572.0</td>\n",
       "      <td>103</td>\n",
       "      <td>46.0</td>\n",
       "      <td>36.0</td>\n",
       "      <td>18.802785</td>\n",
       "    </tr>\n",
       "    <tr>\n",
       "      <th>193</th>\n",
       "      <td>1.0</td>\n",
       "      <td>1369</td>\n",
       "      <td>104</td>\n",
       "      <td>1156</td>\n",
       "      <td>0.252</td>\n",
       "      <td>0.317</td>\n",
       "      <td>0.374</td>\n",
       "      <td>139</td>\n",
       "      <td>1112</td>\n",
       "      <td>120784717</td>\n",
       "      <td>269</td>\n",
       "      <td>23</td>\n",
       "      <td>116</td>\n",
       "      <td>481.0</td>\n",
       "      <td>96</td>\n",
       "      <td>38.0</td>\n",
       "      <td>44.0</td>\n",
       "      <td>18.609520</td>\n",
       "    </tr>\n",
       "  </tbody>\n",
       "</table>\n",
       "</div>"
      ]
     },
     "metadata": {
      "application/vnd.databricks.v1+output": {
       "addedWidgets": {},
       "arguments": {},
       "data": "<div>\n<style scoped>\n    .dataframe tbody tr th:only-of-type {\n        vertical-align: middle;\n    }\n\n    .dataframe tbody tr th {\n        vertical-align: top;\n    }\n\n    .dataframe thead th {\n        text-align: right;\n    }\n</style>\n<table border=\"1\" class=\"dataframe\">\n  <thead>\n    <tr style=\"text-align: right;\">\n      <th></th>\n      <th>const</th>\n      <th>H</th>\n      <th>SB</th>\n      <th>SO</th>\n      <th>BA</th>\n      <th>OBP</th>\n      <th>SLG</th>\n      <th>GDP</th>\n      <th>LOB</th>\n      <th>salary</th>\n      <th>2B</th>\n      <th>3B</th>\n      <th>HR</th>\n      <th>BB</th>\n      <th>BPF</th>\n      <th>SF</th>\n      <th>CS</th>\n      <th>salary_log</th>\n    </tr>\n  </thead>\n  <tbody>\n    <tr>\n      <th>106</th>\n      <td>1.0</td>\n      <td>1349</td>\n      <td>70</td>\n      <td>1264</td>\n      <td>0.247</td>\n      <td>0.305</td>\n      <td>0.399</td>\n      <td>133</td>\n      <td>993</td>\n      <td>107981818</td>\n      <td>277</td>\n      <td>44</td>\n      <td>156</td>\n      <td>439.0</td>\n      <td>103</td>\n      <td>41.0</td>\n      <td>38.0</td>\n      <td>18.497473</td>\n    </tr>\n    <tr>\n      <th>151</th>\n      <td>1.0</td>\n      <td>1354</td>\n      <td>64</td>\n      <td>1384</td>\n      <td>0.249</td>\n      <td>0.321</td>\n      <td>0.402</td>\n      <td>119</td>\n      <td>1132</td>\n      <td>94947950</td>\n      <td>247</td>\n      <td>21</td>\n      <td>181</td>\n      <td>542.0</td>\n      <td>104</td>\n      <td>35.0</td>\n      <td>31.0</td>\n      <td>18.368839</td>\n    </tr>\n    <tr>\n      <th>94</th>\n      <td>1.0</td>\n      <td>1341</td>\n      <td>95</td>\n      <td>1518</td>\n      <td>0.244</td>\n      <td>0.321</td>\n      <td>0.398</td>\n      <td>101</td>\n      <td>1165</td>\n      <td>132993810</td>\n      <td>272</td>\n      <td>30</td>\n      <td>171</td>\n      <td>567.0</td>\n      <td>100</td>\n      <td>35.0</td>\n      <td>37.0</td>\n      <td>18.705813</td>\n    </tr>\n    <tr>\n      <th>84</th>\n      <td>1.0</td>\n      <td>1437</td>\n      <td>79</td>\n      <td>1107</td>\n      <td>0.258</td>\n      <td>0.329</td>\n      <td>0.398</td>\n      <td>120</td>\n      <td>1188</td>\n      <td>146536553</td>\n      <td>280</td>\n      <td>54</td>\n      <td>130</td>\n      <td>572.0</td>\n      <td>103</td>\n      <td>46.0</td>\n      <td>36.0</td>\n      <td>18.802785</td>\n    </tr>\n    <tr>\n      <th>193</th>\n      <td>1.0</td>\n      <td>1369</td>\n      <td>104</td>\n      <td>1156</td>\n      <td>0.252</td>\n      <td>0.317</td>\n      <td>0.374</td>\n      <td>139</td>\n      <td>1112</td>\n      <td>120784717</td>\n      <td>269</td>\n      <td>23</td>\n      <td>116</td>\n      <td>481.0</td>\n      <td>96</td>\n      <td>38.0</td>\n      <td>44.0</td>\n      <td>18.609520</td>\n    </tr>\n  </tbody>\n</table>\n</div>",
       "datasetInfos": [],
       "metadata": {},
       "removedWidgets": [],
       "textData": null,
       "type": "htmlSandbox"
      }
     },
     "output_type": "display_data"
    }
   ],
   "source": [
    "#Splitting the data into test and training \n",
    "x_train,x_test,y_train,y_test=train_test_split(X,y,test_size=0.2,random_state = 1)\n",
    "x_train.head()"
   ]
  },
  {
   "cell_type": "code",
   "execution_count": 0,
   "metadata": {
    "application/vnd.databricks.v1+cell": {
     "inputWidgets": {},
     "nuid": "82a5b63d-e596-40b4-b720-86af8fcd67a0",
     "showTitle": false,
     "title": ""
    }
   },
   "outputs": [
    {
     "data": {
      "text/plain": [
       "Out[43]: (168, 18)"
      ]
     },
     "metadata": {
      "application/vnd.databricks.v1+output": {
       "addedWidgets": {},
       "arguments": {},
       "data": "Out[43]: (168, 18)",
       "datasetInfos": [],
       "metadata": {},
       "removedWidgets": [],
       "type": "ansi"
      }
     },
     "output_type": "display_data"
    }
   ],
   "source": [
    "x_train.shape"
   ]
  },
  {
   "cell_type": "code",
   "execution_count": 0,
   "metadata": {
    "application/vnd.databricks.v1+cell": {
     "inputWidgets": {},
     "nuid": "585d29a2-8832-4302-8b22-037b0e0b04c7",
     "showTitle": false,
     "title": ""
    }
   },
   "outputs": [
    {
     "data": {
      "text/plain": [
       "Out[44]: (168,)"
      ]
     },
     "metadata": {
      "application/vnd.databricks.v1+output": {
       "addedWidgets": {},
       "arguments": {},
       "data": "Out[44]: (168,)",
       "datasetInfos": [],
       "metadata": {},
       "removedWidgets": [],
       "type": "ansi"
      }
     },
     "output_type": "display_data"
    }
   ],
   "source": [
    "y_train.shape"
   ]
  },
  {
   "cell_type": "code",
   "execution_count": 0,
   "metadata": {
    "application/vnd.databricks.v1+cell": {
     "inputWidgets": {},
     "nuid": "11c7b939-7427-4de7-b973-c5af187c0f71",
     "showTitle": false,
     "title": ""
    }
   },
   "outputs": [
    {
     "data": {
      "text/html": [
       "<div>\n",
       "<style scoped>\n",
       "    .dataframe tbody tr th:only-of-type {\n",
       "        vertical-align: middle;\n",
       "    }\n",
       "\n",
       "    .dataframe tbody tr th {\n",
       "        vertical-align: top;\n",
       "    }\n",
       "\n",
       "    .dataframe thead th {\n",
       "        text-align: right;\n",
       "    }\n",
       "</style>\n",
       "<table border=\"1\" class=\"dataframe\">\n",
       "  <thead>\n",
       "    <tr style=\"text-align: right;\">\n",
       "      <th></th>\n",
       "      <th>const</th>\n",
       "      <th>H</th>\n",
       "      <th>SB</th>\n",
       "      <th>SO</th>\n",
       "      <th>BA</th>\n",
       "      <th>OBP</th>\n",
       "      <th>SLG</th>\n",
       "      <th>GDP</th>\n",
       "      <th>LOB</th>\n",
       "      <th>salary</th>\n",
       "      <th>2B</th>\n",
       "      <th>3B</th>\n",
       "      <th>HR</th>\n",
       "      <th>BB</th>\n",
       "      <th>BPF</th>\n",
       "      <th>SF</th>\n",
       "      <th>CS</th>\n",
       "      <th>salary_log</th>\n",
       "    </tr>\n",
       "  </thead>\n",
       "  <tbody>\n",
       "    <tr>\n",
       "      <th>106</th>\n",
       "      <td>1.0</td>\n",
       "      <td>1349</td>\n",
       "      <td>70</td>\n",
       "      <td>1264</td>\n",
       "      <td>0.247</td>\n",
       "      <td>0.305</td>\n",
       "      <td>0.399</td>\n",
       "      <td>133</td>\n",
       "      <td>993</td>\n",
       "      <td>107981818</td>\n",
       "      <td>277</td>\n",
       "      <td>44</td>\n",
       "      <td>156</td>\n",
       "      <td>439.0</td>\n",
       "      <td>103</td>\n",
       "      <td>41.0</td>\n",
       "      <td>38.0</td>\n",
       "      <td>18.497473</td>\n",
       "    </tr>\n",
       "    <tr>\n",
       "      <th>151</th>\n",
       "      <td>1.0</td>\n",
       "      <td>1354</td>\n",
       "      <td>64</td>\n",
       "      <td>1384</td>\n",
       "      <td>0.249</td>\n",
       "      <td>0.321</td>\n",
       "      <td>0.402</td>\n",
       "      <td>119</td>\n",
       "      <td>1132</td>\n",
       "      <td>94947950</td>\n",
       "      <td>247</td>\n",
       "      <td>21</td>\n",
       "      <td>181</td>\n",
       "      <td>542.0</td>\n",
       "      <td>104</td>\n",
       "      <td>35.0</td>\n",
       "      <td>31.0</td>\n",
       "      <td>18.368839</td>\n",
       "    </tr>\n",
       "  </tbody>\n",
       "</table>\n",
       "</div>"
      ]
     },
     "metadata": {
      "application/vnd.databricks.v1+output": {
       "addedWidgets": {},
       "arguments": {},
       "data": "<div>\n<style scoped>\n    .dataframe tbody tr th:only-of-type {\n        vertical-align: middle;\n    }\n\n    .dataframe tbody tr th {\n        vertical-align: top;\n    }\n\n    .dataframe thead th {\n        text-align: right;\n    }\n</style>\n<table border=\"1\" class=\"dataframe\">\n  <thead>\n    <tr style=\"text-align: right;\">\n      <th></th>\n      <th>const</th>\n      <th>H</th>\n      <th>SB</th>\n      <th>SO</th>\n      <th>BA</th>\n      <th>OBP</th>\n      <th>SLG</th>\n      <th>GDP</th>\n      <th>LOB</th>\n      <th>salary</th>\n      <th>2B</th>\n      <th>3B</th>\n      <th>HR</th>\n      <th>BB</th>\n      <th>BPF</th>\n      <th>SF</th>\n      <th>CS</th>\n      <th>salary_log</th>\n    </tr>\n  </thead>\n  <tbody>\n    <tr>\n      <th>106</th>\n      <td>1.0</td>\n      <td>1349</td>\n      <td>70</td>\n      <td>1264</td>\n      <td>0.247</td>\n      <td>0.305</td>\n      <td>0.399</td>\n      <td>133</td>\n      <td>993</td>\n      <td>107981818</td>\n      <td>277</td>\n      <td>44</td>\n      <td>156</td>\n      <td>439.0</td>\n      <td>103</td>\n      <td>41.0</td>\n      <td>38.0</td>\n      <td>18.497473</td>\n    </tr>\n    <tr>\n      <th>151</th>\n      <td>1.0</td>\n      <td>1354</td>\n      <td>64</td>\n      <td>1384</td>\n      <td>0.249</td>\n      <td>0.321</td>\n      <td>0.402</td>\n      <td>119</td>\n      <td>1132</td>\n      <td>94947950</td>\n      <td>247</td>\n      <td>21</td>\n      <td>181</td>\n      <td>542.0</td>\n      <td>104</td>\n      <td>35.0</td>\n      <td>31.0</td>\n      <td>18.368839</td>\n    </tr>\n  </tbody>\n</table>\n</div>",
       "datasetInfos": [],
       "metadata": {},
       "removedWidgets": [],
       "textData": null,
       "type": "htmlSandbox"
      }
     },
     "output_type": "display_data"
    }
   ],
   "source": [
    "x_train.head(2)"
   ]
  },
  {
   "cell_type": "markdown",
   "metadata": {
    "application/vnd.databricks.v1+cell": {
     "inputWidgets": {},
     "nuid": "0621388f-ed92-4369-b430-0e8b4b2f7b6e",
     "showTitle": false,
     "title": ""
    }
   },
   "source": [
    "We define a function that helps us identify the best model containing a given number of predictors, where best is quantified using RSS (residual sum of squares)."
   ]
  },
  {
   "cell_type": "code",
   "execution_count": 0,
   "metadata": {
    "application/vnd.databricks.v1+cell": {
     "inputWidgets": {},
     "nuid": "77d76820-a88e-442c-be1b-e23c9f823255",
     "showTitle": false,
     "title": ""
    }
   },
   "outputs": [],
   "source": [
    "def processSubset(feature_set):\n",
    "    # Fit model on feature_set and calculate RSS\n",
    "    model = sm.OLS(y_train,x_train[list(feature_set)])\n",
    "    regr = model.fit()\n",
    "    RSS = ((regr.predict(x_train[list(feature_set)]) - y_train) ** 2).sum()\n",
    "    return {\"model\":regr, \"RSS\":RSS}"
   ]
  },
  {
   "cell_type": "code",
   "execution_count": 0,
   "metadata": {
    "application/vnd.databricks.v1+cell": {
     "inputWidgets": {},
     "nuid": "0234aa22-5c49-46a8-8cfc-1ec8f8af542a",
     "showTitle": false,
     "title": ""
    }
   },
   "outputs": [],
   "source": [
    "def getBest(k):\n",
    "    \n",
    "    tic = time.time()\n",
    "    \n",
    "    results = []\n",
    "    \n",
    "    for combo in itertools.combinations(x_train.columns.difference(['const']), k):\n",
    "        combo=(list(combo)+['const'])\n",
    "        results.append(processSubset(combo))\n",
    "     \n",
    "    # Wrap everything up in a dataframe\n",
    "    models = pd.DataFrame(results)\n",
    "    \n",
    "    # Choose the model with the lowest RSS\n",
    "    best_model = models.loc[models['RSS'].argmin()]\n",
    "    \n",
    "    toc = time.time()\n",
    "    print(\"Processed\", models.shape[0], \"models on\", k, \"predictors in\", (toc-tic), \"seconds.\")\n",
    "    \n",
    "    # Return the best model\n",
    "    return best_model"
   ]
  },
  {
   "cell_type": "code",
   "execution_count": 0,
   "metadata": {
    "application/vnd.databricks.v1+cell": {
     "inputWidgets": {},
     "nuid": "a499eba9-5963-468b-bcbb-695dc5d59ccf",
     "showTitle": false,
     "title": ""
    }
   },
   "outputs": [
    {
     "data": {
      "text/plain": [
       "Processed 17 models on 1 predictors in 0.06679558753967285 seconds.\n",
       "Processed 136 models on 2 predictors in 0.5025022029876709 seconds.\n",
       "Processed 680 models on 3 predictors in 2.7361907958984375 seconds.\n",
       "Processed 2380 models on 4 predictors in 8.988107442855835 seconds.\n",
       "Total elapsed time: 12.355865478515625 seconds.\n"
      ]
     },
     "metadata": {
      "application/vnd.databricks.v1+output": {
       "addedWidgets": {},
       "arguments": {},
       "data": "Processed 17 models on 1 predictors in 0.06679558753967285 seconds.\nProcessed 136 models on 2 predictors in 0.5025022029876709 seconds.\nProcessed 680 models on 3 predictors in 2.7361907958984375 seconds.\nProcessed 2380 models on 4 predictors in 8.988107442855835 seconds.\nTotal elapsed time: 12.355865478515625 seconds.\n",
       "datasetInfos": [],
       "metadata": {},
       "removedWidgets": [],
       "type": "ansi"
      }
     },
     "output_type": "display_data"
    }
   ],
   "source": [
    "#For simplicity, we only try models up to 4 predictors. \n",
    "models_best = pd.DataFrame(columns=[\"RSS\", \"model\"])\n",
    "\n",
    "tic = time.time()\n",
    "for i in range(1,5):\n",
    "    models_best.loc[i] = getBest(i)\n",
    "\n",
    "toc = time.time()\n",
    "print(\"Total elapsed time:\", (toc-tic), \"seconds.\")"
   ]
  },
  {
   "cell_type": "code",
   "execution_count": 0,
   "metadata": {
    "application/vnd.databricks.v1+cell": {
     "inputWidgets": {},
     "nuid": "c67743e0-6515-4377-9eab-202c21ee2f78",
     "showTitle": false,
     "title": ""
    }
   },
   "outputs": [
    {
     "data": {
      "text/html": [
       "<div>\n",
       "<style scoped>\n",
       "    .dataframe tbody tr th:only-of-type {\n",
       "        vertical-align: middle;\n",
       "    }\n",
       "\n",
       "    .dataframe tbody tr th {\n",
       "        vertical-align: top;\n",
       "    }\n",
       "\n",
       "    .dataframe thead th {\n",
       "        text-align: right;\n",
       "    }\n",
       "</style>\n",
       "<table border=\"1\" class=\"dataframe\">\n",
       "  <thead>\n",
       "    <tr style=\"text-align: right;\">\n",
       "      <th></th>\n",
       "      <th>RSS</th>\n",
       "      <th>model</th>\n",
       "    </tr>\n",
       "  </thead>\n",
       "  <tbody>\n",
       "    <tr>\n",
       "      <th>1</th>\n",
       "      <td>148598.251818</td>\n",
       "      <td>&lt;statsmodels.regression.linear_model.Regressio...</td>\n",
       "    </tr>\n",
       "    <tr>\n",
       "      <th>2</th>\n",
       "      <td>99182.348021</td>\n",
       "      <td>&lt;statsmodels.regression.linear_model.Regressio...</td>\n",
       "    </tr>\n",
       "    <tr>\n",
       "      <th>3</th>\n",
       "      <td>89202.830783</td>\n",
       "      <td>&lt;statsmodels.regression.linear_model.Regressio...</td>\n",
       "    </tr>\n",
       "    <tr>\n",
       "      <th>4</th>\n",
       "      <td>51583.239177</td>\n",
       "      <td>&lt;statsmodels.regression.linear_model.Regressio...</td>\n",
       "    </tr>\n",
       "  </tbody>\n",
       "</table>\n",
       "</div>"
      ]
     },
     "metadata": {
      "application/vnd.databricks.v1+output": {
       "addedWidgets": {},
       "arguments": {},
       "data": "<div>\n<style scoped>\n    .dataframe tbody tr th:only-of-type {\n        vertical-align: middle;\n    }\n\n    .dataframe tbody tr th {\n        vertical-align: top;\n    }\n\n    .dataframe thead th {\n        text-align: right;\n    }\n</style>\n<table border=\"1\" class=\"dataframe\">\n  <thead>\n    <tr style=\"text-align: right;\">\n      <th></th>\n      <th>RSS</th>\n      <th>model</th>\n    </tr>\n  </thead>\n  <tbody>\n    <tr>\n      <th>1</th>\n      <td>148598.251818</td>\n      <td>&lt;statsmodels.regression.linear_model.Regressio...</td>\n    </tr>\n    <tr>\n      <th>2</th>\n      <td>99182.348021</td>\n      <td>&lt;statsmodels.regression.linear_model.Regressio...</td>\n    </tr>\n    <tr>\n      <th>3</th>\n      <td>89202.830783</td>\n      <td>&lt;statsmodels.regression.linear_model.Regressio...</td>\n    </tr>\n    <tr>\n      <th>4</th>\n      <td>51583.239177</td>\n      <td>&lt;statsmodels.regression.linear_model.Regressio...</td>\n    </tr>\n  </tbody>\n</table>\n</div>",
       "datasetInfos": [],
       "metadata": {},
       "removedWidgets": [],
       "textData": null,
       "type": "htmlSandbox"
      }
     },
     "output_type": "display_data"
    }
   ],
   "source": [
    "models_best"
   ]
  },
  {
   "cell_type": "markdown",
   "metadata": {
    "application/vnd.databricks.v1+cell": {
     "inputWidgets": {},
     "nuid": "a4d79e94-2700-4e1c-9621-0b3d7d14118f",
     "showTitle": false,
     "title": ""
    }
   },
   "source": [
    "We print the four models and look at their summaries."
   ]
  },
  {
   "cell_type": "code",
   "execution_count": 0,
   "metadata": {
    "application/vnd.databricks.v1+cell": {
     "inputWidgets": {},
     "nuid": "2d2d24d8-22a4-47d7-bedb-ecfbf07c0d98",
     "showTitle": false,
     "title": ""
    }
   },
   "outputs": [
    {
     "data": {
      "text/plain": [
       "                            OLS Regression Results                            \n",
       "==============================================================================\n",
       "Dep. Variable:                      R   R-squared:                       0.812\n",
       "Model:                            OLS   Adj. R-squared:                  0.811\n",
       "Method:                 Least Squares   F-statistic:                     717.4\n",
       "Date:                Sat, 12 Feb 2022   Prob (F-statistic):           3.76e-62\n",
       "Time:                        22:37:38   Log-Likelihood:                -808.32\n",
       "No. Observations:                 168   AIC:                             1621.\n",
       "Df Residuals:                     166   BIC:                             1627.\n",
       "Df Model:                           1                                         \n",
       "Covariance Type:            nonrobust                                         \n",
       "==============================================================================\n",
       "                 coef    std err          t      P>|t|      [0.025      0.975]\n",
       "------------------------------------------------------------------------------\n",
       "SLG         2565.2537     95.776     26.784      0.000    2376.157    2754.350\n",
       "const       -340.8452     38.833     -8.777      0.000    -417.515    -264.175\n",
       "==============================================================================\n",
       "Omnibus:                        2.856   Durbin-Watson:                   1.651\n",
       "Prob(Omnibus):                  0.240   Jarque-Bera (JB):                2.411\n",
       "Skew:                           0.228   Prob(JB):                        0.300\n",
       "Kurtosis:                       3.369   Cond. No.                         48.3\n",
       "==============================================================================\n",
       "\n",
       "Notes:\n",
       "[1] Standard Errors assume that the covariance matrix of the errors is correctly specified.\n"
      ]
     },
     "metadata": {
      "application/vnd.databricks.v1+output": {
       "addedWidgets": {},
       "arguments": {},
       "data": "                            OLS Regression Results                            \n==============================================================================\nDep. Variable:                      R   R-squared:                       0.812\nModel:                            OLS   Adj. R-squared:                  0.811\nMethod:                 Least Squares   F-statistic:                     717.4\nDate:                Sat, 12 Feb 2022   Prob (F-statistic):           3.76e-62\nTime:                        22:37:38   Log-Likelihood:                -808.32\nNo. Observations:                 168   AIC:                             1621.\nDf Residuals:                     166   BIC:                             1627.\nDf Model:                           1                                         \nCovariance Type:            nonrobust                                         \n==============================================================================\n                 coef    std err          t      P>|t|      [0.025      0.975]\n------------------------------------------------------------------------------\nSLG         2565.2537     95.776     26.784      0.000    2376.157    2754.350\nconst       -340.8452     38.833     -8.777      0.000    -417.515    -264.175\n==============================================================================\nOmnibus:                        2.856   Durbin-Watson:                   1.651\nProb(Omnibus):                  0.240   Jarque-Bera (JB):                2.411\nSkew:                           0.228   Prob(JB):                        0.300\nKurtosis:                       3.369   Cond. No.                         48.3\n==============================================================================\n\nNotes:\n[1] Standard Errors assume that the covariance matrix of the errors is correctly specified.\n",
       "datasetInfos": [],
       "metadata": {},
       "removedWidgets": [],
       "type": "ansi"
      }
     },
     "output_type": "display_data"
    }
   ],
   "source": [
    "print(models_best.loc[1, \"model\"].summary())"
   ]
  },
  {
   "cell_type": "code",
   "execution_count": 0,
   "metadata": {
    "application/vnd.databricks.v1+cell": {
     "inputWidgets": {},
     "nuid": "19eeef74-e8ee-4ce6-a081-322a8d9c0a26",
     "showTitle": false,
     "title": ""
    }
   },
   "outputs": [
    {
     "data": {
      "text/plain": [
       "                            OLS Regression Results                            \n",
       "==============================================================================\n",
       "Dep. Variable:                      R   R-squared:                       0.875\n",
       "Model:                            OLS   Adj. R-squared:                  0.873\n",
       "Method:                 Least Squares   F-statistic:                     575.3\n",
       "Date:                Sat, 12 Feb 2022   Prob (F-statistic):           4.14e-75\n",
       "Time:                        22:37:40   Log-Likelihood:                -774.36\n",
       "No. Observations:                 168   AIC:                             1555.\n",
       "Df Residuals:                     165   BIC:                             1564.\n",
       "Df Model:                           2                                         \n",
       "Covariance Type:            nonrobust                                         \n",
       "==============================================================================\n",
       "                 coef    std err          t      P>|t|      [0.025      0.975]\n",
       "------------------------------------------------------------------------------\n",
       "OBP         2140.9669    236.130      9.067      0.000    1674.740    2607.193\n",
       "SLG         1851.7337    111.142     16.661      0.000    1632.289    2071.178\n",
       "const       -732.2340     53.628    -13.654      0.000    -838.120    -626.348\n",
       "==============================================================================\n",
       "Omnibus:                        1.607   Durbin-Watson:                   1.813\n",
       "Prob(Omnibus):                  0.448   Jarque-Bera (JB):                1.390\n",
       "Skew:                           0.222   Prob(JB):                        0.499\n",
       "Kurtosis:                       3.047   Cond. No.                         151.\n",
       "==============================================================================\n",
       "\n",
       "Notes:\n",
       "[1] Standard Errors assume that the covariance matrix of the errors is correctly specified.\n"
      ]
     },
     "metadata": {
      "application/vnd.databricks.v1+output": {
       "addedWidgets": {},
       "arguments": {},
       "data": "                            OLS Regression Results                            \n==============================================================================\nDep. Variable:                      R   R-squared:                       0.875\nModel:                            OLS   Adj. R-squared:                  0.873\nMethod:                 Least Squares   F-statistic:                     575.3\nDate:                Sat, 12 Feb 2022   Prob (F-statistic):           4.14e-75\nTime:                        22:37:40   Log-Likelihood:                -774.36\nNo. Observations:                 168   AIC:                             1555.\nDf Residuals:                     165   BIC:                             1564.\nDf Model:                           2                                         \nCovariance Type:            nonrobust                                         \n==============================================================================\n                 coef    std err          t      P>|t|      [0.025      0.975]\n------------------------------------------------------------------------------\nOBP         2140.9669    236.130      9.067      0.000    1674.740    2607.193\nSLG         1851.7337    111.142     16.661      0.000    1632.289    2071.178\nconst       -732.2340     53.628    -13.654      0.000    -838.120    -626.348\n==============================================================================\nOmnibus:                        1.607   Durbin-Watson:                   1.813\nProb(Omnibus):                  0.448   Jarque-Bera (JB):                1.390\nSkew:                           0.222   Prob(JB):                        0.499\nKurtosis:                       3.047   Cond. No.                         151.\n==============================================================================\n\nNotes:\n[1] Standard Errors assume that the covariance matrix of the errors is correctly specified.\n",
       "datasetInfos": [],
       "metadata": {},
       "removedWidgets": [],
       "type": "ansi"
      }
     },
     "output_type": "display_data"
    }
   ],
   "source": [
    "print(models_best.loc[2, \"model\"].summary())"
   ]
  },
  {
   "cell_type": "code",
   "execution_count": 0,
   "metadata": {
    "application/vnd.databricks.v1+cell": {
     "inputWidgets": {},
     "nuid": "cf026236-ecce-415a-a4d8-df2def75c53a",
     "showTitle": false,
     "title": ""
    }
   },
   "outputs": [
    {
     "data": {
      "text/plain": [
       "                            OLS Regression Results                            \n",
       "==============================================================================\n",
       "Dep. Variable:                      R   R-squared:                       0.887\n",
       "Model:                            OLS   Adj. R-squared:                  0.885\n",
       "Method:                 Least Squares   F-statistic:                     429.9\n",
       "Date:                Sat, 12 Feb 2022   Prob (F-statistic):           1.89e-77\n",
       "Time:                        22:37:41   Log-Likelihood:                -765.46\n",
       "No. Observations:                 168   AIC:                             1539.\n",
       "Df Residuals:                     164   BIC:                             1551.\n",
       "Df Model:                           3                                         \n",
       "Covariance Type:            nonrobust                                         \n",
       "==============================================================================\n",
       "                 coef    std err          t      P>|t|      [0.025      0.975]\n",
       "------------------------------------------------------------------------------\n",
       "BB             0.9559      0.037     25.591      0.000       0.882       1.030\n",
       "H              0.8673      0.029     30.315      0.000       0.811       0.924\n",
       "LOB           -0.8296      0.048    -17.256      0.000      -0.925      -0.735\n",
       "const        -66.7290     46.402     -1.438      0.152    -158.352      24.894\n",
       "==============================================================================\n",
       "Omnibus:                        0.104   Durbin-Watson:                   2.025\n",
       "Prob(Omnibus):                  0.949   Jarque-Bera (JB):                0.062\n",
       "Skew:                           0.046   Prob(JB):                        0.970\n",
       "Kurtosis:                       2.979   Cond. No.                     4.75e+04\n",
       "==============================================================================\n",
       "\n",
       "Notes:\n",
       "[1] Standard Errors assume that the covariance matrix of the errors is correctly specified.\n",
       "[2] The condition number is large, 4.75e+04. This might indicate that there are\n",
       "strong multicollinearity or other numerical problems.\n"
      ]
     },
     "metadata": {
      "application/vnd.databricks.v1+output": {
       "addedWidgets": {},
       "arguments": {},
       "data": "                            OLS Regression Results                            \n==============================================================================\nDep. Variable:                      R   R-squared:                       0.887\nModel:                            OLS   Adj. R-squared:                  0.885\nMethod:                 Least Squares   F-statistic:                     429.9\nDate:                Sat, 12 Feb 2022   Prob (F-statistic):           1.89e-77\nTime:                        22:37:41   Log-Likelihood:                -765.46\nNo. Observations:                 168   AIC:                             1539.\nDf Residuals:                     164   BIC:                             1551.\nDf Model:                           3                                         \nCovariance Type:            nonrobust                                         \n==============================================================================\n                 coef    std err          t      P>|t|      [0.025      0.975]\n------------------------------------------------------------------------------\nBB             0.9559      0.037     25.591      0.000       0.882       1.030\nH              0.8673      0.029     30.315      0.000       0.811       0.924\nLOB           -0.8296      0.048    -17.256      0.000      -0.925      -0.735\nconst        -66.7290     46.402     -1.438      0.152    -158.352      24.894\n==============================================================================\nOmnibus:                        0.104   Durbin-Watson:                   2.025\nProb(Omnibus):                  0.949   Jarque-Bera (JB):                0.062\nSkew:                           0.046   Prob(JB):                        0.970\nKurtosis:                       2.979   Cond. No.                     4.75e+04\n==============================================================================\n\nNotes:\n[1] Standard Errors assume that the covariance matrix of the errors is correctly specified.\n[2] The condition number is large, 4.75e+04. This might indicate that there are\nstrong multicollinearity or other numerical problems.\n",
       "datasetInfos": [],
       "metadata": {},
       "removedWidgets": [],
       "type": "ansi"
      }
     },
     "output_type": "display_data"
    }
   ],
   "source": [
    "print(models_best.loc[3, \"model\"].summary())"
   ]
  },
  {
   "cell_type": "code",
   "execution_count": 0,
   "metadata": {
    "application/vnd.databricks.v1+cell": {
     "inputWidgets": {},
     "nuid": "023e74f2-3236-4736-a904-9332f6c81b94",
     "showTitle": false,
     "title": ""
    }
   },
   "outputs": [
    {
     "data": {
      "text/plain": [
       "                            OLS Regression Results                            \n",
       "==============================================================================\n",
       "Dep. Variable:                      R   R-squared:                       0.935\n",
       "Model:                            OLS   Adj. R-squared:                  0.933\n",
       "Method:                 Least Squares   F-statistic:                     583.9\n",
       "Date:                Sat, 12 Feb 2022   Prob (F-statistic):           1.84e-95\n",
       "Time:                        22:37:43   Log-Likelihood:                -719.45\n",
       "No. Observations:                 168   AIC:                             1449.\n",
       "Df Residuals:                     163   BIC:                             1465.\n",
       "Df Model:                           4                                         \n",
       "Covariance Type:            nonrobust                                         \n",
       "==============================================================================\n",
       "                 coef    std err          t      P>|t|      [0.025      0.975]\n",
       "------------------------------------------------------------------------------\n",
       "BB             0.9772      0.029     34.217      0.000       0.921       1.034\n",
       "GDP           -1.0534      0.097    -10.903      0.000      -1.244      -0.863\n",
       "H              0.9626      0.024     40.948      0.000       0.916       1.009\n",
       "LOB           -0.8745      0.037    -23.699      0.000      -0.947      -0.802\n",
       "const        -32.2517     35.535     -0.908      0.365    -102.420      37.917\n",
       "==============================================================================\n",
       "Omnibus:                        1.037   Durbin-Watson:                   2.056\n",
       "Prob(Omnibus):                  0.595   Jarque-Bera (JB):                0.667\n",
       "Skew:                          -0.083   Prob(JB):                        0.716\n",
       "Kurtosis:                       3.261   Cond. No.                     4.78e+04\n",
       "==============================================================================\n",
       "\n",
       "Notes:\n",
       "[1] Standard Errors assume that the covariance matrix of the errors is correctly specified.\n",
       "[2] The condition number is large, 4.78e+04. This might indicate that there are\n",
       "strong multicollinearity or other numerical problems.\n"
      ]
     },
     "metadata": {
      "application/vnd.databricks.v1+output": {
       "addedWidgets": {},
       "arguments": {},
       "data": "                            OLS Regression Results                            \n==============================================================================\nDep. Variable:                      R   R-squared:                       0.935\nModel:                            OLS   Adj. R-squared:                  0.933\nMethod:                 Least Squares   F-statistic:                     583.9\nDate:                Sat, 12 Feb 2022   Prob (F-statistic):           1.84e-95\nTime:                        22:37:43   Log-Likelihood:                -719.45\nNo. Observations:                 168   AIC:                             1449.\nDf Residuals:                     163   BIC:                             1465.\nDf Model:                           4                                         \nCovariance Type:            nonrobust                                         \n==============================================================================\n                 coef    std err          t      P>|t|      [0.025      0.975]\n------------------------------------------------------------------------------\nBB             0.9772      0.029     34.217      0.000       0.921       1.034\nGDP           -1.0534      0.097    -10.903      0.000      -1.244      -0.863\nH              0.9626      0.024     40.948      0.000       0.916       1.009\nLOB           -0.8745      0.037    -23.699      0.000      -0.947      -0.802\nconst        -32.2517     35.535     -0.908      0.365    -102.420      37.917\n==============================================================================\nOmnibus:                        1.037   Durbin-Watson:                   2.056\nProb(Omnibus):                  0.595   Jarque-Bera (JB):                0.667\nSkew:                          -0.083   Prob(JB):                        0.716\nKurtosis:                       3.261   Cond. No.                     4.78e+04\n==============================================================================\n\nNotes:\n[1] Standard Errors assume that the covariance matrix of the errors is correctly specified.\n[2] The condition number is large, 4.78e+04. This might indicate that there are\nstrong multicollinearity or other numerical problems.\n",
       "datasetInfos": [],
       "metadata": {},
       "removedWidgets": [],
       "type": "ansi"
      }
     },
     "output_type": "display_data"
    }
   ],
   "source": [
    "print(models_best.loc[4, \"model\"].summary())"
   ]
  },
  {
   "cell_type": "markdown",
   "metadata": {
    "application/vnd.databricks.v1+cell": {
     "inputWidgets": {},
     "nuid": "64836b11-0e98-4b87-8853-1a9dbc6893a0",
     "showTitle": false,
     "title": ""
    }
   },
   "source": [
    "We create a chart to visualize which model has the highest r-square and which one has the lowest AIC"
   ]
  },
  {
   "cell_type": "code",
   "execution_count": 0,
   "metadata": {
    "application/vnd.databricks.v1+cell": {
     "inputWidgets": {},
     "nuid": "d19af9d5-31d1-4ee5-9129-728fac00e374",
     "showTitle": false,
     "title": ""
    }
   },
   "outputs": [
    {
     "data": {
      "text/plain": [
       "Out[54]: Text(0, 0.5, 'AIC')"
      ]
     },
     "metadata": {
      "application/vnd.databricks.v1+output": {
       "addedWidgets": {},
       "arguments": {},
       "data": "Out[54]: Text(0, 0.5, 'AIC')",
       "datasetInfos": [],
       "metadata": {},
       "removedWidgets": [],
       "type": "ansi"
      }
     },
     "output_type": "display_data"
    },
    {
     "data": {
      "image/png": "[encoded data removed]"
     },
     "metadata": {
      "application/vnd.databricks.v1+output": {
       "addedWidgets": {},
       "arguments": {},
       "data": "data:image/png;base64,iVBORw0KGgoAAAANSUhEUgAAAmIAAACmCAYAAAB5sONtAAAAOXRFWHRTb2Z0d2FyZQBNYXRwbG90bGliIHZlcnNpb24zLjQuMiwgaHR0cHM6Ly9tYXRwbG90bGliLm9yZy8rg+JYAAAACXBIWXMAAAsTAAALEwEAmpwYAAAzuElEQVR4nO3dd3hUVfrA8e+bRkhCgCS0CCE0Q69BuoIgUkTsBXtZbIir+9O169pd3UVBRNG1V6xIswCiCU06KL0X6YFQQiDl/f0xNzCGlKFM7iR5P88zT+6cc+/Nm3E4vvfcc88RVcUYY4wxxpS8ILcDMMYYY4wprywRM8YYY4xxiSVixhhjjDEusUTMGGOMMcYllogZY4wxxrgkxO0ATkZcXJwmJia6HYYxpgTNmzdvl6pWczuOU2XtlzHlT1HtV6lMxBITE5k7d67bYRhjSpCIbHA7htPB2i9jyp+i2i+7NWmMMcYY4xJLxIwxxhhjXGKJmDGmZK1dC82aoSEh0KyZ570p0OHsHLdDMMb4mSVixpgSdaRff3KXLUNycmD5chgwwO2QAlJOrnLZqJn8Y8witqVnuh2OMcZPLBEzxpSIA4ezefH75QStXElQ3hq3ubmwYoW7gQWorJxcOjeMZdyiP+nx8jT++9NKDh7OdjssY8xpZomYMcavcnOVMXM30ePlaYyatoZdZySiQU7TExQESUnuBhigwkODeahvE6b84xzObVKd4VNW0ePlaYyZu4mcXHU7PGPMaWKJmDHGb+asT2PgyOk88OVi6lStyLd3daHmLz8hjRtDcDA0bgzjxrkdZkCrExPByEFt+eqOTsRXqcgDXy7mghGpTF+9y+3QjDGnQamcR8wYE9i27D3E8xOXMX7xVmpVDufVq1pzYat4RASoAn/84XaIpU67ujF8c2dnxi3eyouTlnPN27Pp2bg6D/VrQsPqUW6HZ4w5SZaIGWNOm4wj2bwxbQ1v/up5EnJoz0bcfk59IsKsqTkdRIQLW8XTu2kN3p2+npE/r+b8V37lmg4J/L3XmcREhrkdojHmBFnraIw5Zbm5ythFW3hx0gq27cvkwlbx/LNvY86oUtHt0Mqk8NBg7ujegMuTa/PK5JV8PHsj3yzYwt3nNuSGzolUCAl2O0RjjI8sETPGnJIFG/fwr3FLWbhpLy1rV2bkNW1oVzfG7bDKhbioCjxzUQtu6JTIcxOX8dzE5Xw4awMP9mlCvxY1nVvBxphAZomYMeakbEvP5MXvl/PNgi1Uq1SBly9vxSVtziAoyP7nX9Ia1ajEuzedRcqqnTw7YRl3fTKfdnWr8mj/JrRJqOp2eMaYIlgiZow5IZlZOYz+dS2jpq0hR5U7uzfgzh4NiapgzYnbujWqxoShcXwxdxMv/7iSi1+fwYWt4nmgTxK1q0a4HZ4xpgB+azlFZBiQDMxX1Xu8ys8DngYOAXeo6nIReQLo4+zyqKpO8VdcxpiTo6qMX7yVFyYtZ8veQ/RtXpOH+zWhToz9Dz6QBAcJV52VwAWt4nnzlzWM/nUt3/+xjVu61uPO7g2oFB7qdojGGC9+mUdMRNoCUaraDQgTkfZe1Y8DPYFBwL+csg9UtRPQF3jCHzEZY07eks3pXPHmTO7+dAHRFUP5bHBHRl3bzpKwABZVIYR/9E7i5//rzgUtajFq2hq6vzSNj2ZtIDsn1+3wjDEOf03o2hH4ydmeDHTyrlTVg6q6FWjgvF/nVB0GbMpoYwLEjv2Z3P/FIi4cmcranQd5/pIWjL+7Kx3rx7od2mknIvEiMl9EMkUkxCm7XkSmiMg0ETnDKRsmIiki8qrXsceVBYr4KhX575Wt+W5IFxpUj+LRb3+n76sp/LxiB6rW3BrjNn8lYlWAfc52uvP+KBGpISKNgSb5jnsSeLOgE4rIYBGZKyJzd+7ceVqDNcb8VWZWDq9PW02Pl6bx7cIt/K1bfX6+vztXn5VAcNkdjJ+Gp7d+FoCTeJ2jqj1Vtbuqbimot7+YOwABo2XtKnw+uCNvXNuOrJxcbnp3Dte/8xvLt+0r/mBjjN/4a4xYOhDtbEcDe73qHgA+AzYA0/MKReRiIFZVPynohKo6GhgNkJycbJdxxviBqvLDH9t5duJSNqUdoleTGjzSvwn14iLdDs3vVDUTyPSa8uF8IFhEpgBLgb9TcG9/dgFlc7zPLSKDgcEACQkJfvsbiiMi9Glek3MbV+fDWRsYPmUV/V5N4cr2dbj3vDOpXinctdiMKa/81SM2E8+VJUAvnCtMAFWdqao9gGeBZQAi0hK4y3kZY1ywbOs+Br01m9s/mkfF0GA+uqUDb9+QXC6SsELUAMJUtSeQAQyk4N7+gsr+QlVHq2qyqiZXq1bNr0H7IiwkiFu61uOX+7tzY+d6fDF3Mz1emsZrU1eRmZXjdnjGlCt+6RFT1bxxFinAQmCjiDyiqs+KyCN4krPdwG3OIS/hafR+EJF0VR3oj7iMMcfbfeAwL/+4ks/nbKRyxVCeHtiMq89KICTYX9dppUY68IuzPRXPU+B7Ob63P6eAslKhSkQYjw9oynWd6vLCpGW8/ONKPpm9kfv7JDGwlc0JZ0xJ8Nv0Fd5TVjiedcqfzdv22vd8f8VhjCnYkexc3p+xnuFTVnEoK4cbOify955nUjnCpjdwzAD+5my3BtYBy/FcQI7Bc0H5Hp5bk/nLSpV6cZG8eV0ys9bu5pkJS7n380W8O309j/Zvyln1bJUEY/zJZmA0ppxRVaYu38EzE5axbtdBuidV49H+TWlYPcrt0FwlIqHAJKAV8APwMHBIRKYBu4BhqnrEu7dfVX9zjj2urDTqWD+W7+7qyrcLt/Dv71dwxZsz6dOsJg/2bUxi+b1FbYxfWSJmTDmyavt+nhq/lJRVu2hQLZJ3b2pPj6TqbocVEFQ1C0+PlrfZBeyXv7e/wLLSKihIuKRtbfo2r8XbKWsZ9csapizfzvWdEhl6biPrMTXmNLNEzJhyYM/BI7wyeSUfzd5IZFgwj1/gGRcUauPATCEqhgVzd89GXNm+Dv/5cSXvTF/HV/M3M/TcRlzbsS5hIfbdMeZ0KDQRE5GzC6tT1V/9E44x5nTKysnl41kbGDZ5Ffszs7imQ13uPe9MYiLD3A7NlBLVo8N58bKW3NA5kecmLuOp8Uv5cNYGHuzbmN5Na+A13Ycx5iQU1SPWw/nZ3tlvPtAGyAQsETMmwP2ycidPj1/K6h0H6NowjscuaEpSzUpuh2VKqabx0Xx4y1lMW7GTZycu47YP59GhXgyPXdCU5mdUdjs8Y0qtQhMxVf0XgIhMUNW8BbkRkQklEZgx5uSs2XmAZycsY+ryHSTGRvDW9cn0alLdei7MKRMRejSuTrdGcXw6ZxPDflrJgNdSubjNGdx/fhK1Kld0O0RjSh1fxohVFJGrgQV4HuG2VX6NCUDph7IYPmUV789YT8XQYB7u15gbOidSISTY7dBMGRMSHMR1HesysHU8I39ezbup65m4ZCuDu9XntnMaEFnBhh8b4ytf/rVcCtwKdMMzj86lfo3IGHNCsnNy+WzOJv7700r2ZBzhqvZ1uO+8JKpVquB2aKaMiw4P5aG+Tbi2Q11e/H45w6eu5tM5m7i/dxKXtqtdltclNea08SUR2wdswjM2bBSecWJp/gzKGOObGat38dT4pSzftp8O9WJ4fEBTmsXbeB1TsurERPDaoLbc1GUPz0xYygNfLead6et4tH9TujaKczs8YwKaL88ff4Rn7bSrVTUbeN6vERljirVh90EGfzCXQW/P5sDhbEZd05bPBne0JMy4ql3dqnx9R2dGXN2GA4ezufZ/s7n5vTms3rHf7dCMCVi+9IhVU9U3ROQKv0djjCnS/swsXnPG5IQEC/efn8QtXesRHmrjwExgEBEGtIrnvKY1eG/GekZOXc35r6Qw6KwE/t6rEbFRdsvcGG++JGI7RORKPIP2Lwa2+nJiERmGZ5Hc+d6zTovIecDTwCHgDlVdLiLxeHrewoHHVXXyCf4dxpRpObnKl/M28dIPK9l14DCXtq3NA32SqBEd7nZoxhQoPDSY289pwOXtavPK5FV88ttGvl2whSHnNuSGzol28WCMw5dbkzcD1fDMI1abY4vgFkpE2gJRqtoNCBOR9l7VjwM9gUHAv5yyB4HHgN7Aoz5Hb0w58Nu6NC58LZV/frWEurERfDekC/+5opUlYaZUiI2qwNMXNeeHv3ejfb0Ynp+0nF7//YXxi/9EVd0OzxjXFdkjJp6Jh771nkfMRx2Bn5ztyUAnYE5epaoeBA6KSAOnqAVwj6qqiOwXkWhV3ZcvlsHAYICEhIQTDMeY0mdTWgYvTFrOhCVbia8czvCr2zCgZS2bD8yUSg2rV+KdG9uTumoXz0xYypBPFvBOwjoevaApbROquh2eMa4pMhFzEqNVzq3JeUCuU762mPNWAfL2SQeaeVeKSA2gKtDEKQrWY5dG6c7xf0nEVHU0MBogOTnZLqNMmXXwcDajpq1hdMpaggTu7XUmg8+uT8Uwu5VjSr+ujeKYMLQbX83bzEs/ruCS12cwoFU8D5yfRJ0Ym6bSlD++jBGLAvo4LwDFc7uyKOlAtLMdDez1qnsA+AzYAEx3ynK96vPvb0y5kJurfLNgC//+YTnb9x1mYOt4/tmnMfFVbLZyU7YEBwlXtK9D/5a1ePMXz0XHD39s4+Yu9bizRwOiw0PdDtGYElNsIqaqN53EeWcCtwFjgF7Ae17nmwn0EJFGwBCneLGIdAIWA8fdljSmrJu3YQ9PjV/Kok17aVW7Mq9f0452de12jSnbIiuEcF/vJK7ukMBLP6zgjV/WMGbuJu4970yubl+HkGBfhjEbU7oVm4iJSC/gfjwD9XOBPap6dlHHqOp8EckUkRRgIbBRRB5R1WdF5BE8ydluPMkawL+BD4CKwBMn+8cYU9psTT/EC5OWM3bhn1SvVIH/XN6Ki9ucQZDNSG7KkVqVK/LfK1pzU+d6PDNhKY99+zvvz1jPI/2a0D2pmo2LNGWaFPfUioj8hidx+g4YCDyrqkOKPMjPkpOTde7cuW6GYMwpOXQkhzd/XcMbv6whV2Fwt/rc0d3W6CuKiMxT1WS34zhV1n4VTVX5cel2Xpi0nHW7DtKtURwP92tCk1rRxR9sTIAqqv3ypdU/qKr7RETxLHPUvrgDjDEFU1XGLd7KCxOX8Wd6Jv1b1OLBvo1tkLIxDhHh/GY16ZFUnY9mbeDVKavoPzyFK5LrcF/vM6leyaZtMWWLL4nY+yISDgwHfgXG+zckY8qmxZv38tS4pczdsIdm8dEMu7I1HerHuh2WMQEpLCSIm7vW45K2ZzBi6mo+mLme7xb9yR3nNODWbvYUsSk7ir01GYisa9+UJjv2ZfLvH1bw5bzNxEWFcf/5SVzWrg7BNg7shNityfJt/a6DvDBpOd//sY1alcO5//wkLmpt4ylN6XBKtyZF5Gc8U1YIUBPYWdxgfWMMZGbl8L/UdYz8eTXZOcpt59RnSI+GVLJH8405YYlxkbxxXTtmr93NMxOWcd+YRbw7fT2P9m9iPcumVPNl+ooeedsiEodniSJjTCFUle9/38azE5exec8hejetwSP9m1A3NtLt0Iwp9TrUj2XsXV0Yu2gL//5+BVeOnsX5zWrwYN8m1Iuzf2Om9PGlR8x7IpdwoKv/wjGmdPvjz3SeGreU2evSaFyzEp/c2oHODePcDsuYMiUoSLi4TW36NKvF/1LX8vq0NUxd/gvXdUxkaM+GVIkIcztEY3zmy2D9Kc5PxTPj/SN+i8aYUmrXgcP858cVfDZnE1UjwnjmouZcZRNSGuNXFcOCGXJuI65oX4dhP63kvRnr+Gr+ZjrVj6VubAR1YiKoGxtBQkwE8VUqEmr/Hk0AOqFbk8YY2JtxhHW7DrJhdwbrdh1k/e6DTF22g0NZOdzcpR5DezaickUbB2ZMSaleKZznL2nJDZ0TGTF1Ncu37mPqih0cyT62el5wkBBfJZy6MZF/SdASYiJIiI2wZZWMa3y5NZkKVAd2AtWAbUAOnjXBz/VveMa4Y19mFut3HfQkWrsyWL/74NGka29G1tH9RCC+ckXOTqrGfeedSYNqUS5GbU6FiMTjmZ6nKZ41dmsDs4FlwBFV7e3slw4scA67RFXTROQa4C4gDRhky7S5o3HNaEYOagt41m7dvj+Tjbsz2JCWwaa0DDamZbBhdwY//rGN3QeP/OXYKhGh1I2JyJekRZIQG0HN6HB7ytn4jS+3JlcCV6nqZhGpDTymqrcVd5Axge7A4WzWO8mVJ+nKOLqdv5GOrxxOYlwk/VrUol5sJHVjI6gX57myDg+1+YzKiDSgJ/CNV9lPqnptvv2WqGr3vDciEgrcDpwNXIpn6baX/BuqKU5QkFCrckVqVa5Y4FOV+zOz2JR2iI1pB48maBvTMliyJZ3vf99Gdu6xqZ3CgoOoXbVigT1pCTERRITZihjm5Pny7WmJZ11I8DRU7Xw5sYgMA5KB+ap6j1f55XjWrlTgOVUdW1CZ73+CMYU7dCTnWKLl/Fy/K4N1uw+yc//hv+xbI7oCibGRnNe0BolxkSTGRlIvzpN0WbJV9qlqJpCZb13DHs6auV+r6jCnrIlTNh14CGiEJznLFpHJwFv5zy0ig4HBAAkJCX78K4yvKoWH0jQ+lKbxxy+dlJ2Ty9b0TDZ69aJtSstgQ9pB5m/cw/7M7L/sHxdV4WiCVicmgrpOklY3JoJqlSrYWpmmSL4kYk8CP4lILp65xP5V3AEi0haIUtVuIjJKRNqr6hyn+l6gO56k63tgbCFlxvgkMyuHjWnOeC2nhyvvluK2fZl/2TcuqgL14iLofmY1EuM8iVZibCSJcXZVa46zFTgTOAyMFZEpqroYT+K1B3gDGADsAvJuRaYDVfKfSFVHA6PBM6Gr3yM3pyQkOIg6TlLVpYD69IwsNnj1pG1yfv62Lo2xC7fg1ZlGeGjQsR60mEgSYipSN9bTm167akW7yDM+DdYfj7OskYhUV9UdPpy3I/CTsz0Z6ATkJWJrgLzJXvYVUWbMUYezc9iUluG5ffiX3q2DbN2XifcCETGRYSTGRtC5YSz1YiOPJlx1YyNsMlXjM1U9jCcJQ0TGA82Bxaqa5pR9C7TBc+GY160SjefpclOGVY4IpWVEFVrWrnJc3ZHsXLbsPcSG3Qf/Mi5tY1oGM9bsJuNIztF9RaBmdPixXjSv2511YyOpGhFqvWnlgC+D9T9T1atE5O9AXxHZrqrXF3NYFWCts50ONPOq+wbPQFcBbiqiLH8c1rVfxmXl5LIpLW9gfMZferf+3HvoL1eZVSJCSYyNpEP92KM9WolO0mVPLJrTQUQqqep+520XYISIRAKZqprjlC3BM462uYgEA72AWa4EbAJCWEgQ9ZyLv/xUld0Hj/ylF22j8yDBr6t2sn3fX4dLRFUIOW48WoIzTs2m4yg7fLkXU9352U5VzxeRGT4ck07hV4iP43kqCWAi8GMhZX9hXftlQ3aO52rx2G3EY1NAbN5ziByvbKtSeAj14iJpm1CVS9rWpp6TbNWLi7QJG81p5wy6nwS0An4AfhWRC/H0iqWo6mwRaQ28IyIHgHXAE6qaIyJvASl4blkOcuUPMAFPRIiLqkBcVAXa1a16XH1mVs5xvWgb0zJYvfNAodNxHLvleSxJqxMTYRekpYgviViGiLwDzBdPH2lOcQcAM/E8OTQGzxXie151h4EMPOPBwoooM6VUTq7y595DBT6NuGlPBlk5x5KtyLBgEuMiaX5GZQa0jHduI3oSrpjIMOuWNyVGVbPwtFfe/pVvn4VA2wKO/RD40G/BmXIhPDSYRjUq0ahGpePqcnOVHfsPO0naQefhAU+iVth0HMfGpkV4TXAbadNxBBhfErGLgTqqulZEwoCbiztAVeeLSKbzZNFCYKOIPKKqzwKj8DxtBE4PVyFlJoDl5ipb92V6zbV17DbiprRDHMk5duVWMTSYurERJNWsxPnNax4dt5UYF0G1KHuiyBhjihMUJNSsHE7NyuGcVS/muPoDh7PZ6HWr0/MwwSF+L2A6jtBgoXbVY0la/WqRXNqutk1q6xJR9e0un4hMDZQJXJOTk3Xu3Lluh1HmqSrb9x0+euvwaNK12zOr/GGvbvIKIUHHxmrFRTpzbXluI9aItmTLnDoRmaeqycXsMwzPVBMpXmXd8Ey8eq+/Y/SFtV+mpOVNx+Hdi7YxLeNo4pZ+KIvE2Ahev6ZdgdN5mFNXVPt1Is/r2/9Jy4H5G/fwv5R1rNl5gA27MziUdexOdFhwEAmxntuG5+RN/+D0btWMDifIurqN+9rlT7hUNUVEnnUrIGPc5j0dR+cC6n9bl8aQT+Zz8evTefqi5lyRXKfEYyzPikzEnDFhk1S1D3B5yYRk3JCbq4xOWctLP6ygakQoLWtXoXODOM94LWeurfgqFW1cgQl0hXXx2wM+xhTirHoxTBjajXs+W8ADXy5m7vo0nhrY3OY4KyFFJmKqqiKySkSuBOaJSLRTvrao40zpsvvAYf7xxSKmrdhJvxY1eeHSljZWwJRW34rIKDxLDG0F4vGs2vGtm0EZE+iqVarAh7d04JXJKxkxdTVLtuxj1DVtSSxgGg5zevlyazIK6OO8wHNlWeyAfVM6zFq7m3s+W8CejCyevqg513ZIsPFcptRS1WEi0gd4FKgF/Al8oarfuxuZMYEvOEj4R+8k2iZU5d4xCxkwIpWXLm9Fn+Y13Q6tTPNlZv0CJ1g1pVtOrjLy59W8MnklibGRvHNje5rFV3Y7LGNOiYgE4ZmH8Ec841o1r1xVc4s61hjj0aNxdcbf3ZW7Pp7P7R/N49au9fhn38Y2gayf2OJ65dCOfZn8/fOFzFizm4tax/PMxS2IqmBfBVMmTOH48WBBQDfABrwY46PaVSMYc3snnp2wjLdT17Fw015eG9SWmpXD3Q6tzLH/+5YzKat2cu/nCzlwOJt/X9aSy9vVtluRpsxQ1R4AzpyHvYAL8dyi/LebcRlTGlUICeapgc1pV7cqD329hP7DUxh+dRu6NIxzO7QypdBETEQKXU9SVT/wTzjGX7Jzchk2eSWvT1tDo+pRfPq3jgXO3mxMaSYiVwADgAg8yxQ1UtWe7kZlTOk2sPUZNIuP5o6P5nPt/2ZzX68zuatHQ5uy6DQp6oavOK+BeBa3DQc6cWzQvikl/tx7iKvfmsXIn9dwZXIdxt7V1ZIwU1Y9AxwBnnPWpz1czP7GGB80rF6JsUO6MLBVPP/5aSU3vz+HPfmWVTInp9AeMVV9H0BErlTV2/LKRWRSSQRmTo8py7bzjy8WkZWdy6tXtWZg6zPcDskYv1HVM0WkJXCJiDwONBaRHsAMVbWkzJhTEBEWwrArW5OcGMNT45bSf3gKI69pS5uE4xcwN77z5RGIIyLykIj0EZEHgSx/B2VO3ZHsXJ4Zv5Rb3p9LfOWKjB/azZIwUy6o6mJVfVJVBwLnAcmATV9hzGkgIlzbsS5f3tEJEeGKN2fy/oz1+LpcojmeL4nY5cBqoCWwFrjMlxOLyDARSRGRV/OVXy4iv4nIbBEZ6JTFiMgYEZkqIo+c4N9g8tmUlsHlb87k7dR1XN+pLl/f2Zl6NimfKYdUdY2qvpQ3iN8Yc3q0rF2FCUO7cnajajzx3R8M/czzEJg5cb4kYhFAAyAW+BroXdwBItIWiFLVbkCYiLT3qr4X6O687nPKngAeV9VzVdXWhDsFk5Zspd/wFNbuPMCoa9raMhXGGGP8okpEGG9dn8wDfZKYsPhPLnwtlZXb97sdVqnjSyL2EbAQ6KSq2cDffTimI/CTsz0ZzyD/PGuASDwz9u9zypoDD4vIzyLive9RIjJYROaKyNydO3f6EEL5kpmVw+Njf+eOj+dTv1oUE4d2o2+LWm6HZYwxpgwLChLu7N6Qj2/tyL5D2Qx8bTrfLNjsdlilii+JWEVneZC8PkdfnletwrEkK915n+cbYAGe5G6EU9YZeB64Cs8accdR1dGqmqyqydWqVfMhhPJj7c4DXPL6DD6YuYG/davHF7d1ok5MhNthGWOMKSc6NYhl4tCutKhdmXs/X8TD3ywhMyvH7bBKBV8mdF0pIv8EYkTkXuAPH45JB6Kd7Whgr1fd40BTZ3sinqVIVqrqMgARsWVITsDYhVt4+OslhIYE8b8bkunZpIbbIRljjCmHqkeH88mtHXj5x5W88csaFm/ey6hr2lnHQDGK7RFT1TvxJF8fA2tUdagP550J5E2i2AuY5VV3GMgADgJhTtlKEaklIpHYbP8+OXQkh39+uZh7PltI0/hoJg7tZkmYMcYYV4UEB/Fg38a8dX0yG3Zn0H94CpOXbnc7rIBWbCImIh+q6njnyaPv8j8FWRBVnQ9kikgKkANs9HoachQwHZgBjHbKngA+BabimZDRFGHl9v0MHJnKmHmbGNKjIZ/+rSPxVSq6HZYxxhgDwHlNazDh7m4kxEZw6wdzeWHScrJz7IZXQYpa4qgN0BZIFpGbvfZv48uJVfWefEXPOuXvAe/l23cpnqcoTRFUlS/mbubx734nqkIIH9x8Ft0a2Xg5Y4wxgSchNoIvb+/Mv8Yt5Y1f1rBg4x5GDGpD9Uq2cLi3onrEcvEM0E/D06uVA+wHbvR/WCa/A4ezuffzhTzw1WLaJlRl4tBuloQZY4wJaOGhwTx/SQv+c3krFm3eS//hqcxau9vtsAJKoYmYqi5yljka4vycBNTm2LguU0L++DOdC0ek8t2iP7nvvDP58JYOVI+2KwpjjDGlw6XtajP2rq5UqhDCoLdmMWraGnJzbTZ+8G36ipedn08Bm4F3/ReO8aaqfDhrAxe/PoODR7L55G8dGdqzEcG24r0xxphSJqlmJb67uyt9W9Tixe+XM/jDuaRn2KqJPs2sLyIVgAqq+ilgy62XgPRDWdz1yXwe+/Z3OjeIZeLQbnSsH+t2WMaUWSISLyLzRSRTREJEJFFEtovINBH50Wu/+0UkVUQ+FpHQwsqMMceLqhDCa1e34ckBTfll5U76j0hhyeZ0t8Nyla8z648F3hCRcGCdf0Myizbt5YIRKfzwx3Ye6tuYd25oT2xUBbfDMqasS8Mz7Y73dDs/qWp3Ve0NICLVgR6q2hVYDFxUUFnJhm1M6SIi3NilHp/f1oncXOXSUTP4ePaGcrtwuC/ziI1U1T6qOltVM1X1xhKIq1xSVd5OWctlb8wgNxfG3NaJ285pQJDdijTG75z2bU++4h4ikuJMZg2QDExztvOWbyuozBhTjLYJVRk/tBsdG8TyyDe/c9+YRWQcKX8Lhxc7eaqI/AwonqStEfCnqrYv+ihzovYcPML9Xy5i8rId9G5ag39f1pIqEfZchDEu2gqciWcS6rEiMoWCl28rqOwvRGQwMBggISHBfxEbU8rERIbx3o3tee3n1QybvJI//kzn9Wva0bB6lNuhlRhfesR6qOq5qtodqI9vSxyZEzB3fRr9hqfw68pdPDmgKW9e186SMGNcpqqHVfWgqmYD44HmFLx8W1FLuuWdy9bKNaYQQUHC0J6N+ODms9h14AgDX0tl3KI/3Q6rxPgys379vBeeLvhW/g+rfMjNVUb+vJorR88iNDiIr+7ozI1d6iFityKNcZuIVPJ62wVYA8wBznHK8pZvK6jMGHOCujWqxoShXWlcK5q7P13AE2N/53B22V843Jd1HR9zfiqeK7+bi9jX+Gjn/sPcN2YhKat20b9lLZ6/pAXR4fawlTFucZ52nITnYvMH4FcRuRDPrckUVZ3t7PeriKQCG4FXVPVI/jJX/gBjyoBalSvy2eCOvDhpOW+nrmPh5nRGDmpD7apld+FwKewpBRERVVUROa7XTFWLXTBKRIbh6UGb773ckYhcDtyPJ7F7TlXHOuUV8TyRea2qTi7q3MnJyTp37tziQghYM1bv4p7PF7LvUBZPDGjG1WfVsV4wY4ohIvNUNdntOE5VaW+/jCkpk5Zs5f4vFxMSLLxyZWu6J1V3O6STVlT7VdStyf84P6fgeRIo7zXFmVfnjSJ+YVsgSlW7AWEi4j24/14860p2B+7zKr8VWFL0n1K65eQqw35ayTX/m010eAjf3tWFQR0SLAkzxhhj8unbohbj7u5KzehwbnpvDv/9cQU5ZXA2/kJvTarqfc7PHgXVi8j/FXHejsBPznbe49xznPdrgEhne59zrjDnmOmFnbC0P3W0fV8m93y2gFlr07ik7Rk8PbA5kRV8uTNsjDHGlE/14iL55s4uPD72d4ZPXc28jXt49ao2xJWhuTULzQS8pq04jvMU5csF1TmqAGud7XSgmVfdN8ACQICbnLIb8Uwc26GwE6rqaGA0eLr2i/jdAWfaih3cN2YRh47k8PLlrbisXW23QzLGGGNKhYphwbx0eSvaJ8bw2Njf6T88hZGD2pKcGON2aKdFUYt+91DVc4GFwCNAH+Bh4DcfzlvU49yPA02BJsDjIhICnK+qk040+ECXlZPLC5OWc+O7c6heqQLj7u5iSZgxxhhzEq5oX4ev7+xMeGgwV46exdspa8vEbPy+LHHUEZilqkfwJGHnFLM/wEw8S4XA8Y9zHwYygINAGFADSBCR74FrgedFpKpv4QeuLXsPceWbM3njlzUM6pDAt3d1oWH1SsUfaIwxxpgCNYuvzLi7u9KrSXWembCM2z+ax77M0r1wuC+J2HvATBH5HM8YrneLO0BV5wOZIpIC5AAbReQRp3qUc54ZwGhV3aKq7VW1D57bkw8VsMxIqfLjH9vo92oKK7cfYPjVbXju4haEhwa7HZYxxhhT6kWHh/LGte14tH8TJi/bwYUjUvnjz9K7cHih01f8ZSeRYCAOz6K4HVU1xd+BFSVQH/8+nJ3DC5OW8+709TQ/I5rXrm5LYlxk8QcaY4pl01cYY/Kbsz6NIZ/MZ29GFk8PbM4V7eu4HVKBTnb6iryDQ4HewJPAF0Df0xpdGbFh90EuGzWTd6ev58bOiXx1R2dLwowxxhg/ap8Yw4Sh3UhOrMoDXy3m/i88D8aVJkU9NXkFMACIwDPL9Jmq2rOw/cuz8Yv/5MGvlhAk8OZ17Ti/WU23QzLGGGPKhbioCnxwcwdembySEVNXs2RLOqOubUe9UtIZUlSP2DPAETyz34/GM8jeeMnMyuGRb5Yw5JMFNKoRxcR7ulkSZowxxpSw4CDhH72TePem9mzbl8mFI1L5/vetboflk6KmrzgTeBUYICJjgcYi0kNEys4saqdg9Y4DXDRyOh/P3shtZ9dnzG2dyvRaWMYYY0yg65FUnQlDu1G/ehS3fzSfp8cvJSun2FUZXVXk1O6quhhYDCAiDYBL8MwDVuBs++XF1/M38+i3vxMeGsy7N7WnRyle/8oYY4wpS86oUpExt3XkuQnL+F/qOhZu2svIQW2pWTnc7dAK5Mv0FQCo6hpVfamwJY/Kg4wj2fzfF4u4b8wimp9RmYlDu1kSZowxxgSYCiHB/Gtgc4Zf3YZlW/fRf3gKqat2uR1WgXxOxMq75dv2ceFr0/lq/maGntuQT27tELDZtTHGGGPgwlbxfDekCzGRYVz3zmyGT1lFboAtHG6JWDFUlU9/28jA16azNyOLj27pwH29kwgJto/OGGOMCXQNq1di7JAuDGwVz39/WsmN780h7eARt8M6yrKJIuzPzGLoZwt56OsltE+MYdI93ejSMM7tsIwxxhhzAiLCQhh2ZWuevbg5s9bs5oLhKSzYGBiL+FgiVojft6RzwYhUJiz+k/vPT+KDm8+iWiV7YNQYY4wpjUSEazrU5as7OhMUJFzx5kzem77O9YXD/ZaIicgwEUkRkVfzlV8uIr+JyGwRGeiUvSki00UkVURa+ismX6gq701fxyWvz+BwVi6fDe7EXT0aEhQkboZljDHGmNOgRe3KjL+7K2c3qsaT45Yy5NMFHDic7Vo8fknERKQtEKWq3YAwEWnvVX0v0N153eeUvaCqXYCbgCf8EZMv0jOyuP2jeTw5bildG8Ux8Z5unFUvxq1wjDHGGOMHVSLCeOv6ZB7ok8SkJVu58LVUVmzb70os/uoR6wj85GxPBjp51a0BIoEoYB+Aqq5z6rIAVxaJmr9xD/2GpzBl2Q4e6deEt69PJiYyzI1QjDHGGONnQUHCnd0b8vGtHdl3KJuBI1P5ev7mko/DT+etgpNkAenO+zzfAAuAhcCIfMc9Dwwv6IQiMlhE5orI3J07d562QHNzldG/ruGKN2YiAl/c3om/nV3fbkUaY4wx5UCnBrFMHNqVlrWrcN+YRTz8zRIys0quT8hfiVg6EO1sRwN7veoeB5oCTZxtAETk78BSVU0t6ISqOlpVk1U1uVq1aqclyLSDR7jl/Tk8N3E5vZrUYMLQbrRJqHpazm2MMcaY0qF6dDif3NqB289pwCezN3LZGzPYuDujRH63vxKxmUBPZ7sXMMur7jCQARwEwgBEpDfQGc9C4yVi9trd9Hs1hemrd/PUwGaMurYtlSuGltSvN8YYY0wACQkO4sG+jXnr+mQ27s7gghEp/LR0u99/r18SMVWdD2SKSAqeMV8bReQRp3oUMB2YAYx2ykYA9YCfReRNf8SUJydXGTFlFVe/NYvw0CC+vrMz13dKRMRuRRpjjDHl3XlNazD+7m4kxEbwtw/m8sKk5WT7ceHwIhf9PhWqek++omed8veA9/Ltm+SvOLzt2J/JvZ8vZPrq3VzYKp7nLmlBVAW/fQTGGGOMKYUSYiP48vbOPDV+KW/8sob5G/fw2tVtqB59+pc2LDcTuqau2kW/V1OYu34PL17aglevam1JmDHmKBGJF5H5IpIpIiFe5feKSKqznSgi20Vkmoj86LXP/c48iB+LiI1xMKYMCA8N5rmLW/DfK1qxePNe+g1PZeaa3af995T5RCw7J5eXf1jBde/MpkpEGN8N6cqV7RPsVqQxJr80PGNbj45pFZEKQOt8+/2kqt1VtbezT3Wgh6p2BRYDF5VItMaYEnFJ29qMvasr0RVDePDlb0lLbISGhECzZrB27Smfv0wnYlvTDzHordm89vNqLmtbm++GdCGpZiW3wzLGBCBVzVTV/IvP3QK8n6+sh7NqyL3O+2RgmrOdf95EwH/T7xhjSkZSzUp8N6Qrn457jsob1yA5Oejy5TBgwCmfu0wnYpvSDrFs2z6GXdmKly5vRUSY3Yo0xvjGucXYXVWnehVvBc4EegC9nCXZqlD4vImAf6bfMcaUrKgKIdTatoFgZ21Kyc2FFStO+bxlOjM5q14M0x88l+hwG7JhjDlh1wGfeBeo6mE8U/AgIuOB5niSr9rOLvnnTTTGlCGSlATLl0NuLgQFQdKpP2tYpnvEAEvCjDEnKwm4Q0S+B5qJyN0i4j22oQueJdvmAOc4ZfnnTTTGlCXjxkHjxhAc7Pk5btwpn7JM94gZY4yvnFuRk4BWwA/Aw6r6T6cuVVVHiEg/EXkaT69YiqrOdup/dZ6s3Ai84sofYIzxv/r14Y8/TuspLREzxhhAVbPw9GgVVNfV+TkRmFhA/YvAi34N0BhTJpX5W5PGGGOMMYFK1Bn9X5qIyE5gg4+7xwG7/BjOqQjU2AI1Lgjc2AI1Lgjc2E40rrqqWuofOTzB9gvKzn+/khSosQVqXBC4sZWVuAptv0plInYiRGSuqia7HUdBAjW2QI0LAje2QI0LAje2QI0r0ATq5xSocUHgxhaocUHgxlYe4rJbk8YYY4wxLrFEzBhjjDHGJeUhERvtdgBFCNTYAjUuCNzYAjUuCNzYAjWuQBOon1OgxgWBG1ugxgWBG1uZj6vMjxEzxhhjjAlU5aFHzBhjjDEmIFkiZowxxhjjkjKViIlIvIjMF5FMEQnJV9dcRFJFZLqItAyguN4TkdkiMk1EBpVkXM7v7yAiM5zPZli+ungRmerUFzjjuEtxPSkii5zP7L6SjMv5/c2d2FJE5F0RkXx1bn3PiorL1e+ZE8O9zjJA3mWufV6BJlDbLx9ic+27Ze3XScVm7dfJx+ifNkxVy8wLCAeqAtOAkHx13wB1gDOAsQEU13tAQxc/s5pAuLP9MdDCq244noWNo4BpARTXk0AvFz+zUK/td4H2AfI9Kyout79nFYD3gdR85a59XoH2CtT2y4fYXPtuWft1UrFZ+3Vy8fmtDStTPWKqmqmqewqprqqqm1R1C1ClBMMqLi4FPhCRcSJStyTjAlDVbaqa6bzNAnK8qlsAM1T1ALBfRKIDJC6AF0Vksoi0LqmY8qhnTcI8h4FNXu/d/J4VFZer3zPgFjyNWH6ufV6BJlDbLwjcNszarxNn7ddJ81sbVqYSsWJ4/61S6F4l7x+q2hnPgsH/cSsIp0u1mqou9SoOViflB9Jx4X8AhcQ1XFXbAXcAI0o6JieuC0Xkd6AGsNurytXvWRFxufY9E5FQoLuqTi2gOlD/XQaaQP6cXG/DrP064bis/TqxuPzahpWnRMx7no5c16LIR1XTnJ+peLqzS5yIxACv4cn4vXl/TtHA3pKKCQqPy+szW1WS8eSL4TtVbQ5sBi7wrvLaLvHvWWFxufw9uw74pJC6gPx3GYAC9nNyuw2z9uvEWft1wvzahpWnRCxNRGqLSDywz+1g8uR1l4tIEiXcUDi/NwT4CPg/Vd2Wr3qxiHQSkUggWlVL7HMrKi6vzywOCCngcH/HVsHr7T7gkNd7175nRcXl8vcsCbhDRL4HmonI3V51AfnvMgAF7Ofk5nfL2q+Tis3arxPn3zbMzcFvp/sFhAKTgT3AFOAc4BGnriUw3Xm1DqC4xgGpQArQ3IXP7GpgJ55BuNOATsAIp642MBWYCfQOoLjedP47zgTOceEzGwj84rzeBuID5HtWVFyufs+8Ysy7onX98wq0V6C2Xz7E5tp3y9qvk4rN2q9Ti/O0t2E2s74xxhhjjEvK061JY4wxxpiAYomYMcYYY4xLLBEzxhhjjHGJJWLGGGOMMS6xRMwYY4wxxiWWiJnTTkQ6isjtzgKprQuoT3cWb00VkTNP8NzdReRJZ7vAWalFJFFEzj2Z2I0x5Zu1X6akWSJm/KE1sBBoDiwtoH6JqnYH/gE84F0hIj5/J1X17kKqEgGfGrIT+X3GmHKhNdZ+mRJU4rP6mrJNRP4HdAMWA+3wLNR6m6qmF7D7QqC2iNwI9AWigEdE5EI8DVEucLOqrheRd4AEYBuw2vldqaraVUS6AP/Gs7juKDwTA3YRkU6q2lNEhuNpXPcB1wBVgXfxrGU2UUTOwdP45QI9VTWglpAxxpQMa7+MGyybNqeVqt4CzMCzoO1XqnpVIY0YwNnASmd7r6r2x9OYnOFccd4FPCQiZwE5qtqLgq9QnwcGOsd8AYwGPnQasfZApKqeDXwG3O4cUx24EvgQqK2q5wDnWiNmTPll7Zdxg/WImdNGRPoAjwF18CwtEiQie1T12Xy7thCRn/GsGXYncD4wz6lrDHQXkWnO+61AfWCB834enuVC/vKrVXUXgKrmioh3XQNgvrM9F8/SLACLVDUHyBGR90XkI2CDiDxmjZkx5Y+1X8YtloiZ00ZVvxcRBWKBRsD7qrq+gF2XqGqPvDdOw5PXeKwEfswbPyEioUBbIG//NgX9ahGJVdXdzpiJLCDYqVsD9Ha2k533R3+fiAQDn6rqByIyGmgPzD6hP9wYU+pZ+2XcYrcmzenWBlgEJBbSiBVJVRcC25ynkn4GblLV2UAFEZkCFPSU0kPAOGf/y4Hf8Yyx+FxV5wCHRCQFGAS8ke/YSsAUEZmO50p4yYnGbIwpM6z9MiXOFv02xhhjjHGJ9YgZY4wxxrjEEjFjjDHGGJdYImaMMcYY4xJLxIwxxhhjXGKJmDHGGGOMSywRM8YYY4xxiSVixhhjjDEu+X8/TuOFZsuUMQAAAABJRU5ErkJggg==\n",
       "datasetInfos": [],
       "metadata": {},
       "removedWidgets": [],
       "type": "image"
      }
     },
     "output_type": "display_data"
    }
   ],
   "source": [
    "plt.figure(figsize=(10,5))\n",
    "plt.rcParams.update({'font.size': 8, 'lines.markersize': 4})\n",
    "\n",
    "# Set up a 2x1 grid so we can look at 2 plots at once\n",
    "plt.subplot(2, 1,1)\n",
    "\n",
    "# We will now plot a red dot to indicate the model with the largest adjusted R^2 statistic.\n",
    "# The argmax() function can be used to identify the location of the maximum point of a vector\n",
    "\n",
    "rsquared_adj = models_best.apply(lambda row: row[1].rsquared_adj, axis=1)\n",
    "\n",
    "plt.subplot(2, 2, 1)\n",
    "plt.plot(rsquared_adj)\n",
    "plt.plot(rsquared_adj.argmax()+1, rsquared_adj.max(), \"or\")\n",
    "plt.xlabel('# Predictors')\n",
    "plt.ylabel('Adjusted r-squared')\n",
    "\n",
    "# We'll do the same for AIC, this time looking for the model with the smallest statistic\n",
    "aic = models_best.apply(lambda row: row[1].aic, axis=1)\n",
    "\n",
    "plt.subplot(2, 2, 2)\n",
    "plt.plot(aic)\n",
    "plt.plot(aic.argmin()+1, aic.min(), \"or\")\n",
    "plt.xlabel('# Predictors')\n",
    "plt.ylabel('AIC')\n",
    "\n"
   ]
  },
  {
   "cell_type": "markdown",
   "metadata": {
    "application/vnd.databricks.v1+cell": {
     "inputWidgets": {},
     "nuid": "0b969435-28bc-4257-ace9-f6439b9ec01e",
     "showTitle": false,
     "title": ""
    }
   },
   "source": [
    "#### 4.b) Selecting and testing the model"
   ]
  },
  {
   "cell_type": "markdown",
   "metadata": {
    "application/vnd.databricks.v1+cell": {
     "inputWidgets": {},
     "nuid": "31c955c4-14ac-41d5-9bc7-f71ab57600e1",
     "showTitle": false,
     "title": ""
    }
   },
   "source": [
    "The model with four predictors seems to be the best one (highest r2 and lowest AIC). It is also important to mention that in this model, the four coefficients are significant at the 0.01 level, as well as the model as a whole. Also, the signs of the four make sense (more hits (H) and walks (BB) produce more runs, while grounding into double play (GDP) and leaving men on base (LOB) decrease the probability of scoring runs)."
   ]
  },
  {
   "cell_type": "code",
   "execution_count": 0,
   "metadata": {
    "application/vnd.databricks.v1+cell": {
     "inputWidgets": {},
     "nuid": "0ce04d95-8bb2-4684-b84e-782d254368b2",
     "showTitle": false,
     "title": ""
    }
   },
   "outputs": [
    {
     "data": {
      "text/plain": [
       "r2: 0.9347682302807488\n"
      ]
     },
     "metadata": {
      "application/vnd.databricks.v1+output": {
       "addedWidgets": {},
       "arguments": {},
       "data": "r2: 0.9347682302807488\n",
       "datasetInfos": [],
       "metadata": {},
       "removedWidgets": [],
       "type": "ansi"
      }
     },
     "output_type": "display_data"
    }
   ],
   "source": [
    "r2 = models_best.loc[4, \"model\"].rsquared\n",
    "print(f'r2: {r2}')"
   ]
  },
  {
   "cell_type": "code",
   "execution_count": 0,
   "metadata": {
    "application/vnd.databricks.v1+cell": {
     "inputWidgets": {},
     "nuid": "2a18b205-c9d0-4a09-9eaa-7a7947972858",
     "showTitle": false,
     "title": ""
    }
   },
   "outputs": [
    {
     "data": {
      "text/plain": [
       "BB        0.977183\n",
       "GDP      -1.053382\n",
       "H         0.962619\n",
       "LOB      -0.874541\n",
       "const   -32.251731\n",
       "dtype: float64\n"
      ]
     },
     "metadata": {
      "application/vnd.databricks.v1+output": {
       "addedWidgets": {},
       "arguments": {},
       "data": "BB        0.977183\nGDP      -1.053382\nH         0.962619\nLOB      -0.874541\nconst   -32.251731\ndtype: float64\n",
       "datasetInfos": [],
       "metadata": {},
       "removedWidgets": [],
       "type": "ansi"
      }
     },
     "output_type": "display_data"
    }
   ],
   "source": [
    "print(models_best.loc[4, \"model\"].params)"
   ]
  },
  {
   "cell_type": "code",
   "execution_count": 0,
   "metadata": {
    "application/vnd.databricks.v1+cell": {
     "inputWidgets": {},
     "nuid": "47447275-a46a-4531-86f0-0c0dd868df69",
     "showTitle": false,
     "title": ""
    }
   },
   "outputs": [],
   "source": [
    "#Retrieving the value of the constant\n",
    "const = models_best.loc[4, \"model\"].params['const']"
   ]
  },
  {
   "cell_type": "code",
   "execution_count": 0,
   "metadata": {
    "application/vnd.databricks.v1+cell": {
     "inputWidgets": {},
     "nuid": "c7897d36-c211-4166-8745-4a52318b685d",
     "showTitle": false,
     "title": ""
    }
   },
   "outputs": [],
   "source": [
    "#Retrieving the values of the regression coefficients\n",
    "BB = models_best.loc[4, \"model\"].params['BB']\n",
    "H = models_best.loc[4, \"model\"].params['H']\n",
    "LOB = models_best.loc[4, \"model\"].params['LOB']\n",
    "GDP = models_best.loc[4, \"model\"].params['GDP']"
   ]
  },
  {
   "cell_type": "code",
   "execution_count": 0,
   "metadata": {
    "application/vnd.databricks.v1+cell": {
     "inputWidgets": {},
     "nuid": "9a1ab88f-efe2-4251-bd89-a64517c00210",
     "showTitle": false,
     "title": ""
    }
   },
   "outputs": [
    {
     "data": {
      "text/html": [
       "<div>\n",
       "<style scoped>\n",
       "    .dataframe tbody tr th:only-of-type {\n",
       "        vertical-align: middle;\n",
       "    }\n",
       "\n",
       "    .dataframe tbody tr th {\n",
       "        vertical-align: top;\n",
       "    }\n",
       "\n",
       "    .dataframe thead th {\n",
       "        text-align: right;\n",
       "    }\n",
       "</style>\n",
       "<table border=\"1\" class=\"dataframe\">\n",
       "  <thead>\n",
       "    <tr style=\"text-align: right;\">\n",
       "      <th></th>\n",
       "      <th>const</th>\n",
       "      <th>H</th>\n",
       "      <th>SB</th>\n",
       "      <th>SO</th>\n",
       "      <th>BA</th>\n",
       "      <th>OBP</th>\n",
       "      <th>SLG</th>\n",
       "      <th>GDP</th>\n",
       "      <th>LOB</th>\n",
       "      <th>salary</th>\n",
       "      <th>2B</th>\n",
       "      <th>3B</th>\n",
       "      <th>HR</th>\n",
       "      <th>BB</th>\n",
       "      <th>BPF</th>\n",
       "      <th>SF</th>\n",
       "      <th>CS</th>\n",
       "      <th>salary_log</th>\n",
       "    </tr>\n",
       "  </thead>\n",
       "  <tbody>\n",
       "    <tr>\n",
       "      <th>44</th>\n",
       "      <td>1.0</td>\n",
       "      <td>1497</td>\n",
       "      <td>91</td>\n",
       "      <td>1282</td>\n",
       "      <td>0.267</td>\n",
       "      <td>0.331</td>\n",
       "      <td>0.431</td>\n",
       "      <td>119</td>\n",
       "      <td>1130</td>\n",
       "      <td>110765599</td>\n",
       "      <td>271</td>\n",
       "      <td>31</td>\n",
       "      <td>194</td>\n",
       "      <td>486.0</td>\n",
       "      <td>93</td>\n",
       "      <td>41.0</td>\n",
       "      <td>30.0</td>\n",
       "      <td>18.522927</td>\n",
       "    </tr>\n",
       "    <tr>\n",
       "      <th>188</th>\n",
       "      <td>1.0</td>\n",
       "      <td>1526</td>\n",
       "      <td>100</td>\n",
       "      <td>1213</td>\n",
       "      <td>0.274</td>\n",
       "      <td>0.330</td>\n",
       "      <td>0.436</td>\n",
       "      <td>132</td>\n",
       "      <td>1111</td>\n",
       "      <td>88210881</td>\n",
       "      <td>306</td>\n",
       "      <td>52</td>\n",
       "      <td>166</td>\n",
       "      <td>450.0</td>\n",
       "      <td>120</td>\n",
       "      <td>39.0</td>\n",
       "      <td>40.0</td>\n",
       "      <td>18.295241</td>\n",
       "    </tr>\n",
       "    <tr>\n",
       "      <th>51</th>\n",
       "      <td>1.0</td>\n",
       "      <td>1331</td>\n",
       "      <td>67</td>\n",
       "      <td>1213</td>\n",
       "      <td>0.244</td>\n",
       "      <td>0.318</td>\n",
       "      <td>0.386</td>\n",
       "      <td>120</td>\n",
       "      <td>1129</td>\n",
       "      <td>98203030</td>\n",
       "      <td>249</td>\n",
       "      <td>36</td>\n",
       "      <td>151</td>\n",
       "      <td>519.0</td>\n",
       "      <td>99</td>\n",
       "      <td>28.0</td>\n",
       "      <td>36.0</td>\n",
       "      <td>18.402548</td>\n",
       "    </tr>\n",
       "    <tr>\n",
       "      <th>204</th>\n",
       "      <td>1.0</td>\n",
       "      <td>1495</td>\n",
       "      <td>118</td>\n",
       "      <td>1097</td>\n",
       "      <td>0.269</td>\n",
       "      <td>0.327</td>\n",
       "      <td>0.397</td>\n",
       "      <td>114</td>\n",
       "      <td>1171</td>\n",
       "      <td>84439430</td>\n",
       "      <td>287</td>\n",
       "      <td>57</td>\n",
       "      <td>103</td>\n",
       "      <td>483.0</td>\n",
       "      <td>88</td>\n",
       "      <td>61.0</td>\n",
       "      <td>39.0</td>\n",
       "      <td>18.251545</td>\n",
       "    </tr>\n",
       "    <tr>\n",
       "      <th>35</th>\n",
       "      <td>1.0</td>\n",
       "      <td>1412</td>\n",
       "      <td>71</td>\n",
       "      <td>1397</td>\n",
       "      <td>0.256</td>\n",
       "      <td>0.314</td>\n",
       "      <td>0.417</td>\n",
       "      <td>124</td>\n",
       "      <td>1055</td>\n",
       "      <td>86382688</td>\n",
       "      <td>256</td>\n",
       "      <td>37</td>\n",
       "      <td>186</td>\n",
       "      <td>401.0</td>\n",
       "      <td>98</td>\n",
       "      <td>33.0</td>\n",
       "      <td>31.0</td>\n",
       "      <td>18.274298</td>\n",
       "    </tr>\n",
       "  </tbody>\n",
       "</table>\n",
       "</div>"
      ]
     },
     "metadata": {
      "application/vnd.databricks.v1+output": {
       "addedWidgets": {},
       "arguments": {},
       "data": "<div>\n<style scoped>\n    .dataframe tbody tr th:only-of-type {\n        vertical-align: middle;\n    }\n\n    .dataframe tbody tr th {\n        vertical-align: top;\n    }\n\n    .dataframe thead th {\n        text-align: right;\n    }\n</style>\n<table border=\"1\" class=\"dataframe\">\n  <thead>\n    <tr style=\"text-align: right;\">\n      <th></th>\n      <th>const</th>\n      <th>H</th>\n      <th>SB</th>\n      <th>SO</th>\n      <th>BA</th>\n      <th>OBP</th>\n      <th>SLG</th>\n      <th>GDP</th>\n      <th>LOB</th>\n      <th>salary</th>\n      <th>2B</th>\n      <th>3B</th>\n      <th>HR</th>\n      <th>BB</th>\n      <th>BPF</th>\n      <th>SF</th>\n      <th>CS</th>\n      <th>salary_log</th>\n    </tr>\n  </thead>\n  <tbody>\n    <tr>\n      <th>44</th>\n      <td>1.0</td>\n      <td>1497</td>\n      <td>91</td>\n      <td>1282</td>\n      <td>0.267</td>\n      <td>0.331</td>\n      <td>0.431</td>\n      <td>119</td>\n      <td>1130</td>\n      <td>110765599</td>\n      <td>271</td>\n      <td>31</td>\n      <td>194</td>\n      <td>486.0</td>\n      <td>93</td>\n      <td>41.0</td>\n      <td>30.0</td>\n      <td>18.522927</td>\n    </tr>\n    <tr>\n      <th>188</th>\n      <td>1.0</td>\n      <td>1526</td>\n      <td>100</td>\n      <td>1213</td>\n      <td>0.274</td>\n      <td>0.330</td>\n      <td>0.436</td>\n      <td>132</td>\n      <td>1111</td>\n      <td>88210881</td>\n      <td>306</td>\n      <td>52</td>\n      <td>166</td>\n      <td>450.0</td>\n      <td>120</td>\n      <td>39.0</td>\n      <td>40.0</td>\n      <td>18.295241</td>\n    </tr>\n    <tr>\n      <th>51</th>\n      <td>1.0</td>\n      <td>1331</td>\n      <td>67</td>\n      <td>1213</td>\n      <td>0.244</td>\n      <td>0.318</td>\n      <td>0.386</td>\n      <td>120</td>\n      <td>1129</td>\n      <td>98203030</td>\n      <td>249</td>\n      <td>36</td>\n      <td>151</td>\n      <td>519.0</td>\n      <td>99</td>\n      <td>28.0</td>\n      <td>36.0</td>\n      <td>18.402548</td>\n    </tr>\n    <tr>\n      <th>204</th>\n      <td>1.0</td>\n      <td>1495</td>\n      <td>118</td>\n      <td>1097</td>\n      <td>0.269</td>\n      <td>0.327</td>\n      <td>0.397</td>\n      <td>114</td>\n      <td>1171</td>\n      <td>84439430</td>\n      <td>287</td>\n      <td>57</td>\n      <td>103</td>\n      <td>483.0</td>\n      <td>88</td>\n      <td>61.0</td>\n      <td>39.0</td>\n      <td>18.251545</td>\n    </tr>\n    <tr>\n      <th>35</th>\n      <td>1.0</td>\n      <td>1412</td>\n      <td>71</td>\n      <td>1397</td>\n      <td>0.256</td>\n      <td>0.314</td>\n      <td>0.417</td>\n      <td>124</td>\n      <td>1055</td>\n      <td>86382688</td>\n      <td>256</td>\n      <td>37</td>\n      <td>186</td>\n      <td>401.0</td>\n      <td>98</td>\n      <td>33.0</td>\n      <td>31.0</td>\n      <td>18.274298</td>\n    </tr>\n  </tbody>\n</table>\n</div>",
       "datasetInfos": [],
       "metadata": {},
       "removedWidgets": [],
       "textData": null,
       "type": "htmlSandbox"
      }
     },
     "output_type": "display_data"
    }
   ],
   "source": [
    "x_test.head()"
   ]
  },
  {
   "cell_type": "markdown",
   "metadata": {
    "application/vnd.databricks.v1+cell": {
     "inputWidgets": {},
     "nuid": "2773c5b9-2cee-4f5c-8fcd-aa49af0dae1c",
     "showTitle": false,
     "title": ""
    }
   },
   "source": [
    "The linear regression model has an equation of the form Y = a + b1X1 + b2X2+...."
   ]
  },
  {
   "cell_type": "code",
   "execution_count": 0,
   "metadata": {
    "application/vnd.databricks.v1+cell": {
     "inputWidgets": {},
     "nuid": "1cea6a05-bcfe-4616-9f9c-606e69daceec",
     "showTitle": false,
     "title": ""
    }
   },
   "outputs": [
    {
     "data": {
      "text/plain": [
       "44     770.0\n",
       "188    766.0\n",
       "51     642.0\n",
       "204    735.0\n",
       "35     666.0\n",
       "dtype: float64\n"
      ]
     },
     "metadata": {
      "application/vnd.databricks.v1+output": {
       "addedWidgets": {},
       "arguments": {},
       "data": "44     770.0\n188    766.0\n51     642.0\n204    735.0\n35     666.0\ndtype: float64\n",
       "datasetInfos": [],
       "metadata": {},
       "removedWidgets": [],
       "type": "ansi"
      }
     },
     "output_type": "display_data"
    }
   ],
   "source": [
    "#With the regression formula, we can test the model by making a prediction using the test data. \n",
    "prediction = round(const + x_test['BB']*BB + x_test['H']*H + x_test['LOB']*LOB+ x_test['GDP']*GDP)\n",
    "print(prediction.head())"
   ]
  },
  {
   "cell_type": "code",
   "execution_count": 0,
   "metadata": {
    "application/vnd.databricks.v1+cell": {
     "inputWidgets": {},
     "nuid": "84685337-23cc-41d1-bcaa-f9dfb454c634",
     "showTitle": false,
     "title": ""
    }
   },
   "outputs": [
    {
     "data": {
      "text/html": [
       "<div>\n",
       "<style scoped>\n",
       "    .dataframe tbody tr th:only-of-type {\n",
       "        vertical-align: middle;\n",
       "    }\n",
       "\n",
       "    .dataframe tbody tr th {\n",
       "        vertical-align: top;\n",
       "    }\n",
       "\n",
       "    .dataframe thead th {\n",
       "        text-align: right;\n",
       "    }\n",
       "</style>\n",
       "<table border=\"1\" class=\"dataframe\">\n",
       "  <thead>\n",
       "    <tr style=\"text-align: right;\">\n",
       "      <th></th>\n",
       "      <th>Actual</th>\n",
       "      <th>Predicted</th>\n",
       "      <th>Residuals</th>\n",
       "    </tr>\n",
       "  </thead>\n",
       "  <tbody>\n",
       "    <tr>\n",
       "      <th>44</th>\n",
       "      <td>778</td>\n",
       "      <td>770.0</td>\n",
       "      <td>8.0</td>\n",
       "    </tr>\n",
       "    <tr>\n",
       "      <th>188</th>\n",
       "      <td>758</td>\n",
       "      <td>766.0</td>\n",
       "      <td>-8.0</td>\n",
       "    </tr>\n",
       "    <tr>\n",
       "      <th>51</th>\n",
       "      <td>668</td>\n",
       "      <td>642.0</td>\n",
       "      <td>26.0</td>\n",
       "    </tr>\n",
       "    <tr>\n",
       "      <th>204</th>\n",
       "      <td>718</td>\n",
       "      <td>735.0</td>\n",
       "      <td>-17.0</td>\n",
       "    </tr>\n",
       "    <tr>\n",
       "      <th>35</th>\n",
       "      <td>706</td>\n",
       "      <td>666.0</td>\n",
       "      <td>40.0</td>\n",
       "    </tr>\n",
       "  </tbody>\n",
       "</table>\n",
       "</div>"
      ]
     },
     "metadata": {
      "application/vnd.databricks.v1+output": {
       "addedWidgets": {},
       "arguments": {},
       "data": "<div>\n<style scoped>\n    .dataframe tbody tr th:only-of-type {\n        vertical-align: middle;\n    }\n\n    .dataframe tbody tr th {\n        vertical-align: top;\n    }\n\n    .dataframe thead th {\n        text-align: right;\n    }\n</style>\n<table border=\"1\" class=\"dataframe\">\n  <thead>\n    <tr style=\"text-align: right;\">\n      <th></th>\n      <th>Actual</th>\n      <th>Predicted</th>\n      <th>Residuals</th>\n    </tr>\n  </thead>\n  <tbody>\n    <tr>\n      <th>44</th>\n      <td>778</td>\n      <td>770.0</td>\n      <td>8.0</td>\n    </tr>\n    <tr>\n      <th>188</th>\n      <td>758</td>\n      <td>766.0</td>\n      <td>-8.0</td>\n    </tr>\n    <tr>\n      <th>51</th>\n      <td>668</td>\n      <td>642.0</td>\n      <td>26.0</td>\n    </tr>\n    <tr>\n      <th>204</th>\n      <td>718</td>\n      <td>735.0</td>\n      <td>-17.0</td>\n    </tr>\n    <tr>\n      <th>35</th>\n      <td>706</td>\n      <td>666.0</td>\n      <td>40.0</td>\n    </tr>\n  </tbody>\n</table>\n</div>",
       "datasetInfos": [],
       "metadata": {},
       "removedWidgets": [],
       "textData": null,
       "type": "htmlSandbox"
      }
     },
     "output_type": "display_data"
    }
   ],
   "source": [
    "#Calculating the residuals, which are the difference between the actual and the predicted values. \n",
    "df_test = pd.DataFrame({'Actual': y_test, 'Predicted': prediction, \"Residuals\": y_test - prediction})\n",
    "df_test.head()"
   ]
  },
  {
   "cell_type": "code",
   "execution_count": 0,
   "metadata": {
    "application/vnd.databricks.v1+cell": {
     "inputWidgets": {},
     "nuid": "6ad59461-a489-4a8b-a0dc-df350c319b28",
     "showTitle": false,
     "title": ""
    }
   },
   "outputs": [
    {
     "data": {
      "text/plain": [
       "Out[65]: 21.24531785542793"
      ]
     },
     "metadata": {
      "application/vnd.databricks.v1+output": {
       "addedWidgets": {},
       "arguments": {},
       "data": "Out[65]: 21.24531785542793",
       "datasetInfos": [],
       "metadata": {},
       "removedWidgets": [],
       "type": "ansi"
      }
     },
     "output_type": "display_data"
    }
   ],
   "source": [
    "df_test['Residuals'].std()"
   ]
  },
  {
   "cell_type": "code",
   "execution_count": 0,
   "metadata": {
    "application/vnd.databricks.v1+cell": {
     "inputWidgets": {},
     "nuid": "9e1a8de7-0619-48ff-9145-7ad48dff25e7",
     "showTitle": false,
     "title": ""
    }
   },
   "outputs": [
    {
     "data": {
      "image/png": "[encoded data removed]"
     },
     "metadata": {
      "application/vnd.databricks.v1+output": {
       "addedWidgets": {},
       "arguments": {},
       "data": "data:image/png;base64,iVBORw0KGgoAAAANSUhEUgAAAYAAAAESCAYAAAD0aQL3AAAAOXRFWHRTb2Z0d2FyZQBNYXRwbG90bGliIHZlcnNpb24zLjQuMiwgaHR0cHM6Ly9tYXRwbG90bGliLm9yZy8rg+JYAAAACXBIWXMAAAsTAAALEwEAmpwYAAA6w0lEQVR4nO3deXxc1ZXo+9+qSVJptmzLkyZjbAYbDJbBxjbgQBLSJGBIAs082e5Ocvt2572ku98nvB7SdN9O0veS93Jfd18DYQ4NSRgS6PCCGeUJTxibyRAsyZM8aZZKpZr2/eMclTVUqUqWSqoqre/nw4eqXeec2key9jpn733WFmMMSimlJh/HRFdAKaXUxNAAoJRSk5QGAKWUmqQ0ACil1CSlAUAppSYpDQBKKTVJaQBQKSEi3xGRLhHJS7DdYhG5ehTf83ci8qeDyu4RkQ2Dyr4kIq+cwfGDIrJHRD4SkYdF5Iz+ZkTkGhF5zH79QxG5bJht14jIvBEe/59F5O4Y5W+JyMcisldENolI9QirrrKYBgCVKt8E9gLXJthuMXDGASCOF4FrRcQ5qD7PncGxmo0xi4FFwDzghv4fDvqOpBhj/sYYs2WYTdbY3zVWbjDGXAC8Dtw/hsdVGU4DgBpzIjIDKAf+Bqvh7SufJSKviMj7IrJLRKqAHwL32FfZq0XkMRG5xt6+WkS22a+Xi8hWEXlPRN4QkZnxvt8Y0wq8D1xp7+sE/gh4ya7DZvv79orIOcmckzEmDGwDzhKRu0XkVyLyNvCkiJSLyEsislNE6kRkfr86fygiu4Gv9fs59D/Hy0Rku/0z+Z2IXApcB/x/dh0LReQS+7i7ReSXIuK19/2WiHwqInXAWUmcxlZgtr3vgDsnETlm//9uEfkPEXldRD4Xkbvs8kX272yP/TsoSebnptKbBgCVCl8HngfeAi7ta7CA/xf4pTHmQmAlcAIrSDxqjFlsjHlzmGN+CKw0xlwE/Dvwlwnq8EtOB5/VwHvGmDbgFmCjfVW/BGhM5oTsrqzVdj0ALgC+aoy5FXgQ+HtjTC3wfwD/w97mIeA2+3tmxDhmDvAEcJf9M7nNGPMu8BvgO3Yde4GfANcZYy4GtgPfFpHZwHeBWqy7rKVJnMaXgd8msd35WAFrBfD3dtl64H/adVoBdCVxHJXmXBNdAZWVbgL+qzEmJCIbsa6+fwUsx26UjTE9ACKS7DFLgadEpAbr3+3BBNu/CPyDffX/DayAALADeExEIljB6KMExykTkT2AAV4xxrxi97W/aozptLf5AnBev3MJ21fIDmPMHgAReRbr59DfAuAPxpiPAYwxLTG+fwFWsHnTPr4HqytnKVYg67CP/5/DnMMLIlIAhLC63BLZaIzxAT4RcYiIG+vu4X4RmQY8a4xJKnCq9KZ3AGpM2d0/l2J1tzQAX8UKCMkKc/rfZU6/8h8CzxtjFgF3DPpsCLsbaC9W4/xHWAEBY8w7wOVYdx+/FpGrEtSn2b47ucgY07//3Nf/64CL7e0WG2OW9CsnxuuREGBHv2OfZ4z5sxEe/wagGqjj9BV99Ods34n019vvdQRwGmN+AVyPFUTeFJFzz+RkVHrRAKDG2jeAnxljqo0x1cAc4DK7G2gz0NennGt3q3QChf32b+T0Vep1/cqLgCb79d1J1uU54L8De40x7fb3VgFNxph/A/4Da3B3tOqAtfbxHSKyyO5uiojIBWJduscKgp9gjSmca+87xS7v/zP5BKgRkUX2Nvn2DKEdwNX2GEEh8JXhKmiPYXwfuM2+O4n3c47JvvP6gzHmfwBvY92ZqAynAUCNtW9iX20DGGNCWGMB1wJ/DtwkInuBTUAZ8CZwiT2wuBp4BLhRRN4DpvY77r8AP7MHVJPtf34ROIeBs3+uBPbax18FPAVgd/OcqT8DviIi7wMfcHrm03rgGWAXcHzwTsaYAHAn8IS97xP2R/8B/L1dpxzgVuDf7W22AvOMMUeAn9rH/k9gZ6JKGmOO2/X5E6wxmvn272JhEuf4x8AHdp0KgVeT2EelOdF00EopNTnpHYBSSk1SGgCUUmqS0gCglFKTlAYApZSapDLmQbCpU6ea6urqia6GUkpllF27dp0yxkyL9VnGBIDq6mp27kw4000ppVQ/IhL3qW3tAlJKqUlKA4BSSk1SGgCUUmqS0gCglFKTVEoCgIi47EUl3hSRH9tl3xdrSbqn7fSyMcuUUkqNj1TdAdwAvG+MWQ3kicgVwGpjzEqsFL1rRGT64LIU1UUppVQMqQoAc7EadYA9WNkG37Lfb8RaGKQ2RplSSqlxkqoAsB+4wn69GigBOuz37fb7WGUDiMh6e53VnSdPnkxRVZVSanJKVQD4LVbXz+tYqwu1YS3ogf3/NqxGf3DZAMaYDcaYWmNM7bRpMR9kU0opFUdXb2jYz1MSAIwxYWPMnxljrsJaeu5lTt8RXA1sw1rRaHCZUkqpUfIHwxxt6+FEh3/Y7VKSCkJEZgNPY60n+oQxplFE3hGRTViLef/UGBMYXJaKuiil1GQRCkdo8QXo8g9/5d8nY1YEq62tNZoLSCmlhjLG0OYL0t4TJDKoTT9reuEuY0xtrP0yJhmcUkqpobp6Q7R0BQhFIiPeVwOAUkplIH8wTHN3gN5g+IyPoQFAKaUyyEj7+YejAUAppTJAXz9/W0+QZMZuT3UGeHDjftzTqhfG20YDgFJKpblOf5DW7uCI+vn/5fef8FFTJ5hI3D4iDQBKKZWmzqSfPxSO8Mq+Y+xsbCWS4EZBA4BSSqWZYDhCa3cg4ZO8/UWM4e39J/n55gaOtPUktY8GAKWUShORiKGtx5rPP5JntHY3trKh7gCfHu8CwCFw5fzptPUEOCoOZ7z9NAAopVQa6PAHaRthP/+nxzt5qK6eXY2t0bIV88pYu7KGqrJ8AF74TsMH8fbXAKCUUhPIHwxzqquXQCj5hv9Iaw8/31zPm/tPZ0leNLuY9ZfXcP6s4qSPowFAKaUmQDAcoaU7QPcI+vlbugM8ubWRl/c1EbZHeOdOzWftqhourZmCiIyoDhoAlFJqHJ1JP393b4hndx7iVzsP47fvFMqLcrhnRQ1XnTMdp2NkDX8fDQBKKTVOOvxBWrsD0av3RAKhCL95/yhPbWukw37ytyjXxe3Lqrjuwll4XKPL6K8BQCmlUqwnEKa5O/l+/nDE8PrHx3l0SwPHO3oByHU5+EbtHG6qraAgZ2yabg0ASimVIoGQ1c/vCyTXz2+M4d36Fh6uq+fAqW4AnA7hq4tmcsfyKqbke5L+7oIcFyXe4bfXAKCUUmMsEjG0+gJ0+ENJ9/N/dLSDDXUH2Hu4PVq2esE07l1Rw+zSvKS/uyDXRUmeJ6nuIQ0ASik1RowxdPhDtPmS7+dvbO7m4U31bP5Dc7RsSWUJ6y6fy/zywqS/u++KfyTjAhoAlFJqDPgCIZq7AgTDyfXzn+zs5fEtDbz64bFozp755QWsWzWXJVWlSX/vmTT8fTQAKKXUKIy0n7+jJ8gz2w/ywp6j0UHh2SV53LeymsvnT8ORxFx+ESE/x5l0V088GgCUUuoMjLSfvzcY5vn3jvDM9kPRJG+lXjd3Lq/m2kUzcDkTN+QiYl/xu3EnsX0iGgCUUmqERjKfPxwx/O6DYzy+tYHmrgAAXo+Tm5dW8I2L55DniZurLUpEKMx1UZLnTipQJEsDgFJKJWkk8/mNMdT94RSP1NVzqNVKz+x2CtddOIvbL62i2OtOeAxHX8Pv9Zzx077D0QCglFIJjDRvz/uH2thQd4CPmzoBEOCL55Vz92XVzCjOTbi/Q4SiPDfFee6UNPx9NAAopVQcI83b8/mJLh7aVM/2+pZo2bK5U1i7soa50woS7u8Qodhu+B0pbPj7pCQAiIgX+CWQD7QDfwm8A3wMBIwxX7K3+z5wPdAI3G2MCaaiPkopNVIjWYe3qb2HRzc38PrHJ+gLE+fNLGL95TVcMKck4f59V/wl49Tw90nVHcA1wLvGmB+KyA/s968ZY27v20BEpgOrjTErReSvgDVYQUMppSbMSNbhbfMFeGrbQX7z/lFC9oBw1RQva1fVcNlZZQnTM4sIRSns408kVQHgc+BS+3UJ8DbwlyJSBzxvjHkQqAXesrfZCNyGBgCl1AQJ2f38yazD2xMI88tdh3hu52F8AStQTC3wcPdl1Xz5/BkJG/O+6Zyl3rGd1TNSqQoAnwHLReRD4ARwPzAf6AVeEpHXsQJDh719u/1+ABFZD6wHqKysTFFVlVKTmTGGNl+QtiT6+YPhCK/sbeLJbY20+qwe68JcF7dcUskNi2eR4x5+SudYz+MfrVQFgLuA3xpjfiIi3wNuNsY8ASAiLwMLsRr9Ofb2RUDb4IMYYzYAGwBqa2uTXyFZKaWS0NUboqUrkLCfP2IMb+0/ySOb6mlq9wPgcTn4+sWz+eOlFRTmDj+lM1Xz+EcrVQFAgL5h8FNA/0UqVwA/A+qBbwM/Bq4GtqWoLkopNcBI+vl3NrSwoa6eP5zoAsAh8JWFM7lzeRXTCnOG3Xe8pnOeqVQFgF8Az4rIHUAQeFREdmF1AdUZY94FEJF3RGQTcBD4aYrqopRSgN3P7wvQ5U/cz7//WCcP1R1g98G2aNnlZ0/l3hU1VJZ5h93X6RCKcsdvOueZSkkAMMa0AV8eVPyLGNv9CPhRKuqglFJ9jDG09wRp8wWJJOjnP9zq45FNDbz96clo2eKKYtatmsu5M4uG3TdTGv4++iCYUiqrdfeGaOlOnKa5uauXJ7Y18srepmh6Zq/HSa7LQa7LwbSC+E/wjvcDXGNFA4BSKisFQhGau3vpCQzfz9/VG+LZHYf49a7D+O0cPzOKcinIcdLZG6Iw10VDSw8PbtzPP96waMC+Ez2Pf7Q0ACilsooxhlZf4vQNgVCEl/Yc4el3D9JhjwmU5Lm5fVklX71gFvc+toPCXBcOhIIcJ43Nvui+6TKPf7Q0ACilJtSxdj/3v7iPz453cXZ5AQ+sWZRUwrRYkknfEI4YXvvoOI9taeBEZy8AuW4HNy2p4Kalc/B6rGaxqsxLfbOPghwnXb1hauyB39GswJVuNAAopSbU/S/uY//xLopyXew/3sX9L+7j4buWjugYyaRpNsaw9UAzD9fV02BfzbscwlcvmMnty6qYku8ZsP13r17Agxv309jsY+5ULz/4o/OYU+rNioa/jwYApdSE+sxu/B12f/pnx7uS3jcQitDqS5ym+YMj7Wx45wAfHO2Iln3hnOncs6Ka2SV5MfeZWujhn268IK2e3B1rGgCUUhPq7PKC6B1Ahz/EgvLEaZPDEUNbEssx1p/q5pFN9Wz5vDlatrS6lLUrazi7vDDuftnSx5+IBgCl1IR6YM2i6BjAAnsMYDjWfP7hl2M83uHnsS0NvPbR8eiUzgUzClm3qoaLK0vj7jdZGv4+GgCUUhNqRnFuUn3+yfTzt/cE+cW7B3lxzxGCYavln1Oax30ra7j87Klx0zOnW5K28aIBQCmVdvrPDDprej7fvXoB+TnxM236g2Ge332EZ3YcpLvXmvdflu/hzuVVfGXhjGGv5gtyXZR6PdGGfyxnJaU7SWaZs3RQW1trdu7cOdHVUEqNg7WP7+CTY53ke5y0+0PUlHmHPIQFVm6f331wjCe2NtLcHQAgP8fJLUsrufHi2eQOk565INdFSd7Q6ZxrH98xZExipLOS0omI7DLG1Mb6TO8AlFJpZ39TJ3keJ8Yw5CEssKZ0vvPZKR7ZVM/h1h4A3E5hzeLZ3HppJcV58dMzJ5rHP5pZSZlGA4BSKm34g2FOdfUyZ0pezIewAN472MqGunr2H+sErPTMXzpvBnddVkV5UfyummQf4DqTWUmZSgOAUmrCDZ7P3/8hrJoyL9+9egGfHe/k4U317Ghoje532Vll3Leyhpqp+XGPnW8P7ua4hl+tq89IZyVlMh0DUEpNmHDE0OoL0DnMfP6jbT38fHMDb3xyIlq2cFYR6y+fy8LZxTH3gZE3/NlKxwCUUmklmfz8rb4AT25t5OW9TYTsyfzVZV7Wrqph+dyyuFM6C3JcFGvDnxQNAEqpcZVoHV5fIMRzOw/z3M5D+IPWNtMLc7j7smq+eF553LTLesU/choAlFLjwh8M09IdwB9nHd5AKMLLe4/y1LaDtPUEASjKdXHbpZVcv3h23MFbr8dFab42/GdCA4BSKqUSrcMbMYY3PjnBo5sbaGr3A5DjcvCNJXO4eWkFBTmxm6k8j5NSr2fYuf5qeBoAlFIpkaif3xjDjoZWHqo7wOcnuwFrSue1i2Zyx/IqphbkxDxurttq+PM82vCPlgYApdSYS7QO78dNHTxUd4A9h9qjZVfMn8a9K6qpmOKNuU+O20mp1x1dsEWNnv4klVJjJtE6vAebfTyyuZ66z05Fyy6qLGHdqhrOmVEUc59ct5MSbfhTQn+iSqlRSzSf/2RnL09sbeR3HzRF0zPPm17AulU11FaVxpzSqV09qacBQCk1KsPl5+/yh3hmx0Ge332EXjuN88ziXO5dUcPqc6bhiNHwe1wOpuR79Ip/HOhPWCl1RobLz98bDPPCnqM8s/0gnfbsn1Kvm9uXVfHVC2bGzLnvdjoozffEnfWjxl5KftIi4gV+CeQD7cBNwD8DtcBuY8yf29s9OLhMKZXeguEILd2x1+ENRwy///AYj21p5GRXLwB5bic3L53DN5dUxOzOcTsdlHjdFObGz+CpUiNVofYa4F1jzA9F5AfAXwMFxphVIvJvIrIUCA8uM8bsSFF9lFKjFIkY2nqCtPcEh/TzG2PY8nkzD2+qj6ZudjmE6y6cxW3LKin1eoYcTxv+iZeqAPA5cKn9ugToBF6z328ElgOhGGUDAoCIrAfWA1RWVqaoqkqpRDr9QVq7gzHTN+w73M6GugN8eLQDAAGuOnc696yoZmZx3pDt3U4HxV43hTmuuPl81PhIVQD4DFguIh8CJ7Aa+g77s3bgfKwAcGBQ2QDGmA3ABrCygaaorkqpOIZL31B/qpuH6g6w7UBLtOySmimsW1nDWdOH5tB3ORyU5GvDn05SFQDuAn5rjPmJiHwPayygb5JvEdCG1QU0uEwplQbCEUNLd4BOf3DIZ8c6/Dy2uYHXPjpO31XZuTMLWb9qLhdWlAzZ3uWwrviLcrXhTzepCgAC9F0WnMIKAFcBzwFXA49h3QH8yaAypVQco12sPJn9jTF09IRo9QWGpG9o9wV5ensjL+05SjBsfVZRmsfaVXNZOW9oemanQyjJ81CUpw1/ukpVAPgF8KyI3AEEgZuBvxWROmCPMWY7gIj4B5cppWK7/8V90aUK9x/v4v4X941osfJE+/sCIZq7hqZv6AmG+dWuwzy34xDd9hO+Uws83LW8mmsWzhiSntkhQonXTVGuG0ec1M0qPaQkABhj2oAvDyoeMs1Tp34qlbzRLlYeb//ekNXPPzh9Qygc4ZV9x3hyWyMt3QHAWmzllksquOGi2UOycDpEKMpzU5znjpuzX6UXfeJCqQwx2sXKB+8/f3o+Jzt7h/TzR4zhnU9P8simBo609QDgdgpfv3gOt1xSMWTaptgBpcTr0YY/w2gAUCpDjHax8r79Pz3Wydxp+fzpFfOGNP67G1t5qK6e/cc7ASs98zXnz+Cuy6qZVjgwPbOIUJDjotTrxhXjyV6V/nRReKUmkXjz+T893slDdfXsamyNlq2YV8balTVUleUPOU5BrotSrydmSgeVXnRReKUmuZ5AmBZfgN5B8/mPtPXw8031vLn/ZLRs0exi1l9ew/mzioccpyDH6uqJtzyjyiwaAJTKYoGQlbfHFxiYt6elO8CTWxt5eV9TNIvn3Kn5rF1Vw6U1U4ZM28zPsa74teHPLhoAlMpCoXCEVl9wSB9/d2+IZ3ce4lc7D+O3s3iWF+Vwz2XVXHVu+ZBB3PFecH20zzqokdEAoFQWiZewLRCK8Jv3j/L0uwdp77GCQlGui9uXVXHdhbOGXNlP1ILro33WQY2MBgClskSHP0hr98CFWcIRw+sfH+fRLQ0c77DSM+e6HHyjdg431VYMyb2f43YyZQJX4Rrtsw5qZDQAKJXh/MEwnzR18qNXP6ax2UdVmZe/uGo+n5/q4uG6eg6c6gas1AzXLprJncurmJI/MD2zx+Wg1Oshf4IXYxntsw5qZDQAKJWh+g/w/ujVj6lv9lGQ42T/8S7WPrkzuhIXwOoF07h3RQ2zSwemZ063VbhG+6yDGpn0+K0rlWbSeTAyVqbOxmYfHqfQ1OaP5usBWFJVyrpVNcwvLxxwjHRdjGVGca72+Y8jDQBKxZCOg5HxMnWe7OwlFDEcbfdHy/I9Tv7uuvNZUlU64Biamln1pwFAqRjSbTAyVqbOjp4gz2w/yAt7jkYXZhfA6YAF5QVUTTn9BG9fhs7iPLc2/CpKA4BSMYz3YGRfl9PHTR30hiLkuJycO7OQv/nq+bhdMiBTpz8Y5oX3jvDM9kN02Quzl3rdlHjd+AJhCnNdHO3o5cGN+/mnGy/QRG0qrmEDgIhcHu8zY8w7Y18dpdJDqgYj440t9HU5tfeE6AmEyXWH+KgJ/urX7/OPN1jfHY4YXv3gGI9tbaC5y0rP7PU4+eOlFXx9yRzWPb6TwlwXDoSCHCeHWnqoKM3TRG0qrkR3AKvt/y+1t90NXAT4AQ0AKmulajAy3thCX5fTsTYfTgcEQuD1OGhs9mGMYdMfmnlkUz0HW3yAlZ75+sWzuO2SKoq91kBuVZmX+mYfxbku/IEI58ws1MZfDWvYAGCM+XsAEXnFGHNNX7mIvJLqiimVjeKNLcybns8nx7pwu5z4A2Fy3UJXb5gpXjd/9sx7fNRkpWcW4IvnlXP3impmFJ2elSQi3P/V8/jvv9/P5ye6OWdGoU6hVAklOwaQJyK3AO8BiwFvymqkVBaLNbbQ3RviO6vP5if//ycEw2Fy7LQM/kCYj/rN7Fk2dwprV9Ywd9rA8YiCHBel+VZq5p/ffcm4no/KbEmtByAipcBaoAaoBx4xxrQMv9fY0vUAVDboPwYwd1o+f3H1fApzT1+HNbX38OjmBl7/+AR9f5nnzSxi/eU1XDCnZMCx8nNclHjHL1GbykxjsR5AB3AIq+//37DGAcY1ACiVDWYU5/Kvty2h1Regu/f0k7ptvgBPbTvIb94/SsjO5VM1xct9K2tYMa9swNTNiUrUprJPsgHgKeBt4BZjzM9E5L8BV6euWkpln74UzV29oWimzp5AmF/uOsRzOw/js6d6TivI4e7LqvjS+TMGTN2c6ERtKvskGwCmGWP+XURuSmltlMpCsVI0B8MRXtnbxJPbGmn1WSkdCnNd3HJJJTcsnkVOv6v7HLeTUq8br0cf21FjK9l/USdE5GasweAbgKYU1kmprGCMocMfos13OkVzxBje2n+SRzbV02QP8HpcDm68aDa3XFIxIDePNvwq1ZL9l3Uv1iDwbmCO/VopFUdXb4jW7oGpG3Y2tLChrp4/nDidVmJ6YQ4/vO585s84nazN7XQwJX/iUzOr7Jfsv7B/MMZ8v++NiNwPPBBvYxG5Bvhr++0C4FvA41jTSAFuNMa0iMhtwHewBpRvNcZ0jLD+SqWVWIuv7z/WyUN1B9h9sC1aluNyUF6UQyBseHxrA/94wyJcDgel+emXoVNlr0SpIKqBs4CrReQL/fb5IsMEAGPMq8Cr9jHeBTYC+4wxV/Y7thv4U+By4OvAnwA/OcPzUGpC9YbCtHQHBuTsOdzq45FNDbz96clo2eKKYg639FCS78aB4HEZGpt9lOXnUJSnGTrV+Ep0B1AFrARK7P8LEAT+r2QOLiJzgePGmC4ROVdE6oDN9v5nYwWFkIhsBB46s1NQauIEwxFauwPRpGwAzV29PLGtkVf2NtG3OuPcafmsXzWXpdWl3P/iB/biLS58gQjnziyMpnNQajwlSgXxNvC2iDwDfGaMMWJdosxL8vg3Ai/Yr88GWoF/B74GnMJ6vgCgHSvIDCAi64H1AJWVlUl+pVKJjXbBl3DE0OYL0OE/PaWzqzfEszsO8etdh/Hb6ZlnFudyz4pqvnDOdBz21f13v7iA//nGZzSc6mbu1Hx6QxGu+PGbabfwjMp+yT4J/Lox5qp474fZ722s/v7mfmVfwXqQ7CXgO8aYb4vIFOBhY8yN8Y6lTwJnt/FegWvt4zuGpGRIJvlb36IsbT2nZ/YEQhFe2nOEp989SIe9DGNJnpvbl1XytQtn4e6XkK0w102p1x1N0nam9VAqWWPxJHA09499B5AwF5CIzAACxphmEckH/MaYMLAC2Ad8CiwUESfWQ2XbkqyLykLjvQLXmSz40ukP0uYLRmf2hCOGjR8f59HNDZzo7AUg1+3gptoKbqqdM2D6ptfjYkq+B49rYHbOdFt4Rk0uyQaAJ+x++r500E8ksc/1WFf5YHX//FxEurByCf2tMSYsIg8BdVhdQ7eOqOYqq4x3QziSBV+6e0O09JvSaYxh24EWHt5UT/2pbgBcDuFrF87i9mWVlHo90X1z3U6m5MdP2zDeC88o1V9SXUAAIjINKxncAWPMqZTWKgbtAspu490VkkyXkz9ozezx95vS+cGRdh6qO8C+I6dnLH/hnOncs6Ka2SV50TKPy5rLn+ghrnRefF5lh+G6gIYNACJyjzHmURH5B2DAhsaYvxnbag5PA0D6GcvGK50awkAoMiRZW/2pbh7ZVM+Wz6PDWSytLmXtyhrOLh/4EFdpvocCfYhLpYnRjAHstv+/cWyrpLLBWPbbp2oFrpEIhq2Gv8t/uuE/0eHnsS2N/P6jY9EpnQtmFLJuVQ0XV5ZGt3M5HJTkuynM0bn8KnMkCgDF9rrAyfUTqUllogcwx+quIVaWzvaeIL949yAv7jlCMGyVzSnN476VNVx+9tRoI+90CCV5Hn2IS2UkXRNYnbGJHsAc7R1IrLn8/mCY53cf4ZkdB+nutfr+y/I93Lm8iq8snBGdvukQoTjPTXGeG4dDG36VmXRNYHXGHlizKHoFvsC+Ah9PZ3oHEokYOuwpnRG74Q9HDL/7oInHtzbS3BUAID/HyS1LK7nx4tnRWTxif1eJ1zMgV79SmUjXBFZnbKL77Ud6BxIrPbMxhnc+O8Ujm+o53NoDgNsprFk8m1svraQ473SKhoJcF1O8nuhdgFKZLtkA8HWsFNCrsObxfz1lNVIqSSO5Axn8EBfAewdb2VBXz/5jnQA4BL54Xjl3X1ZNedHpsYQ8jzWXP8flTKvZSkqNVrKpIJzAN4Fp2GsCG2N2pLhuA+g0UHUmfAHrIa5A6HTDv6O+lX/63ce09wSjZbVVpQTDYU52Bqgq8/LdqxcwqzR3yFx+Td2gMs1w00CTvZd9CitZ2y3GmBDw38aobkqlhD8Ypqm9h2Pt/mjjf7Sthwde+Zi/en5vtPF3O4XzZxXidgrHOwN4c5w0NPv417c+Y06pd8iDXBM980mpsaRrAqusEghFaPMNTM/c0h3gqW2NvLy3iZDd9+9xClMLcsjzOGjtDtLaHaQgx4nb4aDU66D+lC/m8Sd65pNSY0nXBFZZoW8uf6f/dLeOLxDiuR2HeW7XIfxB6y5gemEOhbkuunpDeHOcdPWGqSnz4nI6qD/VTU6ec9iGfaJnPik1ls50TeB1KauRUiMQay5/IBTh5b1HeWrbQdrsrp6iXBe3XVrJ9Ytn09ET4sGN+2ls9nH2tHz+6cYLcDsdSTXsEz3zSamxlHAQ2E7//Lv+zwFMBB0EVv1FIob2niDtPafn8keM4Y1PTvDo5gaa2v2AtfbuN5bM4ealFQPy8+S4nZQNk6VTqWwxqvUA7FXAPrP7/3cDEbv8wNhWU6nE4s3l397QwsN19Xx+0krP7BC49oKZ3LmsirKCnOj+bqeVpTNfk7UplXBReA/W9M+1wB1Y+f0jWLmB7k157ZTqp6s3RGu/vPwAHzd18FDdAfYcao+WXT5/KvetqKFiyunnFZ0OocTroShXc/Yo1SfRZdCzwBasxV2uAIqMMX+W8lop1U+sufwHW3w8sqmeus9OL01xUWUJ61bVcM6MomhZX+qGUq9Hc/YoNUjCbKDGmJ/Yr38vIq+nukJK9Ym1IMuprl6e2NrIf+5riqZnnje9gHWraqitKh1wdV+Q46I03zNgTV6l1GmJAsBcEfmh/VqAs/rej/eCMGry6A2Fae0O4gucnsvf5Q/xzI6DPL/7CL32ncDM4lzuW1nDlQum4ejX8Pctw9jmC/Ktp3bFTdugaR3UZJdoRbAr4n1mjHk7JTWKQ2cBZb++h7gaTvmi0zTnlOYxv7yQl94/Sqe9UEup180dy6q49oKZA67u3U4HZQWnUzckStugaR3UZHDGs4DGu5FXk9Pgp3cf3LifA6e6Mcaws7GV7Q2tAOS5ndy8dA7fXFJBnuf09M2+1biKct0DjpsobYOmdVCTnc6FUxMmVtoGYwyfHOukuzdEIHz67vTGi2Zz27JKSr2eaJmIUJLnpsTrjjmzJ1HaBk3roCY7HR1T4y4QinCiw8/hVt+Axn/v4Tb+63/sodUXjDb+uW4HF1UU81++MG9A41+Q46KiNI/SfE/caZ0PrFnEgvICuuzGffDTvYk+VyrbJZUOOh3oGMDEGosB01iLrgMcONnFw5vq2XagJVpWkufG7RTmTS/gu1cvYGqh1fj3DfCm8gleHRxW2WS4MQANACopoxkwjbXoOsCxDj+PbW7gtY+O01d67sxC1q+ay4UVJQOOMZ5P8OrgsMomo0oFcYZfeA3w1/bbBcC3gLOxHihrBO42xgRF5PuDy1JRHzV6ZzJgGitRG0C7L8jT2xt5ac9RgnZXT0VpHmtXzWXlvLIBXTp9A7yFOeP3BK8ODqvJIiUBwBjzKvAqgIi8i5VDaL0xZqWI/BWwRkTeBlb3LwN+mYr6qNEbyYBpJGJo6wnS0S9RG0BPMMyvdx3m2R2H6A5YD3eVFXi4a3k1X1k4Y8Ai6w4RSrxuivNiD/Cmkg4Oq8kipffTIjIXOA4sBN6yizcCtwHdMco0AKSpZPLgRyKGDr+VobMvURtYXUCv7DvGk9saaekOANYg7i2XVHDDRbOH9OdP9OLrmvNfTRap7lC9EXgBaznJDrus3X4fq2wAEVkPrAeorKxMZT1VAsPlwTfG0NEToq0nMKDhjxjDO5+e5OebGzjc2gOAx+Xgxotmc8slFRQOmrefLimaNee/mixSHQC+hhUElmEtJANQBLRhNfqDywYwxmwANoA1CJzaqqqRitfwA+xqbOWhugN8avefOwSuOX8Gd11WzbTCnAHbuhwOSvPdQwKCUiq1UhYARGQGEDDGNIvIDuDbwI+Bq4FtQKwylQEiEUOnP3bD/+nxTh6qq2dXY2u0bMW8Mu5bWUN1Wf6AbUWE4jw3JXluzdSp1ARI5R3A9VjrB2CMOSEi74jIJuAg8FNjTGBwWQrrosZAvD5+gCNtPfx8Uz1v7j8ZLVs0u5h1q2pYOLt4yLEmup9fKaXPAagkDNfwt3QHeHJrIy/va4p+NndqPmtX1XBpzZQhM3i8Hhel+W5yXLoUo1LjYdyfA1DZYbiGv7s3xLM7D/GrnYfx2+mZy4tyuGdFDVedM33AlE6wBnineD0DkrgppSaWBgA1xHANfyAU4TfvH+Xpdw/S3mM9t1eU6+L2ZVVcd+EsPK6BXTo6wKtU+tIAoKKGa/jDEcPrn5zg0c31HO/oBSDX5eAbtXO4qbaCgkEpGnSAV6n0pwFADTud0xjDu/UtPFxXz4FT3YC1wPpXF83kjuVVTMn3DDlefo6LKboUo1JpTwPAJDZcww/w0dEONtQdYO/h9mjZ6gXTuHdFDbNL84Zs73E5KMvP0X5+pTKEBoBJyBhDhz9Euy9IKBIZ8nljczcPb6pn8x+ao2VLqkpZt6qG+eWFQ7aPtyKXUiq9aQCYRIwxdPZaDX8wPLThP9nZy+NbGnj1w2P03RDMLy9g3aq5LKkqHbJ934pcxdrPr1RG0gAwSXT6g7TFafg7eoI8s/0gL+w5SsCe0jm7JI/7VlZz+fxpOGJk4yzMdVPqdeuDXEplMA0AWe7AyS7+7xc/oP5UN1Vl3gGra/mDYV547wjPbD8UXZqx1OvmzuXVXLtoRszG3euxBngHT/cEXUlLqUyjASBLdfeGaPUF+MEL+6hv9lGQ46S+2ceDG/fzw+sX8uoHx3hsawPNXVZ6Zq/Hyc1LK/jGkjnkxcjG6XY6KCvw4PXE/ydz/4v7onn09x/v4v4X92lWTaXSmAaALNPX8Pd15TTajb8DId/j4JNjndz72A4O2emZ3U7h+sWzuO2SKoq9QwdxnQ6hxOuhKDfxily6kpZSmUUDQJYY3PD3qSrzUt/swylworOXYNjQ6gsiwBfPK+fuFdXMKBraTSN2I17q9SQ9wKsraSmVWXQEL8N194Y43OrjeId/SOMPcONFc/AHwhxp80fX3102dwoP3bmEv/7KOTEb//wcF3NK8ygryBnR7J4H1ixiQXkBXXbjrytpKZXe9A4gQ/kCIVq6h17x9znW7ufRLQ1s/Og4fY94nTeziHWX13DhnJKY+7idDqYWnPmDXLqSllKZRQNAhvEFQrT6gvQGwzE/b/MFeOrdg/z2/aPRK/6qKV7WrqrhsrPKYvbjOx1CSZ6HorzE/fxKqeyhASBDxGr4T3UGeHDjfhqbfcwpzaO6LJ+X9zXhC1jbTCvI4e7LqvjS+TOGpGeG0/38JV5PzM/Hk04hVWr8aQBIc8Nd8T+4cT8HTnUTjhh2NrayvcFahrEw18Wtl1SyZvEscuIssF6Q46I0jRK26RRSpcafBoA01dfwH2npiV7l93+QK2IMnzR10tkbImTnbRDgjy+p4JallRTkxv7V5ridlOV7yI0TGCaKTiFVavxpAEgzg6/4H9y4f8iDXDdcNJsNdfW02guyAOS5nZw7s5B1q+bGPG66L8yiU0iVGn8aANJEvK6e/g9yuRywq7GNrQdaop9PyXfjFGHe9AK+e/WCIcfNlIVZHlizKDoGoFNIlRofGgAmWE8gTIsvEHdWT1WZl89OdOEPhunqPb3N4opi1q2ay7kzi+IeO936+YejU0iVGn8aACZITyBMqy+AP07DD9Dc1UtBjptTdr4esALCt644i6XVpXGnbKZrP79SKr1oABhn/qDV8PcE4jf8Xb0hnt1xiF/vOozfftBrZnEu96yo5gvnTI+Znhms+fyl+R5dmEUplRQNAOOkNxSmtTuILxCKu00gFOGlPUd4+t2DdPit7Yrz3NyxrIqvXTgzblfOmeTtUUopDQApFgxHaO0ORPPtxxKOGDZ+fJxHNzdworMXgFy3g5uWVPDN2jnk58T/NQ2Xn18ppYaTsgAgIncCdwFO4AfA88DHQMAY8yV7m+8D1wONwN3GmGCcw2WcUDhCqy9IV28IY4YuuA7WEo1bDzTzyKYG6k91A1Y3ztcumMnty6qYku+Je/xk8vMrpdRwUtJ6iMhs4ApjzFX2+2rgNWPM7f22mQ6sNsasFJG/AtYAv0xFfcZTKByhvSdIhz9+ww/wwZF2NrxzgA+OdkTLvnDOdO5ZUc3skry4+40kP79SSg0nVZePXwacIvI68BHwU2C1iNQBzxtjHgRqgbfs7TcCtzEoAIjIemA9QGVlZYqqOjbCEUObL5Cw4a8/1c0jm+rZ8nlztKy2qpR1q2o4u7ww7n4TNZ9fc/Qolb1SFQDKAY8x5ioR+RFWYz8f6AVesgNDCdB3+dtuvx/AGLMB2ABQW1sbv1WdQMk2/Mc7/Dy2pYHXPjqOnbmBBTMKWbeqhosrS4f9jomcz685epTKXqkKAO3A2/brN4BaY0w3gIi8DCy0t5ljb1MEtKWoLimRbMPf0RPkF9sP8sJ7R6LpmeeU5nHvihqumD912G6cXLeTKRM8n19z9CiVvVIVALYA6+zXi4HD/T5bAfwMqAe+DfwYuBrYlqK6jJlj7X5+8MJe9h/rorIsj7+4ykrMFos/GOb53Ud4ZsdBuu0neMvyPdy5vIqvLJyBa5ireZfDwZQCDwXDzP5Jtr6j7b7RHD1KZa+U9CkYY/YAPSLyFrAUaBWRXSKyBThijHnXGHMCeEdENmEFiRdTUZexEo4Y/vJX7/NhUye5HgcHTlmJ2QYLhSO8vPcodzyynYc31dPdGybf4+S+ldU8ed8lfO3CWXEbfxFrgLdiSt6oG3843X1T0K/7ZqR0mUelslfK5hAaY743qOg3Mbb5EfCjVNVhLIQjxprV0xPkDye6oonZCnKcNDb7otsZY3jns1M8sqmew609ALidwprFs7n10kqK84Z/OjcV/fxj0X2jOXqUyl4ZM4l8/7FO1j6+Y9xmofT18Xf6Q0TsPv6qMm80NXNXb5iaMi8A7x1s5aG6ej451gmAQ+CL55Vz92XVlMdYdL2/VObt0e4bpdRwZLgBzHRSXHmOueC//BsLygtSekU63Dz+/kswVpV5WbN4Dr/afYgd9kpcAMvnlrF2VQ01U/OH/Z5Y+fnHesqlTuFUSonILmNMbczPMiUAlFSeY1Z87yG6/CHe/svVY378UDhCW0+QzgSzegCOtvXw880NvPHJiWjZwllFrL98LgtnFw+773Dz+dc+vmPIFbt2vyilRmO4AJAxXUAGUtKNEQxHaEuQsqFPqy/Ak1sbeXlvU3QZxqoyL+tW1bB8blnCJ3MT9fPrlEul1HjKmAAQiZgxnYXSGwrTbjf8ifgCIZ7beZhf7jxMj52/f3phDndfVs0XzyvHmeDJ3GT7+bXPXik1njKmC6i2ttbs3Llz1MfpDYVp8wXpthv+wf36fYuug3V38Nv3j/LUtoO02evvFuW6uPXSStYsnp0wA+dI1+HVPnul1FjLijGA0QYAf9Bq+Afn4//BC/uiM3vae4KEwoZcl4P8HOsqvC89c47LwTeWzOHmpRUJ5+hnyjq8SqnslxVjAGcq0UIs/Rdd7+oJ4Q9FcLscNHVYDb9D4NpFM7ljeRVTC3ISfl8mrcOrlJrcsjYAxLviH6xvbr/LAT328osB+/+5bgf/6/YlVEzxJvw+j8vB1IIcct1O7cpRSmWErLtM9QfDNLX3cLStJ2HjD3BTbSWBYJjDrf5oWZ7bQVm+h4sqShI2/k6HMLUwhzml3ugg71ikYFBKqVTLmjuAnoC12Lo/GH+x9f5OdvbyxNZGfvdBUzQ9c3WZlzy3kzZfgOqp+Xz36gVx9x+un1+ncyqlMkHGBwBfIESrL0hvkg1/lz/EMzsO8vzuI/TaXT0zi3O5d0UNq8+ZhiOJVbbyc6x1eOP18+t0TqVUJsjYANDdG6LVF4j21yfSGwzzwp6jPLP9IJ1+q2uo1Ovm9mVVfPWCmUkN2rqdVj9/nmf4+fwPrFkUHQPQDJpKqXSVcQGg0x+kzRckGE6u4Q9HDL//8BiPbWnkZJc1syfP7eTmpXP45pKKhI05gEOEUq+Horzk1uHVDJpKqUyQMQEgYuBQiy/pht8Yw5bPm3m4rp7GFitts8shXHfhLG5fVkmJN/ZCLoMV5rqZku9J+LSvUkplmgwKACbpxn/v4TY2vFPPR03WksMCXHXudO5ZUc3M4rykjpEOyzEqpVQqZUwASMaBk108vKmebQdaomWX1Exh3coazpqe3EDsWC3HqJRS6S4rWrljHX4e29zAax8dpy+xxbkzC1m/ai4XVpQkdQxH37ROrzupfn6llMp0GR0A2n1Bnt7eyEt7jhIMW01/RWke962qYdW8qUk35AW5LqZ4PcMu1K6UUtkmIwNATzDMr3Yd5rkdh+gOWPP/pxZ4uGt5NdcsnJH0gK328yulJrOMCgChcIRX9h3jyW2NtHQHACv52i2XVHDDRbOTbsi1n18ppTIoAHT0BLnnsZ0caesBwO0Uvn7xHG65pCLpfPsiQon28yulFJBBAeBIWw+Rth4cAtecP4O7LqtmWmHi9Mx9tJ9fKaUGypgAALBiXhlrV9ZQVZaf9D7JLseolFKTTcoCgIjcCdwFOIHbgO8BtcBuY8yf29s8OLgsnuoyL/9w/cKkv3+kyzEqpdRkk5L+EBGZDVxhjLnKGHMlUA4UGGNWAR4RWSoiFw8uG+6YeZ7kYpWIUOL1MKc0L6nG/1i7n7WP7+CKH7/J2sd3cKzdn3AfpZTKBqnqEP8y4BSR10XkZ8By4DX7s432+2UxykYlP8fFnNI8puR7kl6LVxdvUUpNVqkKAOWAxxhzFeADioEO+7N2oMT+b3DZACKyXkR2isjO5lMn436Zx+VgZnEe5UW5I16LVxdvUUpNVqkKAO3A2/brN7DysRXZ74uANnubwWUDGGM2GGNqjTG1ZVOnDfkSp0MoK7CWY0wmrXMsZ5cX0OEPETGGDn+Is3XxFqXUJJGqALAFuMB+vRgwwFX2+6uBbcDWGGVJK8pzM6fUS3He6AZ5H1iziAXlBXTZK3fp4i1KqckiJbOAjDF7RKRHRN4CTgG3Aj8RkTpgjzFmO4CI+AeXJZLncVKWn4PHNTaxSxdvUUpNVimbBmqM+d6goiHTPBNN/exPgPKiXPI1fYNSSo2JjHks1ukQbfyVUmoMZUwAUEopNbY0ACil1CSlAUAppSYpDQBKKTVJaQBQSqlJSgOAUkpNUhoAlFJqktIAoJRSk5QGAKWUmqTEGDPRdUiKiJwEGu23U7FyDGUrPb/MpueX+bLpHKuMMUPTKZNBAaA/EdlpjKmd6Hqkip5fZtPzy3yT4RxBu4CUUmrS0gCglFKTVKYGgA0TXYEU0/PLbHp+mW8ynGNmjgEopZQavUy9A1BKKTVKGgCUUmqSSusAICJ3isjrIvKWiMwWkQdFpE5E/p9+2wwpyxSDzm+FiBy3X/++3zbfF5FNIvK0iLgnsr4jISLX2Ofylog0iciaWOeSZefX3q9sir3dbSKyRUReFpGiia53skTEKyKv2OfykojkZOHf3+BzXJBNf4PJSNsAICKzgSuMMVcZY64EyoECY8wqwCMiS0Xk4sFlE1jlEYlxfkeA14wxVxpjvmRvMx1YbYxZCewF1kxUfUfKGPOqfS5XAgeB3Qw6lyw7v43Avr4yY0yL3Vj8KXA58CTwJxNX4xG7BnjXPr/twF+TRX9/tsHneA1Z9DeYjLQNAMCXAad9hfwzYDnwmv3ZRvv9shhlmWLw+TmB1fbV1HftbWqBt+zXmXZ+AIjIXOA4sJCh55I152eM6QLOtX9//ywiApyNFRRCZN75fQ7k269LAEN2/f3B0HPcRRb+DQ4nnQNAOeAxxlwF+IBioMP+rB3rF1YSoyxTDD6/WmA+sBq4WkQuILPPr8+NwAvEPpdYZZmm7/zAavAvB0qBr5HZ5/cZsFxEPsT6txki+35/g89xB9n5NxhXOgeAduBt+/UbgAB9fahFQJu9zeCyTDH4/OYZY7rtq8WXsa6YM/n8+nwN+A2xzyWbzg9jTIux5lW/SOb//u4CfmuMOR94BXCTfb+/wed4c5b+DcaVzgFgC3CB/Xox1i3oVfb7q4FtwNYYZZli8Pkd7vfZCqzb0x3AFXZZpp0fIjIDCBhjmol9LllzfiKSLyJO+6O+39+nwEK7PNPOT4AW+3VfUrRs+vuDoedY3O+zrPgbTCRtA4AxZg/QIyJvAUuBfwH8IlIHhI0x240xuweXTViFRyjG+bWKyC4R2QIcMca8a4w5AbwjIpuwgsSLE1TdM3U98BJArHPJpvPD6v7ZISLvABXAr4wxQeAhoA7ravN/TUgtz8wvgJvsf5+3AT8ji/7+bIPPsTkL/waHpU8CK6XUJJW2dwBKKaVSSwOAUkpNUhoAlFJqktIAoJRSk5QGAKWUmqQ0ACgVh4h8JiJ/HOezxXYunJEc70oReWBsaqfU6GkAUCoGEbkQ2IT1pG8si4ERBQCl0o0GAKViuxH4V8Brp0JeIyLbRORNEbkCWA98304RfLeIrAUQkb+zr/Rn2dtuEpF/ncgTUSoe10RXQKk0dZEx5m9F5FWsFAA/AC43xvSIiANrzViXMeZhEbk7xv6ngC8aY0Ii8pSInD1+VVcqORoAlBpEROYBi+zGPwdoABqNMT0AxpiIle05qv/j9H0flAH/JiIlQDUwK7W1VmrktAtIqaFuBNYaY64xxqzGaswrRSQXwL4DCGKt4QBWxsiZ9utF9v9vxcp3dCWwmdOBQam0oQFAqaGuxcrW2ucjrHTBb4vIG8AqrKyQt9uL+bwOXCMiv+m3zxvA/ykiL3J60RGl0oomg1NKqUlK7wCUUmqS0gCglFKTlAYApZSapDQAKKXUJKUBQCmlJikNAEopNUlpAFBKqUnqfwMSyuvxZXm3RgAAAABJRU5ErkJggg==\n",
       "datasetInfos": [],
       "metadata": {},
       "removedWidgets": [],
       "type": "image"
      }
     },
     "output_type": "display_data"
    }
   ],
   "source": [
    "#Prediction Vs. Actual\n",
    "sns.regplot(x='Actual', y='Predicted', data=df_test, fit_reg=True)\n",
    "plt.title('Actual Vs. Predicted Runs')\n",
    "plt.show()"
   ]
  },
  {
   "cell_type": "markdown",
   "metadata": {
    "application/vnd.databricks.v1+cell": {
     "inputWidgets": {},
     "nuid": "b8f6528d-440a-40a1-a699-9ce44a607d9d",
     "showTitle": false,
     "title": ""
    }
   },
   "source": [
    "Looking at the scatter plot, and the mean and standard deviation of the residuals, it seems like the model does a fairly good job at predicting the runs scored by a team in any given season. We will now evaluate the model to see if it complies with the basic assumptions of a linear regression."
   ]
  },
  {
   "cell_type": "markdown",
   "metadata": {
    "application/vnd.databricks.v1+cell": {
     "inputWidgets": {},
     "nuid": "0a037665-abbb-4374-bc27-b71b5b46b989",
     "showTitle": false,
     "title": ""
    }
   },
   "source": [
    "### 5. Evaluate Linear Regression Assumptions"
   ]
  },
  {
   "cell_type": "markdown",
   "metadata": {
    "application/vnd.databricks.v1+cell": {
     "inputWidgets": {},
     "nuid": "6f1600af-a090-4807-a259-9f344ece7a8a",
     "showTitle": false,
     "title": ""
    }
   },
   "source": [
    "In this section, we'll test for the fours assumptions associated with a linear regression model.\n",
    "1. Linearity\n",
    "2. Normality\n",
    "3. Homoscedasticity\n",
    "4. Independence"
   ]
  },
  {
   "cell_type": "code",
   "execution_count": 0,
   "metadata": {
    "application/vnd.databricks.v1+cell": {
     "inputWidgets": {},
     "nuid": "033d27ff-3eb9-4e1f-b567-5d20c49442e7",
     "showTitle": false,
     "title": ""
    }
   },
   "outputs": [
    {
     "data": {
      "text/plain": [
       "                            OLS Regression Results                            \n",
       "==============================================================================\n",
       "Dep. Variable:                      R   R-squared:                       0.935\n",
       "Model:                            OLS   Adj. R-squared:                  0.933\n",
       "Method:                 Least Squares   F-statistic:                     583.9\n",
       "Date:                Sat, 12 Feb 2022   Prob (F-statistic):           1.84e-95\n",
       "Time:                        22:42:56   Log-Likelihood:                -719.45\n",
       "No. Observations:                 168   AIC:                             1449.\n",
       "Df Residuals:                     163   BIC:                             1465.\n",
       "Df Model:                           4                                         \n",
       "Covariance Type:            nonrobust                                         \n",
       "==============================================================================\n",
       "                 coef    std err          t      P>|t|      [0.025      0.975]\n",
       "------------------------------------------------------------------------------\n",
       "BB             0.9772      0.029     34.217      0.000       0.921       1.034\n",
       "GDP           -1.0534      0.097    -10.903      0.000      -1.244      -0.863\n",
       "H              0.9626      0.024     40.948      0.000       0.916       1.009\n",
       "LOB           -0.8745      0.037    -23.699      0.000      -0.947      -0.802\n",
       "const        -32.2517     35.535     -0.908      0.365    -102.420      37.917\n",
       "==============================================================================\n",
       "Omnibus:                        1.037   Durbin-Watson:                   2.056\n",
       "Prob(Omnibus):                  0.595   Jarque-Bera (JB):                0.667\n",
       "Skew:                          -0.083   Prob(JB):                        0.716\n",
       "Kurtosis:                       3.261   Cond. No.                     4.78e+04\n",
       "==============================================================================\n",
       "\n",
       "Notes:\n",
       "[1] Standard Errors assume that the covariance matrix of the errors is correctly specified.\n",
       "[2] The condition number is large, 4.78e+04. This might indicate that there are\n",
       "strong multicollinearity or other numerical problems.\n"
      ]
     },
     "metadata": {
      "application/vnd.databricks.v1+output": {
       "addedWidgets": {},
       "arguments": {},
       "data": "                            OLS Regression Results                            \n==============================================================================\nDep. Variable:                      R   R-squared:                       0.935\nModel:                            OLS   Adj. R-squared:                  0.933\nMethod:                 Least Squares   F-statistic:                     583.9\nDate:                Sat, 12 Feb 2022   Prob (F-statistic):           1.84e-95\nTime:                        22:42:56   Log-Likelihood:                -719.45\nNo. Observations:                 168   AIC:                             1449.\nDf Residuals:                     163   BIC:                             1465.\nDf Model:                           4                                         \nCovariance Type:            nonrobust                                         \n==============================================================================\n                 coef    std err          t      P>|t|      [0.025      0.975]\n------------------------------------------------------------------------------\nBB             0.9772      0.029     34.217      0.000       0.921       1.034\nGDP           -1.0534      0.097    -10.903      0.000      -1.244      -0.863\nH              0.9626      0.024     40.948      0.000       0.916       1.009\nLOB           -0.8745      0.037    -23.699      0.000      -0.947      -0.802\nconst        -32.2517     35.535     -0.908      0.365    -102.420      37.917\n==============================================================================\nOmnibus:                        1.037   Durbin-Watson:                   2.056\nProb(Omnibus):                  0.595   Jarque-Bera (JB):                0.667\nSkew:                          -0.083   Prob(JB):                        0.716\nKurtosis:                       3.261   Cond. No.                     4.78e+04\n==============================================================================\n\nNotes:\n[1] Standard Errors assume that the covariance matrix of the errors is correctly specified.\n[2] The condition number is large, 4.78e+04. This might indicate that there are\nstrong multicollinearity or other numerical problems.\n",
       "datasetInfos": [],
       "metadata": {},
       "removedWidgets": [],
       "type": "ansi"
      }
     },
     "output_type": "display_data"
    }
   ],
   "source": [
    "print(models_best.loc[4, \"model\"].summary())"
   ]
  },
  {
   "cell_type": "markdown",
   "metadata": {
    "application/vnd.databricks.v1+cell": {
     "inputWidgets": {},
     "nuid": "21013d13-a01f-4e3a-8052-5ab8de388f5f",
     "showTitle": false,
     "title": ""
    }
   },
   "source": [
    "#### 5.a) Linearity"
   ]
  },
  {
   "cell_type": "code",
   "execution_count": 0,
   "metadata": {
    "application/vnd.databricks.v1+cell": {
     "inputWidgets": {},
     "nuid": "b07648e2-375c-4edc-8793-17d6af3b1ebb",
     "showTitle": false,
     "title": ""
    }
   },
   "outputs": [
    {
     "data": {
      "text/plain": [
       "r2: 0.9331674506557366\n"
      ]
     },
     "metadata": {
      "application/vnd.databricks.v1+output": {
       "addedWidgets": {},
       "arguments": {},
       "data": "r2: 0.9331674506557366\n",
       "datasetInfos": [],
       "metadata": {},
       "removedWidgets": [],
       "type": "ansi"
      }
     },
     "output_type": "display_data"
    }
   ],
   "source": [
    "adj_r2 = models_best.loc[4, \"model\"].rsquared_adj\n",
    "print(f'r2: {adj_r2}')"
   ]
  },
  {
   "cell_type": "markdown",
   "metadata": {
    "application/vnd.databricks.v1+cell": {
     "inputWidgets": {},
     "nuid": "bdb9ea1f-03c2-4572-b405-a674f6ca3eab",
     "showTitle": false,
     "title": ""
    }
   },
   "source": [
    "With the \"Actual Vs. Predicted Runs\" scatter plot, we can see that there is in fact a linear relationship between the predictors and the response variable. Also, at 0.93 the adjusted R-squared shows that the dependent variable is highly explained by the independent variables."
   ]
  },
  {
   "cell_type": "markdown",
   "metadata": {
    "application/vnd.databricks.v1+cell": {
     "inputWidgets": {},
     "nuid": "cdf0603c-323e-4ba3-9670-4850d9ebf951",
     "showTitle": false,
     "title": ""
    }
   },
   "source": [
    "#### 5.b) Normality"
   ]
  },
  {
   "cell_type": "markdown",
   "metadata": {
    "application/vnd.databricks.v1+cell": {
     "inputWidgets": {},
     "nuid": "567b4ec9-32f4-4fa8-a240-62e6f298266e",
     "showTitle": false,
     "title": ""
    }
   },
   "source": [
    "The second assumption we'll test for is that the error component is normally distributed. For this we have various methods. First of all, the p-value of the Jarque Bera test (seen in the model summary) indicates that we can't reject the null hypothesis that the data is normally distributed."
   ]
  },
  {
   "cell_type": "code",
   "execution_count": 0,
   "metadata": {
    "application/vnd.databricks.v1+cell": {
     "inputWidgets": {},
     "nuid": "60d0c4f9-5bb7-47ce-9354-978f4898e1c8",
     "showTitle": false,
     "title": ""
    }
   },
   "outputs": [
    {
     "data": {
      "text/plain": [
       "Anderson Darling p-value: 0.640577461863296. We cannot reject the null hypothesis: data is normally distributed.\n"
      ]
     },
     "metadata": {
      "application/vnd.databricks.v1+output": {
       "addedWidgets": {},
       "arguments": {},
       "data": "Anderson Darling p-value: 0.640577461863296. We cannot reject the null hypothesis: data is normally distributed.\n",
       "datasetInfos": [],
       "metadata": {},
       "removedWidgets": [],
       "type": "ansi"
      }
     },
     "output_type": "display_data"
    }
   ],
   "source": [
    "#Anderson-Darling test for normality.\n",
    "threshold = 0.05\n",
    "p_value_ad = normal_ad(df_test['Residuals'])[1]\n",
    "if p_value_ad > threshold:\n",
    "    print(f'Anderson Darling p-value: {p_value_ad}. We cannot reject the null hypothesis: data is normally distributed.')\n",
    "elif p_value_ad <= threshold:\n",
    "    print(f'Anderson Darling p-value: {p_value_ad}. We can reject the null hypothesis: data is not normally distributed.')\n"
   ]
  },
  {
   "cell_type": "code",
   "execution_count": 0,
   "metadata": {
    "application/vnd.databricks.v1+cell": {
     "inputWidgets": {},
     "nuid": "394103e7-7340-4e18-9f41-d08fbbfb9b04",
     "showTitle": false,
     "title": ""
    }
   },
   "outputs": [
    {
     "data": {
      "text/plain": [
       "Shapiro-Wilk p-value: 0.6355113983154297. We cannot reject the null hypothesis: data is normally distributed.\n"
      ]
     },
     "metadata": {
      "application/vnd.databricks.v1+output": {
       "addedWidgets": {},
       "arguments": {},
       "data": "Shapiro-Wilk p-value: 0.6355113983154297. We cannot reject the null hypothesis: data is normally distributed.\n",
       "datasetInfos": [],
       "metadata": {},
       "removedWidgets": [],
       "type": "ansi"
      }
     },
     "output_type": "display_data"
    }
   ],
   "source": [
    "#Shapiro-Wilk test for normality.\n",
    "p_value_sw = sp.stats.shapiro(df_test['Residuals'])[1]\n",
    "if p_value_sw > threshold:\n",
    "    print(f'Shapiro-Wilk p-value: {p_value_sw}. We cannot reject the null hypothesis: data is normally distributed.')\n",
    "elif p_value_sw <= threshold:\n",
    "    print(f'Shapiro-Wilk p-value: {p_value_sw}. We can reject the null hypothesis: data is not normally distributed.')"
   ]
  },
  {
   "cell_type": "code",
   "execution_count": 0,
   "metadata": {
    "application/vnd.databricks.v1+cell": {
     "inputWidgets": {},
     "nuid": "e08390f9-6761-49ea-9366-6057cedc3169",
     "showTitle": false,
     "title": ""
    }
   },
   "outputs": [
    {
     "data": {
      "text/plain": [
       "Out[71]: <Figure size 432x288 with 0 Axes>"
      ]
     },
     "metadata": {
      "application/vnd.databricks.v1+output": {
       "addedWidgets": {},
       "arguments": {},
       "data": "Out[71]: <Figure size 432x288 with 0 Axes>",
       "datasetInfos": [],
       "metadata": {},
       "removedWidgets": [],
       "type": "ansi"
      }
     },
     "output_type": "display_data"
    },
    {
     "data": {
      "image/png": "[encoded data removed]"
     },
     "metadata": {
      "application/vnd.databricks.v1+output": {
       "addedWidgets": {},
       "arguments": {},
       "data": "data:image/png;base64,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\n",
       "datasetInfos": [],
       "metadata": {},
       "removedWidgets": [],
       "type": "image"
      }
     },
     "output_type": "display_data"
    },
    {
     "data": {
      "text/plain": [
       "<Figure size 432x288 with 0 Axes>"
      ]
     },
     "metadata": {
      "application/vnd.databricks.v1+output": {
       "addedWidgets": {},
       "arguments": {},
       "data": "<Figure size 432x288 with 0 Axes>",
       "datasetInfos": [],
       "metadata": {},
       "removedWidgets": [],
       "type": "ansi"
      }
     },
     "output_type": "display_data"
    }
   ],
   "source": [
    "#Probability Plot\n",
    "sp.stats.probplot(df_test['Residuals'],plot=plt)\n",
    "plt.figure()"
   ]
  },
  {
   "cell_type": "markdown",
   "metadata": {
    "application/vnd.databricks.v1+cell": {
     "inputWidgets": {},
     "nuid": "5aeaaa8a-e781-4606-b339-665cd9e154bf",
     "showTitle": false,
     "title": ""
    }
   },
   "source": [
    "The closer the data points are to the line, show that there are little departures from normality."
   ]
  },
  {
   "cell_type": "code",
   "execution_count": 0,
   "metadata": {
    "application/vnd.databricks.v1+cell": {
     "inputWidgets": {},
     "nuid": "58ea4bb5-6d39-4b1f-852c-3fc18adfe637",
     "showTitle": false,
     "title": ""
    }
   },
   "outputs": [
    {
     "data": {
      "image/png": "[encoded data removed]"
     },
     "metadata": {
      "application/vnd.databricks.v1+output": {
       "addedWidgets": {},
       "arguments": {},
       "data": "data:image/png;base64,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\n",
       "datasetInfos": [],
       "metadata": {},
       "removedWidgets": [],
       "type": "image"
      }
     },
     "output_type": "display_data"
    }
   ],
   "source": [
    "#Histogram of errors \n",
    "sns.histplot(df_test['Residuals'], kde=True)\n",
    "plt.show()"
   ]
  },
  {
   "cell_type": "markdown",
   "metadata": {
    "application/vnd.databricks.v1+cell": {
     "inputWidgets": {},
     "nuid": "25f64128-7870-4f21-8517-dcfea6c1f2c7",
     "showTitle": false,
     "title": ""
    }
   },
   "source": [
    "As seen with both the analytical and graphic tests, we can assume that the errors are normally distributed.\n",
    "\n",
    "Note: all the tests were showed for learning purposes, though it is not necessary to perform all of them."
   ]
  },
  {
   "cell_type": "markdown",
   "metadata": {
    "application/vnd.databricks.v1+cell": {
     "inputWidgets": {},
     "nuid": "ccc92eed-d6fb-447b-873d-29038135a68b",
     "showTitle": false,
     "title": ""
    }
   },
   "source": [
    "#### 5.c) Homoscedasticity"
   ]
  },
  {
   "cell_type": "markdown",
   "metadata": {
    "application/vnd.databricks.v1+cell": {
     "inputWidgets": {},
     "nuid": "cede1add-60dc-4be9-a632-41f2ac08b9f3",
     "showTitle": false,
     "title": ""
    }
   },
   "source": [
    "Another assumption that we have to check is for homoscedasticity, which refers to a condition in which the variance of the residuals is constant. For this, we'll perform the White test."
   ]
  },
  {
   "cell_type": "code",
   "execution_count": 0,
   "metadata": {
    "application/vnd.databricks.v1+cell": {
     "inputWidgets": {},
     "nuid": "0eb340fa-3235-43ac-be90-e58fc55fbf00",
     "showTitle": false,
     "title": ""
    }
   },
   "outputs": [
    {
     "data": {
      "text/plain": [
       "     const     BB     H   LOB  GDP\n",
       "44     1.0  486.0  1497  1130  119\n",
       "188    1.0  450.0  1526  1111  132\n",
       "51     1.0  519.0  1331  1129  120\n",
       "204    1.0  483.0  1495  1171  114\n",
       "35     1.0  401.0  1412  1055  124\n"
      ]
     },
     "metadata": {
      "application/vnd.databricks.v1+output": {
       "addedWidgets": {},
       "arguments": {},
       "data": "     const     BB     H   LOB  GDP\n44     1.0  486.0  1497  1130  119\n188    1.0  450.0  1526  1111  132\n51     1.0  519.0  1331  1129  120\n204    1.0  483.0  1495  1171  114\n35     1.0  401.0  1412  1055  124\n",
       "datasetInfos": [],
       "metadata": {},
       "removedWidgets": [],
       "type": "ansi"
      }
     },
     "output_type": "display_data"
    }
   ],
   "source": [
    "homo_test = x_test[['BB','H','LOB','GDP']]\n",
    "homo_test = add_constant(data=homo_test, prepend=True)\n",
    "print(homo_test.head())"
   ]
  },
  {
   "cell_type": "code",
   "execution_count": 0,
   "metadata": {
    "application/vnd.databricks.v1+cell": {
     "inputWidgets": {},
     "nuid": "558b7d5a-1094-4243-9aa9-acd8b922ab25",
     "showTitle": false,
     "title": ""
    }
   },
   "outputs": [
    {
     "data": {
      "text/plain": [
       "White test p-value: 0.3294933335263371. We cannot reject the null hypothesis: the variances for the residuals are equal (Homoscedasticity).\n"
      ]
     },
     "metadata": {
      "application/vnd.databricks.v1+output": {
       "addedWidgets": {},
       "arguments": {},
       "data": "White test p-value: 0.3294933335263371. We cannot reject the null hypothesis: the variances for the residuals are equal (Homoscedasticity).\n",
       "datasetInfos": [],
       "metadata": {},
       "removedWidgets": [],
       "type": "ansi"
      }
     },
     "output_type": "display_data"
    }
   ],
   "source": [
    "white_test = het_white(resid = df_test.Residuals, exog = homo_test)\n",
    "p_value_wt = white_test[1]\n",
    "#print('lm:', white_test[0],'lm_pvalue:', white_test[1])\n",
    "\n",
    "if p_value_wt > threshold:\n",
    "    print(f'White test p-value: {p_value_wt}. We cannot reject the null hypothesis: the variances for the residuals are equal (Homoscedasticity).')\n",
    "elif p_value_wt <= threshold:\n",
    "    print(f'White test p-value: {p_value_wt}. We can reject the null hypothesis: the variances for the residuals are not equal(Heteroskedasticity).')"
   ]
  },
  {
   "cell_type": "markdown",
   "metadata": {
    "application/vnd.databricks.v1+cell": {
     "inputWidgets": {},
     "nuid": "51fe680a-11c5-4edd-a7dc-6400509ba02b",
     "showTitle": false,
     "title": ""
    }
   },
   "source": [
    "#### 5.d) Independence"
   ]
  },
  {
   "cell_type": "markdown",
   "metadata": {
    "application/vnd.databricks.v1+cell": {
     "inputWidgets": {},
     "nuid": "4ecc9414-4c49-4bed-8aa6-7c61885bb9df",
     "showTitle": false,
     "title": ""
    }
   },
   "source": [
    "The Durbin Watson Statistic in the summary (DW: 2.056), indicates that there is no autocorrelation detected in the sample. This makes sense, since we are not dealing with a time series. \n",
    "(DW: A value of 2.0 indicates there is no autocorrelation. Values from 0 to less than 2 point to positive autocorrelation, and values from 2 to 4 mean negative autocorrelation)."
   ]
  },
  {
   "cell_type": "markdown",
   "metadata": {
    "application/vnd.databricks.v1+cell": {
     "inputWidgets": {},
     "nuid": "aa9d6d5c-2407-4582-9713-b2a7d97e21a8",
     "showTitle": false,
     "title": ""
    }
   },
   "source": [
    "To test for Multicollinearity, we'll use the variance inflation factor (VIF).  \n",
    "\n",
    "(A value of 1 means that the predictor is not correlated with other variables. Values of more than 5 are sometimes regarded as being moderate to high, with values of 10 or more being regarded as very high)."
   ]
  },
  {
   "cell_type": "code",
   "execution_count": 0,
   "metadata": {
    "application/vnd.databricks.v1+cell": {
     "inputWidgets": {},
     "nuid": "b8ceb227-21ef-4dbe-9bbc-42e41de6215a",
     "showTitle": false,
     "title": ""
    }
   },
   "outputs": [
    {
     "data": {
      "text/html": [
       "<div>\n",
       "<style scoped>\n",
       "    .dataframe tbody tr th:only-of-type {\n",
       "        vertical-align: middle;\n",
       "    }\n",
       "\n",
       "    .dataframe tbody tr th {\n",
       "        vertical-align: top;\n",
       "    }\n",
       "\n",
       "    .dataframe thead th {\n",
       "        text-align: right;\n",
       "    }\n",
       "</style>\n",
       "<table border=\"1\" class=\"dataframe\">\n",
       "  <thead>\n",
       "    <tr style=\"text-align: right;\">\n",
       "      <th></th>\n",
       "      <th>BB</th>\n",
       "      <th>H</th>\n",
       "      <th>LOB</th>\n",
       "      <th>GDP</th>\n",
       "    </tr>\n",
       "  </thead>\n",
       "  <tbody>\n",
       "    <tr>\n",
       "      <th>44</th>\n",
       "      <td>486.0</td>\n",
       "      <td>1497</td>\n",
       "      <td>1130</td>\n",
       "      <td>119</td>\n",
       "    </tr>\n",
       "    <tr>\n",
       "      <th>188</th>\n",
       "      <td>450.0</td>\n",
       "      <td>1526</td>\n",
       "      <td>1111</td>\n",
       "      <td>132</td>\n",
       "    </tr>\n",
       "    <tr>\n",
       "      <th>51</th>\n",
       "      <td>519.0</td>\n",
       "      <td>1331</td>\n",
       "      <td>1129</td>\n",
       "      <td>120</td>\n",
       "    </tr>\n",
       "    <tr>\n",
       "      <th>204</th>\n",
       "      <td>483.0</td>\n",
       "      <td>1495</td>\n",
       "      <td>1171</td>\n",
       "      <td>114</td>\n",
       "    </tr>\n",
       "    <tr>\n",
       "      <th>35</th>\n",
       "      <td>401.0</td>\n",
       "      <td>1412</td>\n",
       "      <td>1055</td>\n",
       "      <td>124</td>\n",
       "    </tr>\n",
       "  </tbody>\n",
       "</table>\n",
       "</div>"
      ]
     },
     "metadata": {
      "application/vnd.databricks.v1+output": {
       "addedWidgets": {},
       "arguments": {},
       "data": "<div>\n<style scoped>\n    .dataframe tbody tr th:only-of-type {\n        vertical-align: middle;\n    }\n\n    .dataframe tbody tr th {\n        vertical-align: top;\n    }\n\n    .dataframe thead th {\n        text-align: right;\n    }\n</style>\n<table border=\"1\" class=\"dataframe\">\n  <thead>\n    <tr style=\"text-align: right;\">\n      <th></th>\n      <th>BB</th>\n      <th>H</th>\n      <th>LOB</th>\n      <th>GDP</th>\n    </tr>\n  </thead>\n  <tbody>\n    <tr>\n      <th>44</th>\n      <td>486.0</td>\n      <td>1497</td>\n      <td>1130</td>\n      <td>119</td>\n    </tr>\n    <tr>\n      <th>188</th>\n      <td>450.0</td>\n      <td>1526</td>\n      <td>1111</td>\n      <td>132</td>\n    </tr>\n    <tr>\n      <th>51</th>\n      <td>519.0</td>\n      <td>1331</td>\n      <td>1129</td>\n      <td>120</td>\n    </tr>\n    <tr>\n      <th>204</th>\n      <td>483.0</td>\n      <td>1495</td>\n      <td>1171</td>\n      <td>114</td>\n    </tr>\n    <tr>\n      <th>35</th>\n      <td>401.0</td>\n      <td>1412</td>\n      <td>1055</td>\n      <td>124</td>\n    </tr>\n  </tbody>\n</table>\n</div>",
       "datasetInfos": [],
       "metadata": {},
       "removedWidgets": [],
       "textData": null,
       "type": "htmlSandbox"
      }
     },
     "output_type": "display_data"
    }
   ],
   "source": [
    "#df containing the chosen independent variables\n",
    "multi = x_test[['BB','H','LOB','GDP']]\n",
    "multi.head()"
   ]
  },
  {
   "cell_type": "code",
   "execution_count": 0,
   "metadata": {
    "application/vnd.databricks.v1+cell": {
     "inputWidgets": {},
     "nuid": "dd951f35-59ef-498e-9eb4-83ca02100227",
     "showTitle": false,
     "title": ""
    }
   },
   "outputs": [],
   "source": [
    "#VIF\n",
    "vif = pd.DataFrame()\n",
    "vif[\"VIF Factor\"] = [variance_inflation_factor(multi.values, i) for i in range(multi.shape[1])]\n",
    "vif[\"features\"] = multi.columns"
   ]
  },
  {
   "cell_type": "code",
   "execution_count": 0,
   "metadata": {
    "application/vnd.databricks.v1+cell": {
     "inputWidgets": {},
     "nuid": "84259756-ebbe-40ba-9e0b-aaaf76b25865",
     "showTitle": false,
     "title": ""
    }
   },
   "outputs": [
    {
     "data": {
      "text/html": [
       "<div>\n",
       "<style scoped>\n",
       "    .dataframe tbody tr th:only-of-type {\n",
       "        vertical-align: middle;\n",
       "    }\n",
       "\n",
       "    .dataframe tbody tr th {\n",
       "        vertical-align: top;\n",
       "    }\n",
       "\n",
       "    .dataframe thead th {\n",
       "        text-align: right;\n",
       "    }\n",
       "</style>\n",
       "<table border=\"1\" class=\"dataframe\">\n",
       "  <thead>\n",
       "    <tr style=\"text-align: right;\">\n",
       "      <th></th>\n",
       "      <th>VIF Factor</th>\n",
       "      <th>features</th>\n",
       "    </tr>\n",
       "  </thead>\n",
       "  <tbody>\n",
       "    <tr>\n",
       "      <th>0</th>\n",
       "      <td>99.9</td>\n",
       "      <td>BB</td>\n",
       "    </tr>\n",
       "    <tr>\n",
       "      <th>1</th>\n",
       "      <td>546.5</td>\n",
       "      <td>H</td>\n",
       "    </tr>\n",
       "    <tr>\n",
       "      <th>2</th>\n",
       "      <td>722.6</td>\n",
       "      <td>LOB</td>\n",
       "    </tr>\n",
       "    <tr>\n",
       "      <th>3</th>\n",
       "      <td>71.7</td>\n",
       "      <td>GDP</td>\n",
       "    </tr>\n",
       "  </tbody>\n",
       "</table>\n",
       "</div>"
      ]
     },
     "metadata": {
      "application/vnd.databricks.v1+output": {
       "addedWidgets": {},
       "arguments": {},
       "data": "<div>\n<style scoped>\n    .dataframe tbody tr th:only-of-type {\n        vertical-align: middle;\n    }\n\n    .dataframe tbody tr th {\n        vertical-align: top;\n    }\n\n    .dataframe thead th {\n        text-align: right;\n    }\n</style>\n<table border=\"1\" class=\"dataframe\">\n  <thead>\n    <tr style=\"text-align: right;\">\n      <th></th>\n      <th>VIF Factor</th>\n      <th>features</th>\n    </tr>\n  </thead>\n  <tbody>\n    <tr>\n      <th>0</th>\n      <td>99.9</td>\n      <td>BB</td>\n    </tr>\n    <tr>\n      <th>1</th>\n      <td>546.5</td>\n      <td>H</td>\n    </tr>\n    <tr>\n      <th>2</th>\n      <td>722.6</td>\n      <td>LOB</td>\n    </tr>\n    <tr>\n      <th>3</th>\n      <td>71.7</td>\n      <td>GDP</td>\n    </tr>\n  </tbody>\n</table>\n</div>",
       "datasetInfos": [],
       "metadata": {},
       "removedWidgets": [],
       "textData": null,
       "type": "htmlSandbox"
      }
     },
     "output_type": "display_data"
    }
   ],
   "source": [
    "vif.round(1)"
   ]
  },
  {
   "cell_type": "code",
   "execution_count": 0,
   "metadata": {
    "application/vnd.databricks.v1+cell": {
     "inputWidgets": {},
     "nuid": "45086acd-2d9f-4e66-82f5-9debfecc333a",
     "showTitle": false,
     "title": ""
    }
   },
   "outputs": [],
   "source": [
    "corr = multi.corr()"
   ]
  },
  {
   "cell_type": "code",
   "execution_count": 0,
   "metadata": {
    "application/vnd.databricks.v1+cell": {
     "inputWidgets": {},
     "nuid": "7daf402a-182f-4cb3-a33d-ced44591fe4f",
     "showTitle": false,
     "title": ""
    }
   },
   "outputs": [
    {
     "data": {
      "text/plain": [
       "Out[79]: <AxesSubplot:>"
      ]
     },
     "metadata": {
      "application/vnd.databricks.v1+output": {
       "addedWidgets": {},
       "arguments": {},
       "data": "Out[79]: <AxesSubplot:>",
       "datasetInfos": [],
       "metadata": {},
       "removedWidgets": [],
       "type": "ansi"
      }
     },
     "output_type": "display_data"
    },
    {
     "data": {
      "image/png": "[encoded data removed]"
     },
     "metadata": {
      "application/vnd.databricks.v1+output": {
       "addedWidgets": {},
       "arguments": {},
       "data": "data:image/png;base64,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\n",
       "datasetInfos": [],
       "metadata": {},
       "removedWidgets": [],
       "type": "image"
      }
     },
     "output_type": "display_data"
    }
   ],
   "source": [
    "# Generate a mask for the upper triangle\n",
    "mask = np.triu(np.ones_like(corr, dtype=bool))\n",
    "\n",
    "# Set up the matplotlib figure\n",
    "f, ax = plt.subplots(figsize=(5, 5))\n",
    "\n",
    "# Generate a custom diverging colormap\n",
    "cmap = sns.diverging_palette(250, 10, as_cmap=True)\n",
    "\n",
    "# Draw the heatmap with the mask and correct aspect ratio\n",
    "sns.heatmap(corr, annot = True, mask=mask, cmap=cmap, vmax=0.7, vmin=-0.7, center=0,\n",
    "            square=True, linewidths=.5, cbar_kws={\"shrink\": .5})"
   ]
  },
  {
   "cell_type": "markdown",
   "metadata": {
    "application/vnd.databricks.v1+cell": {
     "inputWidgets": {},
     "nuid": "093c6f05-292c-43a9-ba79-b1a377b320ea",
     "showTitle": false,
     "title": ""
    }
   },
   "source": [
    "We can see from the VIF table, that there is strong multicollinearity, even though if we look at the correlation matrix between the four independent variables, there seems to be a low correlation between them. In this case, we will choose to ignore this, because even though there may be a relation between hits (H) and walks (BB), and grounding into double play (GDP) and leaving men on base (LOB), all these stats explain completely different situations of the game. The two variables that could have a stronger relation, which are grounding into double play and leaving men on base (since one leads to the other), is actually one of the least correlated pairs as seen in the heatmap."
   ]
  },
  {
   "cell_type": "markdown",
   "metadata": {
    "application/vnd.databricks.v1+cell": {
     "inputWidgets": {},
     "nuid": "5771df03-ca9a-4412-a15a-29bb2376ed42",
     "showTitle": false,
     "title": ""
    }
   },
   "source": [
    "## Conclusion"
   ]
  },
  {
   "cell_type": "markdown",
   "metadata": {
    "application/vnd.databricks.v1+cell": {
     "inputWidgets": {},
     "nuid": "5075e851-52fc-450d-97a7-42bd8edce90e",
     "showTitle": false,
     "title": ""
    }
   },
   "source": [
    "It is important to state that this project has many limitations. For example, we only analyzed 7 years, we just computed models with up to four predictors, there seems to be multicollinearity in the chosen model, among other considerations. With that being said, we can conclude that the combination of Hits (H), Walks (BB), Grounded into Double Play (GDP), and Left on Base (LOB) can be used to predict fairly accurately the runs a team will score in any given season. This also goes in line with the theory behind Moneyball, which considers that getting on base is the main factor that determines run production. In this sense, both Hits and Walks imply getting people on base, while grounding into double plays means the opposite, and leaving men on base means not capitalizing when runners are on base."
   ]
  },
  {
   "cell_type": "markdown",
   "metadata": {
    "application/vnd.databricks.v1+cell": {
     "inputWidgets": {},
     "nuid": "1ec3874e-255d-43b2-ba59-c8aa98d24fa9",
     "showTitle": false,
     "title": ""
    }
   },
   "source": [
    "## Glossary\n",
    "\n",
    "\n",
    "**Feature** | **Description** \n",
    "---:|:---\n",
    "**RA/G** | Runs Allowed per Game                             \n",
    "**DefEff** | Defensive Efficiency \n",
    "**E** | Error \n",
    "**DPA** | Double Play (Against)  \n",
    "**W** | Win  \n",
    "**L** | Loss \n",
    "**ERA** | Earned Run Average  \n",
    "**tSho** | Team Shutouts  \n",
    "**HA** | Hit (Allowed)  \n",
    "**ER** | Earned Run  \n",
    "**HRA** | Home Run (Allowed)  \n",
    "**BBA** | Walk (Allowed)  \n",
    "**SOA** | Strikeout (Against)  \n",
    "**R/G** | Runs Scored per Game  \n",
    "**R** | Runs Scored \n",
    "**H** | Hit \n",
    "**RBI** | Runs Batted In  \n",
    "**SB** | Stolen Base  \n",
    "**SO** | Strikeout  \n",
    "**BA** | Batting Average  \n",
    "**OBP** | On-base Percentage  \n",
    "**SLG** | Slugging Percentage  \n",
    "**GDP** | Grounded Into Double Plays  \n",
    "**LOB** | Left On Base  \n",
    "**WAR** | Wins Above Replacement  \n",
    "**2B** | Double \n",
    "**3B** | Triple  \n",
    "**HR** | Home Run  \n",
    "**BB** | Walk \n",
    "**FP** | Fielding Percentage \n",
    "**BPF** | Batting Park Factor \n",
    "**SF** | Sacrifice Flies \n",
    "**CS** | Caught Stealing"
   ]
  }
 ],
 "metadata": {
  "application/vnd.databricks.v1+notebook": {
   "dashboards": [],
   "language": "python",
   "notebookMetadata": {
    "pythonIndentUnit": 4
   },
   "notebookName": "Proyecto MLB - Carreras (GW)",
   "notebookOrigID": 2028138752694775,
   "widgets": {}
  },
  "kernelspec": {
   "display_name": "Python 3",
   "language": "python",
   "name": "python3"
  },
  "language_info": {
   "codemirror_mode": {
    "name": "ipython",
    "version": 3
   },
   "file_extension": ".py",
   "mimetype": "text/x-python",
   "name": "python",
   "nbconvert_exporter": "python",
   "pygments_lexer": "ipython3",
   "version": "3.8.5"
  }
 },
 "nbformat": 4,
 "nbformat_minor": 1
}
