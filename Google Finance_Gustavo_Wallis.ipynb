{
 "cells": [
  {
   "cell_type": "code",
   "execution_count": 2,
   "metadata": {},
   "outputs": [],
   "source": [
    "import pandas as pd\n",
    "import requests\n",
    "import lxml.html as lh\n",
    "r = requests.get('https://www.google.com/finance/quote/TSLA:NASDAQ?source=lnms&sa=X&ved=2ahUKEwjy9IK_-I_mAhW_QUEAHYXBBIUQ_AUoA3oECA4QCw&biw=1536&bih=722#scso=_zFThXbauNo_YwALfi5TgCA7:0', \n",
    "                 headers={\"accept-language\":\"en\"})"
   ]
  },
  {
   "cell_type": "code",
   "execution_count": 3,
   "metadata": {},
   "outputs": [
    {
     "name": "stdout",
     "output_type": "stream",
     "text": [
      "200\n"
     ]
    }
   ],
   "source": [
    "print(r.status_code)"
   ]
  },
  {
   "cell_type": "code",
   "execution_count": 4,
   "metadata": {},
   "outputs": [
    {
     "name": "stdout",
     "output_type": "stream",
     "text": [
      "<!doctype html><html lang=\"en\" dir=\"ltr\"><head><base href=\"https://www.google.com/finance/\"><meta name=\"referrer\" content=\"origin\"><link rel=\"canonical\" href=\"https://www.google.com/finance/quote/TSLA:NASDAQ\"><meta name=\"viewport\" content=\"width=device-width,initial-scale=1,minimum-scale=1,maximum-scale=1,user-scalable=no,minimal-ui\"><meta name=\"google-site-verification\" content=\"sxp7zFOFUzk09RdlFhuH2SoCn5nOkXgomiLeLIQ48p0\"><meta name=\"mobile-web-app-capable\" content=\"yes\"><meta name=\"apple-mobi\n"
     ]
    }
   ],
   "source": [
    "# print the first 500 characters of the HTML\n",
    "print(r.text[0:500])"
   ]
  },
  {
   "cell_type": "code",
   "execution_count": 5,
   "metadata": {},
   "outputs": [],
   "source": [
    "from bs4 import BeautifulSoup\n",
    "soup = BeautifulSoup(r.text, 'html.parser')"
   ]
  },
  {
   "cell_type": "code",
   "execution_count": 5,
   "metadata": {},
   "outputs": [],
   "source": [
    "accion = soup.find_all('div', attrs={'class':'zzDege'})\n"
   ]
  },
  {
   "cell_type": "code",
   "execution_count": 6,
   "metadata": {
    "scrolled": true
   },
   "outputs": [
    {
     "name": "stdout",
     "output_type": "stream",
     "text": [
      "El precio actual de Tesla Inc es: $1,056.78\n"
     ]
    }
   ],
   "source": [
    "results = soup.find_all('div', attrs={'class':'YMlKec fxKbKc'})\n",
    "print('El precio actual de ' + accion[0].text + ' es: '+ results[0].text)"
   ]
  },
  {
   "cell_type": "code",
   "execution_count": 7,
   "metadata": {},
   "outputs": [],
   "source": [
    "doc = lh.fromstring(r.content)\n",
    "tr_elements = doc.xpath('//tr')"
   ]
  },
  {
   "cell_type": "code",
   "execution_count": 8,
   "metadata": {},
   "outputs": [
    {
     "data": {
      "text/plain": [
       "[3, 3, 3, 3, 3, 3, 3, 3, 3]"
      ]
     },
     "execution_count": 8,
     "metadata": {},
     "output_type": "execute_result"
    }
   ],
   "source": [
    "#Se comprueba que la tabla tiene 3 columnas y 9 filas (incluyendo los encabezados)\n",
    "[len(T) for T in tr_elements[:10]]"
   ]
  },
  {
   "cell_type": "code",
   "execution_count": 9,
   "metadata": {
    "scrolled": true
   },
   "outputs": [
    {
     "name": "stdout",
     "output_type": "stream",
     "text": [
      "1 (USD)\n",
      "2 Sep 2021infoFiscal Q3 2021 ended 9/30/21. Reported on 10/20/21.\n",
      "3 Year/year change\n"
     ]
    }
   ],
   "source": [
    "#Se crea una lista vacía\n",
    "col=[]\n",
    "i=0\n",
    "#Para cada columns, se guarda el primer elemento (encabezado o header) y una lista vacía.\n",
    "for t in tr_elements[0]:\n",
    "    i+=1\n",
    "    name=t.text_content()\n",
    "    print (i,name)\n",
    "    col.append((name,[]))"
   ]
  },
  {
   "cell_type": "code",
   "execution_count": 10,
   "metadata": {},
   "outputs": [],
   "source": [
    "#Dado que la primera fila está compuesta por los encabezados, los datos son guardados a partir de la segunda fila. \n",
    "for j in range(1,len(tr_elements)):\n",
    "   \n",
    "    #T es la j-ésima fila \n",
    "    T=tr_elements[j]\n",
    "    \n",
    "    #Si una fila no es de longitud 3, el elemento //tr no es de esta tabla.  \n",
    "    if len(T)!=3:\n",
    "        break\n",
    "    \n",
    "    #i es el indice de la columna\n",
    "    i=0\n",
    "    \n",
    "    #Se itera sobre cada elemento de la fila.\n",
    "    for t in T.iterchildren():\n",
    "        data=t.text_content() \n",
    "        #Comprobación de si la fila está vacía.\n",
    "        if i>0:\n",
    "        #Se convierte cualquier valor numérico a entero.\n",
    "            try:\n",
    "                data=int(data)\n",
    "            except:\n",
    "                pass\n",
    "        #Se añaden los datos a la lista vacía.\n",
    "        col[i][1].append(data)\n",
    "        #Se incrementa en i para la próxima columna. \n",
    "        i+=1"
   ]
  },
  {
   "cell_type": "code",
   "execution_count": 11,
   "metadata": {},
   "outputs": [
    {
     "data": {
      "text/plain": [
       "[8, 8, 8]"
      ]
     },
     "execution_count": 11,
     "metadata": {},
     "output_type": "execute_result"
    }
   ],
   "source": [
    "#Sin tomar en cuanta los encabezados, la tabla tiene 3 columnas y 8 filas\n",
    "[len(C) for (title,C) in col]"
   ]
  },
  {
   "cell_type": "code",
   "execution_count": 12,
   "metadata": {},
   "outputs": [],
   "source": [
    "#Se definen los encabezados de las columnas y se crea el DataFrame\n",
    "Dict={title:column for (title,column) in col}\n",
    "df=pd.DataFrame(Dict)"
   ]
  },
  {
   "cell_type": "code",
   "execution_count": 13,
   "metadata": {
    "scrolled": true
   },
   "outputs": [],
   "source": [
    "tabla= df.set_index('(USD)')"
   ]
  },
  {
   "cell_type": "code",
   "execution_count": 14,
   "metadata": {},
   "outputs": [],
   "source": [
    "header_fecha=col[1][0][0:8]"
   ]
  },
  {
   "cell_type": "code",
   "execution_count": 15,
   "metadata": {},
   "outputs": [
    {
     "data": {
      "text/html": [
       "<div>\n",
       "<style scoped>\n",
       "    .dataframe tbody tr th:only-of-type {\n",
       "        vertical-align: middle;\n",
       "    }\n",
       "\n",
       "    .dataframe tbody tr th {\n",
       "        vertical-align: top;\n",
       "    }\n",
       "\n",
       "    .dataframe thead th {\n",
       "        text-align: right;\n",
       "    }\n",
       "</style>\n",
       "<table border=\"1\" class=\"dataframe\">\n",
       "  <thead>\n",
       "    <tr style=\"text-align: right;\">\n",
       "      <th></th>\n",
       "      <th>Sep 2021</th>\n",
       "      <th>Year/year change</th>\n",
       "    </tr>\n",
       "    <tr>\n",
       "      <th>(USD)</th>\n",
       "      <th></th>\n",
       "      <th></th>\n",
       "    </tr>\n",
       "  </thead>\n",
       "  <tbody>\n",
       "    <tr>\n",
       "      <th>Revenue</th>\n",
       "      <td>13.76B</td>\n",
       "      <td>56.85%</td>\n",
       "    </tr>\n",
       "    <tr>\n",
       "      <th>Net income</th>\n",
       "      <td>1.62B</td>\n",
       "      <td>388.82%</td>\n",
       "    </tr>\n",
       "    <tr>\n",
       "      <th>Diluted EPS</th>\n",
       "      <td>1.44</td>\n",
       "      <td>433.33%</td>\n",
       "    </tr>\n",
       "    <tr>\n",
       "      <th>Net profit margin</th>\n",
       "      <td>11.76%</td>\n",
       "      <td>211.94%</td>\n",
       "    </tr>\n",
       "    <tr>\n",
       "      <th>Operating income</th>\n",
       "      <td>2.06B</td>\n",
       "      <td>168.28%</td>\n",
       "    </tr>\n",
       "    <tr>\n",
       "      <th>Net change in cash</th>\n",
       "      <td>-131.00M</td>\n",
       "      <td>-102.22%</td>\n",
       "    </tr>\n",
       "    <tr>\n",
       "      <th>Cash on hand</th>\n",
       "      <td>16.06B</td>\n",
       "      <td>10.56%</td>\n",
       "    </tr>\n",
       "    <tr>\n",
       "      <th>Cost of revenue</th>\n",
       "      <td>10.10B</td>\n",
       "      <td>50.52%</td>\n",
       "    </tr>\n",
       "  </tbody>\n",
       "</table>\n",
       "</div>"
      ],
      "text/plain": [
       "                    Sep 2021 Year/year change\n",
       "(USD)                                        \n",
       "Revenue               13.76B           56.85%\n",
       "Net income             1.62B          388.82%\n",
       "Diluted EPS             1.44          433.33%\n",
       "Net profit margin     11.76%          211.94%\n",
       "Operating income       2.06B          168.28%\n",
       "Net change in cash  -131.00M         -102.22%\n",
       "Cash on hand          16.06B           10.56%\n",
       "Cost of revenue       10.10B           50.52%"
      ]
     },
     "execution_count": 15,
     "metadata": {},
     "output_type": "execute_result"
    }
   ],
   "source": [
    "#Se renombra la columna del medio\n",
    "header_fecha=col[1][0][0:8]\n",
    "tabla.rename({col[1][0]: header_fecha}, axis=1, inplace=True)\n",
    "tabla"
   ]
  },
  {
   "cell_type": "code",
   "execution_count": null,
   "metadata": {},
   "outputs": [],
   "source": []
  },
  {
   "cell_type": "code",
   "execution_count": 16,
   "metadata": {},
   "outputs": [],
   "source": [
    "#Empresas comparables\n",
    "comparables = soup.find('div', attrs={'class':'bF2Mne'})"
   ]
  },
  {
   "cell_type": "code",
   "execution_count": 17,
   "metadata": {},
   "outputs": [
    {
     "data": {
      "text/plain": [
       "['Amazon.com, Inc.',\n",
       " 'Apple Inc',\n",
       " 'NVIDIA Corporation',\n",
       " 'Lucid Group Inc',\n",
       " 'Ford Motor Company',\n",
       " 'Palantir Technologies Inc',\n",
       " 'Microsoft Corporation',\n",
       " 'Rivian Automotive Inc',\n",
       " 'SPDR S&P 500 ETF Trust',\n",
       " 'Nio Inc - ADR']"
      ]
     },
     "execution_count": 17,
     "metadata": {},
     "output_type": "execute_result"
    }
   ],
   "source": [
    "#Se muestran por separado y en una lista todas las empresas comparables\n",
    "empresas = comparables.select(\".qIEjSe\")\n",
    "empresas = [x.get_text() for x in empresas]\n",
    "empresas"
   ]
  },
  {
   "cell_type": "code",
   "execution_count": 18,
   "metadata": {
    "scrolled": true
   },
   "outputs": [
    {
     "data": {
      "text/plain": [
       "['$3,334.34',\n",
       " '1.14%',\n",
       " '$177.57',\n",
       " '0.35%',\n",
       " '$294.11',\n",
       " '0.59%',\n",
       " '$38.05',\n",
       " '1.81%',\n",
       " '$20.77',\n",
       " '1.47%',\n",
       " '$18.21',\n",
       " '2.57%',\n",
       " '$336.32',\n",
       " '0.88%',\n",
       " '$103.69',\n",
       " '0.26%',\n",
       " '$474.96',\n",
       " '0.25%',\n",
       " '$31.68',\n",
       " '2.28%']"
      ]
     },
     "execution_count": 18,
     "metadata": {},
     "output_type": "execute_result"
    }
   ],
   "source": [
    "#Se hace lo mismo pero con los precios y las variaciones diarias\n",
    "precio_comp = comparables.select(\".Z63m9d\")\n",
    "precio_comp = [x.get_text() for x in precio_comp]\n",
    "precio_comp"
   ]
  },
  {
   "cell_type": "code",
   "execution_count": 19,
   "metadata": {},
   "outputs": [],
   "source": [
    "#Los precios y las variaciones vienen intercalados en la misma lista, se procede a separarlos en listas distintas\n",
    "porcentaje = []\n",
    "for precio in precio_comp:\n",
    "    if \"%\" in precio:\n",
    "        porcentaje.append(precio)\n",
    "        precio_comp.remove(precio)"
   ]
  },
  {
   "cell_type": "code",
   "execution_count": 20,
   "metadata": {},
   "outputs": [
    {
     "name": "stdout",
     "output_type": "stream",
     "text": [
      "['1.14%', '0.35%', '0.59%', '1.81%', '1.47%', '2.57%', '0.88%', '0.26%', '0.25%', '2.28%']\n",
      "['$3,334.34', '$177.57', '$294.11', '$38.05', '$20.77', '$18.21', '$336.32', '$103.69', '$474.96', '$31.68']\n"
     ]
    }
   ],
   "source": [
    "print(porcentaje)\n",
    "print(precio_comp)"
   ]
  },
  {
   "cell_type": "code",
   "execution_count": 21,
   "metadata": {},
   "outputs": [
    {
     "data": {
      "text/plain": [
       "['AMZN', 'AAPL', 'NVDA', 'LCID', 'F', 'PLTR', 'MSFT', 'RIVN', 'SPY', 'NIO']"
      ]
     },
     "execution_count": 21,
     "metadata": {},
     "output_type": "execute_result"
    }
   ],
   "source": [
    "ticker = comparables.select(\".lUuFj\")\n",
    "ticker = [x.get_text() for x in ticker]\n",
    "ticker "
   ]
  },
  {
   "cell_type": "code",
   "execution_count": 22,
   "metadata": {
    "scrolled": true
   },
   "outputs": [
    {
     "data": {
      "text/html": [
       "<div>\n",
       "<style scoped>\n",
       "    .dataframe tbody tr th:only-of-type {\n",
       "        vertical-align: middle;\n",
       "    }\n",
       "\n",
       "    .dataframe tbody tr th {\n",
       "        vertical-align: top;\n",
       "    }\n",
       "\n",
       "    .dataframe thead th {\n",
       "        text-align: right;\n",
       "    }\n",
       "</style>\n",
       "<table border=\"1\" class=\"dataframe\">\n",
       "  <thead>\n",
       "    <tr style=\"text-align: right;\">\n",
       "      <th></th>\n",
       "      <th>Comparables</th>\n",
       "      <th>Ticker</th>\n",
       "      <th>Precio Actual</th>\n",
       "      <th>Variación</th>\n",
       "    </tr>\n",
       "  </thead>\n",
       "  <tbody>\n",
       "    <tr>\n",
       "      <th>0</th>\n",
       "      <td>Amazon.com, Inc.</td>\n",
       "      <td>AMZN</td>\n",
       "      <td>$3,334.34</td>\n",
       "      <td>1.14%</td>\n",
       "    </tr>\n",
       "    <tr>\n",
       "      <th>1</th>\n",
       "      <td>Apple Inc</td>\n",
       "      <td>AAPL</td>\n",
       "      <td>$177.57</td>\n",
       "      <td>0.35%</td>\n",
       "    </tr>\n",
       "    <tr>\n",
       "      <th>2</th>\n",
       "      <td>NVIDIA Corporation</td>\n",
       "      <td>NVDA</td>\n",
       "      <td>$294.11</td>\n",
       "      <td>0.59%</td>\n",
       "    </tr>\n",
       "    <tr>\n",
       "      <th>3</th>\n",
       "      <td>Lucid Group Inc</td>\n",
       "      <td>LCID</td>\n",
       "      <td>$38.05</td>\n",
       "      <td>1.81%</td>\n",
       "    </tr>\n",
       "    <tr>\n",
       "      <th>4</th>\n",
       "      <td>Ford Motor Company</td>\n",
       "      <td>F</td>\n",
       "      <td>$20.77</td>\n",
       "      <td>1.47%</td>\n",
       "    </tr>\n",
       "    <tr>\n",
       "      <th>5</th>\n",
       "      <td>Palantir Technologies Inc</td>\n",
       "      <td>PLTR</td>\n",
       "      <td>$18.21</td>\n",
       "      <td>2.57%</td>\n",
       "    </tr>\n",
       "    <tr>\n",
       "      <th>6</th>\n",
       "      <td>Microsoft Corporation</td>\n",
       "      <td>MSFT</td>\n",
       "      <td>$336.32</td>\n",
       "      <td>0.88%</td>\n",
       "    </tr>\n",
       "    <tr>\n",
       "      <th>7</th>\n",
       "      <td>Rivian Automotive Inc</td>\n",
       "      <td>RIVN</td>\n",
       "      <td>$103.69</td>\n",
       "      <td>0.26%</td>\n",
       "    </tr>\n",
       "    <tr>\n",
       "      <th>8</th>\n",
       "      <td>SPDR S&amp;P 500 ETF Trust</td>\n",
       "      <td>SPY</td>\n",
       "      <td>$474.96</td>\n",
       "      <td>0.25%</td>\n",
       "    </tr>\n",
       "    <tr>\n",
       "      <th>9</th>\n",
       "      <td>Nio Inc - ADR</td>\n",
       "      <td>NIO</td>\n",
       "      <td>$31.68</td>\n",
       "      <td>2.28%</td>\n",
       "    </tr>\n",
       "  </tbody>\n",
       "</table>\n",
       "</div>"
      ],
      "text/plain": [
       "                 Comparables Ticker Precio Actual Variación\n",
       "0           Amazon.com, Inc.   AMZN     $3,334.34     1.14%\n",
       "1                  Apple Inc   AAPL       $177.57     0.35%\n",
       "2         NVIDIA Corporation   NVDA       $294.11     0.59%\n",
       "3            Lucid Group Inc   LCID        $38.05     1.81%\n",
       "4         Ford Motor Company      F        $20.77     1.47%\n",
       "5  Palantir Technologies Inc   PLTR        $18.21     2.57%\n",
       "6      Microsoft Corporation   MSFT       $336.32     0.88%\n",
       "7      Rivian Automotive Inc   RIVN       $103.69     0.26%\n",
       "8     SPDR S&P 500 ETF Trust    SPY       $474.96     0.25%\n",
       "9              Nio Inc - ADR    NIO        $31.68     2.28%"
      ]
     },
     "execution_count": 22,
     "metadata": {},
     "output_type": "execute_result"
    }
   ],
   "source": [
    "#Se crea un DataFrame con la información de las empresas comparables\n",
    "empresas_comp = pd.DataFrame({'Comparables':empresas, 'Ticker':ticker, 'Precio Actual':precio_comp,'Variación':porcentaje})\n",
    "empresas_comp"
   ]
  },
  {
   "cell_type": "code",
   "execution_count": null,
   "metadata": {},
   "outputs": [],
   "source": []
  },
  {
   "cell_type": "code",
   "execution_count": 23,
   "metadata": {},
   "outputs": [],
   "source": [
    "#Noticias de la acción\n",
    "noticias = soup.find('div', attrs={'class':'Gfxi4'})"
   ]
  },
  {
   "cell_type": "code",
   "execution_count": 24,
   "metadata": {},
   "outputs": [
    {
     "data": {
      "text/plain": [
       "['Business Standard',\n",
       " 'CNBC',\n",
       " \"Barron's\",\n",
       " \"Investor's Business Daily\",\n",
       " 'Fox Business',\n",
       " 'Bloomberg.com']"
      ]
     },
     "execution_count": 24,
     "metadata": {},
     "output_type": "execute_result"
    }
   ],
   "source": [
    "periodico = noticias.select(\".sfyJob\")\n",
    "periodico = [x.get_text() for x in periodico]\n",
    "periodico\n"
   ]
  },
  {
   "cell_type": "code",
   "execution_count": 25,
   "metadata": {},
   "outputs": [
    {
     "data": {
      "text/plain": [
       "['12 hours ago',\n",
       " '23 hours ago',\n",
       " '1 day ago',\n",
       " '1 hour ago',\n",
       " '23 hours ago',\n",
       " '1 day ago']"
      ]
     },
     "execution_count": 25,
     "metadata": {},
     "output_type": "execute_result"
    }
   ],
   "source": [
    "month = noticias.select(\".Adak\")\n",
    "month = [x.get_text() for x in month]\n",
    "month\n"
   ]
  },
  {
   "cell_type": "code",
   "execution_count": 26,
   "metadata": {},
   "outputs": [
    {
     "data": {
      "text/plain": [
       "['Tesla CEO Elon Musk advises young people to learn as much as possible',\n",
       " 'Tesla asks employees to fight policy proposal that would make rooftop solar \\nmore expensive in California',\n",
       " \"Tesla Could 'Considerably' Extend EV Lead. Deutsche Bank Lifts Target to \\n$1,200.\",\n",
       " 'Dow Jones Futures: 2022 Market Rally? Bring It On; Xpeng, Nio EV Deliveries \\nStrong With Tesla On Tap',\n",
       " 'How Elon Musk’s software focus helped Tesla navigate chip shortage',\n",
       " \"Tesla Deliveries: Elon Musk's TSLA Races to Meet New Years Eve Deadline\"]"
      ]
     },
     "execution_count": 26,
     "metadata": {},
     "output_type": "execute_result"
    }
   ],
   "source": [
    "titular = noticias.select(\".Yfwt5\")\n",
    "titular = [x.get_text() for x in titular]\n",
    "titular\n"
   ]
  },
  {
   "cell_type": "code",
   "execution_count": 27,
   "metadata": {},
   "outputs": [],
   "source": [
    "links = soup.find_all(\"div\", {'class':'yY3Lee'})"
   ]
  },
  {
   "cell_type": "code",
   "execution_count": 28,
   "metadata": {},
   "outputs": [
    {
     "data": {
      "text/plain": [
       "['https://www.business-standard.com/article/international/tesla-ceo-elon-musk-advices-young-people-to-learn-as-much-as-possible-122010100291_1.html',\n",
       " 'https://www.cnbc.com/2021/12/31/tesla-asks-employees-to-fight-california-plan-to-cut-solar-incentives.html',\n",
       " 'https://www.barrons.com/articles/tesla-tsla-stock-electric-vehicles-deliveries-price-target-51640958938',\n",
       " 'https://www.investors.com/market-trend/stock-market-today/dow-jones-futures-tesla-nio-ev-deliveries-in-focus-2022-market-rally/',\n",
       " 'https://www.foxbusiness.com/technology/elon-musks-software-focus-helped-tesla-navigate-chip-shortage',\n",
       " 'https://www.bloomberg.com/news/articles/2021-12-31/tesla-has-busy-new-year-s-eve-plans-in-push-to-record-deliveries']"
      ]
     },
     "execution_count": 28,
     "metadata": {},
     "output_type": "execute_result"
    }
   ],
   "source": [
    "#El anchor <a> se usa para crear enlaces a otras páginas web. La propiedad 'href' define su ubicación. \n",
    "link = [x.a.get(\"href\") for x in links]\n",
    "link"
   ]
  },
  {
   "cell_type": "code",
   "execution_count": 29,
   "metadata": {},
   "outputs": [
    {
     "data": {
      "text/html": [
       "<div>\n",
       "<style scoped>\n",
       "    .dataframe tbody tr th:only-of-type {\n",
       "        vertical-align: middle;\n",
       "    }\n",
       "\n",
       "    .dataframe tbody tr th {\n",
       "        vertical-align: top;\n",
       "    }\n",
       "\n",
       "    .dataframe thead th {\n",
       "        text-align: right;\n",
       "    }\n",
       "</style>\n",
       "<table border=\"1\" class=\"dataframe\">\n",
       "  <thead>\n",
       "    <tr style=\"text-align: right;\">\n",
       "      <th></th>\n",
       "      <th>Periódico</th>\n",
       "      <th>Fecha</th>\n",
       "      <th>Titular</th>\n",
       "      <th>URL</th>\n",
       "    </tr>\n",
       "  </thead>\n",
       "  <tbody>\n",
       "    <tr>\n",
       "      <th>0</th>\n",
       "      <td>Business Standard</td>\n",
       "      <td>12 hours ago</td>\n",
       "      <td>Tesla CEO Elon Musk advises young people to le...</td>\n",
       "      <td>https://www.business-standard.com/article/inte...</td>\n",
       "    </tr>\n",
       "    <tr>\n",
       "      <th>1</th>\n",
       "      <td>CNBC</td>\n",
       "      <td>23 hours ago</td>\n",
       "      <td>Tesla asks employees to fight policy proposal ...</td>\n",
       "      <td>https://www.cnbc.com/2021/12/31/tesla-asks-emp...</td>\n",
       "    </tr>\n",
       "    <tr>\n",
       "      <th>2</th>\n",
       "      <td>Barron's</td>\n",
       "      <td>1 day ago</td>\n",
       "      <td>Tesla Could 'Considerably' Extend EV Lead. Deu...</td>\n",
       "      <td>https://www.barrons.com/articles/tesla-tsla-st...</td>\n",
       "    </tr>\n",
       "    <tr>\n",
       "      <th>3</th>\n",
       "      <td>Investor's Business Daily</td>\n",
       "      <td>1 hour ago</td>\n",
       "      <td>Dow Jones Futures: 2022 Market Rally? Bring It...</td>\n",
       "      <td>https://www.investors.com/market-trend/stock-m...</td>\n",
       "    </tr>\n",
       "    <tr>\n",
       "      <th>4</th>\n",
       "      <td>Fox Business</td>\n",
       "      <td>23 hours ago</td>\n",
       "      <td>How Elon Musk’s software focus helped Tesla na...</td>\n",
       "      <td>https://www.foxbusiness.com/technology/elon-mu...</td>\n",
       "    </tr>\n",
       "    <tr>\n",
       "      <th>5</th>\n",
       "      <td>Bloomberg.com</td>\n",
       "      <td>1 day ago</td>\n",
       "      <td>Tesla Deliveries: Elon Musk's TSLA Races to Me...</td>\n",
       "      <td>https://www.bloomberg.com/news/articles/2021-1...</td>\n",
       "    </tr>\n",
       "  </tbody>\n",
       "</table>\n",
       "</div>"
      ],
      "text/plain": [
       "                   Periódico         Fecha  \\\n",
       "0          Business Standard  12 hours ago   \n",
       "1                       CNBC  23 hours ago   \n",
       "2                   Barron's     1 day ago   \n",
       "3  Investor's Business Daily    1 hour ago   \n",
       "4               Fox Business  23 hours ago   \n",
       "5              Bloomberg.com     1 day ago   \n",
       "\n",
       "                                             Titular  \\\n",
       "0  Tesla CEO Elon Musk advises young people to le...   \n",
       "1  Tesla asks employees to fight policy proposal ...   \n",
       "2  Tesla Could 'Considerably' Extend EV Lead. Deu...   \n",
       "3  Dow Jones Futures: 2022 Market Rally? Bring It...   \n",
       "4  How Elon Musk’s software focus helped Tesla na...   \n",
       "5  Tesla Deliveries: Elon Musk's TSLA Races to Me...   \n",
       "\n",
       "                                                 URL  \n",
       "0  https://www.business-standard.com/article/inte...  \n",
       "1  https://www.cnbc.com/2021/12/31/tesla-asks-emp...  \n",
       "2  https://www.barrons.com/articles/tesla-tsla-st...  \n",
       "3  https://www.investors.com/market-trend/stock-m...  \n",
       "4  https://www.foxbusiness.com/technology/elon-mu...  \n",
       "5  https://www.bloomberg.com/news/articles/2021-1...  "
      ]
     },
     "execution_count": 29,
     "metadata": {},
     "output_type": "execute_result"
    }
   ],
   "source": [
    "noticias = pd.DataFrame({'Periódico':periodico, 'Fecha':month, 'Titular':titular,'URL':link})\n",
    "noticias"
   ]
  },
  {
   "cell_type": "code",
   "execution_count": 30,
   "metadata": {},
   "outputs": [],
   "source": [
    "#Tabla resumen con datos básicos de la acción\n",
    "tabla_resumen = soup.find('div', attrs={'class':'eYanAe'})"
   ]
  },
  {
   "cell_type": "code",
   "execution_count": 31,
   "metadata": {},
   "outputs": [
    {
     "data": {
      "text/plain": [
       "['$1,070.34',\n",
       " '$1,054.59 - $1,082.00',\n",
       " '$539.49 - $1,243.49',\n",
       " '1.06T USD',\n",
       " '24.03M',\n",
       " '342.92',\n",
       " '-',\n",
       " 'NASDAQ']"
      ]
     },
     "execution_count": 31,
     "metadata": {},
     "output_type": "execute_result"
    }
   ],
   "source": [
    "valores = tabla_resumen.select(\".P6K39c\")\n",
    "valores = [x.get_text() for x in valores]\n",
    "valores"
   ]
  },
  {
   "cell_type": "code",
   "execution_count": 32,
   "metadata": {},
   "outputs": [
    {
     "data": {
      "text/plain": [
       "['Previous close',\n",
       " 'Day range',\n",
       " 'Year range',\n",
       " 'Market cap',\n",
       " 'Volume',\n",
       " 'P/E ratio',\n",
       " 'Dividend yield',\n",
       " 'Primary exchange']"
      ]
     },
     "execution_count": 32,
     "metadata": {},
     "output_type": "execute_result"
    }
   ],
   "source": [
    "campos = tabla_resumen.select(\".mfs7Fc\")\n",
    "campos = [x.get_text() for x in campos]\n",
    "campos\n"
   ]
  },
  {
   "cell_type": "code",
   "execution_count": 33,
   "metadata": {},
   "outputs": [
    {
     "data": {
      "text/html": [
       "<div>\n",
       "<style scoped>\n",
       "    .dataframe tbody tr th:only-of-type {\n",
       "        vertical-align: middle;\n",
       "    }\n",
       "\n",
       "    .dataframe tbody tr th {\n",
       "        vertical-align: top;\n",
       "    }\n",
       "\n",
       "    .dataframe thead th {\n",
       "        text-align: right;\n",
       "    }\n",
       "</style>\n",
       "<table border=\"1\" class=\"dataframe tex2jax_ignore\">\n",
       "  <thead>\n",
       "    <tr style=\"text-align: right;\">\n",
       "      <th></th>\n",
       "      <th>Tesla Inc</th>\n",
       "    </tr>\n",
       "    <tr>\n",
       "      <th>Descripción</th>\n",
       "      <th></th>\n",
       "    </tr>\n",
       "  </thead>\n",
       "  <tbody>\n",
       "    <tr>\n",
       "      <th>Previous close</th>\n",
       "      <td>$1,070.34</td>\n",
       "    </tr>\n",
       "    <tr>\n",
       "      <th>Day range</th>\n",
       "      <td>$1,054.59 - $1,082.00</td>\n",
       "    </tr>\n",
       "    <tr>\n",
       "      <th>Year range</th>\n",
       "      <td>$539.49 - $1,243.49</td>\n",
       "    </tr>\n",
       "    <tr>\n",
       "      <th>Market cap</th>\n",
       "      <td>1.06T USD</td>\n",
       "    </tr>\n",
       "    <tr>\n",
       "      <th>Volume</th>\n",
       "      <td>24.03M</td>\n",
       "    </tr>\n",
       "    <tr>\n",
       "      <th>P/E ratio</th>\n",
       "      <td>342.92</td>\n",
       "    </tr>\n",
       "    <tr>\n",
       "      <th>Dividend yield</th>\n",
       "      <td>-</td>\n",
       "    </tr>\n",
       "    <tr>\n",
       "      <th>Primary exchange</th>\n",
       "      <td>NASDAQ</td>\n",
       "    </tr>\n",
       "  </tbody>\n",
       "</table>\n",
       "</div>"
      ],
      "text/plain": [
       "                              Tesla Inc\n",
       "Descripción                            \n",
       "Previous close                $1,070.34\n",
       "Day range         $1,054.59 - $1,082.00\n",
       "Year range          $539.49 - $1,243.49\n",
       "Market cap                    1.06T USD\n",
       "Volume                           24.03M\n",
       "P/E ratio                        342.92\n",
       "Dividend yield                        -\n",
       "Primary exchange                 NASDAQ"
      ]
     },
     "execution_count": 33,
     "metadata": {},
     "output_type": "execute_result"
    }
   ],
   "source": [
    "#Se usa \"options.display.html.use_mathjax=False\" debido a que sin esto, los números que se encuentran entre \n",
    "#signos de dolar ($) vienen en un  formato diferente.\n",
    "pd.options.display.html.use_mathjax=False\n",
    "resumen_financials = pd.DataFrame({'Descripción':campos, accion[0].text:valores})\n",
    "resumen_financials= resumen_financials.set_index('Descripción')\n",
    "resumen_financials "
   ]
  },
  {
   "cell_type": "markdown",
   "metadata": {},
   "source": [
    "### Datrames finales"
   ]
  },
  {
   "cell_type": "code",
   "execution_count": 34,
   "metadata": {},
   "outputs": [
    {
     "data": {
      "text/html": [
       "<div>\n",
       "<style scoped>\n",
       "    .dataframe tbody tr th:only-of-type {\n",
       "        vertical-align: middle;\n",
       "    }\n",
       "\n",
       "    .dataframe tbody tr th {\n",
       "        vertical-align: top;\n",
       "    }\n",
       "\n",
       "    .dataframe thead th {\n",
       "        text-align: right;\n",
       "    }\n",
       "</style>\n",
       "<table border=\"1\" class=\"dataframe tex2jax_ignore\">\n",
       "  <thead>\n",
       "    <tr style=\"text-align: right;\">\n",
       "      <th></th>\n",
       "      <th>Sep 2021</th>\n",
       "      <th>Year/year change</th>\n",
       "    </tr>\n",
       "    <tr>\n",
       "      <th>(USD)</th>\n",
       "      <th></th>\n",
       "      <th></th>\n",
       "    </tr>\n",
       "  </thead>\n",
       "  <tbody>\n",
       "    <tr>\n",
       "      <th>Revenue</th>\n",
       "      <td>13.76B</td>\n",
       "      <td>56.85%</td>\n",
       "    </tr>\n",
       "    <tr>\n",
       "      <th>Net income</th>\n",
       "      <td>1.62B</td>\n",
       "      <td>388.82%</td>\n",
       "    </tr>\n",
       "    <tr>\n",
       "      <th>Diluted EPS</th>\n",
       "      <td>1.44</td>\n",
       "      <td>433.33%</td>\n",
       "    </tr>\n",
       "    <tr>\n",
       "      <th>Net profit margin</th>\n",
       "      <td>11.76%</td>\n",
       "      <td>211.94%</td>\n",
       "    </tr>\n",
       "    <tr>\n",
       "      <th>Operating income</th>\n",
       "      <td>2.06B</td>\n",
       "      <td>168.28%</td>\n",
       "    </tr>\n",
       "    <tr>\n",
       "      <th>Net change in cash</th>\n",
       "      <td>-131.00M</td>\n",
       "      <td>-102.22%</td>\n",
       "    </tr>\n",
       "    <tr>\n",
       "      <th>Cash on hand</th>\n",
       "      <td>16.06B</td>\n",
       "      <td>10.56%</td>\n",
       "    </tr>\n",
       "    <tr>\n",
       "      <th>Cost of revenue</th>\n",
       "      <td>10.10B</td>\n",
       "      <td>50.52%</td>\n",
       "    </tr>\n",
       "  </tbody>\n",
       "</table>\n",
       "</div>"
      ],
      "text/plain": [
       "                    Sep 2021 Year/year change\n",
       "(USD)                                        \n",
       "Revenue               13.76B           56.85%\n",
       "Net income             1.62B          388.82%\n",
       "Diluted EPS             1.44          433.33%\n",
       "Net profit margin     11.76%          211.94%\n",
       "Operating income       2.06B          168.28%\n",
       "Net change in cash  -131.00M         -102.22%\n",
       "Cash on hand          16.06B           10.56%\n",
       "Cost of revenue       10.10B           50.52%"
      ]
     },
     "execution_count": 34,
     "metadata": {},
     "output_type": "execute_result"
    }
   ],
   "source": [
    "tabla"
   ]
  },
  {
   "cell_type": "code",
   "execution_count": 35,
   "metadata": {},
   "outputs": [
    {
     "data": {
      "text/html": [
       "<div>\n",
       "<style scoped>\n",
       "    .dataframe tbody tr th:only-of-type {\n",
       "        vertical-align: middle;\n",
       "    }\n",
       "\n",
       "    .dataframe tbody tr th {\n",
       "        vertical-align: top;\n",
       "    }\n",
       "\n",
       "    .dataframe thead th {\n",
       "        text-align: right;\n",
       "    }\n",
       "</style>\n",
       "<table border=\"1\" class=\"dataframe tex2jax_ignore\">\n",
       "  <thead>\n",
       "    <tr style=\"text-align: right;\">\n",
       "      <th></th>\n",
       "      <th>Comparables</th>\n",
       "      <th>Ticker</th>\n",
       "      <th>Precio Actual</th>\n",
       "      <th>Variación</th>\n",
       "    </tr>\n",
       "  </thead>\n",
       "  <tbody>\n",
       "    <tr>\n",
       "      <th>0</th>\n",
       "      <td>Amazon.com, Inc.</td>\n",
       "      <td>AMZN</td>\n",
       "      <td>$3,334.34</td>\n",
       "      <td>1.14%</td>\n",
       "    </tr>\n",
       "    <tr>\n",
       "      <th>1</th>\n",
       "      <td>Apple Inc</td>\n",
       "      <td>AAPL</td>\n",
       "      <td>$177.57</td>\n",
       "      <td>0.35%</td>\n",
       "    </tr>\n",
       "    <tr>\n",
       "      <th>2</th>\n",
       "      <td>NVIDIA Corporation</td>\n",
       "      <td>NVDA</td>\n",
       "      <td>$294.11</td>\n",
       "      <td>0.59%</td>\n",
       "    </tr>\n",
       "    <tr>\n",
       "      <th>3</th>\n",
       "      <td>Lucid Group Inc</td>\n",
       "      <td>LCID</td>\n",
       "      <td>$38.05</td>\n",
       "      <td>1.81%</td>\n",
       "    </tr>\n",
       "    <tr>\n",
       "      <th>4</th>\n",
       "      <td>Ford Motor Company</td>\n",
       "      <td>F</td>\n",
       "      <td>$20.77</td>\n",
       "      <td>1.47%</td>\n",
       "    </tr>\n",
       "    <tr>\n",
       "      <th>5</th>\n",
       "      <td>Palantir Technologies Inc</td>\n",
       "      <td>PLTR</td>\n",
       "      <td>$18.21</td>\n",
       "      <td>2.57%</td>\n",
       "    </tr>\n",
       "    <tr>\n",
       "      <th>6</th>\n",
       "      <td>Microsoft Corporation</td>\n",
       "      <td>MSFT</td>\n",
       "      <td>$336.32</td>\n",
       "      <td>0.88%</td>\n",
       "    </tr>\n",
       "    <tr>\n",
       "      <th>7</th>\n",
       "      <td>Rivian Automotive Inc</td>\n",
       "      <td>RIVN</td>\n",
       "      <td>$103.69</td>\n",
       "      <td>0.26%</td>\n",
       "    </tr>\n",
       "    <tr>\n",
       "      <th>8</th>\n",
       "      <td>SPDR S&amp;P 500 ETF Trust</td>\n",
       "      <td>SPY</td>\n",
       "      <td>$474.96</td>\n",
       "      <td>0.25%</td>\n",
       "    </tr>\n",
       "    <tr>\n",
       "      <th>9</th>\n",
       "      <td>Nio Inc - ADR</td>\n",
       "      <td>NIO</td>\n",
       "      <td>$31.68</td>\n",
       "      <td>2.28%</td>\n",
       "    </tr>\n",
       "  </tbody>\n",
       "</table>\n",
       "</div>"
      ],
      "text/plain": [
       "                 Comparables Ticker Precio Actual Variación\n",
       "0           Amazon.com, Inc.   AMZN     $3,334.34     1.14%\n",
       "1                  Apple Inc   AAPL       $177.57     0.35%\n",
       "2         NVIDIA Corporation   NVDA       $294.11     0.59%\n",
       "3            Lucid Group Inc   LCID        $38.05     1.81%\n",
       "4         Ford Motor Company      F        $20.77     1.47%\n",
       "5  Palantir Technologies Inc   PLTR        $18.21     2.57%\n",
       "6      Microsoft Corporation   MSFT       $336.32     0.88%\n",
       "7      Rivian Automotive Inc   RIVN       $103.69     0.26%\n",
       "8     SPDR S&P 500 ETF Trust    SPY       $474.96     0.25%\n",
       "9              Nio Inc - ADR    NIO        $31.68     2.28%"
      ]
     },
     "execution_count": 35,
     "metadata": {},
     "output_type": "execute_result"
    }
   ],
   "source": [
    "empresas_comp"
   ]
  },
  {
   "cell_type": "code",
   "execution_count": 36,
   "metadata": {},
   "outputs": [
    {
     "data": {
      "text/html": [
       "<div>\n",
       "<style scoped>\n",
       "    .dataframe tbody tr th:only-of-type {\n",
       "        vertical-align: middle;\n",
       "    }\n",
       "\n",
       "    .dataframe tbody tr th {\n",
       "        vertical-align: top;\n",
       "    }\n",
       "\n",
       "    .dataframe thead th {\n",
       "        text-align: right;\n",
       "    }\n",
       "</style>\n",
       "<table border=\"1\" class=\"dataframe tex2jax_ignore\">\n",
       "  <thead>\n",
       "    <tr style=\"text-align: right;\">\n",
       "      <th></th>\n",
       "      <th>Periódico</th>\n",
       "      <th>Fecha</th>\n",
       "      <th>Titular</th>\n",
       "      <th>URL</th>\n",
       "    </tr>\n",
       "  </thead>\n",
       "  <tbody>\n",
       "    <tr>\n",
       "      <th>0</th>\n",
       "      <td>Business Standard</td>\n",
       "      <td>12 hours ago</td>\n",
       "      <td>Tesla CEO Elon Musk advises young people to le...</td>\n",
       "      <td>https://www.business-standard.com/article/inte...</td>\n",
       "    </tr>\n",
       "    <tr>\n",
       "      <th>1</th>\n",
       "      <td>CNBC</td>\n",
       "      <td>23 hours ago</td>\n",
       "      <td>Tesla asks employees to fight policy proposal ...</td>\n",
       "      <td>https://www.cnbc.com/2021/12/31/tesla-asks-emp...</td>\n",
       "    </tr>\n",
       "    <tr>\n",
       "      <th>2</th>\n",
       "      <td>Barron's</td>\n",
       "      <td>1 day ago</td>\n",
       "      <td>Tesla Could 'Considerably' Extend EV Lead. Deu...</td>\n",
       "      <td>https://www.barrons.com/articles/tesla-tsla-st...</td>\n",
       "    </tr>\n",
       "    <tr>\n",
       "      <th>3</th>\n",
       "      <td>Investor's Business Daily</td>\n",
       "      <td>1 hour ago</td>\n",
       "      <td>Dow Jones Futures: 2022 Market Rally? Bring It...</td>\n",
       "      <td>https://www.investors.com/market-trend/stock-m...</td>\n",
       "    </tr>\n",
       "    <tr>\n",
       "      <th>4</th>\n",
       "      <td>Fox Business</td>\n",
       "      <td>23 hours ago</td>\n",
       "      <td>How Elon Musk’s software focus helped Tesla na...</td>\n",
       "      <td>https://www.foxbusiness.com/technology/elon-mu...</td>\n",
       "    </tr>\n",
       "    <tr>\n",
       "      <th>5</th>\n",
       "      <td>Bloomberg.com</td>\n",
       "      <td>1 day ago</td>\n",
       "      <td>Tesla Deliveries: Elon Musk's TSLA Races to Me...</td>\n",
       "      <td>https://www.bloomberg.com/news/articles/2021-1...</td>\n",
       "    </tr>\n",
       "  </tbody>\n",
       "</table>\n",
       "</div>"
      ],
      "text/plain": [
       "                   Periódico         Fecha  \\\n",
       "0          Business Standard  12 hours ago   \n",
       "1                       CNBC  23 hours ago   \n",
       "2                   Barron's     1 day ago   \n",
       "3  Investor's Business Daily    1 hour ago   \n",
       "4               Fox Business  23 hours ago   \n",
       "5              Bloomberg.com     1 day ago   \n",
       "\n",
       "                                             Titular  \\\n",
       "0  Tesla CEO Elon Musk advises young people to le...   \n",
       "1  Tesla asks employees to fight policy proposal ...   \n",
       "2  Tesla Could 'Considerably' Extend EV Lead. Deu...   \n",
       "3  Dow Jones Futures: 2022 Market Rally? Bring It...   \n",
       "4  How Elon Musk’s software focus helped Tesla na...   \n",
       "5  Tesla Deliveries: Elon Musk's TSLA Races to Me...   \n",
       "\n",
       "                                                 URL  \n",
       "0  https://www.business-standard.com/article/inte...  \n",
       "1  https://www.cnbc.com/2021/12/31/tesla-asks-emp...  \n",
       "2  https://www.barrons.com/articles/tesla-tsla-st...  \n",
       "3  https://www.investors.com/market-trend/stock-m...  \n",
       "4  https://www.foxbusiness.com/technology/elon-mu...  \n",
       "5  https://www.bloomberg.com/news/articles/2021-1...  "
      ]
     },
     "execution_count": 36,
     "metadata": {},
     "output_type": "execute_result"
    }
   ],
   "source": [
    "noticias"
   ]
  },
  {
   "cell_type": "code",
   "execution_count": 37,
   "metadata": {},
   "outputs": [
    {
     "data": {
      "text/html": [
       "<div>\n",
       "<style scoped>\n",
       "    .dataframe tbody tr th:only-of-type {\n",
       "        vertical-align: middle;\n",
       "    }\n",
       "\n",
       "    .dataframe tbody tr th {\n",
       "        vertical-align: top;\n",
       "    }\n",
       "\n",
       "    .dataframe thead th {\n",
       "        text-align: right;\n",
       "    }\n",
       "</style>\n",
       "<table border=\"1\" class=\"dataframe tex2jax_ignore\">\n",
       "  <thead>\n",
       "    <tr style=\"text-align: right;\">\n",
       "      <th></th>\n",
       "      <th>Tesla Inc</th>\n",
       "    </tr>\n",
       "    <tr>\n",
       "      <th>Descripción</th>\n",
       "      <th></th>\n",
       "    </tr>\n",
       "  </thead>\n",
       "  <tbody>\n",
       "    <tr>\n",
       "      <th>Previous close</th>\n",
       "      <td>$1,070.34</td>\n",
       "    </tr>\n",
       "    <tr>\n",
       "      <th>Day range</th>\n",
       "      <td>$1,054.59 - $1,082.00</td>\n",
       "    </tr>\n",
       "    <tr>\n",
       "      <th>Year range</th>\n",
       "      <td>$539.49 - $1,243.49</td>\n",
       "    </tr>\n",
       "    <tr>\n",
       "      <th>Market cap</th>\n",
       "      <td>1.06T USD</td>\n",
       "    </tr>\n",
       "    <tr>\n",
       "      <th>Volume</th>\n",
       "      <td>24.03M</td>\n",
       "    </tr>\n",
       "    <tr>\n",
       "      <th>P/E ratio</th>\n",
       "      <td>342.92</td>\n",
       "    </tr>\n",
       "    <tr>\n",
       "      <th>Dividend yield</th>\n",
       "      <td>-</td>\n",
       "    </tr>\n",
       "    <tr>\n",
       "      <th>Primary exchange</th>\n",
       "      <td>NASDAQ</td>\n",
       "    </tr>\n",
       "  </tbody>\n",
       "</table>\n",
       "</div>"
      ],
      "text/plain": [
       "                              Tesla Inc\n",
       "Descripción                            \n",
       "Previous close                $1,070.34\n",
       "Day range         $1,054.59 - $1,082.00\n",
       "Year range          $539.49 - $1,243.49\n",
       "Market cap                    1.06T USD\n",
       "Volume                           24.03M\n",
       "P/E ratio                        342.92\n",
       "Dividend yield                        -\n",
       "Primary exchange                 NASDAQ"
      ]
     },
     "execution_count": 37,
     "metadata": {},
     "output_type": "execute_result"
    }
   ],
   "source": [
    "resumen_financials"
   ]
  },
  {
   "cell_type": "code",
   "execution_count": null,
   "metadata": {},
   "outputs": [],
   "source": []
  }
 ],
 "metadata": {
  "kernelspec": {
   "display_name": "Python 3",
   "language": "python",
   "name": "python3"
  },
  "language_info": {
   "codemirror_mode": {
    "name": "ipython",
    "version": 3
   },
   "file_extension": ".py",
   "mimetype": "text/x-python",
   "name": "python",
   "nbconvert_exporter": "python",
   "pygments_lexer": "ipython3",
   "version": "3.8.5"
  }
 },
 "nbformat": 4,
 "nbformat_minor": 4
}
